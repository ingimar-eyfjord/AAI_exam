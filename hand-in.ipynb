{
  "cells": [
    {
      "cell_type": "markdown",
      "id": "d471f352",
      "metadata": {
        "id": "d471f352"
      },
      "source": [
        "# Importing tools\n",
        "\n",
        "* Download datasets for this model here:\n",
        "\n",
        "* https://drive.google.com/drive/folders/19TuTEOKfSOWr4IVf9PrTnN2TQiogoyYV?usp=sharing "
      ]
    },
    {
      "cell_type": "code",
      "execution_count": 1,
      "id": "a71d61a8",
      "metadata": {
        "id": "a71d61a8"
      },
      "outputs": [],
      "source": [
        "import torch\n",
        "import torchvision\n",
        "import numpy as np\n",
        "import matplotlib.pyplot as plt\n",
        "import torch.nn as nn\n",
        "import torch.nn.functional as F\n",
        "\n",
        "from torchvision.transforms import ToTensor\n",
        "from torchvision.utils import make_grid\n",
        "from torch.utils.data.dataloader import DataLoader\n",
        "from torch.utils.data import random_split\n",
        "import torchvision.transforms as transforms\n",
        "%matplotlib inline\n",
        "\n",
        "from sklearn.metrics import classification_report\n",
        "from sklearn.metrics import matthews_corrcoef\n",
        "from sklearn.metrics import cohen_kappa_score\n",
        "\n",
        "\n",
        "import warnings\n",
        "warnings.filterwarnings(\"ignore\")"
      ]
    },
    {
      "cell_type": "markdown",
      "source": [
        "# Importing and transforming data"
      ],
      "metadata": {
        "id": "2ykX3TVuVhrU"
      },
      "id": "2ykX3TVuVhrU"
    },
    {
      "cell_type": "markdown",
      "id": "ec377827",
      "metadata": {
        "id": "ec377827"
      },
      "source": [
        " ### Here we deifne how to tansform the the data to fit our models\n",
        " \n",
        " * With the torchvision transformer function\n",
        " * We will randomly flip images horisontally for Data augmentaion with we hope to imporve our accuracy\n",
        " * We then transform the dataset into a Tensor.\n",
        " * Therafter normalize the data."
      ]
    },
    {
      "cell_type": "code",
      "execution_count": 2,
      "id": "1f2c9816",
      "metadata": {
        "id": "1f2c9816"
      },
      "outputs": [],
      "source": [
        "transform = transforms.Compose([\n",
        "    transforms.RandomHorizontalFlip(),\n",
        "    transforms.ToTensor(),\n",
        "    transforms.Normalize((0.5, 0.5, 0.5), (0.5, 0.5, 0.5)),\n",
        "])"
      ]
    },
    {
      "cell_type": "markdown",
      "id": "2c0244f2",
      "metadata": {
        "id": "2c0244f2"
      },
      "source": [
        "#### We also have a transform function for our validation set"
      ]
    },
    {
      "cell_type": "code",
      "execution_count": 3,
      "id": "2a2a2e63",
      "metadata": {
        "id": "2a2a2e63"
      },
      "outputs": [],
      "source": [
        "valid_transform = transforms.Compose([\n",
        "            transforms.ToTensor(),\n",
        "            transforms.Normalize((0.5, 0.5, 0.5), (0.5, 0.5, 0.5)),\n",
        "    ])"
      ]
    },
    {
      "cell_type": "markdown",
      "id": "c3045c77",
      "metadata": {
        "id": "c3045c77"
      },
      "source": [
        "### We define the training and test sets.\n",
        "\n",
        "* Here we tell torchvision where the data is, then we load in the data with the DataLoader function\n",
        "* we also split the data into a training set and a test set by using the train perameters, True or false"
      ]
    },
    {
      "cell_type": "code",
      "execution_count": 4,
      "id": "2fb6a4db",
      "metadata": {
        "colab": {
          "base_uri": "https://localhost:8080/"
        },
        "id": "2fb6a4db",
        "outputId": "28a234b1-92f7-4381-eec1-f6fa98270e50"
      },
      "outputs": [
        {
          "output_type": "stream",
          "name": "stdout",
          "text": [
            "Files already downloaded and verified\n",
            "Files already downloaded and verified\n",
            "Files already downloaded and verified\n",
            "Files already downloaded and verified\n"
          ]
        }
      ],
      "source": [
        "dataset = torchvision.datasets.CIFAR10(root='datasets/', download=True, transform=ToTensor())\n",
        "\n",
        "train_set = torchvision.datasets.CIFAR10('./datasets', train=True,\n",
        "                                         download=True, transform=transform)\n",
        "test_set = torchvision.datasets.CIFAR10('./datasets', train=False,\n",
        "                                        download=True, transform=transform)\n",
        "\n",
        "validation_set = torchvision.datasets.CIFAR10('./datasets', train=False,\n",
        "                                        download=True, transform=valid_transform)\n",
        "\n",
        "train_loader = torch.utils.data.DataLoader(train_set, batch_size=64,\n",
        "                                           shuffle=True, num_workers=4)\n",
        "test_loader = torch.utils.data.DataLoader(test_set, batch_size=64,\n",
        "                                          shuffle=False, num_workers=4)\n",
        "\n",
        "validation_loader = torch.utils.data.DataLoader(validation_set, batch_size=64,\n",
        "                                          shuffle=False, num_workers=4)\n",
        "\n",
        "\n"
      ]
    },
    {
      "cell_type": "markdown",
      "source": [
        "# Visualizing/analysing data"
      ],
      "metadata": {
        "id": "JLbRhXjIVrQw"
      },
      "id": "JLbRhXjIVrQw"
    },
    {
      "cell_type": "markdown",
      "id": "59840dae",
      "metadata": {
        "id": "59840dae"
      },
      "source": [
        "### Here we import the Pyplot to assess if the images are loaded correctly or not.\n",
        "\n",
        "* Importing matplotlip and numpy.\n",
        "* We define a function to show images from the train_loader dataset\n",
        "* We create a grid with torchvision and imbed the images into the grid."
      ]
    },
    {
      "cell_type": "code",
      "execution_count": 5,
      "id": "011db266",
      "metadata": {
        "colab": {
          "base_uri": "https://localhost:8080/"
        },
        "id": "011db266",
        "outputId": "e393fb9b-781a-4e93-da3e-1e7214b49e8c"
      },
      "outputs": [
        {
          "output_type": "execute_result",
          "data": {
            "text/plain": [
              "(10000, 10000, 50000)"
            ]
          },
          "metadata": {},
          "execution_count": 5
        }
      ],
      "source": [
        "len(validation_set), len(test_set), len(train_set)"
      ]
    },
    {
      "cell_type": "code",
      "execution_count": 6,
      "id": "0ec65547",
      "metadata": {
        "colab": {
          "base_uri": "https://localhost:8080/",
          "height": 244
        },
        "id": "0ec65547",
        "outputId": "82a28d69-d464-41e2-d29c-ae65ac2c2227"
      },
      "outputs": [
        {
          "output_type": "display_data",
          "data": {
            "image/png": "[encoded data removed]",
            "text/plain": [
              "<Figure size 432x288 with 1 Axes>"
            ]
          },
          "metadata": {
            "needs_background": "light"
          }
        }
      ],
      "source": [
        "import matplotlib.pyplot as plt\n",
        "import numpy as np\n",
        "\n",
        "def imshow(img):\n",
        "    img = img / 2 + 0.5\n",
        "    plt.imshow(np.transpose(img.numpy(), (1, 2, 0)))\n",
        "    plt.show()\n",
        "    \n",
        "image_iter = iter(train_loader)\n",
        "images, _ = image_iter.next()\n",
        "imshow(torchvision.utils.make_grid(images[:28], nrow=7))"
      ]
    },
    {
      "cell_type": "markdown",
      "id": "1c1e8786",
      "metadata": {
        "id": "1c1e8786"
      },
      "source": [
        "### Check how many images the training and testing datasets contain"
      ]
    },
    {
      "cell_type": "code",
      "execution_count": 7,
      "id": "870d48f0",
      "metadata": {
        "colab": {
          "base_uri": "https://localhost:8080/"
        },
        "id": "870d48f0",
        "outputId": "c44f0b3b-df5f-4894-bf44-8a11b76c0cbe"
      },
      "outputs": [
        {
          "output_type": "stream",
          "name": "stdout",
          "text": [
            "Training dataset size 50000\n",
            "Testing datasets size 10000\n",
            "Dataset CIFAR10\n",
            "    Number of datapoints: 50000\n",
            "    Root location: datasets/\n",
            "    Split: Train\n",
            "    StandardTransform\n",
            "Transform: ToTensor()\n"
          ]
        }
      ],
      "source": [
        "dataset_size = len(train_set)\n",
        "test_dataset_size = len(test_set)\n",
        "\n",
        "print(\"Training dataset size\", dataset_size)\n",
        "print(\"Testing datasets size\", test_dataset_size)\n",
        "\n",
        "print(dataset)\n"
      ]
    },
    {
      "cell_type": "markdown",
      "id": "aa7fddfe",
      "metadata": {
        "id": "aa7fddfe"
      },
      "source": [
        "### Get the classes of the entire dataset"
      ]
    },
    {
      "cell_type": "code",
      "execution_count": 8,
      "id": "ef6d5b3b",
      "metadata": {
        "colab": {
          "base_uri": "https://localhost:8080/"
        },
        "id": "ef6d5b3b",
        "outputId": "e75bd199-78c5-472f-e730-29d5f43d2671"
      },
      "outputs": [
        {
          "output_type": "execute_result",
          "data": {
            "text/plain": [
              "['airplane',\n",
              " 'automobile',\n",
              " 'bird',\n",
              " 'cat',\n",
              " 'deer',\n",
              " 'dog',\n",
              " 'frog',\n",
              " 'horse',\n",
              " 'ship',\n",
              " 'truck']"
            ]
          },
          "metadata": {},
          "execution_count": 8
        }
      ],
      "source": [
        "classes = dataset.classes\n",
        "classes"
      ]
    },
    {
      "cell_type": "markdown",
      "id": "7a775edb",
      "metadata": {
        "id": "7a775edb"
      },
      "source": [
        "### Get the Shapes of the images"
      ]
    },
    {
      "cell_type": "code",
      "execution_count": 9,
      "id": "add9a096",
      "metadata": {
        "colab": {
          "base_uri": "https://localhost:8080/"
        },
        "id": "add9a096",
        "outputId": "88afb1b1-ef39-4bfb-d01e-8916c4d29652"
      },
      "outputs": [
        {
          "output_type": "execute_result",
          "data": {
            "text/plain": [
              "torch.Size([3, 32, 32])"
            ]
          },
          "metadata": {},
          "execution_count": 9
        }
      ],
      "source": [
        "img, label = dataset[0]\n",
        "img_shape = img.shape\n",
        "img_shape"
      ]
    },
    {
      "cell_type": "markdown",
      "id": "1b52ce3c",
      "metadata": {
        "id": "1b52ce3c"
      },
      "source": [
        "### Print a sample image"
      ]
    },
    {
      "cell_type": "code",
      "execution_count": 10,
      "id": "bef42412",
      "metadata": {
        "colab": {
          "base_uri": "https://localhost:8080/",
          "height": 301
        },
        "id": "bef42412",
        "outputId": "7a496eb8-fcb1-45a7-ebb6-887a0b4c748d"
      },
      "outputs": [
        {
          "output_type": "stream",
          "name": "stdout",
          "text": [
            "Label (numeric): 6\n",
            "Label (textual): frog\n"
          ]
        },
        {
          "output_type": "display_data",
          "data": {
            "image/png": "[encoded data removed]",
            "text/plain": [
              "<Figure size 432x288 with 1 Axes>"
            ]
          },
          "metadata": {
            "needs_background": "light"
          }
        }
      ],
      "source": [
        "img, label = dataset[0]\n",
        "plt.imshow(img.permute((1, 2, 0)))\n",
        "print('Label (numeric):', label)\n",
        "print('Label (textual):', classes[label])"
      ]
    },
    {
      "cell_type": "markdown",
      "id": "907d3329",
      "metadata": {
        "id": "907d3329"
      },
      "source": [
        "### Here we determine the number of images belonging to each class?\n",
        "\n",
        "* We define the length of the dataset\n",
        "* We then check hoe many classes there are\n",
        "* We create a dictionary to store the values\n",
        "* we then do 2 for loops, first to get the classes and the second to count the amount of images retaining to the classes "
      ]
    },
    {
      "cell_type": "code",
      "execution_count": 11,
      "id": "9110867f",
      "metadata": {
        "colab": {
          "base_uri": "https://localhost:8080/"
        },
        "id": "9110867f",
        "outputId": "ea8da910-4870-4fa9-b608-341d69138d04"
      },
      "outputs": [
        {
          "output_type": "execute_result",
          "data": {
            "text/plain": [
              "{'airplane': 5000,\n",
              " 'automobile': 5000,\n",
              " 'bird': 5000,\n",
              " 'cat': 5000,\n",
              " 'deer': 5000,\n",
              " 'dog': 5000,\n",
              " 'frog': 5000,\n",
              " 'horse': 5000,\n",
              " 'ship': 5000,\n",
              " 'truck': 5000}"
            ]
          },
          "metadata": {},
          "execution_count": 11
        }
      ],
      "source": [
        "dataset_size = len(dataset)\n",
        "classes = dataset.classes\n",
        "num_classes = len(dataset.classes)\n",
        "\n",
        "img_dict = {}\n",
        "for i in range(num_classes):\n",
        "    img_dict[classes[i]] = 0\n",
        "    \n",
        "for i in range(dataset_size):\n",
        "    img, label = dataset[i]\n",
        "    img_dict[classes[label]] += 1\n",
        "\n",
        "img_dict"
      ]
    },
    {
      "cell_type": "code",
      "execution_count": 12,
      "id": "9c289fb4",
      "metadata": {
        "colab": {
          "base_uri": "https://localhost:8080/",
          "height": 221
        },
        "id": "9c289fb4",
        "outputId": "ac7e514d-3e01-4b60-b8b4-1ce1d251a5ff"
      },
      "outputs": [
        {
          "output_type": "stream",
          "name": "stderr",
          "text": [
            "Clipping input data to the valid range for imshow with RGB data ([0..1] for floats or [0..255] for integers).\n"
          ]
        },
        {
          "output_type": "display_data",
          "data": {
            "image/png": "[encoded data removed]",
            "text/plain": [
              "<Figure size 864x432 with 1 Axes>"
            ]
          },
          "metadata": {}
        }
      ],
      "source": [
        "from torchvision.utils import make_grid\n",
        "\n",
        "def show_batch(dl):\n",
        "    for images, labels in dl:\n",
        "        fig, ax = plt.subplots(figsize=(12, 6))\n",
        "        ax.set_xticks([]); ax.set_yticks([])\n",
        "        ax.imshow(make_grid(images, nrow=16).permute(1, 2, 0))\n",
        "        break\n",
        "\n",
        "show_batch(train_loader)"
      ]
    },
    {
      "cell_type": "markdown",
      "source": [
        "# Creating our CNN model"
      ],
      "metadata": {
        "id": "me-ZaTmpV3mI"
      },
      "id": "me-ZaTmpV3mI"
    },
    {
      "cell_type": "markdown",
      "id": "a362fdd1",
      "metadata": {
        "id": "a362fdd1"
      },
      "source": [
        "### Here we are creating the functionality for calculating the models accuracy\n",
        "\n",
        "* Todo = Find out how this function works"
      ]
    },
    {
      "cell_type": "code",
      "execution_count": 13,
      "id": "2aa20eb9",
      "metadata": {
        "id": "2aa20eb9"
      },
      "outputs": [],
      "source": [
        "def accuracy(outputs, labels):\n",
        "    _, preds = torch.max(outputs, dim=1)\n",
        "    return torch.tensor(torch.sum(preds == labels).item() / len(preds))"
      ]
    },
    {
      "cell_type": "markdown",
      "id": "40c57bd0",
      "metadata": {
        "id": "40c57bd0"
      },
      "source": [
        "### ImageClassificationBase contains 4 functions\n",
        "* One function is for training and validation sets, which implement the loss and accuracy.\n",
        "* The validation_epoch_end combines the losses and accuracy for each epock \n",
        "* The epoch_end prints the val_lass and val_acc at the end of each epoch"
      ]
    },
    {
      "cell_type": "code",
      "execution_count": 14,
      "id": "4db2304e",
      "metadata": {
        "id": "4db2304e"
      },
      "outputs": [],
      "source": [
        "class ImageClassificationBase(nn.Module):\n",
        "    def training_step(self, batch):\n",
        "        images, labels = batch \n",
        "        out = self(images)                  # Generate predictions\n",
        "        loss = F.cross_entropy(out, labels) # Calculate loss\n",
        "        return loss\n",
        "    \n",
        "    def validation_step(self, batch):\n",
        "        images, labels = batch \n",
        "        out = self(images)                    # Generate predictions\n",
        "        loss = F.cross_entropy(out, labels)   # Calculate loss\n",
        "        acc = accuracy(out, labels)           # Calculate accuracy\n",
        "        return {'val_loss': loss.detach(), 'val_acc': acc}\n",
        "        \n",
        "    def validation_epoch_end(self, outputs):\n",
        "        batch_losses = [x['val_loss'] for x in outputs]\n",
        "        epoch_loss = torch.stack(batch_losses).mean()   # Combine losses\n",
        "        batch_accs = [x['val_acc'] for x in outputs]\n",
        "        epoch_acc = torch.stack(batch_accs).mean()      # Combine accuracies\n",
        "        return {'val_loss': epoch_loss.item(), 'val_acc': epoch_acc.item()}\n",
        "    \n",
        "    def epoch_end(self, epoch, result):\n",
        "        print(\"Epoch [{}], train_loss: {:.4f}, val_loss: {:.4f}, val_acc: {:.4f}\".format(epoch, result['train_loss'], result['val_loss'], result['val_acc']))"
      ]
    },
    {
      "cell_type": "markdown",
      "id": "0519a318",
      "metadata": {
        "id": "0519a318"
      },
      "source": [
        "##### nn.Sequential chains the layres and activation functions into a single network architecture"
      ]
    },
    {
      "cell_type": "code",
      "execution_count": 15,
      "id": "d5b50e70",
      "metadata": {
        "id": "d5b50e70"
      },
      "outputs": [],
      "source": [
        "class Cifar10CnnModel(ImageClassificationBase):\n",
        "    def __init__(self):\n",
        "        super().__init__()\n",
        "        self.network = nn.Sequential(\n",
        "            nn.Conv2d(3, 32, kernel_size=3, padding=1),\n",
        "            nn.ReLU(),\n",
        "            nn.Conv2d(32, 64, kernel_size=3, stride=1, padding=1),\n",
        "            nn.ReLU(),\n",
        "            nn.MaxPool2d(2, 2), # output: 64 x 16 x 16\n",
        "\n",
        "            nn.Conv2d(64, 128, kernel_size=3, stride=1, padding=1),\n",
        "            nn.ReLU(),\n",
        "            nn.Conv2d(128, 128, kernel_size=3, stride=1, padding=1),\n",
        "            nn.ReLU(),\n",
        "            nn.MaxPool2d(2, 2), # output: 128 x 8 x 8\n",
        "\n",
        "            nn.Conv2d(128, 256, kernel_size=3, stride=1, padding=1),\n",
        "            nn.ReLU(),\n",
        "            nn.Conv2d(256, 256, kernel_size=3, stride=1, padding=1),\n",
        "            nn.ReLU(),\n",
        "            nn.MaxPool2d(2, 2), # output: 256 x 4 x 4\n",
        "\n",
        "            nn.Flatten(), \n",
        "            nn.Linear(256*4*4, 1024),\n",
        "            nn.ReLU(),\n",
        "            nn.Linear(1024, 512),\n",
        "            nn.ReLU(),\n",
        "            nn.Linear(512, 10))\n",
        "        \n",
        "    def forward(self, xb):\n",
        "        return self.network(xb)"
      ]
    },
    {
      "cell_type": "code",
      "execution_count": 16,
      "id": "b440dc07",
      "metadata": {
        "colab": {
          "base_uri": "https://localhost:8080/"
        },
        "id": "b440dc07",
        "outputId": "5fd3206f-4bb5-437c-f6c3-6b84b244bf5c"
      },
      "outputs": [
        {
          "output_type": "stream",
          "name": "stdout",
          "text": [
            "<class '__main__.Cifar10CnnModel'>\n"
          ]
        }
      ],
      "source": [
        "print(Cifar10CnnModel)"
      ]
    },
    {
      "cell_type": "markdown",
      "id": "52cb5ec4",
      "metadata": {
        "id": "52cb5ec4"
      },
      "source": [
        "### Here we move our model to GPU if it can run it"
      ]
    },
    {
      "cell_type": "code",
      "execution_count": 17,
      "id": "f5676f4e",
      "metadata": {
        "id": "f5676f4e"
      },
      "outputs": [],
      "source": [
        "def get_default_device():\n",
        "    \"\"\"Pick GPU if available, else CPU\"\"\"\n",
        "    if torch.cuda.is_available():\n",
        "        print(\"Model will run on, GPU\")\n",
        "        return torch.device('cuda')\n",
        "    else:\n",
        "        print(\"Model will run on, CPU\")\n",
        "        return torch.device('cpu')\n"
      ]
    },
    {
      "cell_type": "code",
      "execution_count": 18,
      "id": "1068cc7a",
      "metadata": {
        "colab": {
          "base_uri": "https://localhost:8080/"
        },
        "id": "1068cc7a",
        "outputId": "0509b6dc-dffc-4f49-92cc-24c65aa44e2f"
      },
      "outputs": [
        {
          "output_type": "stream",
          "name": "stdout",
          "text": [
            "Model will run on, GPU\n"
          ]
        },
        {
          "output_type": "execute_result",
          "data": {
            "text/plain": [
              "device(type='cuda')"
            ]
          },
          "metadata": {},
          "execution_count": 18
        }
      ],
      "source": [
        "device = get_default_device()\n",
        "device"
      ]
    },
    {
      "cell_type": "markdown",
      "id": "a4d02dcf",
      "metadata": {
        "id": "a4d02dcf"
      },
      "source": [
        "#### Here we load the data into the GPU device"
      ]
    },
    {
      "cell_type": "code",
      "execution_count": 19,
      "id": "d47edbe6",
      "metadata": {
        "id": "d47edbe6"
      },
      "outputs": [],
      "source": [
        "def to_device(data, device):\n",
        "    \"\"\"Move tensor(s) to chosen device\"\"\"\n",
        "    if isinstance(data, (list,tuple)):\n",
        "        return [to_device(x, device) for x in data]\n",
        "    return data.to(device, non_blocking=True)\n",
        "\n",
        "class DeviceDataLoader():\n",
        "    \"\"\"Wrap a dataloader to move data to a device\"\"\"\n",
        "    def __init__(self, dl, device):\n",
        "        self.dl = dl\n",
        "        self.device = device\n",
        "        \n",
        "    def __iter__(self):\n",
        "        \"\"\"Yield a batch of data after moving it to device\"\"\"\n",
        "        for b in self.dl: \n",
        "            yield to_device(b, self.device)\n",
        "\n",
        "    def __len__(self):\n",
        "        \"\"\"Number of batches\"\"\"\n",
        "        return len(self.dl)"
      ]
    },
    {
      "cell_type": "code",
      "execution_count": 20,
      "id": "da70a119",
      "metadata": {
        "id": "da70a119"
      },
      "outputs": [],
      "source": [
        "train_loader = DeviceDataLoader(train_loader, device)\n",
        "validation_loader = DeviceDataLoader(validation_loader, device)\n",
        "test_loader = DeviceDataLoader(test_loader, device)"
      ]
    },
    {
      "cell_type": "code",
      "execution_count": 21,
      "id": "3ffd443c",
      "metadata": {
        "colab": {
          "base_uri": "https://localhost:8080/"
        },
        "id": "3ffd443c",
        "outputId": "c19b301c-87ce-4e81-de38-4c199cf20a0d"
      },
      "outputs": [
        {
          "output_type": "execute_result",
          "data": {
            "text/plain": [
              "Cifar10CnnModel(\n",
              "  (network): Sequential(\n",
              "    (0): Conv2d(3, 32, kernel_size=(3, 3), stride=(1, 1), padding=(1, 1))\n",
              "    (1): ReLU()\n",
              "    (2): Conv2d(32, 64, kernel_size=(3, 3), stride=(1, 1), padding=(1, 1))\n",
              "    (3): ReLU()\n",
              "    (4): MaxPool2d(kernel_size=2, stride=2, padding=0, dilation=1, ceil_mode=False)\n",
              "    (5): Conv2d(64, 128, kernel_size=(3, 3), stride=(1, 1), padding=(1, 1))\n",
              "    (6): ReLU()\n",
              "    (7): Conv2d(128, 128, kernel_size=(3, 3), stride=(1, 1), padding=(1, 1))\n",
              "    (8): ReLU()\n",
              "    (9): MaxPool2d(kernel_size=2, stride=2, padding=0, dilation=1, ceil_mode=False)\n",
              "    (10): Conv2d(128, 256, kernel_size=(3, 3), stride=(1, 1), padding=(1, 1))\n",
              "    (11): ReLU()\n",
              "    (12): Conv2d(256, 256, kernel_size=(3, 3), stride=(1, 1), padding=(1, 1))\n",
              "    (13): ReLU()\n",
              "    (14): MaxPool2d(kernel_size=2, stride=2, padding=0, dilation=1, ceil_mode=False)\n",
              "    (15): Flatten(start_dim=1, end_dim=-1)\n",
              "    (16): Linear(in_features=4096, out_features=1024, bias=True)\n",
              "    (17): ReLU()\n",
              "    (18): Linear(in_features=1024, out_features=512, bias=True)\n",
              "    (19): ReLU()\n",
              "    (20): Linear(in_features=512, out_features=10, bias=True)\n",
              "  )\n",
              ")"
            ]
          },
          "metadata": {},
          "execution_count": 21
        }
      ],
      "source": [
        "ourmodel = Cifar10CnnModel()\n",
        "ourmodel"
      ]
    },
    {
      "cell_type": "code",
      "execution_count": 22,
      "id": "f6e76572",
      "metadata": {
        "id": "f6e76572"
      },
      "outputs": [],
      "source": [
        "ourmodel = to_device(ourmodel, device)"
      ]
    },
    {
      "cell_type": "markdown",
      "id": "da01a7d6",
      "metadata": {
        "id": "da01a7d6"
      },
      "source": [
        "### The fit function records the validation loss and metric from each epoch. It returns a history of the training, useful for debugging & visualization."
      ]
    },
    {
      "cell_type": "code",
      "execution_count": 23,
      "id": "fe7ef741",
      "metadata": {
        "id": "fe7ef741"
      },
      "outputs": [],
      "source": [
        "def evaluate(model, val_loader):\n",
        "    outputs = [model.validation_step(batch) for batch in val_loader]\n",
        "    return model.validation_epoch_end(outputs)\n",
        "\n",
        "# def fit(epochs, lr, model, train_loader, val_loader, opt_func=torch.optim.SGD):\n",
        "def fit(epochs, lr, model, train_loader, val_loader, opt_func=torch.optim.Adam):\n",
        "    history = []\n",
        "    optimizer = opt_func(model.parameters(), lr)\n",
        "    for epoch in range(epochs):\n",
        "        # Training Phase \n",
        "        model.train()\n",
        "        train_losses = []\n",
        "        for batch in train_loader:\n",
        "            loss = model.training_step(batch)\n",
        "            train_losses.append(loss)\n",
        "            loss.backward()\n",
        "            optimizer.step()\n",
        "            optimizer.zero_grad()\n",
        "        # Validation phase\n",
        "        result = evaluate(model, val_loader)\n",
        "        result['train_loss'] = torch.stack(train_losses).mean().item()\n",
        "        model.epoch_end(epoch, result)\n",
        "        history.append(result)\n",
        "    return history"
      ]
    },
    {
      "cell_type": "code",
      "execution_count": 24,
      "id": "e29bc580",
      "metadata": {
        "colab": {
          "base_uri": "https://localhost:8080/"
        },
        "id": "e29bc580",
        "outputId": "ffe56d50-d70e-44f4-e7d1-5a8404653bf4"
      },
      "outputs": [
        {
          "output_type": "execute_result",
          "data": {
            "text/plain": [
              "[{'val_acc': 0.10041799396276474, 'val_loss': 2.302720308303833}]"
            ]
          },
          "metadata": {},
          "execution_count": 24
        }
      ],
      "source": [
        "history = [evaluate(ourmodel, validation_loader)]\n",
        "history"
      ]
    },
    {
      "cell_type": "markdown",
      "id": "57bc01d4",
      "metadata": {
        "id": "57bc01d4"
      },
      "source": [
        "### Here we define the input and output size"
      ]
    },
    {
      "cell_type": "code",
      "execution_count": 25,
      "id": "e0b32930",
      "metadata": {
        "id": "e0b32930"
      },
      "outputs": [],
      "source": [
        "input_size = 3*32*32\n",
        "output_size = 10"
      ]
    },
    {
      "cell_type": "markdown",
      "id": "3ad5874b",
      "metadata": {
        "id": "3ad5874b"
      },
      "source": [
        "### Number of epochs to cycle through and the learning rate is set here"
      ]
    },
    {
      "cell_type": "code",
      "execution_count": 26,
      "id": "05d1e5a1",
      "metadata": {
        "id": "05d1e5a1"
      },
      "outputs": [],
      "source": [
        "num_epochs = 10\n",
        "opt_func = torch.optim.Adam\n",
        "lr = 0.001"
      ]
    },
    {
      "cell_type": "markdown",
      "id": "d5c6cfd1",
      "metadata": {
        "id": "d5c6cfd1"
      },
      "source": [
        "# Training our model"
      ]
    },
    {
      "cell_type": "code",
      "execution_count": 27,
      "id": "46131d0c",
      "metadata": {
        "colab": {
          "base_uri": "https://localhost:8080/"
        },
        "id": "46131d0c",
        "outputId": "5558c1c3-0331-4a01-8686-0cdeb70e8dc2",
        "scrolled": true
      },
      "outputs": [
        {
          "output_type": "stream",
          "name": "stdout",
          "text": [
            "Epoch [0], train_loss: 1.6336, val_loss: 1.3639, val_acc: 0.5067\n",
            "Epoch [1], train_loss: 1.1281, val_loss: 1.0423, val_acc: 0.6366\n",
            "Epoch [2], train_loss: 0.8717, val_loss: 0.8979, val_acc: 0.6912\n",
            "Epoch [3], train_loss: 0.7291, val_loss: 0.7592, val_acc: 0.7388\n",
            "Epoch [4], train_loss: 0.6447, val_loss: 0.6778, val_acc: 0.7673\n",
            "Epoch [5], train_loss: 0.5725, val_loss: 0.6703, val_acc: 0.7712\n",
            "Epoch [6], train_loss: 0.5141, val_loss: 0.6361, val_acc: 0.7930\n",
            "Epoch [7], train_loss: 0.4702, val_loss: 0.6242, val_acc: 0.7912\n",
            "Epoch [8], train_loss: 0.4374, val_loss: 0.5987, val_acc: 0.8033\n",
            "Epoch [9], train_loss: 0.4012, val_loss: 0.6231, val_acc: 0.8014\n"
          ]
        }
      ],
      "source": [
        "history += fit(num_epochs, lr, ourmodel, train_loader, validation_loader, opt_func)"
      ]
    },
    {
      "cell_type": "markdown",
      "source": [
        "# Resnet, Importing and training"
      ],
      "metadata": {
        "id": "4Sg1FpemUbLm"
      },
      "id": "4Sg1FpemUbLm"
    },
    {
      "cell_type": "code",
      "execution_count": 28,
      "id": "9ec42bb1",
      "metadata": {
        "colab": {
          "base_uri": "https://localhost:8080/"
        },
        "id": "9ec42bb1",
        "outputId": "b71524fd-00a0-4e8b-b6b8-2407e9b993f7"
      },
      "outputs": [
        {
          "output_type": "stream",
          "name": "stdout",
          "text": [
            "Epoch [1/10], Step [100/782] Loss: 1.5755\n",
            "Epoch [1/10], Step [200/782] Loss: 1.3673\n",
            "Epoch [1/10], Step [300/782] Loss: 1.1811\n",
            "Epoch [1/10], Step [400/782] Loss: 1.2671\n",
            "Epoch [1/10], Step [500/782] Loss: 1.3793\n",
            "Epoch [1/10], Step [600/782] Loss: 1.0549\n",
            "Epoch [1/10], Step [700/782] Loss: 1.2276\n",
            "Epoch [2/10], Step [100/782] Loss: 0.8514\n",
            "Epoch [2/10], Step [200/782] Loss: 1.0790\n",
            "Epoch [2/10], Step [300/782] Loss: 0.7349\n",
            "Epoch [2/10], Step [400/782] Loss: 0.8192\n",
            "Epoch [2/10], Step [500/782] Loss: 0.8732\n",
            "Epoch [2/10], Step [600/782] Loss: 0.7762\n",
            "Epoch [2/10], Step [700/782] Loss: 0.7909\n",
            "Epoch [3/10], Step [100/782] Loss: 0.9045\n",
            "Epoch [3/10], Step [200/782] Loss: 0.9921\n",
            "Epoch [3/10], Step [300/782] Loss: 0.6192\n",
            "Epoch [3/10], Step [400/782] Loss: 0.8137\n",
            "Epoch [3/10], Step [500/782] Loss: 0.7908\n",
            "Epoch [3/10], Step [600/782] Loss: 0.6621\n",
            "Epoch [3/10], Step [700/782] Loss: 0.7291\n",
            "Epoch [4/10], Step [100/782] Loss: 0.7257\n",
            "Epoch [4/10], Step [200/782] Loss: 0.7190\n",
            "Epoch [4/10], Step [300/782] Loss: 0.7491\n",
            "Epoch [4/10], Step [400/782] Loss: 0.5763\n",
            "Epoch [4/10], Step [500/782] Loss: 0.7325\n",
            "Epoch [4/10], Step [600/782] Loss: 0.5222\n",
            "Epoch [4/10], Step [700/782] Loss: 0.7470\n",
            "Epoch [5/10], Step [100/782] Loss: 0.5884\n",
            "Epoch [5/10], Step [200/782] Loss: 0.6295\n",
            "Epoch [5/10], Step [300/782] Loss: 0.7043\n",
            "Epoch [5/10], Step [400/782] Loss: 0.6664\n",
            "Epoch [5/10], Step [500/782] Loss: 0.5674\n",
            "Epoch [5/10], Step [600/782] Loss: 0.4759\n",
            "Epoch [5/10], Step [700/782] Loss: 0.5317\n",
            "Epoch [6/10], Step [100/782] Loss: 0.6946\n",
            "Epoch [6/10], Step [200/782] Loss: 0.3513\n",
            "Epoch [6/10], Step [300/782] Loss: 0.4238\n",
            "Epoch [6/10], Step [400/782] Loss: 0.6843\n",
            "Epoch [6/10], Step [500/782] Loss: 0.5347\n",
            "Epoch [6/10], Step [600/782] Loss: 0.4837\n",
            "Epoch [6/10], Step [700/782] Loss: 0.4037\n",
            "Epoch [7/10], Step [100/782] Loss: 0.3966\n",
            "Epoch [7/10], Step [200/782] Loss: 0.4474\n",
            "Epoch [7/10], Step [300/782] Loss: 0.3341\n",
            "Epoch [7/10], Step [400/782] Loss: 0.3307\n",
            "Epoch [7/10], Step [500/782] Loss: 0.4108\n",
            "Epoch [7/10], Step [600/782] Loss: 0.4450\n",
            "Epoch [7/10], Step [700/782] Loss: 0.4413\n",
            "Epoch [8/10], Step [100/782] Loss: 0.3795\n",
            "Epoch [8/10], Step [200/782] Loss: 0.4684\n",
            "Epoch [8/10], Step [300/782] Loss: 0.4282\n",
            "Epoch [8/10], Step [400/782] Loss: 0.6221\n",
            "Epoch [8/10], Step [500/782] Loss: 0.6005\n",
            "Epoch [8/10], Step [600/782] Loss: 0.3002\n",
            "Epoch [8/10], Step [700/782] Loss: 0.4949\n",
            "Epoch [9/10], Step [100/782] Loss: 0.3814\n",
            "Epoch [9/10], Step [200/782] Loss: 0.4063\n",
            "Epoch [9/10], Step [300/782] Loss: 0.2748\n",
            "Epoch [9/10], Step [400/782] Loss: 0.4365\n",
            "Epoch [9/10], Step [500/782] Loss: 0.4172\n",
            "Epoch [9/10], Step [600/782] Loss: 0.4860\n",
            "Epoch [9/10], Step [700/782] Loss: 0.3550\n",
            "Epoch [10/10], Step [100/782] Loss: 0.3981\n",
            "Epoch [10/10], Step [200/782] Loss: 0.2710\n",
            "Epoch [10/10], Step [300/782] Loss: 0.3495\n",
            "Epoch [10/10], Step [400/782] Loss: 0.3444\n",
            "Epoch [10/10], Step [500/782] Loss: 0.3544\n",
            "Epoch [10/10], Step [600/782] Loss: 0.3203\n",
            "Epoch [10/10], Step [700/782] Loss: 0.2884\n"
          ]
        }
      ],
      "source": [
        "# Device configuration\n",
        "device = torch.device('cuda' if torch.cuda.is_available() else 'cpu')\n",
        "\n",
        "# Hyper-parameters\n",
        "num_epochs = 10\n",
        "learning_rate = 0.001\n",
        "\n",
        "# 3x3 convolution\n",
        "def conv3x3(in_channels, out_channels, stride=1):\n",
        "    return nn.Conv2d(in_channels, out_channels, kernel_size=3, \n",
        "                     stride=stride, padding=1, bias=False)\n",
        "\n",
        "# Residual block\n",
        "class ResidualBlock(nn.Module):\n",
        "    def __init__(self, in_channels, out_channels, stride=1, downsample=None):\n",
        "        super(ResidualBlock, self).__init__()\n",
        "        self.conv1 = conv3x3(in_channels, out_channels, stride)\n",
        "        self.bn1 = nn.BatchNorm2d(out_channels)\n",
        "        self.relu = nn.ReLU(inplace=True)\n",
        "        self.conv2 = conv3x3(out_channels, out_channels)\n",
        "        self.bn2 = nn.BatchNorm2d(out_channels)\n",
        "        self.downsample = downsample\n",
        "\n",
        "    def forward(self, x):\n",
        "        residual = x\n",
        "        out = self.conv1(x)\n",
        "        out = self.bn1(out)\n",
        "        out = self.relu(out)\n",
        "        out = self.conv2(out)\n",
        "        out = self.bn2(out)\n",
        "        if self.downsample:\n",
        "            residual = self.downsample(x)\n",
        "        out += residual\n",
        "        out = self.relu(out)\n",
        "        return out\n",
        "\n",
        "# ResNet\n",
        "class ResNet(nn.Module):\n",
        "    def __init__(self, block, layers, num_classes=10):\n",
        "        super(ResNet, self).__init__()\n",
        "        self.in_channels = 16\n",
        "        self.conv = conv3x3(3, 16)\n",
        "        self.bn = nn.BatchNorm2d(16)\n",
        "        self.relu = nn.ReLU(inplace=True)\n",
        "        self.layer1 = self.make_layer(block, 16, layers[0])\n",
        "        self.layer2 = self.make_layer(block, 32, layers[1], 2)\n",
        "        self.layer3 = self.make_layer(block, 64, layers[2], 2)\n",
        "        self.avg_pool = nn.AvgPool2d(8)\n",
        "        self.fc = nn.Linear(64, num_classes)\n",
        "\n",
        "    def make_layer(self, block, out_channels, blocks, stride=1):\n",
        "        downsample = None\n",
        "        if (stride != 1) or (self.in_channels != out_channels):\n",
        "            downsample = nn.Sequential(\n",
        "                conv3x3(self.in_channels, out_channels, stride=stride),\n",
        "                nn.BatchNorm2d(out_channels))\n",
        "        layers = []\n",
        "        layers.append(block(self.in_channels, out_channels, stride, downsample))\n",
        "        self.in_channels = out_channels\n",
        "        for i in range(1, blocks):\n",
        "            layers.append(block(out_channels, out_channels))\n",
        "        return nn.Sequential(*layers)\n",
        "\n",
        "    def forward(self, x):\n",
        "        out = self.conv(x)\n",
        "        out = self.bn(out)\n",
        "        out = self.relu(out)\n",
        "        out = self.layer1(out)\n",
        "        out = self.layer2(out)\n",
        "        out = self.layer3(out)\n",
        "        out = self.avg_pool(out)\n",
        "        out = out.view(out.size(0), -1)\n",
        "        out = self.fc(out)\n",
        "        return out\n",
        "\n",
        "resnet = ResNet(ResidualBlock, [2, 2, 2]).to(device)\n",
        "\n",
        "\n",
        "# Loss and optimizer\n",
        "criterion = nn.CrossEntropyLoss()\n",
        "optimizer = torch.optim.Adam(resnet.parameters(), lr=learning_rate)\n",
        "\n",
        "# For updating learning rate\n",
        "def update_lr(optimizer, lr):    \n",
        "    for param_group in optimizer.param_groups:\n",
        "        param_group['lr'] = lr\n",
        "\n",
        "# Train the model\n",
        "total_step = len(train_loader)\n",
        "curr_lr = learning_rate\n",
        "for epoch in range(num_epochs):\n",
        "    for i, (images, labels) in enumerate(train_loader):\n",
        "        images = images.to(device)\n",
        "        labels = labels.to(device)\n",
        "\n",
        "        # Forward pass\n",
        "        outputs = resnet(images)\n",
        "        loss = criterion(outputs, labels)\n",
        "\n",
        "        # Backward and optimize\n",
        "        optimizer.zero_grad()\n",
        "        loss.backward()\n",
        "        optimizer.step()\n",
        "\n",
        "        if (i+1) % 100 == 0:\n",
        "            print (\"Epoch [{}/{}], Step [{}/{}] Loss: {:.4f}\"\n",
        "                   .format(epoch+1, num_epochs, i+1, total_step, loss.item()))\n",
        "\n",
        "    # Decay learning rate\n",
        "    if (epoch+1) % 20 == 0:\n",
        "        curr_lr /= 3\n",
        "        update_lr(optimizer, curr_lr)\n",
        "\n",
        "\n",
        "# Save the model checkpoint\n",
        "torch.save(resnet.state_dict(), 'resnet.ckpt')"
      ]
    },
    {
      "cell_type": "markdown",
      "source": [
        "# AlexNet"
      ],
      "metadata": {
        "id": "dlDz8bVkUgBq"
      },
      "id": "dlDz8bVkUgBq"
    },
    {
      "cell_type": "markdown",
      "source": [
        "## Impoting the Model"
      ],
      "metadata": {
        "id": "fa8P21I5W0mS"
      },
      "id": "fa8P21I5W0mS"
    },
    {
      "cell_type": "code",
      "execution_count": 29,
      "id": "2d661392",
      "metadata": {
        "id": "2d661392"
      },
      "outputs": [],
      "source": [
        "from torchvision import models\n",
        "alexnet = models.alexnet(pretrained=True)"
      ]
    },
    {
      "cell_type": "markdown",
      "source": [
        "### Evaluating the model layers"
      ],
      "metadata": {
        "id": "FwlbieVjW4QU"
      },
      "id": "FwlbieVjW4QU"
    },
    {
      "cell_type": "code",
      "execution_count": 30,
      "id": "99aaee86",
      "metadata": {
        "colab": {
          "base_uri": "https://localhost:8080/"
        },
        "id": "99aaee86",
        "outputId": "87ab743f-d7c8-467b-dca6-ef67c8f8a3b9"
      },
      "outputs": [
        {
          "output_type": "execute_result",
          "data": {
            "text/plain": [
              "AlexNet(\n",
              "  (features): Sequential(\n",
              "    (0): Conv2d(3, 64, kernel_size=(11, 11), stride=(4, 4), padding=(2, 2))\n",
              "    (1): ReLU(inplace=True)\n",
              "    (2): MaxPool2d(kernel_size=3, stride=2, padding=0, dilation=1, ceil_mode=False)\n",
              "    (3): Conv2d(64, 192, kernel_size=(5, 5), stride=(1, 1), padding=(2, 2))\n",
              "    (4): ReLU(inplace=True)\n",
              "    (5): MaxPool2d(kernel_size=3, stride=2, padding=0, dilation=1, ceil_mode=False)\n",
              "    (6): Conv2d(192, 384, kernel_size=(3, 3), stride=(1, 1), padding=(1, 1))\n",
              "    (7): ReLU(inplace=True)\n",
              "    (8): Conv2d(384, 256, kernel_size=(3, 3), stride=(1, 1), padding=(1, 1))\n",
              "    (9): ReLU(inplace=True)\n",
              "    (10): Conv2d(256, 256, kernel_size=(3, 3), stride=(1, 1), padding=(1, 1))\n",
              "    (11): ReLU(inplace=True)\n",
              "    (12): MaxPool2d(kernel_size=3, stride=2, padding=0, dilation=1, ceil_mode=False)\n",
              "  )\n",
              "  (avgpool): AdaptiveAvgPool2d(output_size=(6, 6))\n",
              "  (classifier): Sequential(\n",
              "    (0): Dropout(p=0.5, inplace=False)\n",
              "    (1): Linear(in_features=9216, out_features=4096, bias=True)\n",
              "    (2): ReLU(inplace=True)\n",
              "    (3): Dropout(p=0.5, inplace=False)\n",
              "    (4): Linear(in_features=4096, out_features=4096, bias=True)\n",
              "    (5): ReLU(inplace=True)\n",
              "    (6): Linear(in_features=4096, out_features=1000, bias=True)\n",
              "  )\n",
              ")"
            ]
          },
          "metadata": {},
          "execution_count": 30
        }
      ],
      "source": [
        "alexnet.eval()"
      ]
    },
    {
      "cell_type": "markdown",
      "source": [
        "### Adjusting two of the model's layers to fit to CIFAR-10 dataset"
      ],
      "metadata": {
        "id": "uRQl5z1fW8QW"
      },
      "id": "uRQl5z1fW8QW"
    },
    {
      "cell_type": "code",
      "execution_count": 31,
      "id": "316afd7e",
      "metadata": {
        "id": "316afd7e"
      },
      "outputs": [],
      "source": [
        "import torch.nn as nn\n",
        "# We need to change the classifiers to fit to the cifar 10 dataset\n",
        "alexnet.classifier[4] = nn.Linear(4096,1024)\n",
        "alexnet.classifier[6] = nn.Linear(1024,10)"
      ]
    },
    {
      "cell_type": "markdown",
      "source": [
        "#### Second evaluation after adjustments"
      ],
      "metadata": {
        "id": "ImoRml6oXFAn"
      },
      "id": "ImoRml6oXFAn"
    },
    {
      "cell_type": "code",
      "execution_count": 32,
      "id": "10381a84",
      "metadata": {
        "colab": {
          "base_uri": "https://localhost:8080/"
        },
        "id": "10381a84",
        "outputId": "2c789a0f-2efe-4d75-d3b5-433123a3a047"
      },
      "outputs": [
        {
          "output_type": "execute_result",
          "data": {
            "text/plain": [
              "AlexNet(\n",
              "  (features): Sequential(\n",
              "    (0): Conv2d(3, 64, kernel_size=(11, 11), stride=(4, 4), padding=(2, 2))\n",
              "    (1): ReLU(inplace=True)\n",
              "    (2): MaxPool2d(kernel_size=3, stride=2, padding=0, dilation=1, ceil_mode=False)\n",
              "    (3): Conv2d(64, 192, kernel_size=(5, 5), stride=(1, 1), padding=(2, 2))\n",
              "    (4): ReLU(inplace=True)\n",
              "    (5): MaxPool2d(kernel_size=3, stride=2, padding=0, dilation=1, ceil_mode=False)\n",
              "    (6): Conv2d(192, 384, kernel_size=(3, 3), stride=(1, 1), padding=(1, 1))\n",
              "    (7): ReLU(inplace=True)\n",
              "    (8): Conv2d(384, 256, kernel_size=(3, 3), stride=(1, 1), padding=(1, 1))\n",
              "    (9): ReLU(inplace=True)\n",
              "    (10): Conv2d(256, 256, kernel_size=(3, 3), stride=(1, 1), padding=(1, 1))\n",
              "    (11): ReLU(inplace=True)\n",
              "    (12): MaxPool2d(kernel_size=3, stride=2, padding=0, dilation=1, ceil_mode=False)\n",
              "  )\n",
              "  (avgpool): AdaptiveAvgPool2d(output_size=(6, 6))\n",
              "  (classifier): Sequential(\n",
              "    (0): Dropout(p=0.5, inplace=False)\n",
              "    (1): Linear(in_features=9216, out_features=4096, bias=True)\n",
              "    (2): ReLU(inplace=True)\n",
              "    (3): Dropout(p=0.5, inplace=False)\n",
              "    (4): Linear(in_features=4096, out_features=1024, bias=True)\n",
              "    (5): ReLU(inplace=True)\n",
              "    (6): Linear(in_features=1024, out_features=10, bias=True)\n",
              "  )\n",
              ")"
            ]
          },
          "metadata": {},
          "execution_count": 32
        }
      ],
      "source": [
        "alexnet.eval()"
      ]
    },
    {
      "cell_type": "markdown",
      "source": [
        "#### Reading the total parameters of the Alexnet"
      ],
      "metadata": {
        "id": "BpYk_d27XIkA"
      },
      "id": "BpYk_d27XIkA"
    },
    {
      "cell_type": "code",
      "execution_count": 33,
      "id": "ab82ecfd",
      "metadata": {
        "colab": {
          "base_uri": "https://localhost:8080/"
        },
        "id": "ab82ecfd",
        "outputId": "ab7dcf71-a105-4a34-8aff-8e9b4d5e8fed"
      },
      "outputs": [
        {
          "output_type": "stream",
          "name": "stdout",
          "text": [
            "44,428,106 total parameters.\n",
            "44,428,106 training parameters.\n"
          ]
        }
      ],
      "source": [
        "total_params = sum(p.numel() for p in alexnet.parameters())\n",
        "print(f'{total_params:,} total parameters.')\n",
        "total_trainable_params = sum(\n",
        "    p.numel() for p in alexnet.parameters() if p.requires_grad)\n",
        "print(f'{total_trainable_params:,} training parameters.')"
      ]
    },
    {
      "cell_type": "markdown",
      "source": [
        "#### Function for getting device, GPU or CPU"
      ],
      "metadata": {
        "id": "dCPoH0taXPyX"
      },
      "id": "dCPoH0taXPyX"
    },
    {
      "cell_type": "code",
      "execution_count": 34,
      "id": "2ac1739b",
      "metadata": {
        "id": "2ac1739b"
      },
      "outputs": [],
      "source": [
        "def get_default_device():\n",
        "    \"\"\"Pick GPU if available, else CPU\"\"\"\n",
        "    if torch.cuda.is_available():\n",
        "        gpu_count = cuda.device_count()\n",
        "        print(f'Model will run on GPU, {gpu_count} gpus detected.')\n",
        "        if gpu_count > 1:\n",
        "            multi_gpu = True\n",
        "        else:\n",
        "            multi_gpu = False\n",
        "        return torch.device('cuda')\n",
        "    else:\n",
        "        print(\"Model will run on, CPU\")\n",
        "        return torch.device('cpu')"
      ]
    },
    {
      "cell_type": "markdown",
      "source": [
        "#### Move AlexNet to GPU"
      ],
      "metadata": {
        "id": "N2Wy3mYbXVh3"
      },
      "id": "N2Wy3mYbXVh3"
    },
    {
      "cell_type": "code",
      "execution_count": 35,
      "id": "324cc119",
      "metadata": {
        "id": "324cc119"
      },
      "outputs": [],
      "source": [
        "# Move to gpu\n",
        "alexnet = alexnet.to('cuda')"
      ]
    },
    {
      "cell_type": "markdown",
      "source": [
        "#### Adjust the Optimizer functions for AlexNet"
      ],
      "metadata": {
        "id": "2iBi_k8nXbHD"
      },
      "id": "2iBi_k8nXbHD"
    },
    {
      "cell_type": "code",
      "execution_count": 36,
      "id": "b7c47925",
      "metadata": {
        "id": "b7c47925"
      },
      "outputs": [],
      "source": [
        "from torch import optim\n",
        "# Loss and optimizer\n",
        "criterion = nn.CrossEntropyLoss()\n",
        "# criterion = nn.NLLLoss()\n",
        "optimizer = optim.SGD(alexnet.parameters(), lr=0.001, momentum=0.9)"
      ]
    },
    {
      "cell_type": "markdown",
      "source": [
        "### Create different transform functions for Alexnet"
      ],
      "metadata": {
        "id": "rzdykrD1U1-y"
      },
      "id": "rzdykrD1U1-y"
    },
    {
      "cell_type": "code",
      "source": [
        "transfer_models_trandorm = transforms.Compose([\n",
        "    transforms.Resize(size=256),\n",
        "    transforms.CenterCrop(size=224),  # Image net standards\n",
        "    transforms.ToTensor(),\n",
        "    transforms.Normalize((0.5, 0.5, 0.5), (0.5, 0.5, 0.5)),\n",
        "])"
      ],
      "metadata": {
        "id": "CTtuPGgVViMC"
      },
      "id": "CTtuPGgVViMC",
      "execution_count": 37,
      "outputs": []
    },
    {
      "cell_type": "code",
      "source": [
        "transfer_valid_transform = transforms.Compose([\n",
        "        transforms.Resize(size=256),\n",
        "        transforms.CenterCrop(size=224),\n",
        "        transforms.ToTensor(),\n",
        "        transforms.Normalize((0.5, 0.5, 0.5), (0.5, 0.5, 0.5)),\n",
        "    ])"
      ],
      "metadata": {
        "id": "wjEJVJuCVmxy"
      },
      "id": "wjEJVJuCVmxy",
      "execution_count": 38,
      "outputs": []
    },
    {
      "cell_type": "markdown",
      "source": [
        "### We use a different format for Alexnet, since the model is optimized for 224px by 224px images"
      ],
      "metadata": {
        "id": "ealcvBpUUkej"
      },
      "id": "ealcvBpUUkej"
    },
    {
      "cell_type": "code",
      "source": [
        "AlexNet_train_set = torchvision.datasets.CIFAR10('./datasets', train=True,\n",
        "                                         download=True, transform=transfer_models_trandorm)\n",
        "AlexNet_test_set = torchvision.datasets.CIFAR10('./datasets', train=False,\n",
        "                                        download=True, transform=transfer_models_trandorm)\n",
        "\n",
        "AlexNet_validation_set = torchvision.datasets.CIFAR10('./datasets', train=False,\n",
        "                                        download=True, transform=transfer_valid_transform)\n",
        "\n",
        "AlexNet_train_loader = torch.utils.data.DataLoader(AlexNet_train_set, batch_size=64,\n",
        "                                           shuffle=True, num_workers=4)\n",
        "AlexNet_test_loader = torch.utils.data.DataLoader(AlexNet_test_set, batch_size=64,\n",
        "                                          shuffle=False, num_workers=4)\n",
        "\n",
        "AlexNet_validation_loader = torch.utils.data.DataLoader(AlexNet_validation_set, batch_size=64,\n",
        "                                          shuffle=False, num_workers=4)"
      ],
      "metadata": {
        "id": "XIyOY5QRmlSH",
        "outputId": "1968371f-f044-49ca-a512-5cf4643b7e04",
        "colab": {
          "base_uri": "https://localhost:8080/"
        }
      },
      "id": "XIyOY5QRmlSH",
      "execution_count": 39,
      "outputs": [
        {
          "output_type": "stream",
          "name": "stdout",
          "text": [
            "Files already downloaded and verified\n",
            "Files already downloaded and verified\n",
            "Files already downloaded and verified\n"
          ]
        }
      ]
    },
    {
      "cell_type": "markdown",
      "source": [
        "# Training Alexnet"
      ],
      "metadata": {
        "id": "Cj372n2WXicv"
      },
      "id": "Cj372n2WXicv"
    },
    {
      "cell_type": "code",
      "execution_count": 40,
      "id": "c31eca8d",
      "metadata": {
        "colab": {
          "base_uri": "https://localhost:8080/"
        },
        "id": "c31eca8d",
        "outputId": "fc131a47-f454-47c6-8658-e3e902941ab7"
      },
      "outputs": [
        {
          "output_type": "stream",
          "name": "stdout",
          "text": [
            "Finished Training of AlexNet\n"
          ]
        }
      ],
      "source": [
        "for epoch in range(10):  # loop over the dataset multiple times\n",
        "    running_loss = 0.0\n",
        "    for i, data in enumerate(AlexNet_train_loader, 0):\n",
        "        # get the inputs; data is a list of [inputs, labels]\n",
        "        inputs, labels = data[0].to(device), data[1].to(device)\n",
        "\n",
        "        # zero the parameter gradients\n",
        "        optimizer.zero_grad()\n",
        "\n",
        "        # forward + backward + optimize\n",
        "        output = alexnet(inputs)\n",
        "        loss = criterion(output, labels)\n",
        "        loss.backward()\n",
        "        optimizer.step()\n",
        "\n",
        "        # print statistics\n",
        "        running_loss += loss.item()\n",
        "        if i % 2000 == 1999:    # print every 2000 mini-batches\n",
        "            print('[%d, %5d] loss: %.3f' %\n",
        "                  (epoch + 1, i + 1, running_loss / 2000))\n",
        "            running_loss = 0.0\n",
        "\n",
        "print('Finished Training of AlexNet')"
      ]
    },
    {
      "cell_type": "markdown",
      "source": [
        "# Defining functions for Findings"
      ],
      "metadata": {
        "id": "_FAWVTxoXmWG"
      },
      "id": "_FAWVTxoXmWG"
    },
    {
      "cell_type": "code",
      "execution_count": 41,
      "id": "946d122d",
      "metadata": {
        "id": "946d122d"
      },
      "outputs": [],
      "source": [
        "def plot_matrix (confusion_matrix):\n",
        "    fig, ax = plt.subplots(1,1,figsize=(8,6))\n",
        "    ax.matshow(confusion_matrix, aspect='auto', vmin=0, vmax=1000, cmap=plt.get_cmap('Reds'))\n",
        "    plt.ylabel('Actual Category')\n",
        "    plt.yticks(range(10), classes)\n",
        "    plt.xlabel('Predicted Category')\n",
        "    plt.xticks(range(10), classes)\n",
        "    plt.show()"
      ]
    },
    {
      "cell_type": "markdown",
      "source": [
        "#### Defining the function that prints out the confusion matrix"
      ],
      "metadata": {
        "id": "NVyHBqgTXqF2"
      },
      "id": "NVyHBqgTXqF2"
    },
    {
      "cell_type": "code",
      "execution_count": 42,
      "id": "56fd0afb",
      "metadata": {
        "id": "56fd0afb"
      },
      "outputs": [],
      "source": [
        "def print_matrix (confusion_matrix):\n",
        "    print('actual/pred'.ljust(16), end='')\n",
        "    for i,c in enumerate(classes):\n",
        "        print(c.ljust(10), end='')\n",
        "    print()\n",
        "    for i,r in enumerate(confusion_matrix):\n",
        "        print(classes[i].ljust(16), end='')\n",
        "        for idx, p in enumerate(r):\n",
        "            print(str(p).ljust(10), end='')\n",
        "        print()\n",
        "        r = r/np.sum(r)\n",
        "        print(''.ljust(16), end='')\n",
        "        for idx, p in enumerate(r):\n",
        "            print(str(p).ljust(10), end='')\n",
        "        print()"
      ]
    },
    {
      "cell_type": "code",
      "execution_count": 43,
      "id": "4cfae08e",
      "metadata": {
        "id": "4cfae08e"
      },
      "outputs": [],
      "source": [
        "def prf1(confusion_matrix):\n",
        "    TP = 0\n",
        "    FP = 0\n",
        "    FN = 0\n",
        "\n",
        "    for i,r in enumerate(confusion_matrix):\n",
        "        total = 0\n",
        "        thisTP = 0\n",
        "        thisFN = 0\n",
        "        thisFP = 0 \n",
        "        for i3 in range (0,10):\n",
        "            if (i != i3):\n",
        "                thisFP += confusion_matrix[i3][i]\n",
        "        for i2,r2 in enumerate(r):\n",
        "            total += r2\n",
        "            if (i == i2):\n",
        "                thisTP += r2\n",
        "            else:\n",
        "                thisFN += r2\n",
        "\n",
        "        print(classes[i])\n",
        "        print('True positives %d' % (thisTP))\n",
        "        print('False positives %d' % (thisFP))\n",
        "        print('False negatives %d' % (thisFN))\n",
        "        precision = thisTP / (thisTP + thisFP)\n",
        "        recall = thisTP / (thisTP + thisFN)\n",
        "        print('Precicion {}'.format(precision))\n",
        "        print('Recall {}'.format(recall))\n",
        "        f1 = (2 * (precision*recall)) / (precision + recall)\n",
        "        print('F1 {}'.format(f1))"
      ]
    },
    {
      "cell_type": "code",
      "execution_count": 44,
      "id": "3a63009c",
      "metadata": {
        "id": "3a63009c"
      },
      "outputs": [],
      "source": [
        "def plot_losses(history):\n",
        "    losses = [x['val_loss'] for x in history]\n",
        "    plt.plot(losses, '-x')\n",
        "    plt.xlabel('epoch')\n",
        "    plt.ylabel('loss')\n",
        "    plt.title('Loss vs. No. of epochs');\n",
        "    \n",
        "def plot_accuracies(history):\n",
        "    accuracies = [x['val_acc'] for x in history]\n",
        "    plt.plot(accuracies, '-x')\n",
        "    plt.xlabel('epoch')\n",
        "    plt.ylabel('accuracy')\n",
        "    plt.title('Accuracy vs. No. of epochs'); "
      ]
    },
    {
      "cell_type": "code",
      "execution_count": 45,
      "id": "fcb3b503",
      "metadata": {
        "id": "fcb3b503"
      },
      "outputs": [],
      "source": [
        "def plot_losses_epochs(history):\n",
        "    train_losses = [x.get('train_loss') for x in history]\n",
        "    val_losses = [x['val_loss'] for x in history]\n",
        "    plt.plot(train_losses, '-bx')\n",
        "    plt.plot(val_losses, '-rx')\n",
        "    plt.xlabel('epoch')\n",
        "    plt.ylabel('loss')\n",
        "    plt.legend(['Training', 'Validation'])\n",
        "    plt.title('Loss vs. No. of epochs')\n",
        "    "
      ]
    },
    {
      "cell_type": "markdown",
      "source": [
        "# Function for testing each model with test_set and Dataset-b"
      ],
      "metadata": {
        "id": "4uGsZu5KX0hP"
      },
      "id": "4uGsZu5KX0hP"
    },
    {
      "cell_type": "code",
      "execution_count": 46,
      "id": "9044d596",
      "metadata": {
        "id": "9044d596"
      },
      "outputs": [],
      "source": [
        "def test_model(model, data_to_test):    \n",
        "    # prepare to count predictions for each class\n",
        "    # correct_pred = {classname: 0 for classname in classes}\n",
        "    # total_pred = {classname: 0 for classname in classes}\n",
        "    correct_pred = list(0. for i in range(10))\n",
        "    total_pred = list(0. for i in range(10))\n",
        "    y_actual = []\n",
        "    y_pred = []\n",
        "    confusion_matrix = np.zeros([10,10], int)\n",
        "\n",
        "    # again no gradients needed\n",
        "    with torch.no_grad():\n",
        "        for data in data_to_test:\n",
        "            images, labels = data[0].to(device), data[1].to(device)\n",
        "            outputs = model(images)\n",
        "            _, predicted = torch.max(outputs, 1)\n",
        "            c = (predicted == labels).squeeze()\n",
        "            for i in range(4):\n",
        "                label = labels[i]\n",
        "                correct_pred[label] += c[i].item()\n",
        "                total_pred[label] += 1\n",
        "            for i, l in enumerate(labels):\n",
        "                y_actual.append(l.item())\n",
        "                y_pred.append(predicted[i].item())\n",
        "                confusion_matrix[l.item(), predicted[i].item()] += 1 \n",
        "\n",
        "    return correct_pred, total_pred, y_actual, y_pred, confusion_matrix"
      ]
    },
    {
      "cell_type": "markdown",
      "id": "411470f4",
      "metadata": {
        "id": "411470f4"
      },
      "source": [
        "# Our model findings"
      ]
    },
    {
      "cell_type": "code",
      "execution_count": 47,
      "id": "ea687cd7",
      "metadata": {
        "colab": {
          "base_uri": "https://localhost:8080/",
          "height": 295
        },
        "id": "ea687cd7",
        "outputId": "82c2ee70-8c04-45df-e9db-308769f64a2a"
      },
      "outputs": [
        {
          "output_type": "display_data",
          "data": {
            "image/png": "[encoded data removed]",
            "text/plain": [
              "<Figure size 432x288 with 1 Axes>"
            ]
          },
          "metadata": {
            "needs_background": "light"
          }
        }
      ],
      "source": [
        "plot_losses(history)"
      ]
    },
    {
      "cell_type": "code",
      "execution_count": 48,
      "id": "b7fdce1c",
      "metadata": {
        "colab": {
          "base_uri": "https://localhost:8080/",
          "height": 295
        },
        "id": "b7fdce1c",
        "outputId": "8a3ad82b-2f86-43b3-f5c5-f818ce308b21"
      },
      "outputs": [
        {
          "output_type": "display_data",
          "data": {
            "image/png": "[encoded data removed]",
            "text/plain": [
              "<Figure size 432x288 with 1 Axes>"
            ]
          },
          "metadata": {
            "needs_background": "light"
          }
        }
      ],
      "source": [
        "plot_accuracies(history)"
      ]
    },
    {
      "cell_type": "code",
      "execution_count": 49,
      "id": "5230d6c4",
      "metadata": {
        "colab": {
          "base_uri": "https://localhost:8080/",
          "height": 295
        },
        "id": "5230d6c4",
        "outputId": "75fffb9f-6753-4fd8-d08d-4db666570b5a"
      },
      "outputs": [
        {
          "output_type": "display_data",
          "data": {
            "image/png": "[encoded data removed]",
            "text/plain": [
              "<Figure size 432x288 with 1 Axes>"
            ]
          },
          "metadata": {
            "needs_background": "light"
          }
        }
      ],
      "source": [
        "plot_losses_epochs(history);"
      ]
    },
    {
      "cell_type": "code",
      "execution_count": 50,
      "id": "fec7b872",
      "metadata": {
        "colab": {
          "base_uri": "https://localhost:8080/"
        },
        "id": "fec7b872",
        "outputId": "99a9edc9-588e-4ac3-e7ff-c9274fcce99b"
      },
      "outputs": [
        {
          "output_type": "stream",
          "name": "stdout",
          "text": [
            "Accuracy of airplane : 83 %\n",
            "Accuracy of automobile : 94 %\n",
            "Accuracy of  bird : 63 %\n",
            "Accuracy of   cat : 53 %\n",
            "Accuracy of  deer : 78 %\n",
            "Accuracy of   dog : 79 %\n",
            "Accuracy of  frog : 83 %\n",
            "Accuracy of horse : 93 %\n",
            "Accuracy of  ship : 86 %\n",
            "Accuracy of truck : 92 %\n"
          ]
        }
      ],
      "source": [
        "correct_pred, total_pred, y_actual, y_pred, confusion_matrix = test_model(ourmodel, test_loader)\n",
        "\n",
        "for i in range(10):\n",
        "  print('Accuracy of %5s : %2d %%' % (classes[i], 100 * correct_pred[i] / total_pred[i]))"
      ]
    },
    {
      "cell_type": "code",
      "source": [
        "avg = 0\n",
        "for i in range(10):\n",
        "  temp = (100 * correct_pred[i] / total_pred[i])\n",
        "  avg = avg + temp\n",
        "avg = avg/10\n",
        "print('Average accuracy = ', avg)"
      ],
      "metadata": {
        "id": "A8K8f8A0T6mz",
        "outputId": "535e7ed9-ef31-4eba-c3b1-69ff77409b19",
        "colab": {
          "base_uri": "https://localhost:8080/"
        }
      },
      "id": "A8K8f8A0T6mz",
      "execution_count": 51,
      "outputs": [
        {
          "output_type": "stream",
          "name": "stdout",
          "text": [
            "Average accuracy =  80.8680363622283\n"
          ]
        }
      ]
    },
    {
      "cell_type": "code",
      "execution_count": 52,
      "id": "55da104a",
      "metadata": {
        "colab": {
          "base_uri": "https://localhost:8080/"
        },
        "id": "55da104a",
        "outputId": "f550832c-e558-4a7c-9fdd-f5ef53a0c358"
      },
      "outputs": [
        {
          "output_type": "execute_result",
          "data": {
            "text/plain": [
              "0.7798349371830812"
            ]
          },
          "metadata": {},
          "execution_count": 52
        }
      ],
      "source": [
        "matthews_corrcoef(y_actual, y_pred)"
      ]
    },
    {
      "cell_type": "code",
      "execution_count": 53,
      "id": "a1a1c7af",
      "metadata": {
        "colab": {
          "base_uri": "https://localhost:8080/"
        },
        "id": "a1a1c7af",
        "outputId": "9bc4c258-7fdf-48f0-9c95-73fc5193239f"
      },
      "outputs": [
        {
          "output_type": "stream",
          "name": "stdout",
          "text": [
            "              precision    recall  f1-score   support\n",
            "\n",
            "    airplane       0.81      0.83      0.82      1000\n",
            "  automobile       0.90      0.92      0.91      1000\n",
            "        bird       0.80      0.67      0.73      1000\n",
            "         cat       0.70      0.58      0.63      1000\n",
            "        deer       0.77      0.76      0.76      1000\n",
            "         dog       0.74      0.75      0.74      1000\n",
            "        frog       0.85      0.82      0.84      1000\n",
            "       horse       0.74      0.90      0.81      1000\n",
            "        ship       0.89      0.87      0.88      1000\n",
            "       truck       0.82      0.92      0.87      1000\n",
            "\n",
            "    accuracy                           0.80     10000\n",
            "   macro avg       0.80      0.80      0.80     10000\n",
            "weighted avg       0.80      0.80      0.80     10000\n",
            "\n"
          ]
        }
      ],
      "source": [
        "print(classification_report(y_actual, y_pred, target_names=classes))"
      ]
    },
    {
      "cell_type": "code",
      "execution_count": 54,
      "id": "a3f94572",
      "metadata": {
        "colab": {
          "base_uri": "https://localhost:8080/"
        },
        "id": "a3f94572",
        "outputId": "79603ffe-05e0-4892-d261-717d2463ba0c"
      },
      "outputs": [
        {
          "output_type": "execute_result",
          "data": {
            "text/plain": [
              "0.7793333333333333"
            ]
          },
          "metadata": {},
          "execution_count": 54
        }
      ],
      "source": [
        "cohen_kappa_score(y_actual, y_pred)"
      ]
    },
    {
      "cell_type": "code",
      "source": [
        "fig, ax = plt.subplots(1,1,figsize=(8,6))\n",
        "ax.matshow(confusion_matrix, aspect='auto', vmin=0, vmax=1000, cmap=plt.get_cmap('Reds'))\n",
        "plt.ylabel('Actual Category')\n",
        "plt.yticks(range(10), classes)\n",
        "plt.xlabel('Predicted Category')\n",
        "plt.xticks(range(10), classes)\n",
        "plt.show()"
      ],
      "metadata": {
        "colab": {
          "base_uri": "https://localhost:8080/",
          "height": 388
        },
        "id": "Y_PQrhx1Bqdu",
        "outputId": "318639d8-7e08-4386-80b2-632445cca635"
      },
      "id": "Y_PQrhx1Bqdu",
      "execution_count": 55,
      "outputs": [
        {
          "output_type": "display_data",
          "data": {
            "image/png": "[encoded data removed]",
            "text/plain": [
              "<Figure size 576x432 with 1 Axes>"
            ]
          },
          "metadata": {
            "needs_background": "light"
          }
        }
      ]
    },
    {
      "cell_type": "markdown",
      "id": "30b1f094",
      "metadata": {
        "id": "30b1f094"
      },
      "source": [
        "# AlexNet Findings\n"
      ]
    },
    {
      "cell_type": "code",
      "execution_count": 56,
      "id": "8ec6454d",
      "metadata": {
        "colab": {
          "base_uri": "https://localhost:8080/"
        },
        "id": "8ec6454d",
        "outputId": "859fca8c-1474-4ffd-9566-ae08a866d97f"
      },
      "outputs": [
        {
          "output_type": "stream",
          "name": "stdout",
          "text": [
            "Accuracy of the network on the 10000 test images: 89 %\n"
          ]
        }
      ],
      "source": [
        "correct = 0\n",
        "total = 0\n",
        "with torch.no_grad():\n",
        "    for data in AlexNet_test_loader:\n",
        "        images, labels = data[0].to(device), data[1].to(device)\n",
        "        outputs = alexnet(images)\n",
        "        _, predicted = torch.max(outputs.data, 1)\n",
        "        total += labels.size(0)\n",
        "        correct += (predicted == labels).sum().item()\n",
        "\n",
        "print('Accuracy of the network on the 10000 test images: %d %%' % (\n",
        "    100 * correct / total))"
      ]
    },
    {
      "cell_type": "code",
      "execution_count": 57,
      "id": "971778e6",
      "metadata": {
        "id": "971778e6",
        "colab": {
          "base_uri": "https://localhost:8080/"
        },
        "outputId": "baa8a4aa-a730-4f02-a4b0-c7dc47bd8693"
      },
      "outputs": [
        {
          "output_type": "stream",
          "name": "stdout",
          "text": [
            "Accuracy of airplane : 96 %\n",
            "Accuracy of automobile : 92 %\n",
            "Accuracy of  bird : 84 %\n",
            "Accuracy of   cat : 80 %\n",
            "Accuracy of  deer : 90 %\n",
            "Accuracy of   dog : 84 %\n",
            "Accuracy of  frog : 92 %\n",
            "Accuracy of horse : 95 %\n",
            "Accuracy of  ship : 96 %\n",
            "Accuracy of truck : 97 %\n"
          ]
        }
      ],
      "source": [
        "correct_pred, total_pred, y_actual, y_pred, confusion_matrix = test_model(alexnet, AlexNet_test_loader)\n",
        "\n",
        "for i in range(10):\n",
        "    print('Accuracy of %5s : %2d %%' % (\n",
        "        classes[i], 100 * correct_pred[i] / total_pred[i]))"
      ]
    },
    {
      "cell_type": "code",
      "execution_count": 58,
      "id": "d59dba53",
      "metadata": {
        "id": "d59dba53",
        "colab": {
          "base_uri": "https://localhost:8080/"
        },
        "outputId": "27939400-0c78-4074-c228-d1f970e37929"
      },
      "outputs": [
        {
          "output_type": "stream",
          "name": "stdout",
          "text": [
            "Average accuracy =  91.18727338709957\n"
          ]
        }
      ],
      "source": [
        "avg = 0\n",
        "for i in range(10):\n",
        "  temp = (100 * correct_pred[i] / total_pred[i])\n",
        "  avg = avg + temp\n",
        "avg = avg/10\n",
        "print('Average accuracy = ', avg)"
      ]
    },
    {
      "cell_type": "code",
      "source": [
        "fig, ax = plt.subplots(1,1,figsize=(8,6))\n",
        "ax.matshow(confusion_matrix, aspect='auto', vmin=0, vmax=1000, cmap=plt.get_cmap('Reds'))\n",
        "plt.ylabel('Actual Category')\n",
        "plt.yticks(range(10), classes)\n",
        "plt.xlabel('Predicted Category')\n",
        "plt.xticks(range(10), classes)\n",
        "plt.show()"
      ],
      "metadata": {
        "colab": {
          "base_uri": "https://localhost:8080/",
          "height": 388
        },
        "id": "LRUHzaPSBkWl",
        "outputId": "8e588999-19ab-4323-fea3-17bd8ab181ea"
      },
      "id": "LRUHzaPSBkWl",
      "execution_count": 59,
      "outputs": [
        {
          "output_type": "display_data",
          "data": {
            "image/png": "[encoded data removed]",
            "text/plain": [
              "<Figure size 576x432 with 1 Axes>"
            ]
          },
          "metadata": {
            "needs_background": "light"
          }
        }
      ]
    },
    {
      "cell_type": "code",
      "execution_count": 60,
      "id": "b6e6c9d9",
      "metadata": {
        "id": "b6e6c9d9",
        "colab": {
          "base_uri": "https://localhost:8080/"
        },
        "outputId": "26243aff-0cf7-4d09-ed30-07fbcf41a123"
      },
      "outputs": [
        {
          "output_type": "execute_result",
          "data": {
            "text/plain": [
              "0.8888737516951075"
            ]
          },
          "metadata": {},
          "execution_count": 60
        }
      ],
      "source": [
        "matthews_corrcoef(y_actual, y_pred)"
      ]
    },
    {
      "cell_type": "code",
      "execution_count": 61,
      "id": "25d9c10d",
      "metadata": {
        "id": "25d9c10d",
        "colab": {
          "base_uri": "https://localhost:8080/"
        },
        "outputId": "572ade1d-24ad-43a5-b276-f061ce811069"
      },
      "outputs": [
        {
          "output_type": "stream",
          "name": "stdout",
          "text": [
            "              precision    recall  f1-score   support\n",
            "\n",
            "    airplane       0.92      0.90      0.91      1000\n",
            "  automobile       0.96      0.93      0.94      1000\n",
            "        bird       0.92      0.85      0.88      1000\n",
            "         cat       0.79      0.82      0.80      1000\n",
            "        deer       0.87      0.91      0.89      1000\n",
            "         dog       0.88      0.84      0.86      1000\n",
            "        frog       0.94      0.93      0.93      1000\n",
            "       horse       0.89      0.95      0.92      1000\n",
            "        ship       0.91      0.95      0.93      1000\n",
            "       truck       0.92      0.94      0.93      1000\n",
            "\n",
            "    accuracy                           0.90     10000\n",
            "   macro avg       0.90      0.90      0.90     10000\n",
            "weighted avg       0.90      0.90      0.90     10000\n",
            "\n"
          ]
        }
      ],
      "source": [
        "print(classification_report(y_actual, y_pred, target_names=classes))"
      ]
    },
    {
      "cell_type": "code",
      "execution_count": 62,
      "id": "1746ee54",
      "metadata": {
        "id": "1746ee54",
        "colab": {
          "base_uri": "https://localhost:8080/"
        },
        "outputId": "757d0e2c-bb7b-4633-f1cb-74a680efc828"
      },
      "outputs": [
        {
          "output_type": "execute_result",
          "data": {
            "text/plain": [
              "0.8887777777777778"
            ]
          },
          "metadata": {},
          "execution_count": 62
        }
      ],
      "source": [
        "cohen_kappa_score(y_actual, y_pred)"
      ]
    },
    {
      "cell_type": "markdown",
      "id": "2536b1f9",
      "metadata": {
        "id": "2536b1f9"
      },
      "source": [
        "# Resnet Findings\n"
      ]
    },
    {
      "cell_type": "code",
      "execution_count": 63,
      "id": "b4a1dba8",
      "metadata": {
        "colab": {
          "base_uri": "https://localhost:8080/"
        },
        "id": "b4a1dba8",
        "outputId": "2b563eb1-3f1e-4067-d039-d16543af1979"
      },
      "outputs": [
        {
          "output_type": "stream",
          "name": "stdout",
          "text": [
            "Accuracy of the model on the test images: 82.5 %\n"
          ]
        }
      ],
      "source": [
        "with torch.no_grad():\n",
        "    correct = 0\n",
        "    total = 0\n",
        "    for images, labels in test_loader:\n",
        "        images = images.to(device)\n",
        "        labels = labels.to(device)\n",
        "        outputs = resnet(images)\n",
        "        _, predicted = torch.max(outputs.data, 1)\n",
        "        total += labels.size(0)\n",
        "        correct += (predicted == labels).sum().item()\n",
        "\n",
        "    print('Accuracy of the model on the test images: {} %'.format(100 * correct / total))\n",
        "\n",
        "# Save the model checkpoint\n",
        "torch.save(resnet.state_dict(), 'resnet.ckpt')"
      ]
    },
    {
      "cell_type": "code",
      "execution_count": 64,
      "id": "41ae6792",
      "metadata": {
        "colab": {
          "base_uri": "https://localhost:8080/"
        },
        "id": "41ae6792",
        "outputId": "85720115-e9dd-469b-b562-1d6c236a6868"
      },
      "outputs": [
        {
          "output_type": "stream",
          "name": "stdout",
          "text": [
            "Accuracy of airplane : 89 %\n",
            "Accuracy of automobile : 92 %\n",
            "Accuracy of  bird : 83 %\n",
            "Accuracy of   cat : 68 %\n",
            "Accuracy of  deer : 80 %\n",
            "Accuracy of   dog : 72 %\n",
            "Accuracy of  frog : 91 %\n",
            "Accuracy of horse : 87 %\n",
            "Accuracy of  ship : 91 %\n",
            "Accuracy of truck : 91 %\n"
          ]
        }
      ],
      "source": [
        "correct_pred, total_pred, y_actual, y_pred, confusion_matrix = test_model(resnet, test_loader)\n",
        "\n",
        "\n",
        "for i in range(10):\n",
        "    print('Accuracy of %5s : %2d %%' % (\n",
        "        classes[i], 100 * correct_pred[i] / total_pred[i]))"
      ]
    },
    {
      "cell_type": "code",
      "source": [
        "fig, ax = plt.subplots(1,1,figsize=(8,6))\n",
        "ax.matshow(confusion_matrix, aspect='auto', vmin=0, vmax=1000, cmap=plt.get_cmap('Reds'))\n",
        "plt.ylabel('Actual Category')\n",
        "plt.yticks(range(10), classes)\n",
        "plt.xlabel('Predicted Category')\n",
        "plt.xticks(range(10), classes)\n",
        "plt.show()"
      ],
      "metadata": {
        "colab": {
          "base_uri": "https://localhost:8080/",
          "height": 388
        },
        "id": "FdYi-M9DBhon",
        "outputId": "a174eae2-0bb9-4626-be1e-4f5ae8e9eec3"
      },
      "id": "FdYi-M9DBhon",
      "execution_count": 65,
      "outputs": [
        {
          "output_type": "display_data",
          "data": {
            "image/png": "[encoded data removed]",
            "text/plain": [
              "<Figure size 576x432 with 1 Axes>"
            ]
          },
          "metadata": {
            "needs_background": "light"
          }
        }
      ]
    },
    {
      "cell_type": "code",
      "execution_count": 66,
      "id": "29926375",
      "metadata": {
        "colab": {
          "base_uri": "https://localhost:8080/"
        },
        "id": "29926375",
        "outputId": "1e491479-4cdc-4dca-c098-2c472361f263"
      },
      "outputs": [
        {
          "output_type": "stream",
          "name": "stdout",
          "text": [
            "Average accuracy =  84.71809046422146\n"
          ]
        }
      ],
      "source": [
        "avg = 0\n",
        "for i in range(10):\n",
        "  temp = (100 * correct_pred[i] / total_pred[i])\n",
        "  avg = avg + temp\n",
        "avg = avg/10\n",
        "print('Average accuracy = ', avg)"
      ]
    },
    {
      "cell_type": "code",
      "execution_count": 67,
      "id": "916b93d9",
      "metadata": {
        "colab": {
          "base_uri": "https://localhost:8080/"
        },
        "id": "916b93d9",
        "outputId": "cba7e7fb-57c0-467e-b89c-a42e63368ab0"
      },
      "outputs": [
        {
          "output_type": "execute_result",
          "data": {
            "text/plain": [
              "0.8066764674935745"
            ]
          },
          "metadata": {},
          "execution_count": 67
        }
      ],
      "source": [
        "matthews_corrcoef(y_actual, y_pred)"
      ]
    },
    {
      "cell_type": "code",
      "execution_count": 68,
      "id": "8d7a60d0",
      "metadata": {
        "colab": {
          "base_uri": "https://localhost:8080/"
        },
        "id": "8d7a60d0",
        "outputId": "79f9599e-956e-499d-d59d-6c2fe571abb9"
      },
      "outputs": [
        {
          "output_type": "stream",
          "name": "stdout",
          "text": [
            "              precision    recall  f1-score   support\n",
            "\n",
            "    airplane       0.84      0.82      0.83      1000\n",
            "  automobile       0.90      0.93      0.91      1000\n",
            "        bird       0.72      0.77      0.74      1000\n",
            "         cat       0.69      0.69      0.69      1000\n",
            "        deer       0.79      0.82      0.81      1000\n",
            "         dog       0.79      0.69      0.74      1000\n",
            "        frog       0.86      0.88      0.87      1000\n",
            "       horse       0.87      0.85      0.86      1000\n",
            "        ship       0.92      0.89      0.91      1000\n",
            "       truck       0.88      0.92      0.90      1000\n",
            "\n",
            "    accuracy                           0.83     10000\n",
            "   macro avg       0.83      0.83      0.83     10000\n",
            "weighted avg       0.83      0.83      0.83     10000\n",
            "\n"
          ]
        }
      ],
      "source": [
        "print(classification_report(y_actual, y_pred, target_names=classes))"
      ]
    },
    {
      "cell_type": "code",
      "execution_count": 69,
      "id": "4b321e58",
      "metadata": {
        "colab": {
          "base_uri": "https://localhost:8080/"
        },
        "id": "4b321e58",
        "outputId": "055a59f6-f999-4fa2-bfff-029b889a7a97"
      },
      "outputs": [
        {
          "output_type": "execute_result",
          "data": {
            "text/plain": [
              "0.8065555555555556"
            ]
          },
          "metadata": {},
          "execution_count": 69
        }
      ],
      "source": [
        "cohen_kappa_score(y_actual, y_pred)"
      ]
    },
    {
      "cell_type": "markdown",
      "source": [
        "# Import Dataset-b\n",
        "\n",
        "* At first we had to import our data and transform them into png's. After which we exported them to seporate folders by their classes.\n",
        "* Each folder name being the name of the class\n",
        "* We can then import them with the Torchvision.dataset api, using ImageFolder, so we have the same structure as the CIFAR-10 dataset"
      ],
      "metadata": {
        "id": "NeQoTQKUTgny"
      },
      "id": "NeQoTQKUTgny"
    },
    {
      "cell_type": "code",
      "source": [
        "from google.colab import drive\n",
        "drive.mount('/content/drive')"
      ],
      "metadata": {
        "colab": {
          "base_uri": "https://localhost:8080/"
        },
        "id": "EQ38ED8SffD3",
        "outputId": "c4327952-06fa-4ec8-de02-094d043477c9"
      },
      "id": "EQ38ED8SffD3",
      "execution_count": 70,
      "outputs": [
        {
          "output_type": "stream",
          "name": "stdout",
          "text": [
            "Drive already mounted at /content/drive; to attempt to forcibly remount, call drive.mount(\"/content/drive\", force_remount=True).\n"
          ]
        }
      ]
    },
    {
      "cell_type": "code",
      "source": [
        "unseen_set = torchvision.datasets.ImageFolder('/content/drive/MyDrive/AAI_Exam/datasets/NEW_PNGS/', transform=valid_transform)\n",
        "\n",
        "Alex_unseen_set = torchvision.datasets.ImageFolder('/content/drive/MyDrive/AAI_Exam/datasets/NEW_PNGS/', transform=transfer_valid_transform)\n",
        "\n",
        "unseen_loader = torch.utils.data.DataLoader(unseen_set, batch_size=64,\n",
        "                                          shuffle=False, num_workers=4)\n",
        "\n",
        "Alex_unseen_loader = torch.utils.data.DataLoader(Alex_unseen_set, batch_size=64,\n",
        "                                          shuffle=False, num_workers=4)\n",
        "\n",
        "batch_size=128"
      ],
      "metadata": {
        "id": "l4jZm7yZfe_-"
      },
      "id": "l4jZm7yZfe_-",
      "execution_count": 71,
      "outputs": []
    },
    {
      "cell_type": "markdown",
      "source": [
        "# Testing on AlexNet Dataset-b images "
      ],
      "metadata": {
        "id": "i0e8_ciiTZun"
      },
      "id": "i0e8_ciiTZun"
    },
    {
      "cell_type": "code",
      "source": [
        "correct_pred, total_pred, y_actual, y_pred, confusion_matrix = test_model(alexnet, Alex_unseen_loader)\n",
        "\n",
        "for i in range(10):\n",
        "    print('Accuracy of %5s : %2d %%' % (\n",
        "        classes[i], 100 * correct_pred[i] / total_pred[i]))"
      ],
      "metadata": {
        "colab": {
          "base_uri": "https://localhost:8080/"
        },
        "id": "DDCvmMW_gH0u",
        "outputId": "3646de8d-213d-4b77-d00d-d8c116053211"
      },
      "id": "DDCvmMW_gH0u",
      "execution_count": 72,
      "outputs": [
        {
          "output_type": "stream",
          "name": "stdout",
          "text": [
            "Accuracy of airplane : 62 %\n",
            "Accuracy of automobile : 75 %\n",
            "Accuracy of  bird : 83 %\n",
            "Accuracy of   cat : 78 %\n",
            "Accuracy of  deer : 92 %\n",
            "Accuracy of   dog : 75 %\n",
            "Accuracy of  frog : 91 %\n",
            "Accuracy of horse : 83 %\n",
            "Accuracy of  ship : 100 %\n",
            "Accuracy of truck : 83 %\n"
          ]
        }
      ]
    },
    {
      "cell_type": "code",
      "source": [
        "avg = 0\n",
        "for i in range(10):\n",
        "  temp = (100 * correct_pred[i] / total_pred[i])\n",
        "  avg = avg + temp\n",
        "avg = avg/10\n",
        "print('Average accuracy = ', avg)"
      ],
      "metadata": {
        "colab": {
          "base_uri": "https://localhost:8080/"
        },
        "id": "slm4_2XsfxtV",
        "outputId": "91030543-3c9f-4a95-fa29-6ebcd6d7d2fc"
      },
      "id": "slm4_2XsfxtV",
      "execution_count": 73,
      "outputs": [
        {
          "output_type": "stream",
          "name": "stdout",
          "text": [
            "Average accuracy =  82.55952380952381\n"
          ]
        }
      ]
    },
    {
      "cell_type": "code",
      "source": [
        "fig, ax = plt.subplots(1,1,figsize=(8,6))\n",
        "ax.matshow(confusion_matrix, aspect='auto', vmin=0, vmax=1000, cmap=plt.get_cmap('Reds'))\n",
        "plt.ylabel('Actual Category')\n",
        "plt.yticks(range(10), classes)\n",
        "plt.xlabel('Predicted Category')\n",
        "plt.xticks(range(10), classes)\n",
        "plt.show()"
      ],
      "metadata": {
        "colab": {
          "base_uri": "https://localhost:8080/",
          "height": 388
        },
        "id": "4MZzLU0FBRjs",
        "outputId": "af4ca016-41b3-4a5d-9c3c-ee1af7799279"
      },
      "id": "4MZzLU0FBRjs",
      "execution_count": 74,
      "outputs": [
        {
          "output_type": "display_data",
          "data": {
            "image/png": "[encoded data removed]",
            "text/plain": [
              "<Figure size 576x432 with 1 Axes>"
            ]
          },
          "metadata": {
            "needs_background": "light"
          }
        }
      ]
    },
    {
      "cell_type": "code",
      "source": [
        "matthews_corrcoef(y_actual, y_pred)"
      ],
      "metadata": {
        "colab": {
          "base_uri": "https://localhost:8080/"
        },
        "id": "Dzns-o81ibAL",
        "outputId": "dd4940f8-5308-463e-de9d-cfe5c5e32023"
      },
      "id": "Dzns-o81ibAL",
      "execution_count": 75,
      "outputs": [
        {
          "output_type": "execute_result",
          "data": {
            "text/plain": [
              "0.7608609847666928"
            ]
          },
          "metadata": {},
          "execution_count": 75
        }
      ]
    },
    {
      "cell_type": "code",
      "source": [
        "print(classification_report(y_actual, y_pred, target_names=classes))"
      ],
      "metadata": {
        "colab": {
          "base_uri": "https://localhost:8080/"
        },
        "id": "CULmg33Kia6M",
        "outputId": "f37c00ca-6af4-4e6b-f068-9c7c55fe59c7"
      },
      "id": "CULmg33Kia6M",
      "execution_count": 76,
      "outputs": [
        {
          "output_type": "stream",
          "name": "stdout",
          "text": [
            "              precision    recall  f1-score   support\n",
            "\n",
            "    airplane       0.84      0.71      0.77       208\n",
            "  automobile       0.92      0.71      0.80       212\n",
            "        bird       0.86      0.67      0.76       202\n",
            "         cat       0.67      0.72      0.70       212\n",
            "        deer       0.74      0.81      0.78       204\n",
            "         dog       0.83      0.74      0.78       218\n",
            "        frog       0.80      0.84      0.82       192\n",
            "       horse       0.77      0.88      0.82       210\n",
            "        ship       0.70      0.90      0.79       161\n",
            "       truck       0.77      0.89      0.83       202\n",
            "\n",
            "    accuracy                           0.78      2021\n",
            "   macro avg       0.79      0.79      0.78      2021\n",
            "weighted avg       0.79      0.78      0.78      2021\n",
            "\n"
          ]
        }
      ]
    },
    {
      "cell_type": "code",
      "source": [
        "cohen_kappa_score(y_actual, y_pred)"
      ],
      "metadata": {
        "colab": {
          "base_uri": "https://localhost:8080/"
        },
        "id": "MQDrUJuKia0x",
        "outputId": "af8ee7d9-3e2f-42ea-f36f-40094014843c"
      },
      "id": "MQDrUJuKia0x",
      "execution_count": 77,
      "outputs": [
        {
          "output_type": "execute_result",
          "data": {
            "text/plain": [
              "0.7597636635254512"
            ]
          },
          "metadata": {},
          "execution_count": 77
        }
      ]
    },
    {
      "cell_type": "markdown",
      "source": [
        "# Testing on ResNet Dataset-b data"
      ],
      "metadata": {
        "id": "84ed2WmpTMuM"
      },
      "id": "84ed2WmpTMuM"
    },
    {
      "cell_type": "code",
      "source": [
        "type(unseen_loader)"
      ],
      "metadata": {
        "colab": {
          "base_uri": "https://localhost:8080/"
        },
        "id": "lH8pIEgjn5KL",
        "outputId": "be7b31d9-11ef-44af-e1ea-b887b0c8fadb"
      },
      "id": "lH8pIEgjn5KL",
      "execution_count": 78,
      "outputs": [
        {
          "output_type": "execute_result",
          "data": {
            "text/plain": [
              "torch.utils.data.dataloader.DataLoader"
            ]
          },
          "metadata": {},
          "execution_count": 78
        }
      ]
    },
    {
      "cell_type": "code",
      "source": [
        "batch_size=64\n",
        "correct_pred, total_pred, y_actual, y_pred, confusion_matrix = test_model(resnet, unseen_loader)\n",
        "\n",
        "for i in range(10):\n",
        "    print('Accuracy of %5s : %2d %%' % (\n",
        "        classes[i], 100 * correct_pred[i] / total_pred[i]))"
      ],
      "metadata": {
        "colab": {
          "base_uri": "https://localhost:8080/"
        },
        "id": "qdxgtAqHfeO1",
        "outputId": "da73a481-5ed0-45a6-e6d8-b3648f1a62f1"
      },
      "id": "qdxgtAqHfeO1",
      "execution_count": 79,
      "outputs": [
        {
          "output_type": "stream",
          "name": "stdout",
          "text": [
            "Accuracy of airplane : 12 %\n",
            "Accuracy of automobile : 33 %\n",
            "Accuracy of  bird : 25 %\n",
            "Accuracy of   cat :  7 %\n",
            "Accuracy of  deer : 21 %\n",
            "Accuracy of   dog : 33 %\n",
            "Accuracy of  frog :  8 %\n",
            "Accuracy of horse :  8 %\n",
            "Accuracy of  ship : 33 %\n",
            "Accuracy of truck : 16 %\n"
          ]
        }
      ]
    },
    {
      "cell_type": "code",
      "execution_count": 80,
      "id": "151c2b7f",
      "metadata": {
        "id": "151c2b7f",
        "colab": {
          "base_uri": "https://localhost:8080/"
        },
        "outputId": "9809acbf-b9bd-48fb-b4a8-1d25178e1b2c"
      },
      "outputs": [
        {
          "output_type": "stream",
          "name": "stdout",
          "text": [
            "Average accuracy =  19.940476190476193\n"
          ]
        }
      ],
      "source": [
        "avg = 0\n",
        "for i in range(10):\n",
        "  temp = (100 * correct_pred[i] / total_pred[i])\n",
        "  avg = avg + temp\n",
        "avg = avg/10\n",
        "print('Average accuracy = ', avg)"
      ]
    },
    {
      "cell_type": "code",
      "source": [
        "fig, ax = plt.subplots(1,1,figsize=(8,6))\n",
        "ax.matshow(confusion_matrix, aspect='auto', vmin=0, vmax=1000, cmap=plt.get_cmap('Reds'))\n",
        "plt.ylabel('Actual Category')\n",
        "plt.yticks(range(10), classes)\n",
        "plt.xlabel('Predicted Category')\n",
        "plt.xticks(range(10), classes)\n",
        "plt.show()"
      ],
      "metadata": {
        "colab": {
          "base_uri": "https://localhost:8080/",
          "height": 388
        },
        "id": "4zTLTZFoBLFP",
        "outputId": "adf17980-b4e3-4b8d-8c86-9eec5de0ee62"
      },
      "id": "4zTLTZFoBLFP",
      "execution_count": 81,
      "outputs": [
        {
          "output_type": "display_data",
          "data": {
            "image/png": "[encoded data removed]",
            "text/plain": [
              "<Figure size 576x432 with 1 Axes>"
            ]
          },
          "metadata": {
            "needs_background": "light"
          }
        }
      ]
    },
    {
      "cell_type": "code",
      "source": [
        "matthews_corrcoef(y_actual, y_pred)"
      ],
      "metadata": {
        "id": "QxiV73Y3gas2",
        "colab": {
          "base_uri": "https://localhost:8080/"
        },
        "outputId": "7a95eb07-eafb-479e-e961-06c7b351766e"
      },
      "id": "QxiV73Y3gas2",
      "execution_count": 82,
      "outputs": [
        {
          "output_type": "execute_result",
          "data": {
            "text/plain": [
              "0.10516198922070887"
            ]
          },
          "metadata": {},
          "execution_count": 82
        }
      ]
    },
    {
      "cell_type": "code",
      "source": [
        "print(classification_report(y_actual, y_pred, target_names=classes))"
      ],
      "metadata": {
        "id": "_igDxz6AgamW",
        "colab": {
          "base_uri": "https://localhost:8080/"
        },
        "outputId": "55a59c92-3889-4a85-87bb-1047d8eea989"
      },
      "id": "_igDxz6AgamW",
      "execution_count": 83,
      "outputs": [
        {
          "output_type": "stream",
          "name": "stdout",
          "text": [
            "              precision    recall  f1-score   support\n",
            "\n",
            "    airplane       0.14      0.15      0.15       208\n",
            "  automobile       0.27      0.27      0.27       212\n",
            "        bird       0.19      0.25      0.22       202\n",
            "         cat       0.14      0.19      0.16       212\n",
            "        deer       0.15      0.15      0.15       204\n",
            "         dog       0.27      0.19      0.22       218\n",
            "        frog       0.20      0.16      0.18       192\n",
            "       horse       0.23      0.18      0.20       210\n",
            "        ship       0.24      0.22      0.23       161\n",
            "       truck       0.17      0.20      0.18       202\n",
            "\n",
            "    accuracy                           0.19      2021\n",
            "   macro avg       0.20      0.20      0.20      2021\n",
            "weighted avg       0.20      0.19      0.20      2021\n",
            "\n"
          ]
        }
      ]
    },
    {
      "cell_type": "code",
      "source": [
        "cohen_kappa_score(y_actual, y_pred)\n",
        "\n"
      ],
      "metadata": {
        "id": "uyqFmHzggaeZ",
        "colab": {
          "base_uri": "https://localhost:8080/"
        },
        "outputId": "7677e4f8-de2c-475e-8504-3456bd0c8993"
      },
      "id": "uyqFmHzggaeZ",
      "execution_count": 84,
      "outputs": [
        {
          "output_type": "execute_result",
          "data": {
            "text/plain": [
              "0.10488558470760523"
            ]
          },
          "metadata": {},
          "execution_count": 84
        }
      ]
    },
    {
      "cell_type": "markdown",
      "source": [
        "# Testing on our model"
      ],
      "metadata": {
        "id": "5VS-A4s4gAl0"
      },
      "id": "5VS-A4s4gAl0"
    },
    {
      "cell_type": "code",
      "source": [
        "correct_pred, total_pred, y_actual, y_pred, confusion_matrix = test_model(ourmodel, unseen_loader)\n",
        "\n",
        "for i in range(10):\n",
        "    print('Accuracy of %5s : %2d %%' % (\n",
        "        classes[i], 100 * correct_pred[i] / total_pred[i]))"
      ],
      "metadata": {
        "colab": {
          "base_uri": "https://localhost:8080/"
        },
        "id": "nMc0lzD6s6-z",
        "outputId": "5b959f60-1d8a-4e69-d6e9-8d2f6129965c"
      },
      "id": "nMc0lzD6s6-z",
      "execution_count": 85,
      "outputs": [
        {
          "output_type": "stream",
          "name": "stdout",
          "text": [
            "Accuracy of airplane : 43 %\n",
            "Accuracy of automobile : 50 %\n",
            "Accuracy of  bird : 41 %\n",
            "Accuracy of   cat : 57 %\n",
            "Accuracy of  deer : 78 %\n",
            "Accuracy of   dog : 75 %\n",
            "Accuracy of  frog : 66 %\n",
            "Accuracy of horse : 66 %\n",
            "Accuracy of  ship : 75 %\n",
            "Accuracy of truck : 66 %\n"
          ]
        }
      ]
    },
    {
      "cell_type": "code",
      "source": [
        "avg = 0\n",
        "for i in range(10):\n",
        "  temp = (100 * correct_pred[i] / total_pred[i])\n",
        "  avg = avg + temp\n",
        "avg = avg/10\n",
        "print('Average accuracy = ', avg)"
      ],
      "metadata": {
        "colab": {
          "base_uri": "https://localhost:8080/"
        },
        "id": "y4o8AUDdtEHw",
        "outputId": "6a119111-270c-4c52-f78b-2430e64e0bf7"
      },
      "id": "y4o8AUDdtEHw",
      "execution_count": 86,
      "outputs": [
        {
          "output_type": "stream",
          "name": "stdout",
          "text": [
            "Average accuracy =  62.11309523809524\n"
          ]
        }
      ]
    },
    {
      "cell_type": "code",
      "source": [
        "fig, ax = plt.subplots(1,1,figsize=(8,6))\n",
        "ax.matshow(confusion_matrix, aspect='auto', vmin=0, vmax=1000, cmap=plt.get_cmap('Reds'))\n",
        "plt.ylabel('Actual Category')\n",
        "plt.yticks(range(10), classes)\n",
        "plt.xlabel('Predicted Category')\n",
        "plt.xticks(range(10), classes)\n",
        "plt.show()"
      ],
      "metadata": {
        "colab": {
          "base_uri": "https://localhost:8080/",
          "height": 388
        },
        "id": "3NyjHoYVBT1W",
        "outputId": "51569a3d-fe3b-4a5b-a0e9-582e4010b0e6"
      },
      "id": "3NyjHoYVBT1W",
      "execution_count": 87,
      "outputs": [
        {
          "output_type": "display_data",
          "data": {
            "image/png": "[encoded data removed]",
            "text/plain": [
              "<Figure size 576x432 with 1 Axes>"
            ]
          },
          "metadata": {
            "needs_background": "light"
          }
        }
      ]
    },
    {
      "cell_type": "code",
      "source": [
        "matthews_corrcoef(y_actual, y_pred)"
      ],
      "metadata": {
        "colab": {
          "base_uri": "https://localhost:8080/"
        },
        "id": "vilDbJ5qtIV3",
        "outputId": "46ca8b48-0ece-4ce0-d194-85a15ee530fc"
      },
      "id": "vilDbJ5qtIV3",
      "execution_count": 88,
      "outputs": [
        {
          "output_type": "execute_result",
          "data": {
            "text/plain": [
              "0.6260589365656097"
            ]
          },
          "metadata": {},
          "execution_count": 88
        }
      ]
    },
    {
      "cell_type": "code",
      "source": [
        "print(classification_report(y_actual, y_pred, target_names=classes))"
      ],
      "metadata": {
        "colab": {
          "base_uri": "https://localhost:8080/"
        },
        "id": "JYcJx94ttK50",
        "outputId": "311ed774-fea3-4824-d649-c733678d766c"
      },
      "id": "JYcJx94ttK50",
      "execution_count": 89,
      "outputs": [
        {
          "output_type": "stream",
          "name": "stdout",
          "text": [
            "              precision    recall  f1-score   support\n",
            "\n",
            "    airplane       0.74      0.55      0.63       208\n",
            "  automobile       0.80      0.66      0.72       212\n",
            "        bird       0.66      0.50      0.57       202\n",
            "         cat       0.60      0.53      0.56       212\n",
            "        deer       0.65      0.69      0.67       204\n",
            "         dog       0.69      0.63      0.66       218\n",
            "        frog       0.68      0.69      0.68       192\n",
            "       horse       0.62      0.80      0.70       210\n",
            "        ship       0.66      0.71      0.68       161\n",
            "       truck       0.60      0.87      0.71       202\n",
            "\n",
            "    accuracy                           0.66      2021\n",
            "   macro avg       0.67      0.66      0.66      2021\n",
            "weighted avg       0.67      0.66      0.66      2021\n",
            "\n"
          ]
        }
      ]
    },
    {
      "cell_type": "code",
      "source": [
        "cohen_kappa_score(y_actual, y_pred)"
      ],
      "metadata": {
        "colab": {
          "base_uri": "https://localhost:8080/"
        },
        "id": "BWqY0ucHtNJn",
        "outputId": "7f5dfc2b-d468-4ca9-803e-df8da7d60f35"
      },
      "id": "BWqY0ucHtNJn",
      "execution_count": 90,
      "outputs": [
        {
          "output_type": "execute_result",
          "data": {
            "text/plain": [
              "0.6243840953674937"
            ]
          },
          "metadata": {},
          "execution_count": 90
        }
      ]
    }
  ],
  "metadata": {
    "accelerator": "GPU",
    "colab": {
      "machine_shape": "hm",
      "name": "GPU Accelerated.ipynb",
      "provenance": []
    },
    "kernelspec": {
      "display_name": "Python 3 (ipykernel)",
      "language": "python",
      "name": "python3"
    },
    "language_info": {
      "codemirror_mode": {
        "name": "ipython",
        "version": 3
      },
      "file_extension": ".py",
      "mimetype": "text/x-python",
      "name": "python",
      "nbconvert_exporter": "python",
      "pygments_lexer": "ipython3",
      "version": "3.9.7"
    }
  },
  "nbformat": 4,
  "nbformat_minor": 5
}