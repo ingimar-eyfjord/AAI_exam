{
  "cells": [
    {
      "cell_type": "markdown",
      "id": "d471f352",
      "metadata": {
        "id": "d471f352"
      },
      "source": [
        "### Download datasets for this model here:\n",
        "\n",
        "* https://drive.google.com/drive/folders/19TuTEOKfSOWr4IVf9PrTnN2TQiogoyYV?usp=sharing "
      ]
    },
    {
      "cell_type": "code",
      "execution_count": 1,
      "id": "a71d61a8",
      "metadata": {
        "id": "a71d61a8"
      },
      "outputs": [],
      "source": [
        "import torch\n",
        "import torchvision\n",
        "import numpy as np\n",
        "import matplotlib.pyplot as plt\n",
        "import torch.nn as nn\n",
        "import torch.nn.functional as F\n",
        "\n",
        "from torchvision.transforms import ToTensor\n",
        "from torchvision.utils import make_grid\n",
        "from torch.utils.data.dataloader import DataLoader\n",
        "from torch.utils.data import random_split\n",
        "import torchvision.transforms as transforms\n",
        "%matplotlib inline\n",
        "\n",
        "from sklearn.metrics import classification_report\n",
        "from sklearn.metrics import matthews_corrcoef\n",
        "from sklearn.metrics import cohen_kappa_score\n",
        "\n",
        "\n",
        "import warnings\n",
        "warnings.filterwarnings(\"ignore\")"
      ]
    },
    {
      "cell_type": "code",
      "execution_count": 1,
      "id": "k9cn2n56PQ1L",
      "metadata": {
        "id": "k9cn2n56PQ1L"
      },
      "outputs": [],
      "source": [
        ""
      ]
    },
    {
      "cell_type": "markdown",
      "id": "ec377827",
      "metadata": {
        "id": "ec377827"
      },
      "source": [
        " ### Here we deifne how to tansform the the data to fit our models\n",
        " \n",
        " * With the torchvision transformer function\n",
        " * We will randomly flip images horisontally for Data augmentaion with we hope to imporve our accuracy\n",
        " * We then transform the dataset into a Tensor.\n",
        " * Therafter normalize the data."
      ]
    },
    {
      "cell_type": "code",
      "execution_count": 2,
      "id": "1f2c9816",
      "metadata": {
        "id": "1f2c9816"
      },
      "outputs": [],
      "source": [
        "transform = transforms.Compose([\n",
        "    transforms.RandomHorizontalFlip(),\n",
        "    transforms.ToTensor(),\n",
        "    transforms.Normalize((0.5, 0.5, 0.5), (0.5, 0.5, 0.5)),\n",
        "])"
      ]
    },
    {
      "cell_type": "markdown",
      "id": "2c0244f2",
      "metadata": {
        "id": "2c0244f2"
      },
      "source": [
        "#### We also have a transform function for our validation set"
      ]
    },
    {
      "cell_type": "code",
      "execution_count": 3,
      "id": "2a2a2e63",
      "metadata": {
        "id": "2a2a2e63"
      },
      "outputs": [],
      "source": [
        "valid_transform = transforms.Compose([\n",
        "            transforms.ToTensor(),\n",
        "            transforms.Normalize((0.5, 0.5, 0.5), (0.5, 0.5, 0.5)),\n",
        "    ])"
      ]
    },
    {
      "cell_type": "markdown",
      "id": "c3045c77",
      "metadata": {
        "id": "c3045c77"
      },
      "source": [
        "### We define the training and test sets.\n",
        "\n",
        "* Here we tell torchvision where the data is, then we load in the data with the DataLoader function\n",
        "* we also split the data into a training set and a test set by using the train perameters, True or false"
      ]
    },
    {
      "cell_type": "code",
      "execution_count": 4,
      "id": "2fb6a4db",
      "metadata": {
        "colab": {
          "base_uri": "https://localhost:8080/"
        },
        "id": "2fb6a4db",
        "outputId": "f3e6c10c-d6f9-4347-ee41-57e134dd6b1c"
      },
      "outputs": [
        {
          "output_type": "stream",
          "name": "stdout",
          "text": [
            "Files already downloaded and verified\n",
            "Files already downloaded and verified\n",
            "Files already downloaded and verified\n",
            "Files already downloaded and verified\n"
          ]
        }
      ],
      "source": [
        "dataset = torchvision.datasets.CIFAR10(root='datasets/', download=True, transform=ToTensor())\n",
        "\n",
        "train_set = torchvision.datasets.CIFAR10('./datasets', train=True,\n",
        "                                         download=True, transform=transform)\n",
        "test_set = torchvision.datasets.CIFAR10('./datasets', train=False,\n",
        "                                        download=True, transform=transform)\n",
        "\n",
        "validation_set = torchvision.datasets.CIFAR10('./datasets', train=False,\n",
        "                                        download=True, transform=valid_transform)\n",
        "\n",
        "train_loader = torch.utils.data.DataLoader(train_set, batch_size=64,\n",
        "                                           shuffle=True, num_workers=4)\n",
        "test_loader = torch.utils.data.DataLoader(test_set, batch_size=64,\n",
        "                                          shuffle=False, num_workers=4)\n",
        "\n",
        "validation_loader = torch.utils.data.DataLoader(validation_set, batch_size=64,\n",
        "                                          shuffle=False, num_workers=4)\n",
        "\n",
        "\n"
      ]
    },
    {
      "cell_type": "markdown",
      "id": "59840dae",
      "metadata": {
        "id": "59840dae"
      },
      "source": [
        "### Here we import the Pyplot to assess if the images are loaded correctly or not.\n",
        "\n",
        "* Importing matplotlip and numpy.\n",
        "* We define a function to show images from the train_loader dataset\n",
        "* We create a grid with torchvision and imbed the images into the grid."
      ]
    },
    {
      "cell_type": "code",
      "execution_count": 5,
      "id": "011db266",
      "metadata": {
        "colab": {
          "base_uri": "https://localhost:8080/"
        },
        "id": "011db266",
        "outputId": "0e918ca3-a156-47d1-de84-21f3505febf4"
      },
      "outputs": [
        {
          "output_type": "execute_result",
          "data": {
            "text/plain": [
              "(10000, 10000, 50000)"
            ]
          },
          "metadata": {},
          "execution_count": 5
        }
      ],
      "source": [
        "len(validation_set), len(test_set), len(train_set)"
      ]
    },
    {
      "cell_type": "code",
      "execution_count": 6,
      "id": "0ec65547",
      "metadata": {
        "colab": {
          "base_uri": "https://localhost:8080/",
          "height": 244
        },
        "id": "0ec65547",
        "outputId": "e9d9aacd-fa69-4e0f-86ed-add8386a7ebf"
      },
      "outputs": [
        {
          "output_type": "display_data",
          "data": {
            "image/png": "[encoded data removed]",
            "text/plain": [
              "<Figure size 432x288 with 1 Axes>"
            ]
          },
          "metadata": {
            "needs_background": "light"
          }
        }
      ],
      "source": [
        "import matplotlib.pyplot as plt\n",
        "import numpy as np\n",
        "\n",
        "def imshow(img):\n",
        "    img = img / 2 + 0.5\n",
        "    plt.imshow(np.transpose(img.numpy(), (1, 2, 0)))\n",
        "    plt.show()\n",
        "    \n",
        "image_iter = iter(train_loader)\n",
        "images, _ = image_iter.next()\n",
        "imshow(torchvision.utils.make_grid(images[:28], nrow=7))"
      ]
    },
    {
      "cell_type": "markdown",
      "id": "1c1e8786",
      "metadata": {
        "id": "1c1e8786"
      },
      "source": [
        "### Check how many images the training and testing datasets contain"
      ]
    },
    {
      "cell_type": "code",
      "execution_count": 7,
      "id": "870d48f0",
      "metadata": {
        "colab": {
          "base_uri": "https://localhost:8080/"
        },
        "id": "870d48f0",
        "outputId": "f8a3aed1-39f4-4f00-cbf7-b62089867489"
      },
      "outputs": [
        {
          "output_type": "stream",
          "name": "stdout",
          "text": [
            "Training dataset size 50000\n",
            "Testing datasets size 10000\n",
            "Dataset CIFAR10\n",
            "    Number of datapoints: 50000\n",
            "    Root location: datasets/\n",
            "    Split: Train\n",
            "    StandardTransform\n",
            "Transform: ToTensor()\n"
          ]
        }
      ],
      "source": [
        "dataset_size = len(train_set)\n",
        "test_dataset_size = len(test_set)\n",
        "\n",
        "print(\"Training dataset size\", dataset_size)\n",
        "print(\"Testing datasets size\", test_dataset_size)\n",
        "\n",
        "print(dataset)\n"
      ]
    },
    {
      "cell_type": "markdown",
      "id": "aa7fddfe",
      "metadata": {
        "id": "aa7fddfe"
      },
      "source": [
        "### Get the classes of the entire dataset"
      ]
    },
    {
      "cell_type": "code",
      "execution_count": 8,
      "id": "ef6d5b3b",
      "metadata": {
        "colab": {
          "base_uri": "https://localhost:8080/"
        },
        "id": "ef6d5b3b",
        "outputId": "cc93f36c-b662-4c78-bb76-482ccb26e03a"
      },
      "outputs": [
        {
          "output_type": "execute_result",
          "data": {
            "text/plain": [
              "['airplane',\n",
              " 'automobile',\n",
              " 'bird',\n",
              " 'cat',\n",
              " 'deer',\n",
              " 'dog',\n",
              " 'frog',\n",
              " 'horse',\n",
              " 'ship',\n",
              " 'truck']"
            ]
          },
          "metadata": {},
          "execution_count": 8
        }
      ],
      "source": [
        "classes = dataset.classes\n",
        "classes"
      ]
    },
    {
      "cell_type": "markdown",
      "id": "7a775edb",
      "metadata": {
        "id": "7a775edb"
      },
      "source": [
        "### Get the Shapes of the images"
      ]
    },
    {
      "cell_type": "code",
      "execution_count": 9,
      "id": "add9a096",
      "metadata": {
        "colab": {
          "base_uri": "https://localhost:8080/"
        },
        "id": "add9a096",
        "outputId": "0e447a5b-5ad9-4eb9-e958-a021f134b6c8"
      },
      "outputs": [
        {
          "output_type": "execute_result",
          "data": {
            "text/plain": [
              "torch.Size([3, 32, 32])"
            ]
          },
          "metadata": {},
          "execution_count": 9
        }
      ],
      "source": [
        "img, label = dataset[0]\n",
        "img_shape = img.shape\n",
        "img_shape"
      ]
    },
    {
      "cell_type": "markdown",
      "id": "1b52ce3c",
      "metadata": {
        "id": "1b52ce3c"
      },
      "source": [
        "### Print a sample image"
      ]
    },
    {
      "cell_type": "code",
      "execution_count": 10,
      "id": "bef42412",
      "metadata": {
        "colab": {
          "base_uri": "https://localhost:8080/",
          "height": 301
        },
        "id": "bef42412",
        "outputId": "63755408-aeeb-4a5f-bd3d-8f372ef96565"
      },
      "outputs": [
        {
          "output_type": "stream",
          "name": "stdout",
          "text": [
            "Label (numeric): 6\n",
            "Label (textual): frog\n"
          ]
        },
        {
          "output_type": "display_data",
          "data": {
            "image/png": "[encoded data removed]",
            "text/plain": [
              "<Figure size 432x288 with 1 Axes>"
            ]
          },
          "metadata": {
            "needs_background": "light"
          }
        }
      ],
      "source": [
        "img, label = dataset[0]\n",
        "plt.imshow(img.permute((1, 2, 0)))\n",
        "print('Label (numeric):', label)\n",
        "print('Label (textual):', classes[label])"
      ]
    },
    {
      "cell_type": "markdown",
      "id": "907d3329",
      "metadata": {
        "id": "907d3329"
      },
      "source": [
        "### Here we determine the number of images belonging to each class?\n",
        "\n",
        "* We define the length of the dataset\n",
        "* We then check hoe many classes there are\n",
        "* We create a dictionary to store the values\n",
        "* we then do 2 for loops, first to get the classes and the second to count the amount of images retaining to the classes "
      ]
    },
    {
      "cell_type": "code",
      "execution_count": 11,
      "id": "9110867f",
      "metadata": {
        "colab": {
          "base_uri": "https://localhost:8080/"
        },
        "id": "9110867f",
        "outputId": "b458436e-b59c-437a-fa74-e672fdfaae43"
      },
      "outputs": [
        {
          "output_type": "execute_result",
          "data": {
            "text/plain": [
              "{'airplane': 5000,\n",
              " 'automobile': 5000,\n",
              " 'bird': 5000,\n",
              " 'cat': 5000,\n",
              " 'deer': 5000,\n",
              " 'dog': 5000,\n",
              " 'frog': 5000,\n",
              " 'horse': 5000,\n",
              " 'ship': 5000,\n",
              " 'truck': 5000}"
            ]
          },
          "metadata": {},
          "execution_count": 11
        }
      ],
      "source": [
        "dataset_size = len(dataset)\n",
        "classes = dataset.classes\n",
        "num_classes = len(dataset.classes)\n",
        "\n",
        "img_dict = {}\n",
        "for i in range(num_classes):\n",
        "    img_dict[classes[i]] = 0\n",
        "    \n",
        "for i in range(dataset_size):\n",
        "    img, label = dataset[i]\n",
        "    img_dict[classes[label]] += 1\n",
        "\n",
        "img_dict"
      ]
    },
    {
      "cell_type": "code",
      "execution_count": 12,
      "id": "9c289fb4",
      "metadata": {
        "colab": {
          "base_uri": "https://localhost:8080/",
          "height": 221
        },
        "id": "9c289fb4",
        "outputId": "8dde8490-4702-4acd-a68a-9b81d508b975"
      },
      "outputs": [
        {
          "output_type": "stream",
          "name": "stderr",
          "text": [
            "Clipping input data to the valid range for imshow with RGB data ([0..1] for floats or [0..255] for integers).\n"
          ]
        },
        {
          "output_type": "display_data",
          "data": {
            "image/png": "[encoded data removed]",
            "text/plain": [
              "<Figure size 864x432 with 1 Axes>"
            ]
          },
          "metadata": {}
        }
      ],
      "source": [
        "from torchvision.utils import make_grid\n",
        "\n",
        "def show_batch(dl):\n",
        "    for images, labels in dl:\n",
        "        fig, ax = plt.subplots(figsize=(12, 6))\n",
        "        ax.set_xticks([]); ax.set_yticks([])\n",
        "        ax.imshow(make_grid(images, nrow=16).permute(1, 2, 0))\n",
        "        break\n",
        "\n",
        "show_batch(train_loader)"
      ]
    },
    {
      "cell_type": "markdown",
      "id": "a362fdd1",
      "metadata": {
        "id": "a362fdd1"
      },
      "source": [
        "### Here we are creating the functionality for calculating the models accuracy\n",
        "\n",
        "* Todo = Find out how this function works"
      ]
    },
    {
      "cell_type": "code",
      "execution_count": 13,
      "id": "2aa20eb9",
      "metadata": {
        "id": "2aa20eb9"
      },
      "outputs": [],
      "source": [
        "def accuracy(outputs, labels):\n",
        "    _, preds = torch.max(outputs, dim=1)\n",
        "    return torch.tensor(torch.sum(preds == labels).item() / len(preds))"
      ]
    },
    {
      "cell_type": "markdown",
      "id": "40c57bd0",
      "metadata": {
        "id": "40c57bd0"
      },
      "source": [
        "### ImageClassificationBase contains 4 functions\n",
        "* One function is for training and validation sets, which implement the loss and accuracy.\n",
        "* The validation_epoch_end combines the losses and accuracy for each epock \n",
        "* The epoch_end prints the val_lass and val_acc at the end of each epoch"
      ]
    },
    {
      "cell_type": "code",
      "execution_count": 14,
      "id": "4db2304e",
      "metadata": {
        "id": "4db2304e"
      },
      "outputs": [],
      "source": [
        "class ImageClassificationBase(nn.Module):\n",
        "    def training_step(self, batch):\n",
        "        images, labels = batch \n",
        "        out = self(images)                  # Generate predictions\n",
        "        loss = F.cross_entropy(out, labels) # Calculate loss\n",
        "        return loss\n",
        "    \n",
        "    def validation_step(self, batch):\n",
        "        images, labels = batch \n",
        "        out = self(images)                    # Generate predictions\n",
        "        loss = F.cross_entropy(out, labels)   # Calculate loss\n",
        "        acc = accuracy(out, labels)           # Calculate accuracy\n",
        "        return {'val_loss': loss.detach(), 'val_acc': acc}\n",
        "        \n",
        "    def validation_epoch_end(self, outputs):\n",
        "        batch_losses = [x['val_loss'] for x in outputs]\n",
        "        epoch_loss = torch.stack(batch_losses).mean()   # Combine losses\n",
        "        batch_accs = [x['val_acc'] for x in outputs]\n",
        "        epoch_acc = torch.stack(batch_accs).mean()      # Combine accuracies\n",
        "        return {'val_loss': epoch_loss.item(), 'val_acc': epoch_acc.item()}\n",
        "    \n",
        "    def epoch_end(self, epoch, result):\n",
        "        print(\"Epoch [{}], train_loss: {:.4f}, val_loss: {:.4f}, val_acc: {:.4f}\".format(epoch, result['train_loss'], result['val_loss'], result['val_acc']))"
      ]
    },
    {
      "cell_type": "markdown",
      "id": "0519a318",
      "metadata": {
        "id": "0519a318"
      },
      "source": [
        "##### nn.Sequential chains the layres and activation functions into a single network architecture"
      ]
    },
    {
      "cell_type": "code",
      "execution_count": 15,
      "id": "d5b50e70",
      "metadata": {
        "id": "d5b50e70"
      },
      "outputs": [],
      "source": [
        "class Cifar10CnnModel(ImageClassificationBase):\n",
        "    def __init__(self):\n",
        "        super().__init__()\n",
        "        self.network = nn.Sequential(\n",
        "            nn.Conv2d(3, 32, kernel_size=3, padding=1),\n",
        "            nn.ReLU(),\n",
        "            nn.Conv2d(32, 64, kernel_size=3, stride=1, padding=1),\n",
        "            nn.ReLU(),\n",
        "            nn.MaxPool2d(2, 2), # output: 64 x 16 x 16\n",
        "\n",
        "            nn.Conv2d(64, 128, kernel_size=3, stride=1, padding=1),\n",
        "            nn.ReLU(),\n",
        "            nn.Conv2d(128, 128, kernel_size=3, stride=1, padding=1),\n",
        "            nn.ReLU(),\n",
        "            nn.MaxPool2d(2, 2), # output: 128 x 8 x 8\n",
        "\n",
        "            nn.Conv2d(128, 256, kernel_size=3, stride=1, padding=1),\n",
        "            nn.ReLU(),\n",
        "            nn.Conv2d(256, 256, kernel_size=3, stride=1, padding=1),\n",
        "            nn.ReLU(),\n",
        "            nn.MaxPool2d(2, 2), # output: 256 x 4 x 4\n",
        "\n",
        "            nn.Flatten(), \n",
        "            nn.Linear(256*4*4, 1024),\n",
        "            nn.ReLU(),\n",
        "            nn.Linear(1024, 512),\n",
        "            nn.ReLU(),\n",
        "            nn.Linear(512, 10))\n",
        "        \n",
        "    def forward(self, xb):\n",
        "        return self.network(xb)"
      ]
    },
    {
      "cell_type": "code",
      "execution_count": 16,
      "id": "b440dc07",
      "metadata": {
        "colab": {
          "base_uri": "https://localhost:8080/"
        },
        "id": "b440dc07",
        "outputId": "c8220a97-a036-44fb-d959-35150618f32f"
      },
      "outputs": [
        {
          "output_type": "stream",
          "name": "stdout",
          "text": [
            "<class '__main__.Cifar10CnnModel'>\n"
          ]
        }
      ],
      "source": [
        "print(Cifar10CnnModel)"
      ]
    },
    {
      "cell_type": "markdown",
      "id": "52cb5ec4",
      "metadata": {
        "id": "52cb5ec4"
      },
      "source": [
        "### Here we move our model to GPU if it can run it"
      ]
    },
    {
      "cell_type": "code",
      "execution_count": 17,
      "id": "f5676f4e",
      "metadata": {
        "id": "f5676f4e"
      },
      "outputs": [],
      "source": [
        "def get_default_device():\n",
        "    \"\"\"Pick GPU if available, else CPU\"\"\"\n",
        "    if torch.cuda.is_available():\n",
        "        print(\"Model will run on, GPU\")\n",
        "        return torch.device('cuda')\n",
        "    else:\n",
        "        print(\"Model will run on, CPU\")\n",
        "        return torch.device('cpu')\n"
      ]
    },
    {
      "cell_type": "code",
      "execution_count": 18,
      "id": "1068cc7a",
      "metadata": {
        "colab": {
          "base_uri": "https://localhost:8080/"
        },
        "id": "1068cc7a",
        "outputId": "a8fde113-604f-40ec-8a6e-5c9ffbf591f8"
      },
      "outputs": [
        {
          "output_type": "stream",
          "name": "stdout",
          "text": [
            "Model will run on, GPU\n"
          ]
        },
        {
          "output_type": "execute_result",
          "data": {
            "text/plain": [
              "device(type='cuda')"
            ]
          },
          "metadata": {},
          "execution_count": 18
        }
      ],
      "source": [
        "device = get_default_device()\n",
        "device"
      ]
    },
    {
      "cell_type": "markdown",
      "id": "a4d02dcf",
      "metadata": {
        "id": "a4d02dcf"
      },
      "source": [
        "#### Here we load the data into the GPU device"
      ]
    },
    {
      "cell_type": "code",
      "execution_count": 19,
      "id": "d47edbe6",
      "metadata": {
        "id": "d47edbe6"
      },
      "outputs": [],
      "source": [
        "def to_device(data, device):\n",
        "    \"\"\"Move tensor(s) to chosen device\"\"\"\n",
        "    if isinstance(data, (list,tuple)):\n",
        "        return [to_device(x, device) for x in data]\n",
        "    return data.to(device, non_blocking=True)\n",
        "\n",
        "class DeviceDataLoader():\n",
        "    \"\"\"Wrap a dataloader to move data to a device\"\"\"\n",
        "    def __init__(self, dl, device):\n",
        "        self.dl = dl\n",
        "        self.device = device\n",
        "        \n",
        "    def __iter__(self):\n",
        "        \"\"\"Yield a batch of data after moving it to device\"\"\"\n",
        "        for b in self.dl: \n",
        "            yield to_device(b, self.device)\n",
        "\n",
        "    def __len__(self):\n",
        "        \"\"\"Number of batches\"\"\"\n",
        "        return len(self.dl)"
      ]
    },
    {
      "cell_type": "code",
      "execution_count": 20,
      "id": "da70a119",
      "metadata": {
        "id": "da70a119"
      },
      "outputs": [],
      "source": [
        "train_loader = DeviceDataLoader(train_loader, device)\n",
        "validation_loader = DeviceDataLoader(validation_loader, device)\n",
        "test_loader = DeviceDataLoader(test_loader, device)"
      ]
    },
    {
      "cell_type": "code",
      "execution_count": 21,
      "id": "3ffd443c",
      "metadata": {
        "colab": {
          "base_uri": "https://localhost:8080/"
        },
        "id": "3ffd443c",
        "outputId": "69d75194-60a1-42f6-b08f-31831691df62"
      },
      "outputs": [
        {
          "output_type": "execute_result",
          "data": {
            "text/plain": [
              "Cifar10CnnModel(\n",
              "  (network): Sequential(\n",
              "    (0): Conv2d(3, 32, kernel_size=(3, 3), stride=(1, 1), padding=(1, 1))\n",
              "    (1): ReLU()\n",
              "    (2): Conv2d(32, 64, kernel_size=(3, 3), stride=(1, 1), padding=(1, 1))\n",
              "    (3): ReLU()\n",
              "    (4): MaxPool2d(kernel_size=2, stride=2, padding=0, dilation=1, ceil_mode=False)\n",
              "    (5): Conv2d(64, 128, kernel_size=(3, 3), stride=(1, 1), padding=(1, 1))\n",
              "    (6): ReLU()\n",
              "    (7): Conv2d(128, 128, kernel_size=(3, 3), stride=(1, 1), padding=(1, 1))\n",
              "    (8): ReLU()\n",
              "    (9): MaxPool2d(kernel_size=2, stride=2, padding=0, dilation=1, ceil_mode=False)\n",
              "    (10): Conv2d(128, 256, kernel_size=(3, 3), stride=(1, 1), padding=(1, 1))\n",
              "    (11): ReLU()\n",
              "    (12): Conv2d(256, 256, kernel_size=(3, 3), stride=(1, 1), padding=(1, 1))\n",
              "    (13): ReLU()\n",
              "    (14): MaxPool2d(kernel_size=2, stride=2, padding=0, dilation=1, ceil_mode=False)\n",
              "    (15): Flatten(start_dim=1, end_dim=-1)\n",
              "    (16): Linear(in_features=4096, out_features=1024, bias=True)\n",
              "    (17): ReLU()\n",
              "    (18): Linear(in_features=1024, out_features=512, bias=True)\n",
              "    (19): ReLU()\n",
              "    (20): Linear(in_features=512, out_features=10, bias=True)\n",
              "  )\n",
              ")"
            ]
          },
          "metadata": {},
          "execution_count": 21
        }
      ],
      "source": [
        "ourmodel = Cifar10CnnModel()\n",
        "ourmodel"
      ]
    },
    {
      "cell_type": "code",
      "execution_count": 22,
      "id": "f6e76572",
      "metadata": {
        "id": "f6e76572"
      },
      "outputs": [],
      "source": [
        "ourmodel = to_device(ourmodel, device)"
      ]
    },
    {
      "cell_type": "markdown",
      "id": "da01a7d6",
      "metadata": {
        "id": "da01a7d6"
      },
      "source": [
        "### The fit function records the validation loss and metric from each epoch. It returns a history of the training, useful for debugging & visualization."
      ]
    },
    {
      "cell_type": "code",
      "execution_count": 23,
      "id": "fe7ef741",
      "metadata": {
        "id": "fe7ef741"
      },
      "outputs": [],
      "source": [
        "def evaluate(model, val_loader):\n",
        "    outputs = [model.validation_step(batch) for batch in val_loader]\n",
        "    return model.validation_epoch_end(outputs)\n",
        "\n",
        "# def fit(epochs, lr, model, train_loader, val_loader, opt_func=torch.optim.SGD):\n",
        "def fit(epochs, lr, model, train_loader, val_loader, opt_func=torch.optim.Adam):\n",
        "    history = []\n",
        "    optimizer = opt_func(model.parameters(), lr)\n",
        "    for epoch in range(epochs):\n",
        "        # Training Phase \n",
        "        model.train()\n",
        "        train_losses = []\n",
        "        for batch in train_loader:\n",
        "            loss = model.training_step(batch)\n",
        "            train_losses.append(loss)\n",
        "            loss.backward()\n",
        "            optimizer.step()\n",
        "            optimizer.zero_grad()\n",
        "        # Validation phase\n",
        "        result = evaluate(model, val_loader)\n",
        "        result['train_loss'] = torch.stack(train_losses).mean().item()\n",
        "        model.epoch_end(epoch, result)\n",
        "        history.append(result)\n",
        "    return history"
      ]
    },
    {
      "cell_type": "code",
      "execution_count": 24,
      "id": "e29bc580",
      "metadata": {
        "colab": {
          "base_uri": "https://localhost:8080/"
        },
        "id": "e29bc580",
        "outputId": "562943a7-7912-44af-cbf8-506dffeb08bf"
      },
      "outputs": [
        {
          "output_type": "execute_result",
          "data": {
            "text/plain": [
              "[{'val_acc': 0.09952229261398315, 'val_loss': 2.3027656078338623}]"
            ]
          },
          "metadata": {},
          "execution_count": 24
        }
      ],
      "source": [
        "history = [evaluate(ourmodel, validation_loader)]\n",
        "history"
      ]
    },
    {
      "cell_type": "markdown",
      "id": "57bc01d4",
      "metadata": {
        "id": "57bc01d4"
      },
      "source": [
        "### Here we define the input and output size"
      ]
    },
    {
      "cell_type": "code",
      "execution_count": 25,
      "id": "e0b32930",
      "metadata": {
        "id": "e0b32930"
      },
      "outputs": [],
      "source": [
        "input_size = 3*32*32\n",
        "output_size = 10"
      ]
    },
    {
      "cell_type": "markdown",
      "id": "3ad5874b",
      "metadata": {
        "id": "3ad5874b"
      },
      "source": [
        "### Number of epochs to cycle through and the learning rate is set here"
      ]
    },
    {
      "cell_type": "code",
      "execution_count": 26,
      "id": "05d1e5a1",
      "metadata": {
        "id": "05d1e5a1"
      },
      "outputs": [],
      "source": [
        "num_epochs = 10\n",
        "opt_func = torch.optim.Adam\n",
        "lr = 0.001"
      ]
    },
    {
      "cell_type": "markdown",
      "id": "d5c6cfd1",
      "metadata": {
        "id": "d5c6cfd1"
      },
      "source": [
        "### The fit function will record validation loss and metrics for each epoch"
      ]
    },
    {
      "cell_type": "code",
      "execution_count": 27,
      "id": "46131d0c",
      "metadata": {
        "colab": {
          "base_uri": "https://localhost:8080/"
        },
        "id": "46131d0c",
        "outputId": "456921ae-85e2-4fc9-9a21-ef75ab0e8397",
        "scrolled": true
      },
      "outputs": [
        {
          "output_type": "stream",
          "name": "stdout",
          "text": [
            "Epoch [0], train_loss: 1.5545, val_loss: 1.4069, val_acc: 0.5265\n",
            "Epoch [1], train_loss: 1.0326, val_loss: 0.9752, val_acc: 0.6553\n",
            "Epoch [2], train_loss: 0.8126, val_loss: 0.7507, val_acc: 0.7403\n",
            "Epoch [3], train_loss: 0.6821, val_loss: 0.6781, val_acc: 0.7659\n",
            "Epoch [4], train_loss: 0.5970, val_loss: 0.6614, val_acc: 0.7713\n",
            "Epoch [5], train_loss: 0.5249, val_loss: 0.6125, val_acc: 0.7926\n",
            "Epoch [6], train_loss: 0.4771, val_loss: 0.5862, val_acc: 0.8019\n",
            "Epoch [7], train_loss: 0.4299, val_loss: 0.5761, val_acc: 0.8085\n",
            "Epoch [8], train_loss: 0.3884, val_loss: 0.6280, val_acc: 0.8020\n",
            "Epoch [9], train_loss: 0.3548, val_loss: 0.5894, val_acc: 0.8163\n"
          ]
        }
      ],
      "source": [
        "history += fit(num_epochs, lr, ourmodel, train_loader, validation_loader, opt_func)"
      ]
    },
    {
      "cell_type": "code",
      "source": [
        "######### Resnet"
      ],
      "metadata": {
        "id": "XFksvZvucdIR"
      },
      "id": "XFksvZvucdIR",
      "execution_count": 28,
      "outputs": []
    },
    {
      "cell_type": "code",
      "execution_count": 29,
      "id": "9ec42bb1",
      "metadata": {
        "colab": {
          "base_uri": "https://localhost:8080/"
        },
        "id": "9ec42bb1",
        "outputId": "27b89395-dda2-40f3-91fb-68d6950bd270"
      },
      "outputs": [
        {
          "output_type": "stream",
          "name": "stdout",
          "text": [
            "Epoch [1/80], Step [100/782] Loss: 1.5947\n",
            "Epoch [1/80], Step [200/782] Loss: 1.1359\n",
            "Epoch [1/80], Step [300/782] Loss: 1.2209\n",
            "Epoch [1/80], Step [400/782] Loss: 1.3522\n",
            "Epoch [1/80], Step [500/782] Loss: 1.0560\n",
            "Epoch [1/80], Step [600/782] Loss: 1.1572\n",
            "Epoch [1/80], Step [700/782] Loss: 1.0622\n",
            "Epoch [2/80], Step [100/782] Loss: 1.0480\n",
            "Epoch [2/80], Step [200/782] Loss: 0.9133\n",
            "Epoch [2/80], Step [300/782] Loss: 0.9091\n",
            "Epoch [2/80], Step [400/782] Loss: 1.0072\n",
            "Epoch [2/80], Step [500/782] Loss: 0.9935\n",
            "Epoch [2/80], Step [600/782] Loss: 0.6616\n",
            "Epoch [2/80], Step [700/782] Loss: 0.8692\n",
            "Epoch [3/80], Step [100/782] Loss: 0.5467\n",
            "Epoch [3/80], Step [200/782] Loss: 0.8346\n",
            "Epoch [3/80], Step [300/782] Loss: 0.9676\n",
            "Epoch [3/80], Step [400/782] Loss: 0.7745\n",
            "Epoch [3/80], Step [500/782] Loss: 0.6097\n",
            "Epoch [3/80], Step [600/782] Loss: 0.8846\n",
            "Epoch [3/80], Step [700/782] Loss: 0.5849\n",
            "Epoch [4/80], Step [100/782] Loss: 0.5984\n",
            "Epoch [4/80], Step [200/782] Loss: 0.7854\n",
            "Epoch [4/80], Step [300/782] Loss: 0.6636\n",
            "Epoch [4/80], Step [400/782] Loss: 0.5481\n",
            "Epoch [4/80], Step [500/782] Loss: 0.6885\n",
            "Epoch [4/80], Step [600/782] Loss: 0.4953\n",
            "Epoch [4/80], Step [700/782] Loss: 0.8148\n",
            "Epoch [5/80], Step [100/782] Loss: 0.6330\n",
            "Epoch [5/80], Step [200/782] Loss: 0.4031\n",
            "Epoch [5/80], Step [300/782] Loss: 0.5142\n",
            "Epoch [5/80], Step [400/782] Loss: 0.5501\n",
            "Epoch [5/80], Step [500/782] Loss: 0.5920\n",
            "Epoch [5/80], Step [600/782] Loss: 0.6677\n",
            "Epoch [5/80], Step [700/782] Loss: 0.4016\n",
            "Epoch [6/80], Step [100/782] Loss: 0.5349\n",
            "Epoch [6/80], Step [200/782] Loss: 0.5497\n",
            "Epoch [6/80], Step [300/782] Loss: 0.3808\n",
            "Epoch [6/80], Step [400/782] Loss: 0.5121\n",
            "Epoch [6/80], Step [500/782] Loss: 0.4065\n",
            "Epoch [6/80], Step [600/782] Loss: 0.5260\n",
            "Epoch [6/80], Step [700/782] Loss: 0.4388\n",
            "Epoch [7/80], Step [100/782] Loss: 0.4338\n",
            "Epoch [7/80], Step [200/782] Loss: 0.5794\n",
            "Epoch [7/80], Step [300/782] Loss: 0.5671\n",
            "Epoch [7/80], Step [400/782] Loss: 0.3922\n",
            "Epoch [7/80], Step [500/782] Loss: 0.4689\n",
            "Epoch [7/80], Step [600/782] Loss: 0.4712\n",
            "Epoch [7/80], Step [700/782] Loss: 0.5138\n",
            "Epoch [8/80], Step [100/782] Loss: 0.4626\n",
            "Epoch [8/80], Step [200/782] Loss: 0.2665\n",
            "Epoch [8/80], Step [300/782] Loss: 0.4218\n",
            "Epoch [8/80], Step [400/782] Loss: 0.5596\n",
            "Epoch [8/80], Step [500/782] Loss: 0.4084\n",
            "Epoch [8/80], Step [600/782] Loss: 0.6788\n",
            "Epoch [8/80], Step [700/782] Loss: 0.5330\n",
            "Epoch [9/80], Step [100/782] Loss: 0.2869\n",
            "Epoch [9/80], Step [200/782] Loss: 0.3642\n",
            "Epoch [9/80], Step [300/782] Loss: 0.3944\n",
            "Epoch [9/80], Step [400/782] Loss: 0.4948\n",
            "Epoch [9/80], Step [500/782] Loss: 0.4441\n",
            "Epoch [9/80], Step [600/782] Loss: 0.4497\n",
            "Epoch [9/80], Step [700/782] Loss: 0.5121\n",
            "Epoch [10/80], Step [100/782] Loss: 0.4001\n",
            "Epoch [10/80], Step [200/782] Loss: 0.3018\n",
            "Epoch [10/80], Step [300/782] Loss: 0.3248\n",
            "Epoch [10/80], Step [400/782] Loss: 0.4579\n",
            "Epoch [10/80], Step [500/782] Loss: 0.4244\n",
            "Epoch [10/80], Step [600/782] Loss: 0.2872\n",
            "Epoch [10/80], Step [700/782] Loss: 0.4750\n",
            "Epoch [11/80], Step [100/782] Loss: 0.5542\n",
            "Epoch [11/80], Step [200/782] Loss: 0.4074\n",
            "Epoch [11/80], Step [300/782] Loss: 0.3646\n",
            "Epoch [11/80], Step [400/782] Loss: 0.3924\n",
            "Epoch [11/80], Step [500/782] Loss: 0.3067\n",
            "Epoch [11/80], Step [600/782] Loss: 0.4158\n",
            "Epoch [11/80], Step [700/782] Loss: 0.4527\n",
            "Epoch [12/80], Step [100/782] Loss: 0.5487\n",
            "Epoch [12/80], Step [200/782] Loss: 0.3045\n",
            "Epoch [12/80], Step [300/782] Loss: 0.3563\n",
            "Epoch [12/80], Step [400/782] Loss: 0.4070\n",
            "Epoch [12/80], Step [500/782] Loss: 0.4718\n",
            "Epoch [12/80], Step [600/782] Loss: 0.2163\n",
            "Epoch [12/80], Step [700/782] Loss: 0.3379\n",
            "Epoch [13/80], Step [100/782] Loss: 0.1952\n",
            "Epoch [13/80], Step [200/782] Loss: 0.3830\n",
            "Epoch [13/80], Step [300/782] Loss: 0.3387\n",
            "Epoch [13/80], Step [400/782] Loss: 0.3773\n",
            "Epoch [13/80], Step [500/782] Loss: 0.2403\n",
            "Epoch [13/80], Step [600/782] Loss: 0.1957\n",
            "Epoch [13/80], Step [700/782] Loss: 0.3300\n",
            "Epoch [14/80], Step [100/782] Loss: 0.3356\n",
            "Epoch [14/80], Step [200/782] Loss: 0.3020\n",
            "Epoch [14/80], Step [300/782] Loss: 0.4666\n",
            "Epoch [14/80], Step [400/782] Loss: 0.3977\n",
            "Epoch [14/80], Step [500/782] Loss: 0.3962\n",
            "Epoch [14/80], Step [600/782] Loss: 0.2336\n",
            "Epoch [14/80], Step [700/782] Loss: 0.1291\n",
            "Epoch [15/80], Step [100/782] Loss: 0.3763\n",
            "Epoch [15/80], Step [200/782] Loss: 0.2207\n",
            "Epoch [15/80], Step [300/782] Loss: 0.2061\n",
            "Epoch [15/80], Step [400/782] Loss: 0.2612\n",
            "Epoch [15/80], Step [500/782] Loss: 0.2854\n",
            "Epoch [15/80], Step [600/782] Loss: 0.5011\n",
            "Epoch [15/80], Step [700/782] Loss: 0.3856\n",
            "Epoch [16/80], Step [100/782] Loss: 0.3372\n",
            "Epoch [16/80], Step [200/782] Loss: 0.3935\n",
            "Epoch [16/80], Step [300/782] Loss: 0.3453\n",
            "Epoch [16/80], Step [400/782] Loss: 0.2873\n",
            "Epoch [16/80], Step [500/782] Loss: 0.2389\n",
            "Epoch [16/80], Step [600/782] Loss: 0.3091\n",
            "Epoch [16/80], Step [700/782] Loss: 0.4413\n",
            "Epoch [17/80], Step [100/782] Loss: 0.3848\n",
            "Epoch [17/80], Step [200/782] Loss: 0.2826\n",
            "Epoch [17/80], Step [300/782] Loss: 0.3138\n",
            "Epoch [17/80], Step [400/782] Loss: 0.2334\n",
            "Epoch [17/80], Step [500/782] Loss: 0.3308\n",
            "Epoch [17/80], Step [600/782] Loss: 0.3516\n",
            "Epoch [17/80], Step [700/782] Loss: 0.2521\n",
            "Epoch [18/80], Step [100/782] Loss: 0.3073\n",
            "Epoch [18/80], Step [200/782] Loss: 0.5365\n",
            "Epoch [18/80], Step [300/782] Loss: 0.2190\n",
            "Epoch [18/80], Step [400/782] Loss: 0.2283\n",
            "Epoch [18/80], Step [500/782] Loss: 0.2604\n",
            "Epoch [18/80], Step [600/782] Loss: 0.2992\n",
            "Epoch [18/80], Step [700/782] Loss: 0.1711\n",
            "Epoch [19/80], Step [100/782] Loss: 0.2010\n",
            "Epoch [19/80], Step [200/782] Loss: 0.3162\n",
            "Epoch [19/80], Step [300/782] Loss: 0.2190\n",
            "Epoch [19/80], Step [400/782] Loss: 0.2804\n",
            "Epoch [19/80], Step [500/782] Loss: 0.1781\n",
            "Epoch [19/80], Step [600/782] Loss: 0.3843\n",
            "Epoch [19/80], Step [700/782] Loss: 0.1547\n",
            "Epoch [20/80], Step [100/782] Loss: 0.3119\n",
            "Epoch [20/80], Step [200/782] Loss: 0.2431\n",
            "Epoch [20/80], Step [300/782] Loss: 0.2030\n",
            "Epoch [20/80], Step [400/782] Loss: 0.1557\n",
            "Epoch [20/80], Step [500/782] Loss: 0.2211\n",
            "Epoch [20/80], Step [600/782] Loss: 0.2024\n",
            "Epoch [20/80], Step [700/782] Loss: 0.1821\n",
            "Epoch [21/80], Step [100/782] Loss: 0.1244\n",
            "Epoch [21/80], Step [200/782] Loss: 0.0673\n",
            "Epoch [21/80], Step [300/782] Loss: 0.2083\n",
            "Epoch [21/80], Step [400/782] Loss: 0.1094\n",
            "Epoch [21/80], Step [500/782] Loss: 0.1292\n",
            "Epoch [21/80], Step [600/782] Loss: 0.1260\n",
            "Epoch [21/80], Step [700/782] Loss: 0.0877\n",
            "Epoch [22/80], Step [100/782] Loss: 0.0882\n",
            "Epoch [22/80], Step [200/782] Loss: 0.1072\n",
            "Epoch [22/80], Step [300/782] Loss: 0.2094\n",
            "Epoch [22/80], Step [400/782] Loss: 0.1132\n",
            "Epoch [22/80], Step [500/782] Loss: 0.1039\n",
            "Epoch [22/80], Step [600/782] Loss: 0.2052\n",
            "Epoch [22/80], Step [700/782] Loss: 0.1030\n",
            "Epoch [23/80], Step [100/782] Loss: 0.1367\n",
            "Epoch [23/80], Step [200/782] Loss: 0.0614\n",
            "Epoch [23/80], Step [300/782] Loss: 0.1309\n",
            "Epoch [23/80], Step [400/782] Loss: 0.1215\n",
            "Epoch [23/80], Step [500/782] Loss: 0.0893\n",
            "Epoch [23/80], Step [600/782] Loss: 0.1357\n",
            "Epoch [23/80], Step [700/782] Loss: 0.2740\n",
            "Epoch [24/80], Step [100/782] Loss: 0.0426\n",
            "Epoch [24/80], Step [200/782] Loss: 0.0599\n",
            "Epoch [24/80], Step [300/782] Loss: 0.1194\n",
            "Epoch [24/80], Step [400/782] Loss: 0.1819\n",
            "Epoch [24/80], Step [500/782] Loss: 0.1676\n",
            "Epoch [24/80], Step [600/782] Loss: 0.1047\n",
            "Epoch [24/80], Step [700/782] Loss: 0.1166\n",
            "Epoch [25/80], Step [100/782] Loss: 0.0789\n",
            "Epoch [25/80], Step [200/782] Loss: 0.0727\n",
            "Epoch [25/80], Step [300/782] Loss: 0.1451\n",
            "Epoch [25/80], Step [400/782] Loss: 0.1161\n",
            "Epoch [25/80], Step [500/782] Loss: 0.0824\n",
            "Epoch [25/80], Step [600/782] Loss: 0.0785\n",
            "Epoch [25/80], Step [700/782] Loss: 0.1117\n",
            "Epoch [26/80], Step [100/782] Loss: 0.1000\n",
            "Epoch [26/80], Step [200/782] Loss: 0.1256\n",
            "Epoch [26/80], Step [300/782] Loss: 0.0580\n",
            "Epoch [26/80], Step [400/782] Loss: 0.1494\n",
            "Epoch [26/80], Step [500/782] Loss: 0.1358\n",
            "Epoch [26/80], Step [600/782] Loss: 0.0976\n",
            "Epoch [26/80], Step [700/782] Loss: 0.1076\n",
            "Epoch [27/80], Step [100/782] Loss: 0.1000\n",
            "Epoch [27/80], Step [200/782] Loss: 0.0726\n",
            "Epoch [27/80], Step [300/782] Loss: 0.1252\n",
            "Epoch [27/80], Step [400/782] Loss: 0.0704\n",
            "Epoch [27/80], Step [500/782] Loss: 0.0619\n",
            "Epoch [27/80], Step [600/782] Loss: 0.1391\n",
            "Epoch [27/80], Step [700/782] Loss: 0.0892\n",
            "Epoch [28/80], Step [100/782] Loss: 0.1429\n",
            "Epoch [28/80], Step [200/782] Loss: 0.0305\n",
            "Epoch [28/80], Step [300/782] Loss: 0.0915\n",
            "Epoch [28/80], Step [400/782] Loss: 0.0896\n",
            "Epoch [28/80], Step [500/782] Loss: 0.0195\n",
            "Epoch [28/80], Step [600/782] Loss: 0.1004\n",
            "Epoch [28/80], Step [700/782] Loss: 0.1362\n",
            "Epoch [29/80], Step [100/782] Loss: 0.1131\n",
            "Epoch [29/80], Step [200/782] Loss: 0.0881\n",
            "Epoch [29/80], Step [300/782] Loss: 0.0851\n",
            "Epoch [29/80], Step [400/782] Loss: 0.1314\n",
            "Epoch [29/80], Step [500/782] Loss: 0.0711\n",
            "Epoch [29/80], Step [600/782] Loss: 0.0460\n",
            "Epoch [29/80], Step [700/782] Loss: 0.1043\n",
            "Epoch [30/80], Step [100/782] Loss: 0.0240\n",
            "Epoch [30/80], Step [200/782] Loss: 0.0223\n",
            "Epoch [30/80], Step [300/782] Loss: 0.0515\n",
            "Epoch [30/80], Step [400/782] Loss: 0.0924\n",
            "Epoch [30/80], Step [500/782] Loss: 0.0233\n",
            "Epoch [30/80], Step [600/782] Loss: 0.0753\n",
            "Epoch [30/80], Step [700/782] Loss: 0.0958\n",
            "Epoch [31/80], Step [100/782] Loss: 0.0212\n",
            "Epoch [31/80], Step [200/782] Loss: 0.0912\n",
            "Epoch [31/80], Step [300/782] Loss: 0.0568\n",
            "Epoch [31/80], Step [400/782] Loss: 0.0443\n",
            "Epoch [31/80], Step [500/782] Loss: 0.1729\n",
            "Epoch [31/80], Step [600/782] Loss: 0.1445\n",
            "Epoch [31/80], Step [700/782] Loss: 0.0477\n",
            "Epoch [32/80], Step [100/782] Loss: 0.0435\n",
            "Epoch [32/80], Step [200/782] Loss: 0.0759\n",
            "Epoch [32/80], Step [300/782] Loss: 0.0981\n",
            "Epoch [32/80], Step [400/782] Loss: 0.0231\n",
            "Epoch [32/80], Step [500/782] Loss: 0.0758\n",
            "Epoch [32/80], Step [600/782] Loss: 0.0538\n",
            "Epoch [32/80], Step [700/782] Loss: 0.0522\n",
            "Epoch [33/80], Step [100/782] Loss: 0.0722\n",
            "Epoch [33/80], Step [200/782] Loss: 0.0590\n",
            "Epoch [33/80], Step [300/782] Loss: 0.0439\n",
            "Epoch [33/80], Step [400/782] Loss: 0.0381\n",
            "Epoch [33/80], Step [500/782] Loss: 0.0418\n",
            "Epoch [33/80], Step [600/782] Loss: 0.0204\n",
            "Epoch [33/80], Step [700/782] Loss: 0.1108\n",
            "Epoch [34/80], Step [100/782] Loss: 0.0309\n",
            "Epoch [34/80], Step [200/782] Loss: 0.0800\n",
            "Epoch [34/80], Step [300/782] Loss: 0.0617\n",
            "Epoch [34/80], Step [400/782] Loss: 0.0241\n",
            "Epoch [34/80], Step [500/782] Loss: 0.0452\n",
            "Epoch [34/80], Step [600/782] Loss: 0.0928\n",
            "Epoch [34/80], Step [700/782] Loss: 0.0789\n",
            "Epoch [35/80], Step [100/782] Loss: 0.0183\n",
            "Epoch [35/80], Step [200/782] Loss: 0.0231\n",
            "Epoch [35/80], Step [300/782] Loss: 0.0290\n",
            "Epoch [35/80], Step [400/782] Loss: 0.0374\n",
            "Epoch [35/80], Step [500/782] Loss: 0.1949\n",
            "Epoch [35/80], Step [600/782] Loss: 0.0398\n",
            "Epoch [35/80], Step [700/782] Loss: 0.0188\n",
            "Epoch [36/80], Step [100/782] Loss: 0.0350\n",
            "Epoch [36/80], Step [200/782] Loss: 0.0483\n",
            "Epoch [36/80], Step [300/782] Loss: 0.0388\n",
            "Epoch [36/80], Step [400/782] Loss: 0.0293\n",
            "Epoch [36/80], Step [500/782] Loss: 0.0684\n",
            "Epoch [36/80], Step [600/782] Loss: 0.0528\n",
            "Epoch [36/80], Step [700/782] Loss: 0.1595\n",
            "Epoch [37/80], Step [100/782] Loss: 0.0264\n",
            "Epoch [37/80], Step [200/782] Loss: 0.0499\n",
            "Epoch [37/80], Step [300/782] Loss: 0.0221\n",
            "Epoch [37/80], Step [400/782] Loss: 0.0666\n",
            "Epoch [37/80], Step [500/782] Loss: 0.0474\n",
            "Epoch [37/80], Step [600/782] Loss: 0.0902\n",
            "Epoch [37/80], Step [700/782] Loss: 0.1210\n",
            "Epoch [38/80], Step [100/782] Loss: 0.0405\n",
            "Epoch [38/80], Step [200/782] Loss: 0.0154\n",
            "Epoch [38/80], Step [300/782] Loss: 0.0280\n",
            "Epoch [38/80], Step [400/782] Loss: 0.0416\n",
            "Epoch [38/80], Step [500/782] Loss: 0.1447\n",
            "Epoch [38/80], Step [600/782] Loss: 0.0499\n",
            "Epoch [38/80], Step [700/782] Loss: 0.0488\n",
            "Epoch [39/80], Step [100/782] Loss: 0.0228\n",
            "Epoch [39/80], Step [200/782] Loss: 0.0949\n",
            "Epoch [39/80], Step [300/782] Loss: 0.0218\n",
            "Epoch [39/80], Step [400/782] Loss: 0.0174\n",
            "Epoch [39/80], Step [500/782] Loss: 0.0544\n",
            "Epoch [39/80], Step [600/782] Loss: 0.0135\n",
            "Epoch [39/80], Step [700/782] Loss: 0.0133\n",
            "Epoch [40/80], Step [100/782] Loss: 0.0596\n",
            "Epoch [40/80], Step [200/782] Loss: 0.0301\n",
            "Epoch [40/80], Step [300/782] Loss: 0.0330\n",
            "Epoch [40/80], Step [400/782] Loss: 0.0615\n",
            "Epoch [40/80], Step [500/782] Loss: 0.1282\n",
            "Epoch [40/80], Step [600/782] Loss: 0.0059\n",
            "Epoch [40/80], Step [700/782] Loss: 0.1045\n",
            "Epoch [41/80], Step [100/782] Loss: 0.0195\n",
            "Epoch [41/80], Step [200/782] Loss: 0.0361\n",
            "Epoch [41/80], Step [300/782] Loss: 0.0038\n",
            "Epoch [41/80], Step [400/782] Loss: 0.0978\n",
            "Epoch [41/80], Step [500/782] Loss: 0.0093\n",
            "Epoch [41/80], Step [600/782] Loss: 0.0104\n",
            "Epoch [41/80], Step [700/782] Loss: 0.0076\n",
            "Epoch [42/80], Step [100/782] Loss: 0.0829\n",
            "Epoch [42/80], Step [200/782] Loss: 0.0317\n",
            "Epoch [42/80], Step [300/782] Loss: 0.0164\n",
            "Epoch [42/80], Step [400/782] Loss: 0.0227\n",
            "Epoch [42/80], Step [500/782] Loss: 0.0616\n",
            "Epoch [42/80], Step [600/782] Loss: 0.0080\n",
            "Epoch [42/80], Step [700/782] Loss: 0.0505\n",
            "Epoch [43/80], Step [100/782] Loss: 0.0402\n",
            "Epoch [43/80], Step [200/782] Loss: 0.0067\n",
            "Epoch [43/80], Step [300/782] Loss: 0.0149\n",
            "Epoch [43/80], Step [400/782] Loss: 0.0131\n",
            "Epoch [43/80], Step [500/782] Loss: 0.0350\n",
            "Epoch [43/80], Step [600/782] Loss: 0.0052\n",
            "Epoch [43/80], Step [700/782] Loss: 0.0111\n",
            "Epoch [44/80], Step [100/782] Loss: 0.0342\n",
            "Epoch [44/80], Step [200/782] Loss: 0.0125\n",
            "Epoch [44/80], Step [300/782] Loss: 0.0179\n",
            "Epoch [44/80], Step [400/782] Loss: 0.0337\n",
            "Epoch [44/80], Step [500/782] Loss: 0.0306\n",
            "Epoch [44/80], Step [600/782] Loss: 0.0109\n",
            "Epoch [44/80], Step [700/782] Loss: 0.0212\n",
            "Epoch [45/80], Step [100/782] Loss: 0.0068\n",
            "Epoch [45/80], Step [200/782] Loss: 0.0323\n",
            "Epoch [45/80], Step [300/782] Loss: 0.0398\n",
            "Epoch [45/80], Step [400/782] Loss: 0.0125\n",
            "Epoch [45/80], Step [500/782] Loss: 0.0058\n",
            "Epoch [45/80], Step [600/782] Loss: 0.0161\n",
            "Epoch [45/80], Step [700/782] Loss: 0.0113\n",
            "Epoch [46/80], Step [100/782] Loss: 0.0165\n",
            "Epoch [46/80], Step [200/782] Loss: 0.0062\n",
            "Epoch [46/80], Step [300/782] Loss: 0.0231\n",
            "Epoch [46/80], Step [400/782] Loss: 0.0118\n",
            "Epoch [46/80], Step [500/782] Loss: 0.0078\n",
            "Epoch [46/80], Step [600/782] Loss: 0.0403\n",
            "Epoch [46/80], Step [700/782] Loss: 0.0063\n",
            "Epoch [47/80], Step [100/782] Loss: 0.0092\n",
            "Epoch [47/80], Step [200/782] Loss: 0.0070\n",
            "Epoch [47/80], Step [300/782] Loss: 0.0091\n",
            "Epoch [47/80], Step [400/782] Loss: 0.0067\n",
            "Epoch [47/80], Step [500/782] Loss: 0.0063\n",
            "Epoch [47/80], Step [600/782] Loss: 0.0023\n",
            "Epoch [47/80], Step [700/782] Loss: 0.0146\n",
            "Epoch [48/80], Step [100/782] Loss: 0.0126\n",
            "Epoch [48/80], Step [200/782] Loss: 0.0098\n",
            "Epoch [48/80], Step [300/782] Loss: 0.0151\n",
            "Epoch [48/80], Step [400/782] Loss: 0.0101\n",
            "Epoch [48/80], Step [500/782] Loss: 0.0167\n",
            "Epoch [48/80], Step [600/782] Loss: 0.0171\n",
            "Epoch [48/80], Step [700/782] Loss: 0.0142\n",
            "Epoch [49/80], Step [100/782] Loss: 0.0094\n",
            "Epoch [49/80], Step [200/782] Loss: 0.0035\n",
            "Epoch [49/80], Step [300/782] Loss: 0.0045\n",
            "Epoch [49/80], Step [400/782] Loss: 0.0300\n",
            "Epoch [49/80], Step [500/782] Loss: 0.0028\n",
            "Epoch [49/80], Step [600/782] Loss: 0.0027\n",
            "Epoch [49/80], Step [700/782] Loss: 0.0266\n",
            "Epoch [50/80], Step [100/782] Loss: 0.0075\n",
            "Epoch [50/80], Step [200/782] Loss: 0.0092\n",
            "Epoch [50/80], Step [300/782] Loss: 0.0123\n",
            "Epoch [50/80], Step [400/782] Loss: 0.0101\n",
            "Epoch [50/80], Step [500/782] Loss: 0.0286\n",
            "Epoch [50/80], Step [600/782] Loss: 0.0037\n",
            "Epoch [50/80], Step [700/782] Loss: 0.0088\n",
            "Epoch [51/80], Step [100/782] Loss: 0.0058\n",
            "Epoch [51/80], Step [200/782] Loss: 0.0074\n",
            "Epoch [51/80], Step [300/782] Loss: 0.0106\n",
            "Epoch [51/80], Step [400/782] Loss: 0.0047\n",
            "Epoch [51/80], Step [500/782] Loss: 0.0069\n",
            "Epoch [51/80], Step [600/782] Loss: 0.0058\n",
            "Epoch [51/80], Step [700/782] Loss: 0.0067\n",
            "Epoch [52/80], Step [100/782] Loss: 0.0071\n",
            "Epoch [52/80], Step [200/782] Loss: 0.0124\n",
            "Epoch [52/80], Step [300/782] Loss: 0.0058\n",
            "Epoch [52/80], Step [400/782] Loss: 0.0075\n",
            "Epoch [52/80], Step [500/782] Loss: 0.0032\n",
            "Epoch [52/80], Step [600/782] Loss: 0.0060\n",
            "Epoch [52/80], Step [700/782] Loss: 0.0067\n",
            "Epoch [53/80], Step [100/782] Loss: 0.0142\n",
            "Epoch [53/80], Step [200/782] Loss: 0.0034\n",
            "Epoch [53/80], Step [300/782] Loss: 0.0149\n",
            "Epoch [53/80], Step [400/782] Loss: 0.0114\n",
            "Epoch [53/80], Step [500/782] Loss: 0.0128\n",
            "Epoch [53/80], Step [600/782] Loss: 0.0467\n",
            "Epoch [53/80], Step [700/782] Loss: 0.0128\n",
            "Epoch [54/80], Step [100/782] Loss: 0.0033\n",
            "Epoch [54/80], Step [200/782] Loss: 0.0047\n",
            "Epoch [54/80], Step [300/782] Loss: 0.0384\n",
            "Epoch [54/80], Step [400/782] Loss: 0.0191\n",
            "Epoch [54/80], Step [500/782] Loss: 0.0070\n",
            "Epoch [54/80], Step [600/782] Loss: 0.0065\n",
            "Epoch [54/80], Step [700/782] Loss: 0.0081\n",
            "Epoch [55/80], Step [100/782] Loss: 0.0162\n",
            "Epoch [55/80], Step [200/782] Loss: 0.0050\n",
            "Epoch [55/80], Step [300/782] Loss: 0.0033\n",
            "Epoch [55/80], Step [400/782] Loss: 0.0045\n",
            "Epoch [55/80], Step [500/782] Loss: 0.0044\n",
            "Epoch [55/80], Step [600/782] Loss: 0.0083\n",
            "Epoch [55/80], Step [700/782] Loss: 0.0189\n",
            "Epoch [56/80], Step [100/782] Loss: 0.0118\n",
            "Epoch [56/80], Step [200/782] Loss: 0.0118\n",
            "Epoch [56/80], Step [300/782] Loss: 0.0015\n",
            "Epoch [56/80], Step [400/782] Loss: 0.0051\n",
            "Epoch [56/80], Step [500/782] Loss: 0.0053\n",
            "Epoch [56/80], Step [600/782] Loss: 0.0085\n",
            "Epoch [56/80], Step [700/782] Loss: 0.0029\n",
            "Epoch [57/80], Step [100/782] Loss: 0.0020\n",
            "Epoch [57/80], Step [200/782] Loss: 0.0145\n",
            "Epoch [57/80], Step [300/782] Loss: 0.0015\n",
            "Epoch [57/80], Step [400/782] Loss: 0.0030\n",
            "Epoch [57/80], Step [500/782] Loss: 0.0054\n",
            "Epoch [57/80], Step [600/782] Loss: 0.0050\n",
            "Epoch [57/80], Step [700/782] Loss: 0.0073\n",
            "Epoch [58/80], Step [100/782] Loss: 0.0055\n",
            "Epoch [58/80], Step [200/782] Loss: 0.0079\n",
            "Epoch [58/80], Step [300/782] Loss: 0.0114\n",
            "Epoch [58/80], Step [400/782] Loss: 0.0039\n",
            "Epoch [58/80], Step [500/782] Loss: 0.0047\n",
            "Epoch [58/80], Step [600/782] Loss: 0.0119\n",
            "Epoch [58/80], Step [700/782] Loss: 0.0032\n",
            "Epoch [59/80], Step [100/782] Loss: 0.0272\n",
            "Epoch [59/80], Step [200/782] Loss: 0.0468\n",
            "Epoch [59/80], Step [300/782] Loss: 0.0100\n",
            "Epoch [59/80], Step [400/782] Loss: 0.0025\n",
            "Epoch [59/80], Step [500/782] Loss: 0.0043\n",
            "Epoch [59/80], Step [600/782] Loss: 0.0007\n",
            "Epoch [59/80], Step [700/782] Loss: 0.0038\n",
            "Epoch [60/80], Step [100/782] Loss: 0.0077\n",
            "Epoch [60/80], Step [200/782] Loss: 0.0049\n",
            "Epoch [60/80], Step [300/782] Loss: 0.0032\n",
            "Epoch [60/80], Step [400/782] Loss: 0.0135\n",
            "Epoch [60/80], Step [500/782] Loss: 0.0010\n",
            "Epoch [60/80], Step [600/782] Loss: 0.0088\n",
            "Epoch [60/80], Step [700/782] Loss: 0.0080\n",
            "Epoch [61/80], Step [100/782] Loss: 0.0037\n",
            "Epoch [61/80], Step [200/782] Loss: 0.0060\n",
            "Epoch [61/80], Step [300/782] Loss: 0.0100\n",
            "Epoch [61/80], Step [400/782] Loss: 0.0019\n",
            "Epoch [61/80], Step [500/782] Loss: 0.0075\n",
            "Epoch [61/80], Step [600/782] Loss: 0.0015\n",
            "Epoch [61/80], Step [700/782] Loss: 0.0025\n",
            "Epoch [62/80], Step [100/782] Loss: 0.0017\n",
            "Epoch [62/80], Step [200/782] Loss: 0.0024\n",
            "Epoch [62/80], Step [300/782] Loss: 0.0029\n",
            "Epoch [62/80], Step [400/782] Loss: 0.0231\n",
            "Epoch [62/80], Step [500/782] Loss: 0.0082\n",
            "Epoch [62/80], Step [600/782] Loss: 0.0234\n",
            "Epoch [62/80], Step [700/782] Loss: 0.0033\n",
            "Epoch [63/80], Step [100/782] Loss: 0.0039\n",
            "Epoch [63/80], Step [200/782] Loss: 0.0023\n",
            "Epoch [63/80], Step [300/782] Loss: 0.0071\n",
            "Epoch [63/80], Step [400/782] Loss: 0.0059\n",
            "Epoch [63/80], Step [500/782] Loss: 0.0020\n",
            "Epoch [63/80], Step [600/782] Loss: 0.0161\n",
            "Epoch [63/80], Step [700/782] Loss: 0.0051\n",
            "Epoch [64/80], Step [100/782] Loss: 0.0056\n",
            "Epoch [64/80], Step [200/782] Loss: 0.0348\n",
            "Epoch [64/80], Step [300/782] Loss: 0.0132\n",
            "Epoch [64/80], Step [400/782] Loss: 0.0036\n",
            "Epoch [64/80], Step [500/782] Loss: 0.0013\n",
            "Epoch [64/80], Step [600/782] Loss: 0.0048\n",
            "Epoch [64/80], Step [700/782] Loss: 0.0097\n",
            "Epoch [65/80], Step [100/782] Loss: 0.0039\n",
            "Epoch [65/80], Step [200/782] Loss: 0.0043\n",
            "Epoch [65/80], Step [300/782] Loss: 0.0078\n",
            "Epoch [65/80], Step [400/782] Loss: 0.0010\n",
            "Epoch [65/80], Step [500/782] Loss: 0.0354\n",
            "Epoch [65/80], Step [600/782] Loss: 0.0013\n",
            "Epoch [65/80], Step [700/782] Loss: 0.0012\n",
            "Epoch [66/80], Step [100/782] Loss: 0.0286\n",
            "Epoch [66/80], Step [200/782] Loss: 0.0174\n",
            "Epoch [66/80], Step [300/782] Loss: 0.0043\n",
            "Epoch [66/80], Step [400/782] Loss: 0.0016\n",
            "Epoch [66/80], Step [500/782] Loss: 0.0017\n",
            "Epoch [66/80], Step [600/782] Loss: 0.0027\n",
            "Epoch [66/80], Step [700/782] Loss: 0.0076\n",
            "Epoch [67/80], Step [100/782] Loss: 0.0013\n",
            "Epoch [67/80], Step [200/782] Loss: 0.0103\n",
            "Epoch [67/80], Step [300/782] Loss: 0.0146\n",
            "Epoch [67/80], Step [400/782] Loss: 0.0020\n",
            "Epoch [67/80], Step [500/782] Loss: 0.0043\n",
            "Epoch [67/80], Step [600/782] Loss: 0.0061\n",
            "Epoch [67/80], Step [700/782] Loss: 0.0077\n",
            "Epoch [68/80], Step [100/782] Loss: 0.0018\n",
            "Epoch [68/80], Step [200/782] Loss: 0.0011\n",
            "Epoch [68/80], Step [300/782] Loss: 0.0039\n",
            "Epoch [68/80], Step [400/782] Loss: 0.0075\n",
            "Epoch [68/80], Step [500/782] Loss: 0.0027\n",
            "Epoch [68/80], Step [600/782] Loss: 0.0016\n",
            "Epoch [68/80], Step [700/782] Loss: 0.0031\n",
            "Epoch [69/80], Step [100/782] Loss: 0.0015\n",
            "Epoch [69/80], Step [200/782] Loss: 0.0023\n",
            "Epoch [69/80], Step [300/782] Loss: 0.0072\n",
            "Epoch [69/80], Step [400/782] Loss: 0.0054\n",
            "Epoch [69/80], Step [500/782] Loss: 0.0017\n",
            "Epoch [69/80], Step [600/782] Loss: 0.0056\n",
            "Epoch [69/80], Step [700/782] Loss: 0.0051\n",
            "Epoch [70/80], Step [100/782] Loss: 0.0011\n",
            "Epoch [70/80], Step [200/782] Loss: 0.0024\n",
            "Epoch [70/80], Step [300/782] Loss: 0.0031\n",
            "Epoch [70/80], Step [400/782] Loss: 0.0029\n",
            "Epoch [70/80], Step [500/782] Loss: 0.0032\n",
            "Epoch [70/80], Step [600/782] Loss: 0.0028\n",
            "Epoch [70/80], Step [700/782] Loss: 0.0084\n",
            "Epoch [71/80], Step [100/782] Loss: 0.0019\n",
            "Epoch [71/80], Step [200/782] Loss: 0.0018\n",
            "Epoch [71/80], Step [300/782] Loss: 0.0026\n",
            "Epoch [71/80], Step [400/782] Loss: 0.0023\n",
            "Epoch [71/80], Step [500/782] Loss: 0.0026\n",
            "Epoch [71/80], Step [600/782] Loss: 0.0069\n",
            "Epoch [71/80], Step [700/782] Loss: 0.0057\n",
            "Epoch [72/80], Step [100/782] Loss: 0.0060\n",
            "Epoch [72/80], Step [200/782] Loss: 0.0121\n",
            "Epoch [72/80], Step [300/782] Loss: 0.0237\n",
            "Epoch [72/80], Step [400/782] Loss: 0.0320\n",
            "Epoch [72/80], Step [500/782] Loss: 0.0031\n",
            "Epoch [72/80], Step [600/782] Loss: 0.0094\n",
            "Epoch [72/80], Step [700/782] Loss: 0.0070\n",
            "Epoch [73/80], Step [100/782] Loss: 0.0020\n",
            "Epoch [73/80], Step [200/782] Loss: 0.0019\n",
            "Epoch [73/80], Step [300/782] Loss: 0.0047\n",
            "Epoch [73/80], Step [400/782] Loss: 0.0080\n",
            "Epoch [73/80], Step [500/782] Loss: 0.0009\n",
            "Epoch [73/80], Step [600/782] Loss: 0.0031\n",
            "Epoch [73/80], Step [700/782] Loss: 0.0069\n",
            "Epoch [74/80], Step [100/782] Loss: 0.0075\n",
            "Epoch [74/80], Step [200/782] Loss: 0.0043\n",
            "Epoch [74/80], Step [300/782] Loss: 0.0068\n",
            "Epoch [74/80], Step [400/782] Loss: 0.0127\n",
            "Epoch [74/80], Step [500/782] Loss: 0.0035\n",
            "Epoch [74/80], Step [600/782] Loss: 0.0078\n",
            "Epoch [74/80], Step [700/782] Loss: 0.0079\n",
            "Epoch [75/80], Step [100/782] Loss: 0.0056\n",
            "Epoch [75/80], Step [200/782] Loss: 0.0026\n",
            "Epoch [75/80], Step [300/782] Loss: 0.0027\n",
            "Epoch [75/80], Step [400/782] Loss: 0.0011\n",
            "Epoch [75/80], Step [500/782] Loss: 0.0021\n",
            "Epoch [75/80], Step [600/782] Loss: 0.0059\n",
            "Epoch [75/80], Step [700/782] Loss: 0.0030\n",
            "Epoch [76/80], Step [100/782] Loss: 0.0032\n",
            "Epoch [76/80], Step [200/782] Loss: 0.0023\n",
            "Epoch [76/80], Step [300/782] Loss: 0.0017\n",
            "Epoch [76/80], Step [400/782] Loss: 0.0059\n",
            "Epoch [76/80], Step [500/782] Loss: 0.0298\n",
            "Epoch [76/80], Step [600/782] Loss: 0.0012\n",
            "Epoch [76/80], Step [700/782] Loss: 0.0057\n",
            "Epoch [77/80], Step [100/782] Loss: 0.0052\n",
            "Epoch [77/80], Step [200/782] Loss: 0.0036\n",
            "Epoch [77/80], Step [300/782] Loss: 0.0036\n",
            "Epoch [77/80], Step [400/782] Loss: 0.0052\n",
            "Epoch [77/80], Step [500/782] Loss: 0.0053\n",
            "Epoch [77/80], Step [600/782] Loss: 0.0025\n",
            "Epoch [77/80], Step [700/782] Loss: 0.0072\n",
            "Epoch [78/80], Step [100/782] Loss: 0.0035\n",
            "Epoch [78/80], Step [200/782] Loss: 0.0043\n",
            "Epoch [78/80], Step [300/782] Loss: 0.0009\n",
            "Epoch [78/80], Step [400/782] Loss: 0.0038\n",
            "Epoch [78/80], Step [500/782] Loss: 0.0019\n",
            "Epoch [78/80], Step [600/782] Loss: 0.0135\n",
            "Epoch [78/80], Step [700/782] Loss: 0.0012\n",
            "Epoch [79/80], Step [100/782] Loss: 0.0022\n",
            "Epoch [79/80], Step [200/782] Loss: 0.0015\n",
            "Epoch [79/80], Step [300/782] Loss: 0.0030\n",
            "Epoch [79/80], Step [400/782] Loss: 0.0013\n",
            "Epoch [79/80], Step [500/782] Loss: 0.0022\n",
            "Epoch [79/80], Step [600/782] Loss: 0.0014\n",
            "Epoch [79/80], Step [700/782] Loss: 0.0051\n",
            "Epoch [80/80], Step [100/782] Loss: 0.0019\n",
            "Epoch [80/80], Step [200/782] Loss: 0.0019\n",
            "Epoch [80/80], Step [300/782] Loss: 0.0051\n",
            "Epoch [80/80], Step [400/782] Loss: 0.0057\n",
            "Epoch [80/80], Step [500/782] Loss: 0.0005\n",
            "Epoch [80/80], Step [600/782] Loss: 0.0066\n",
            "Epoch [80/80], Step [700/782] Loss: 0.0045\n"
          ]
        }
      ],
      "source": [
        "# Device configuration\n",
        "device = torch.device('cuda' if torch.cuda.is_available() else 'cpu')\n",
        "\n",
        "# Hyper-parameters\n",
        "num_epochs = 80\n",
        "learning_rate = 0.001\n",
        "\n",
        "# 3x3 convolution\n",
        "def conv3x3(in_channels, out_channels, stride=1):\n",
        "    return nn.Conv2d(in_channels, out_channels, kernel_size=3, \n",
        "                     stride=stride, padding=1, bias=False)\n",
        "\n",
        "# Residual block\n",
        "class ResidualBlock(nn.Module):\n",
        "    def __init__(self, in_channels, out_channels, stride=1, downsample=None):\n",
        "        super(ResidualBlock, self).__init__()\n",
        "        self.conv1 = conv3x3(in_channels, out_channels, stride)\n",
        "        self.bn1 = nn.BatchNorm2d(out_channels)\n",
        "        self.relu = nn.ReLU(inplace=True)\n",
        "        self.conv2 = conv3x3(out_channels, out_channels)\n",
        "        self.bn2 = nn.BatchNorm2d(out_channels)\n",
        "        self.downsample = downsample\n",
        "\n",
        "    def forward(self, x):\n",
        "        residual = x\n",
        "        out = self.conv1(x)\n",
        "        out = self.bn1(out)\n",
        "        out = self.relu(out)\n",
        "        out = self.conv2(out)\n",
        "        out = self.bn2(out)\n",
        "        if self.downsample:\n",
        "            residual = self.downsample(x)\n",
        "        out += residual\n",
        "        out = self.relu(out)\n",
        "        return out\n",
        "\n",
        "# ResNet\n",
        "class ResNet(nn.Module):\n",
        "    def __init__(self, block, layers, num_classes=10):\n",
        "        super(ResNet, self).__init__()\n",
        "        self.in_channels = 16\n",
        "        self.conv = conv3x3(3, 16)\n",
        "        self.bn = nn.BatchNorm2d(16)\n",
        "        self.relu = nn.ReLU(inplace=True)\n",
        "        self.layer1 = self.make_layer(block, 16, layers[0])\n",
        "        self.layer2 = self.make_layer(block, 32, layers[1], 2)\n",
        "        self.layer3 = self.make_layer(block, 64, layers[2], 2)\n",
        "        self.avg_pool = nn.AvgPool2d(8)\n",
        "        self.fc = nn.Linear(64, num_classes)\n",
        "\n",
        "    def make_layer(self, block, out_channels, blocks, stride=1):\n",
        "        downsample = None\n",
        "        if (stride != 1) or (self.in_channels != out_channels):\n",
        "            downsample = nn.Sequential(\n",
        "                conv3x3(self.in_channels, out_channels, stride=stride),\n",
        "                nn.BatchNorm2d(out_channels))\n",
        "        layers = []\n",
        "        layers.append(block(self.in_channels, out_channels, stride, downsample))\n",
        "        self.in_channels = out_channels\n",
        "        for i in range(1, blocks):\n",
        "            layers.append(block(out_channels, out_channels))\n",
        "        return nn.Sequential(*layers)\n",
        "\n",
        "    def forward(self, x):\n",
        "        out = self.conv(x)\n",
        "        out = self.bn(out)\n",
        "        out = self.relu(out)\n",
        "        out = self.layer1(out)\n",
        "        out = self.layer2(out)\n",
        "        out = self.layer3(out)\n",
        "        out = self.avg_pool(out)\n",
        "        out = out.view(out.size(0), -1)\n",
        "        out = self.fc(out)\n",
        "        return out\n",
        "\n",
        "resnet = ResNet(ResidualBlock, [2, 2, 2]).to(device)\n",
        "\n",
        "\n",
        "# Loss and optimizer\n",
        "criterion = nn.CrossEntropyLoss()\n",
        "optimizer = torch.optim.Adam(resnet.parameters(), lr=learning_rate)\n",
        "\n",
        "# For updating learning rate\n",
        "def update_lr(optimizer, lr):    \n",
        "    for param_group in optimizer.param_groups:\n",
        "        param_group['lr'] = lr\n",
        "\n",
        "# Train the model\n",
        "total_step = len(train_loader)\n",
        "curr_lr = learning_rate\n",
        "for epoch in range(num_epochs):\n",
        "    for i, (images, labels) in enumerate(train_loader):\n",
        "        images = images.to(device)\n",
        "        labels = labels.to(device)\n",
        "\n",
        "        # Forward pass\n",
        "        outputs = resnet(images)\n",
        "        loss = criterion(outputs, labels)\n",
        "\n",
        "        # Backward and optimize\n",
        "        optimizer.zero_grad()\n",
        "        loss.backward()\n",
        "        optimizer.step()\n",
        "\n",
        "        if (i+1) % 100 == 0:\n",
        "            print (\"Epoch [{}/{}], Step [{}/{}] Loss: {:.4f}\"\n",
        "                   .format(epoch+1, num_epochs, i+1, total_step, loss.item()))\n",
        "\n",
        "    # Decay learning rate\n",
        "    if (epoch+1) % 20 == 0:\n",
        "        curr_lr /= 3\n",
        "        update_lr(optimizer, curr_lr)\n",
        "\n",
        "\n",
        "# Save the model checkpoint\n",
        "torch.save(resnet.state_dict(), 'resnet.ckpt')"
      ]
    },
    {
      "cell_type": "code",
      "execution_count": 30,
      "id": "2d661392",
      "metadata": {
        "id": "2d661392"
      },
      "outputs": [],
      "source": [
        "from torchvision import models\n",
        "alexnet = models.alexnet(pretrained=True)"
      ]
    },
    {
      "cell_type": "code",
      "execution_count": 31,
      "id": "99aaee86",
      "metadata": {
        "colab": {
          "base_uri": "https://localhost:8080/"
        },
        "id": "99aaee86",
        "outputId": "46381c9c-c1c2-4f88-c33f-af4d5f20d0d5"
      },
      "outputs": [
        {
          "output_type": "execute_result",
          "data": {
            "text/plain": [
              "AlexNet(\n",
              "  (features): Sequential(\n",
              "    (0): Conv2d(3, 64, kernel_size=(11, 11), stride=(4, 4), padding=(2, 2))\n",
              "    (1): ReLU(inplace=True)\n",
              "    (2): MaxPool2d(kernel_size=3, stride=2, padding=0, dilation=1, ceil_mode=False)\n",
              "    (3): Conv2d(64, 192, kernel_size=(5, 5), stride=(1, 1), padding=(2, 2))\n",
              "    (4): ReLU(inplace=True)\n",
              "    (5): MaxPool2d(kernel_size=3, stride=2, padding=0, dilation=1, ceil_mode=False)\n",
              "    (6): Conv2d(192, 384, kernel_size=(3, 3), stride=(1, 1), padding=(1, 1))\n",
              "    (7): ReLU(inplace=True)\n",
              "    (8): Conv2d(384, 256, kernel_size=(3, 3), stride=(1, 1), padding=(1, 1))\n",
              "    (9): ReLU(inplace=True)\n",
              "    (10): Conv2d(256, 256, kernel_size=(3, 3), stride=(1, 1), padding=(1, 1))\n",
              "    (11): ReLU(inplace=True)\n",
              "    (12): MaxPool2d(kernel_size=3, stride=2, padding=0, dilation=1, ceil_mode=False)\n",
              "  )\n",
              "  (avgpool): AdaptiveAvgPool2d(output_size=(6, 6))\n",
              "  (classifier): Sequential(\n",
              "    (0): Dropout(p=0.5, inplace=False)\n",
              "    (1): Linear(in_features=9216, out_features=4096, bias=True)\n",
              "    (2): ReLU(inplace=True)\n",
              "    (3): Dropout(p=0.5, inplace=False)\n",
              "    (4): Linear(in_features=4096, out_features=4096, bias=True)\n",
              "    (5): ReLU(inplace=True)\n",
              "    (6): Linear(in_features=4096, out_features=1000, bias=True)\n",
              "  )\n",
              ")"
            ]
          },
          "metadata": {},
          "execution_count": 31
        }
      ],
      "source": [
        "alexnet.eval()"
      ]
    },
    {
      "cell_type": "code",
      "execution_count": 32,
      "id": "316afd7e",
      "metadata": {
        "id": "316afd7e"
      },
      "outputs": [],
      "source": [
        "import torch.nn as nn\n",
        "# We need to change the classifiers to fit to the cifar 10 dataset\n",
        "alexnet.classifier[4] = nn.Linear(4096,1024)\n",
        "alexnet.classifier[6] = nn.Linear(1024,10)"
      ]
    },
    {
      "cell_type": "code",
      "execution_count": 33,
      "id": "10381a84",
      "metadata": {
        "colab": {
          "base_uri": "https://localhost:8080/"
        },
        "id": "10381a84",
        "outputId": "77d35e89-2f18-4d16-8d50-ee25fa49bd73"
      },
      "outputs": [
        {
          "output_type": "execute_result",
          "data": {
            "text/plain": [
              "AlexNet(\n",
              "  (features): Sequential(\n",
              "    (0): Conv2d(3, 64, kernel_size=(11, 11), stride=(4, 4), padding=(2, 2))\n",
              "    (1): ReLU(inplace=True)\n",
              "    (2): MaxPool2d(kernel_size=3, stride=2, padding=0, dilation=1, ceil_mode=False)\n",
              "    (3): Conv2d(64, 192, kernel_size=(5, 5), stride=(1, 1), padding=(2, 2))\n",
              "    (4): ReLU(inplace=True)\n",
              "    (5): MaxPool2d(kernel_size=3, stride=2, padding=0, dilation=1, ceil_mode=False)\n",
              "    (6): Conv2d(192, 384, kernel_size=(3, 3), stride=(1, 1), padding=(1, 1))\n",
              "    (7): ReLU(inplace=True)\n",
              "    (8): Conv2d(384, 256, kernel_size=(3, 3), stride=(1, 1), padding=(1, 1))\n",
              "    (9): ReLU(inplace=True)\n",
              "    (10): Conv2d(256, 256, kernel_size=(3, 3), stride=(1, 1), padding=(1, 1))\n",
              "    (11): ReLU(inplace=True)\n",
              "    (12): MaxPool2d(kernel_size=3, stride=2, padding=0, dilation=1, ceil_mode=False)\n",
              "  )\n",
              "  (avgpool): AdaptiveAvgPool2d(output_size=(6, 6))\n",
              "  (classifier): Sequential(\n",
              "    (0): Dropout(p=0.5, inplace=False)\n",
              "    (1): Linear(in_features=9216, out_features=4096, bias=True)\n",
              "    (2): ReLU(inplace=True)\n",
              "    (3): Dropout(p=0.5, inplace=False)\n",
              "    (4): Linear(in_features=4096, out_features=1024, bias=True)\n",
              "    (5): ReLU(inplace=True)\n",
              "    (6): Linear(in_features=1024, out_features=10, bias=True)\n",
              "  )\n",
              ")"
            ]
          },
          "metadata": {},
          "execution_count": 33
        }
      ],
      "source": [
        "alexnet.eval()"
      ]
    },
    {
      "cell_type": "code",
      "execution_count": 34,
      "id": "ab82ecfd",
      "metadata": {
        "colab": {
          "base_uri": "https://localhost:8080/"
        },
        "id": "ab82ecfd",
        "outputId": "e0274d3d-18ee-430a-94ee-86a8cf57e194"
      },
      "outputs": [
        {
          "output_type": "stream",
          "name": "stdout",
          "text": [
            "44,428,106 total parameters.\n",
            "44,428,106 training parameters.\n"
          ]
        }
      ],
      "source": [
        "total_params = sum(p.numel() for p in alexnet.parameters())\n",
        "print(f'{total_params:,} total parameters.')\n",
        "total_trainable_params = sum(\n",
        "    p.numel() for p in alexnet.parameters() if p.requires_grad)\n",
        "print(f'{total_trainable_params:,} training parameters.')"
      ]
    },
    {
      "cell_type": "code",
      "execution_count": 35,
      "id": "2ac1739b",
      "metadata": {
        "id": "2ac1739b"
      },
      "outputs": [],
      "source": [
        "def get_default_device():\n",
        "    \"\"\"Pick GPU if available, else CPU\"\"\"\n",
        "    if torch.cuda.is_available():\n",
        "        gpu_count = cuda.device_count()\n",
        "        print(f'Model will run on GPU, {gpu_count} gpus detected.')\n",
        "        if gpu_count > 1:\n",
        "            multi_gpu = True\n",
        "        else:\n",
        "            multi_gpu = False\n",
        "        return torch.device('cuda')\n",
        "    else:\n",
        "        print(\"Model will run on, CPU\")\n",
        "        return torch.device('cpu')"
      ]
    },
    {
      "cell_type": "code",
      "execution_count": 37,
      "id": "324cc119",
      "metadata": {
        "id": "324cc119"
      },
      "outputs": [],
      "source": [
        "# Move to gpu\n",
        "alexnet = alexnet.to('cuda')"
      ]
    },
    {
      "cell_type": "code",
      "execution_count": 38,
      "id": "b7c47925",
      "metadata": {
        "id": "b7c47925"
      },
      "outputs": [],
      "source": [
        "from torch import optim\n",
        "# Loss and optimizer\n",
        "criterion = nn.CrossEntropyLoss()\n",
        "# criterion = nn.NLLLoss()\n",
        "optimizer = optim.SGD(alexnet.parameters(), lr=0.001, momentum=0.9)"
      ]
    },
    {
      "cell_type": "code",
      "source": [
        "transfer_models_trandorm = transforms.Compose([\n",
        "    # transforms.RandomResizedCrop(size=256, scale=(0.8, 1.0)),\n",
        "    # transforms.RandomRotation(degrees=15),\n",
        "    # transforms.ColorJitter(),\n",
        "    # transforms.RandomHorizontalFlip(),\n",
        "    transforms.Resize(size=256),\n",
        "    transforms.CenterCrop(size=224),  # Image net standards\n",
        "    transforms.ToTensor(),\n",
        "#     transforms.Normalize([0.485, 0.456, 0.406],\n",
        "#                              [0.229, 0.224, 0.225])  # Imagenet standards\n",
        "    transforms.Normalize((0.5, 0.5, 0.5), (0.5, 0.5, 0.5)),\n",
        "])"
      ],
      "metadata": {
        "id": "CTtuPGgVViMC"
      },
      "id": "CTtuPGgVViMC",
      "execution_count": 39,
      "outputs": []
    },
    {
      "cell_type": "code",
      "source": [
        "transfer_valid_transform = transforms.Compose([\n",
        "        transforms.Resize(size=256),\n",
        "        transforms.CenterCrop(size=224),\n",
        "        transforms.ToTensor(),\n",
        "#         transforms.Normalize([0.485, 0.456, 0.406], [0.229, 0.224, 0.225])\n",
        "        transforms.Normalize((0.5, 0.5, 0.5), (0.5, 0.5, 0.5)),\n",
        "    ])"
      ],
      "metadata": {
        "id": "wjEJVJuCVmxy"
      },
      "id": "wjEJVJuCVmxy",
      "execution_count": 40,
      "outputs": []
    },
    {
      "cell_type": "code",
      "source": [
        "AlexNet_train_set = torchvision.datasets.CIFAR10('./datasets', train=True,\n",
        "                                         download=True, transform=transfer_models_trandorm)\n",
        "AlexNet_test_set = torchvision.datasets.CIFAR10('./datasets', train=False,\n",
        "                                        download=True, transform=transfer_models_trandorm)\n",
        "\n",
        "AlexNet_validation_set = torchvision.datasets.CIFAR10('./datasets', train=False,\n",
        "                                        download=True, transform=transfer_valid_transform)\n",
        "\n",
        "AlexNet_train_loader = torch.utils.data.DataLoader(AlexNet_train_set, batch_size=64,\n",
        "                                           shuffle=True, num_workers=4)\n",
        "AlexNet_test_loader = torch.utils.data.DataLoader(AlexNet_test_set, batch_size=64,\n",
        "                                          shuffle=False, num_workers=4)\n",
        "\n",
        "AlexNet_validation_loader = torch.utils.data.DataLoader(AlexNet_validation_set, batch_size=64,\n",
        "                                          shuffle=False, num_workers=4)"
      ],
      "metadata": {
        "id": "XIyOY5QRmlSH",
        "outputId": "346141ef-94a3-4e37-cf45-c241a30b00f3",
        "colab": {
          "base_uri": "https://localhost:8080/"
        }
      },
      "id": "XIyOY5QRmlSH",
      "execution_count": 77,
      "outputs": [
        {
          "output_type": "stream",
          "name": "stdout",
          "text": [
            "Files already downloaded and verified\n",
            "Files already downloaded and verified\n",
            "Files already downloaded and verified\n"
          ]
        }
      ]
    },
    {
      "cell_type": "code",
      "execution_count": 78,
      "id": "c31eca8d",
      "metadata": {
        "colab": {
          "base_uri": "https://localhost:8080/",
          "height": 381
        },
        "id": "c31eca8d",
        "outputId": "c2fc8291-7076-4081-f6c1-c39c65951a25"
      },
      "outputs": [
        {
          "output_type": "error",
          "ename": "KeyboardInterrupt",
          "evalue": "ignored",
          "traceback": [
            "\u001b[0;31m---------------------------------------------------------------------------\u001b[0m",
            "\u001b[0;31mKeyboardInterrupt\u001b[0m                         Traceback (most recent call last)",
            "\u001b[0;32m<ipython-input-78-ccd213b91746>\u001b[0m in \u001b[0;36m<module>\u001b[0;34m()\u001b[0m\n\u001b[1;32m      1\u001b[0m \u001b[0;32mfor\u001b[0m \u001b[0mepoch\u001b[0m \u001b[0;32min\u001b[0m \u001b[0mrange\u001b[0m\u001b[0;34m(\u001b[0m\u001b[0;36m10\u001b[0m\u001b[0;34m)\u001b[0m\u001b[0;34m:\u001b[0m  \u001b[0;31m# loop over the dataset multiple times\u001b[0m\u001b[0;34m\u001b[0m\u001b[0;34m\u001b[0m\u001b[0m\n\u001b[1;32m      2\u001b[0m     \u001b[0mrunning_loss\u001b[0m \u001b[0;34m=\u001b[0m \u001b[0;36m0.0\u001b[0m\u001b[0;34m\u001b[0m\u001b[0;34m\u001b[0m\u001b[0m\n\u001b[0;32m----> 3\u001b[0;31m     \u001b[0;32mfor\u001b[0m \u001b[0mi\u001b[0m\u001b[0;34m,\u001b[0m \u001b[0mdata\u001b[0m \u001b[0;32min\u001b[0m \u001b[0menumerate\u001b[0m\u001b[0;34m(\u001b[0m\u001b[0mAlexNet_train_loader\u001b[0m\u001b[0;34m,\u001b[0m \u001b[0;36m0\u001b[0m\u001b[0;34m)\u001b[0m\u001b[0;34m:\u001b[0m\u001b[0;34m\u001b[0m\u001b[0;34m\u001b[0m\u001b[0m\n\u001b[0m\u001b[1;32m      4\u001b[0m         \u001b[0;31m# get the inputs; data is a list of [inputs, labels]\u001b[0m\u001b[0;34m\u001b[0m\u001b[0;34m\u001b[0m\u001b[0;34m\u001b[0m\u001b[0m\n\u001b[1;32m      5\u001b[0m         \u001b[0minputs\u001b[0m\u001b[0;34m,\u001b[0m \u001b[0mlabels\u001b[0m \u001b[0;34m=\u001b[0m \u001b[0mdata\u001b[0m\u001b[0;34m[\u001b[0m\u001b[0;36m0\u001b[0m\u001b[0;34m]\u001b[0m\u001b[0;34m.\u001b[0m\u001b[0mto\u001b[0m\u001b[0;34m(\u001b[0m\u001b[0mdevice\u001b[0m\u001b[0;34m)\u001b[0m\u001b[0;34m,\u001b[0m \u001b[0mdata\u001b[0m\u001b[0;34m[\u001b[0m\u001b[0;36m1\u001b[0m\u001b[0;34m]\u001b[0m\u001b[0;34m.\u001b[0m\u001b[0mto\u001b[0m\u001b[0;34m(\u001b[0m\u001b[0mdevice\u001b[0m\u001b[0;34m)\u001b[0m\u001b[0;34m\u001b[0m\u001b[0;34m\u001b[0m\u001b[0m\n",
            "\u001b[0;32m/usr/local/lib/python3.7/dist-packages/torch/utils/data/dataloader.py\u001b[0m in \u001b[0;36m__next__\u001b[0;34m(self)\u001b[0m\n\u001b[1;32m    519\u001b[0m             \u001b[0;32mif\u001b[0m \u001b[0mself\u001b[0m\u001b[0;34m.\u001b[0m\u001b[0m_sampler_iter\u001b[0m \u001b[0;32mis\u001b[0m \u001b[0;32mNone\u001b[0m\u001b[0;34m:\u001b[0m\u001b[0;34m\u001b[0m\u001b[0;34m\u001b[0m\u001b[0m\n\u001b[1;32m    520\u001b[0m                 \u001b[0mself\u001b[0m\u001b[0;34m.\u001b[0m\u001b[0m_reset\u001b[0m\u001b[0;34m(\u001b[0m\u001b[0;34m)\u001b[0m\u001b[0;34m\u001b[0m\u001b[0;34m\u001b[0m\u001b[0m\n\u001b[0;32m--> 521\u001b[0;31m             \u001b[0mdata\u001b[0m \u001b[0;34m=\u001b[0m \u001b[0mself\u001b[0m\u001b[0;34m.\u001b[0m\u001b[0m_next_data\u001b[0m\u001b[0;34m(\u001b[0m\u001b[0;34m)\u001b[0m\u001b[0;34m\u001b[0m\u001b[0;34m\u001b[0m\u001b[0m\n\u001b[0m\u001b[1;32m    522\u001b[0m             \u001b[0mself\u001b[0m\u001b[0;34m.\u001b[0m\u001b[0m_num_yielded\u001b[0m \u001b[0;34m+=\u001b[0m \u001b[0;36m1\u001b[0m\u001b[0;34m\u001b[0m\u001b[0;34m\u001b[0m\u001b[0m\n\u001b[1;32m    523\u001b[0m             \u001b[0;32mif\u001b[0m \u001b[0mself\u001b[0m\u001b[0;34m.\u001b[0m\u001b[0m_dataset_kind\u001b[0m \u001b[0;34m==\u001b[0m \u001b[0m_DatasetKind\u001b[0m\u001b[0;34m.\u001b[0m\u001b[0mIterable\u001b[0m \u001b[0;32mand\u001b[0m\u001b[0;31m \u001b[0m\u001b[0;31m\\\u001b[0m\u001b[0;34m\u001b[0m\u001b[0;34m\u001b[0m\u001b[0m\n",
            "\u001b[0;32m/usr/local/lib/python3.7/dist-packages/torch/utils/data/dataloader.py\u001b[0m in \u001b[0;36m_next_data\u001b[0;34m(self)\u001b[0m\n\u001b[1;32m   1184\u001b[0m \u001b[0;34m\u001b[0m\u001b[0m\n\u001b[1;32m   1185\u001b[0m             \u001b[0;32massert\u001b[0m \u001b[0;32mnot\u001b[0m \u001b[0mself\u001b[0m\u001b[0;34m.\u001b[0m\u001b[0m_shutdown\u001b[0m \u001b[0;32mand\u001b[0m \u001b[0mself\u001b[0m\u001b[0;34m.\u001b[0m\u001b[0m_tasks_outstanding\u001b[0m \u001b[0;34m>\u001b[0m \u001b[0;36m0\u001b[0m\u001b[0;34m\u001b[0m\u001b[0;34m\u001b[0m\u001b[0m\n\u001b[0;32m-> 1186\u001b[0;31m             \u001b[0midx\u001b[0m\u001b[0;34m,\u001b[0m \u001b[0mdata\u001b[0m \u001b[0;34m=\u001b[0m \u001b[0mself\u001b[0m\u001b[0;34m.\u001b[0m\u001b[0m_get_data\u001b[0m\u001b[0;34m(\u001b[0m\u001b[0;34m)\u001b[0m\u001b[0;34m\u001b[0m\u001b[0;34m\u001b[0m\u001b[0m\n\u001b[0m\u001b[1;32m   1187\u001b[0m             \u001b[0mself\u001b[0m\u001b[0;34m.\u001b[0m\u001b[0m_tasks_outstanding\u001b[0m \u001b[0;34m-=\u001b[0m \u001b[0;36m1\u001b[0m\u001b[0;34m\u001b[0m\u001b[0;34m\u001b[0m\u001b[0m\n\u001b[1;32m   1188\u001b[0m             \u001b[0;32mif\u001b[0m \u001b[0mself\u001b[0m\u001b[0;34m.\u001b[0m\u001b[0m_dataset_kind\u001b[0m \u001b[0;34m==\u001b[0m \u001b[0m_DatasetKind\u001b[0m\u001b[0;34m.\u001b[0m\u001b[0mIterable\u001b[0m\u001b[0;34m:\u001b[0m\u001b[0;34m\u001b[0m\u001b[0;34m\u001b[0m\u001b[0m\n",
            "\u001b[0;32m/usr/local/lib/python3.7/dist-packages/torch/utils/data/dataloader.py\u001b[0m in \u001b[0;36m_get_data\u001b[0;34m(self)\u001b[0m\n\u001b[1;32m   1150\u001b[0m         \u001b[0;32melse\u001b[0m\u001b[0;34m:\u001b[0m\u001b[0;34m\u001b[0m\u001b[0;34m\u001b[0m\u001b[0m\n\u001b[1;32m   1151\u001b[0m             \u001b[0;32mwhile\u001b[0m \u001b[0;32mTrue\u001b[0m\u001b[0;34m:\u001b[0m\u001b[0;34m\u001b[0m\u001b[0;34m\u001b[0m\u001b[0m\n\u001b[0;32m-> 1152\u001b[0;31m                 \u001b[0msuccess\u001b[0m\u001b[0;34m,\u001b[0m \u001b[0mdata\u001b[0m \u001b[0;34m=\u001b[0m \u001b[0mself\u001b[0m\u001b[0;34m.\u001b[0m\u001b[0m_try_get_data\u001b[0m\u001b[0;34m(\u001b[0m\u001b[0;34m)\u001b[0m\u001b[0;34m\u001b[0m\u001b[0;34m\u001b[0m\u001b[0m\n\u001b[0m\u001b[1;32m   1153\u001b[0m                 \u001b[0;32mif\u001b[0m \u001b[0msuccess\u001b[0m\u001b[0;34m:\u001b[0m\u001b[0;34m\u001b[0m\u001b[0;34m\u001b[0m\u001b[0m\n\u001b[1;32m   1154\u001b[0m                     \u001b[0;32mreturn\u001b[0m \u001b[0mdata\u001b[0m\u001b[0;34m\u001b[0m\u001b[0;34m\u001b[0m\u001b[0m\n",
            "\u001b[0;32m/usr/local/lib/python3.7/dist-packages/torch/utils/data/dataloader.py\u001b[0m in \u001b[0;36m_try_get_data\u001b[0;34m(self, timeout)\u001b[0m\n\u001b[1;32m    988\u001b[0m         \u001b[0;31m#   (bool: whether successfully get data, any: data if successful else None)\u001b[0m\u001b[0;34m\u001b[0m\u001b[0;34m\u001b[0m\u001b[0;34m\u001b[0m\u001b[0m\n\u001b[1;32m    989\u001b[0m         \u001b[0;32mtry\u001b[0m\u001b[0;34m:\u001b[0m\u001b[0;34m\u001b[0m\u001b[0;34m\u001b[0m\u001b[0m\n\u001b[0;32m--> 990\u001b[0;31m             \u001b[0mdata\u001b[0m \u001b[0;34m=\u001b[0m \u001b[0mself\u001b[0m\u001b[0;34m.\u001b[0m\u001b[0m_data_queue\u001b[0m\u001b[0;34m.\u001b[0m\u001b[0mget\u001b[0m\u001b[0;34m(\u001b[0m\u001b[0mtimeout\u001b[0m\u001b[0;34m=\u001b[0m\u001b[0mtimeout\u001b[0m\u001b[0;34m)\u001b[0m\u001b[0;34m\u001b[0m\u001b[0;34m\u001b[0m\u001b[0m\n\u001b[0m\u001b[1;32m    991\u001b[0m             \u001b[0;32mreturn\u001b[0m \u001b[0;34m(\u001b[0m\u001b[0;32mTrue\u001b[0m\u001b[0;34m,\u001b[0m \u001b[0mdata\u001b[0m\u001b[0;34m)\u001b[0m\u001b[0;34m\u001b[0m\u001b[0;34m\u001b[0m\u001b[0m\n\u001b[1;32m    992\u001b[0m         \u001b[0;32mexcept\u001b[0m \u001b[0mException\u001b[0m \u001b[0;32mas\u001b[0m \u001b[0me\u001b[0m\u001b[0;34m:\u001b[0m\u001b[0;34m\u001b[0m\u001b[0;34m\u001b[0m\u001b[0m\n",
            "\u001b[0;32m/usr/lib/python3.7/multiprocessing/queues.py\u001b[0m in \u001b[0;36mget\u001b[0;34m(self, block, timeout)\u001b[0m\n\u001b[1;32m    111\u001b[0m                 \u001b[0mself\u001b[0m\u001b[0;34m.\u001b[0m\u001b[0m_rlock\u001b[0m\u001b[0;34m.\u001b[0m\u001b[0mrelease\u001b[0m\u001b[0;34m(\u001b[0m\u001b[0;34m)\u001b[0m\u001b[0;34m\u001b[0m\u001b[0;34m\u001b[0m\u001b[0m\n\u001b[1;32m    112\u001b[0m         \u001b[0;31m# unserialize the data after having released the lock\u001b[0m\u001b[0;34m\u001b[0m\u001b[0;34m\u001b[0m\u001b[0;34m\u001b[0m\u001b[0m\n\u001b[0;32m--> 113\u001b[0;31m         \u001b[0;32mreturn\u001b[0m \u001b[0m_ForkingPickler\u001b[0m\u001b[0;34m.\u001b[0m\u001b[0mloads\u001b[0m\u001b[0;34m(\u001b[0m\u001b[0mres\u001b[0m\u001b[0;34m)\u001b[0m\u001b[0;34m\u001b[0m\u001b[0;34m\u001b[0m\u001b[0m\n\u001b[0m\u001b[1;32m    114\u001b[0m \u001b[0;34m\u001b[0m\u001b[0m\n\u001b[1;32m    115\u001b[0m     \u001b[0;32mdef\u001b[0m \u001b[0mqsize\u001b[0m\u001b[0;34m(\u001b[0m\u001b[0mself\u001b[0m\u001b[0;34m)\u001b[0m\u001b[0;34m:\u001b[0m\u001b[0;34m\u001b[0m\u001b[0;34m\u001b[0m\u001b[0m\n",
            "\u001b[0;32m/usr/local/lib/python3.7/dist-packages/torch/multiprocessing/reductions.py\u001b[0m in \u001b[0;36mrebuild_storage_fd\u001b[0;34m(cls, df, size)\u001b[0m\n\u001b[1;32m    287\u001b[0m \u001b[0;34m\u001b[0m\u001b[0m\n\u001b[1;32m    288\u001b[0m \u001b[0;32mdef\u001b[0m \u001b[0mrebuild_storage_fd\u001b[0m\u001b[0;34m(\u001b[0m\u001b[0mcls\u001b[0m\u001b[0;34m,\u001b[0m \u001b[0mdf\u001b[0m\u001b[0;34m,\u001b[0m \u001b[0msize\u001b[0m\u001b[0;34m)\u001b[0m\u001b[0;34m:\u001b[0m\u001b[0;34m\u001b[0m\u001b[0;34m\u001b[0m\u001b[0m\n\u001b[0;32m--> 289\u001b[0;31m     \u001b[0mfd\u001b[0m \u001b[0;34m=\u001b[0m \u001b[0mdf\u001b[0m\u001b[0;34m.\u001b[0m\u001b[0mdetach\u001b[0m\u001b[0;34m(\u001b[0m\u001b[0;34m)\u001b[0m\u001b[0;34m\u001b[0m\u001b[0;34m\u001b[0m\u001b[0m\n\u001b[0m\u001b[1;32m    290\u001b[0m     \u001b[0;32mtry\u001b[0m\u001b[0;34m:\u001b[0m\u001b[0;34m\u001b[0m\u001b[0;34m\u001b[0m\u001b[0m\n\u001b[1;32m    291\u001b[0m         \u001b[0mstorage\u001b[0m \u001b[0;34m=\u001b[0m \u001b[0mstorage_from_cache\u001b[0m\u001b[0;34m(\u001b[0m\u001b[0mcls\u001b[0m\u001b[0;34m,\u001b[0m \u001b[0mfd_id\u001b[0m\u001b[0;34m(\u001b[0m\u001b[0mfd\u001b[0m\u001b[0;34m)\u001b[0m\u001b[0;34m)\u001b[0m\u001b[0;34m\u001b[0m\u001b[0;34m\u001b[0m\u001b[0m\n",
            "\u001b[0;32m/usr/lib/python3.7/multiprocessing/resource_sharer.py\u001b[0m in \u001b[0;36mdetach\u001b[0;34m(self)\u001b[0m\n\u001b[1;32m     55\u001b[0m         \u001b[0;32mdef\u001b[0m \u001b[0mdetach\u001b[0m\u001b[0;34m(\u001b[0m\u001b[0mself\u001b[0m\u001b[0;34m)\u001b[0m\u001b[0;34m:\u001b[0m\u001b[0;34m\u001b[0m\u001b[0;34m\u001b[0m\u001b[0m\n\u001b[1;32m     56\u001b[0m             \u001b[0;34m'''Get the fd.  This should only be called once.'''\u001b[0m\u001b[0;34m\u001b[0m\u001b[0;34m\u001b[0m\u001b[0m\n\u001b[0;32m---> 57\u001b[0;31m             \u001b[0;32mwith\u001b[0m \u001b[0m_resource_sharer\u001b[0m\u001b[0;34m.\u001b[0m\u001b[0mget_connection\u001b[0m\u001b[0;34m(\u001b[0m\u001b[0mself\u001b[0m\u001b[0;34m.\u001b[0m\u001b[0m_id\u001b[0m\u001b[0;34m)\u001b[0m \u001b[0;32mas\u001b[0m \u001b[0mconn\u001b[0m\u001b[0;34m:\u001b[0m\u001b[0;34m\u001b[0m\u001b[0;34m\u001b[0m\u001b[0m\n\u001b[0m\u001b[1;32m     58\u001b[0m                 \u001b[0;32mreturn\u001b[0m \u001b[0mreduction\u001b[0m\u001b[0;34m.\u001b[0m\u001b[0mrecv_handle\u001b[0m\u001b[0;34m(\u001b[0m\u001b[0mconn\u001b[0m\u001b[0;34m)\u001b[0m\u001b[0;34m\u001b[0m\u001b[0;34m\u001b[0m\u001b[0m\n\u001b[1;32m     59\u001b[0m \u001b[0;34m\u001b[0m\u001b[0m\n",
            "\u001b[0;32m/usr/lib/python3.7/multiprocessing/resource_sharer.py\u001b[0m in \u001b[0;36mget_connection\u001b[0;34m(ident)\u001b[0m\n\u001b[1;32m     85\u001b[0m         \u001b[0;32mfrom\u001b[0m \u001b[0;34m.\u001b[0m\u001b[0mconnection\u001b[0m \u001b[0;32mimport\u001b[0m \u001b[0mClient\u001b[0m\u001b[0;34m\u001b[0m\u001b[0;34m\u001b[0m\u001b[0m\n\u001b[1;32m     86\u001b[0m         \u001b[0maddress\u001b[0m\u001b[0;34m,\u001b[0m \u001b[0mkey\u001b[0m \u001b[0;34m=\u001b[0m \u001b[0mident\u001b[0m\u001b[0;34m\u001b[0m\u001b[0;34m\u001b[0m\u001b[0m\n\u001b[0;32m---> 87\u001b[0;31m         \u001b[0mc\u001b[0m \u001b[0;34m=\u001b[0m \u001b[0mClient\u001b[0m\u001b[0;34m(\u001b[0m\u001b[0maddress\u001b[0m\u001b[0;34m,\u001b[0m \u001b[0mauthkey\u001b[0m\u001b[0;34m=\u001b[0m\u001b[0mprocess\u001b[0m\u001b[0;34m.\u001b[0m\u001b[0mcurrent_process\u001b[0m\u001b[0;34m(\u001b[0m\u001b[0;34m)\u001b[0m\u001b[0;34m.\u001b[0m\u001b[0mauthkey\u001b[0m\u001b[0;34m)\u001b[0m\u001b[0;34m\u001b[0m\u001b[0;34m\u001b[0m\u001b[0m\n\u001b[0m\u001b[1;32m     88\u001b[0m         \u001b[0mc\u001b[0m\u001b[0;34m.\u001b[0m\u001b[0msend\u001b[0m\u001b[0;34m(\u001b[0m\u001b[0;34m(\u001b[0m\u001b[0mkey\u001b[0m\u001b[0;34m,\u001b[0m \u001b[0mos\u001b[0m\u001b[0;34m.\u001b[0m\u001b[0mgetpid\u001b[0m\u001b[0;34m(\u001b[0m\u001b[0;34m)\u001b[0m\u001b[0;34m)\u001b[0m\u001b[0;34m)\u001b[0m\u001b[0;34m\u001b[0m\u001b[0;34m\u001b[0m\u001b[0m\n\u001b[1;32m     89\u001b[0m         \u001b[0;32mreturn\u001b[0m \u001b[0mc\u001b[0m\u001b[0;34m\u001b[0m\u001b[0;34m\u001b[0m\u001b[0m\n",
            "\u001b[0;32m/usr/lib/python3.7/multiprocessing/connection.py\u001b[0m in \u001b[0;36mClient\u001b[0;34m(address, family, authkey)\u001b[0m\n\u001b[1;32m    496\u001b[0m \u001b[0;34m\u001b[0m\u001b[0m\n\u001b[1;32m    497\u001b[0m     \u001b[0;32mif\u001b[0m \u001b[0mauthkey\u001b[0m \u001b[0;32mis\u001b[0m \u001b[0;32mnot\u001b[0m \u001b[0;32mNone\u001b[0m\u001b[0;34m:\u001b[0m\u001b[0;34m\u001b[0m\u001b[0;34m\u001b[0m\u001b[0m\n\u001b[0;32m--> 498\u001b[0;31m         \u001b[0manswer_challenge\u001b[0m\u001b[0;34m(\u001b[0m\u001b[0mc\u001b[0m\u001b[0;34m,\u001b[0m \u001b[0mauthkey\u001b[0m\u001b[0;34m)\u001b[0m\u001b[0;34m\u001b[0m\u001b[0;34m\u001b[0m\u001b[0m\n\u001b[0m\u001b[1;32m    499\u001b[0m         \u001b[0mdeliver_challenge\u001b[0m\u001b[0;34m(\u001b[0m\u001b[0mc\u001b[0m\u001b[0;34m,\u001b[0m \u001b[0mauthkey\u001b[0m\u001b[0;34m)\u001b[0m\u001b[0;34m\u001b[0m\u001b[0;34m\u001b[0m\u001b[0m\n\u001b[1;32m    500\u001b[0m \u001b[0;34m\u001b[0m\u001b[0m\n",
            "\u001b[0;32m/usr/lib/python3.7/multiprocessing/connection.py\u001b[0m in \u001b[0;36manswer_challenge\u001b[0;34m(connection, authkey)\u001b[0m\n\u001b[1;32m    740\u001b[0m         raise ValueError(\n\u001b[1;32m    741\u001b[0m             \"Authkey must be bytes, not {0!s}\".format(type(authkey)))\n\u001b[0;32m--> 742\u001b[0;31m     \u001b[0mmessage\u001b[0m \u001b[0;34m=\u001b[0m \u001b[0mconnection\u001b[0m\u001b[0;34m.\u001b[0m\u001b[0mrecv_bytes\u001b[0m\u001b[0;34m(\u001b[0m\u001b[0;36m256\u001b[0m\u001b[0;34m)\u001b[0m         \u001b[0;31m# reject large message\u001b[0m\u001b[0;34m\u001b[0m\u001b[0;34m\u001b[0m\u001b[0m\n\u001b[0m\u001b[1;32m    743\u001b[0m     \u001b[0;32massert\u001b[0m \u001b[0mmessage\u001b[0m\u001b[0;34m[\u001b[0m\u001b[0;34m:\u001b[0m\u001b[0mlen\u001b[0m\u001b[0;34m(\u001b[0m\u001b[0mCHALLENGE\u001b[0m\u001b[0;34m)\u001b[0m\u001b[0;34m]\u001b[0m \u001b[0;34m==\u001b[0m \u001b[0mCHALLENGE\u001b[0m\u001b[0;34m,\u001b[0m \u001b[0;34m'message = %r'\u001b[0m \u001b[0;34m%\u001b[0m \u001b[0mmessage\u001b[0m\u001b[0;34m\u001b[0m\u001b[0;34m\u001b[0m\u001b[0m\n\u001b[1;32m    744\u001b[0m     \u001b[0mmessage\u001b[0m \u001b[0;34m=\u001b[0m \u001b[0mmessage\u001b[0m\u001b[0;34m[\u001b[0m\u001b[0mlen\u001b[0m\u001b[0;34m(\u001b[0m\u001b[0mCHALLENGE\u001b[0m\u001b[0;34m)\u001b[0m\u001b[0;34m:\u001b[0m\u001b[0;34m]\u001b[0m\u001b[0;34m\u001b[0m\u001b[0;34m\u001b[0m\u001b[0m\n",
            "\u001b[0;32m/usr/lib/python3.7/multiprocessing/connection.py\u001b[0m in \u001b[0;36mrecv_bytes\u001b[0;34m(self, maxlength)\u001b[0m\n\u001b[1;32m    214\u001b[0m         \u001b[0;32mif\u001b[0m \u001b[0mmaxlength\u001b[0m \u001b[0;32mis\u001b[0m \u001b[0;32mnot\u001b[0m \u001b[0;32mNone\u001b[0m \u001b[0;32mand\u001b[0m \u001b[0mmaxlength\u001b[0m \u001b[0;34m<\u001b[0m \u001b[0;36m0\u001b[0m\u001b[0;34m:\u001b[0m\u001b[0;34m\u001b[0m\u001b[0;34m\u001b[0m\u001b[0m\n\u001b[1;32m    215\u001b[0m             \u001b[0;32mraise\u001b[0m \u001b[0mValueError\u001b[0m\u001b[0;34m(\u001b[0m\u001b[0;34m\"negative maxlength\"\u001b[0m\u001b[0;34m)\u001b[0m\u001b[0;34m\u001b[0m\u001b[0;34m\u001b[0m\u001b[0m\n\u001b[0;32m--> 216\u001b[0;31m         \u001b[0mbuf\u001b[0m \u001b[0;34m=\u001b[0m \u001b[0mself\u001b[0m\u001b[0;34m.\u001b[0m\u001b[0m_recv_bytes\u001b[0m\u001b[0;34m(\u001b[0m\u001b[0mmaxlength\u001b[0m\u001b[0;34m)\u001b[0m\u001b[0;34m\u001b[0m\u001b[0;34m\u001b[0m\u001b[0m\n\u001b[0m\u001b[1;32m    217\u001b[0m         \u001b[0;32mif\u001b[0m \u001b[0mbuf\u001b[0m \u001b[0;32mis\u001b[0m \u001b[0;32mNone\u001b[0m\u001b[0;34m:\u001b[0m\u001b[0;34m\u001b[0m\u001b[0;34m\u001b[0m\u001b[0m\n\u001b[1;32m    218\u001b[0m             \u001b[0mself\u001b[0m\u001b[0;34m.\u001b[0m\u001b[0m_bad_message_length\u001b[0m\u001b[0;34m(\u001b[0m\u001b[0;34m)\u001b[0m\u001b[0;34m\u001b[0m\u001b[0;34m\u001b[0m\u001b[0m\n",
            "\u001b[0;32m/usr/lib/python3.7/multiprocessing/connection.py\u001b[0m in \u001b[0;36m_recv_bytes\u001b[0;34m(self, maxsize)\u001b[0m\n\u001b[1;32m    405\u001b[0m \u001b[0;34m\u001b[0m\u001b[0m\n\u001b[1;32m    406\u001b[0m     \u001b[0;32mdef\u001b[0m \u001b[0m_recv_bytes\u001b[0m\u001b[0;34m(\u001b[0m\u001b[0mself\u001b[0m\u001b[0;34m,\u001b[0m \u001b[0mmaxsize\u001b[0m\u001b[0;34m=\u001b[0m\u001b[0;32mNone\u001b[0m\u001b[0;34m)\u001b[0m\u001b[0;34m:\u001b[0m\u001b[0;34m\u001b[0m\u001b[0;34m\u001b[0m\u001b[0m\n\u001b[0;32m--> 407\u001b[0;31m         \u001b[0mbuf\u001b[0m \u001b[0;34m=\u001b[0m \u001b[0mself\u001b[0m\u001b[0;34m.\u001b[0m\u001b[0m_recv\u001b[0m\u001b[0;34m(\u001b[0m\u001b[0;36m4\u001b[0m\u001b[0;34m)\u001b[0m\u001b[0;34m\u001b[0m\u001b[0;34m\u001b[0m\u001b[0m\n\u001b[0m\u001b[1;32m    408\u001b[0m         \u001b[0msize\u001b[0m\u001b[0;34m,\u001b[0m \u001b[0;34m=\u001b[0m \u001b[0mstruct\u001b[0m\u001b[0;34m.\u001b[0m\u001b[0munpack\u001b[0m\u001b[0;34m(\u001b[0m\u001b[0;34m\"!i\"\u001b[0m\u001b[0;34m,\u001b[0m \u001b[0mbuf\u001b[0m\u001b[0;34m.\u001b[0m\u001b[0mgetvalue\u001b[0m\u001b[0;34m(\u001b[0m\u001b[0;34m)\u001b[0m\u001b[0;34m)\u001b[0m\u001b[0;34m\u001b[0m\u001b[0;34m\u001b[0m\u001b[0m\n\u001b[1;32m    409\u001b[0m         \u001b[0;32mif\u001b[0m \u001b[0mmaxsize\u001b[0m \u001b[0;32mis\u001b[0m \u001b[0;32mnot\u001b[0m \u001b[0;32mNone\u001b[0m \u001b[0;32mand\u001b[0m \u001b[0msize\u001b[0m \u001b[0;34m>\u001b[0m \u001b[0mmaxsize\u001b[0m\u001b[0;34m:\u001b[0m\u001b[0;34m\u001b[0m\u001b[0;34m\u001b[0m\u001b[0m\n",
            "\u001b[0;32m/usr/lib/python3.7/multiprocessing/connection.py\u001b[0m in \u001b[0;36m_recv\u001b[0;34m(self, size, read)\u001b[0m\n\u001b[1;32m    377\u001b[0m         \u001b[0mremaining\u001b[0m \u001b[0;34m=\u001b[0m \u001b[0msize\u001b[0m\u001b[0;34m\u001b[0m\u001b[0;34m\u001b[0m\u001b[0m\n\u001b[1;32m    378\u001b[0m         \u001b[0;32mwhile\u001b[0m \u001b[0mremaining\u001b[0m \u001b[0;34m>\u001b[0m \u001b[0;36m0\u001b[0m\u001b[0;34m:\u001b[0m\u001b[0;34m\u001b[0m\u001b[0;34m\u001b[0m\u001b[0m\n\u001b[0;32m--> 379\u001b[0;31m             \u001b[0mchunk\u001b[0m \u001b[0;34m=\u001b[0m \u001b[0mread\u001b[0m\u001b[0;34m(\u001b[0m\u001b[0mhandle\u001b[0m\u001b[0;34m,\u001b[0m \u001b[0mremaining\u001b[0m\u001b[0;34m)\u001b[0m\u001b[0;34m\u001b[0m\u001b[0;34m\u001b[0m\u001b[0m\n\u001b[0m\u001b[1;32m    380\u001b[0m             \u001b[0mn\u001b[0m \u001b[0;34m=\u001b[0m \u001b[0mlen\u001b[0m\u001b[0;34m(\u001b[0m\u001b[0mchunk\u001b[0m\u001b[0;34m)\u001b[0m\u001b[0;34m\u001b[0m\u001b[0;34m\u001b[0m\u001b[0m\n\u001b[1;32m    381\u001b[0m             \u001b[0;32mif\u001b[0m \u001b[0mn\u001b[0m \u001b[0;34m==\u001b[0m \u001b[0;36m0\u001b[0m\u001b[0;34m:\u001b[0m\u001b[0;34m\u001b[0m\u001b[0;34m\u001b[0m\u001b[0m\n",
            "\u001b[0;31mKeyboardInterrupt\u001b[0m: "
          ]
        }
      ],
      "source": [
        "for epoch in range(10):  # loop over the dataset multiple times\n",
        "    running_loss = 0.0\n",
        "    for i, data in enumerate(AlexNet_train_loader, 0):\n",
        "        # get the inputs; data is a list of [inputs, labels]\n",
        "        inputs, labels = data[0].to(device), data[1].to(device)\n",
        "\n",
        "        # zero the parameter gradients\n",
        "        optimizer.zero_grad()\n",
        "\n",
        "        # forward + backward + optimize\n",
        "        output = alexnet(inputs)\n",
        "        loss = criterion(output, labels)\n",
        "        loss.backward()\n",
        "        optimizer.step()\n",
        "\n",
        "        # print statistics\n",
        "        running_loss += loss.item()\n",
        "        if i % 2000 == 1999:    # print every 2000 mini-batches\n",
        "            print('[%d, %5d] loss: %.3f' %\n",
        "                  (epoch + 1, i + 1, running_loss / 2000))\n",
        "            running_loss = 0.0\n",
        "\n",
        "print('Finished Training of AlexNet')"
      ]
    },
    {
      "cell_type": "code",
      "execution_count": 42,
      "id": "946d122d",
      "metadata": {
        "id": "946d122d"
      },
      "outputs": [],
      "source": [
        "def plot_matrix (confusion_matrix):\n",
        "    fig, ax = plt.subplots(1,1,figsize=(8,6))\n",
        "    ax.matshow(confusion_matrix, aspect='auto', vmin=0, vmax=1000, cmap=plt.get_cmap('Blues'))\n",
        "    plt.ylabel('Actual Category')\n",
        "    plt.yticks(range(10), classes)\n",
        "    plt.xlabel('Predicted Category')\n",
        "    plt.xticks(range(10), classes)\n",
        "    plt.show()"
      ]
    },
    {
      "cell_type": "code",
      "execution_count": 43,
      "id": "56fd0afb",
      "metadata": {
        "id": "56fd0afb"
      },
      "outputs": [],
      "source": [
        "def print_matrix (confusion_matrix):\n",
        "    print('actual/pred'.ljust(16), end='')\n",
        "    for i,c in enumerate(classes):\n",
        "        print(c.ljust(10), end='')\n",
        "    print()\n",
        "    for i,r in enumerate(confusion_matrix):\n",
        "        print(classes[i].ljust(16), end='')\n",
        "        for idx, p in enumerate(r):\n",
        "            print(str(p).ljust(10), end='')\n",
        "        print()\n",
        "        r = r/np.sum(r)\n",
        "        print(''.ljust(16), end='')\n",
        "        for idx, p in enumerate(r):\n",
        "            print(str(p).ljust(10), end='')\n",
        "        print()"
      ]
    },
    {
      "cell_type": "code",
      "execution_count": 44,
      "id": "4cfae08e",
      "metadata": {
        "id": "4cfae08e"
      },
      "outputs": [],
      "source": [
        "def prf1(confusion_matrix):\n",
        "    TP = 0\n",
        "    FP = 0\n",
        "    FN = 0\n",
        "\n",
        "    for i,r in enumerate(confusion_matrix):\n",
        "        total = 0\n",
        "        thisTP = 0\n",
        "        thisFN = 0\n",
        "        thisFP = 0 \n",
        "        for i3 in range (0,10):\n",
        "            if (i != i3):\n",
        "                thisFP += confusion_matrix[i3][i]\n",
        "        for i2,r2 in enumerate(r):\n",
        "            total += r2\n",
        "            if (i == i2):\n",
        "                thisTP += r2\n",
        "            else:\n",
        "                thisFN += r2\n",
        "\n",
        "        print(classes[i])\n",
        "        print('True positives %d' % (thisTP))\n",
        "        print('False positives %d' % (thisFP))\n",
        "        print('False negatives %d' % (thisFN))\n",
        "        precision = thisTP / (thisTP + thisFP)\n",
        "        recall = thisTP / (thisTP + thisFN)\n",
        "        print('Precicion {}'.format(precision))\n",
        "        print('Recall {}'.format(recall))\n",
        "        f1 = (2 * (precision*recall)) / (precision + recall)\n",
        "        print('F1 {}'.format(f1))"
      ]
    },
    {
      "cell_type": "code",
      "execution_count": 45,
      "id": "3a63009c",
      "metadata": {
        "id": "3a63009c"
      },
      "outputs": [],
      "source": [
        "def plot_losses(history):\n",
        "    losses = [x['val_loss'] for x in history]\n",
        "    plt.plot(losses, '-x')\n",
        "    plt.xlabel('epoch')\n",
        "    plt.ylabel('loss')\n",
        "    plt.title('Loss vs. No. of epochs');\n",
        "    \n",
        "def plot_accuracies(history):\n",
        "    accuracies = [x['val_acc'] for x in history]\n",
        "    plt.plot(accuracies, '-x')\n",
        "    plt.xlabel('epoch')\n",
        "    plt.ylabel('accuracy')\n",
        "    plt.title('Accuracy vs. No. of epochs'); "
      ]
    },
    {
      "cell_type": "code",
      "execution_count": 46,
      "id": "fcb3b503",
      "metadata": {
        "id": "fcb3b503"
      },
      "outputs": [],
      "source": [
        "def plot_losses_epochs(history):\n",
        "    train_losses = [x.get('train_loss') for x in history]\n",
        "    val_losses = [x['val_loss'] for x in history]\n",
        "    plt.plot(train_losses, '-bx')\n",
        "    plt.plot(val_losses, '-rx')\n",
        "    plt.xlabel('epoch')\n",
        "    plt.ylabel('loss')\n",
        "    plt.legend(['Training', 'Validation'])\n",
        "    plt.title('Loss vs. No. of epochs')\n",
        "    "
      ]
    },
    {
      "cell_type": "code",
      "execution_count": 61,
      "id": "9044d596",
      "metadata": {
        "id": "9044d596"
      },
      "outputs": [],
      "source": [
        "def test_model(model):    \n",
        "    # prepare to count predictions for each class\n",
        "    # correct_pred = {classname: 0 for classname in classes}\n",
        "    # total_pred = {classname: 0 for classname in classes}\n",
        "    correct_pred = list(0. for i in range(10))\n",
        "    total_pred = list(0. for i in range(10))\n",
        "    y_actual = []\n",
        "    y_pred = []\n",
        "    confusion_matrix = np.zeros([10,10], int)\n",
        "\n",
        "    # again no gradients needed\n",
        "    with torch.no_grad():\n",
        "        for data in test_loader:\n",
        "            images, labels = data[0].to(device), data[1].to(device)\n",
        "            outputs = model(images)\n",
        "            _, predicted = torch.max(outputs, 1)\n",
        "            c = (predicted == labels).squeeze()\n",
        "            for i in range(4):\n",
        "                label = labels[i]\n",
        "                correct_pred[label] += c[i].item()\n",
        "                total_pred[label] += 1\n",
        "            for i, l in enumerate(labels):\n",
        "                y_actual.append(l.item())\n",
        "                y_pred.append(predicted[i].item())\n",
        "                confusion_matrix[l.item(), predicted[i].item()] += 1 \n",
        "\n",
        "    return correct_pred, total_pred, y_actual, y_pred, confusion_matrix"
      ]
    },
    {
      "cell_type": "markdown",
      "id": "411470f4",
      "metadata": {
        "id": "411470f4"
      },
      "source": [
        "### Our model"
      ]
    },
    {
      "cell_type": "code",
      "execution_count": 48,
      "id": "ea687cd7",
      "metadata": {
        "colab": {
          "base_uri": "https://localhost:8080/",
          "height": 295
        },
        "id": "ea687cd7",
        "outputId": "f46d9362-194c-46c9-bc91-f325b435827d"
      },
      "outputs": [
        {
          "output_type": "display_data",
          "data": {
            "image/png": "[encoded data removed]",
            "text/plain": [
              "<Figure size 432x288 with 1 Axes>"
            ]
          },
          "metadata": {
            "needs_background": "light"
          }
        }
      ],
      "source": [
        "plot_losses(history)"
      ]
    },
    {
      "cell_type": "code",
      "execution_count": 49,
      "id": "b7fdce1c",
      "metadata": {
        "colab": {
          "base_uri": "https://localhost:8080/",
          "height": 295
        },
        "id": "b7fdce1c",
        "outputId": "8259afb9-9f05-427b-cd11-ae809f9937a4"
      },
      "outputs": [
        {
          "output_type": "display_data",
          "data": {
            "image/png": "[encoded data removed]",
            "text/plain": [
              "<Figure size 432x288 with 1 Axes>"
            ]
          },
          "metadata": {
            "needs_background": "light"
          }
        }
      ],
      "source": [
        "plot_accuracies(history)"
      ]
    },
    {
      "cell_type": "code",
      "execution_count": 50,
      "id": "5230d6c4",
      "metadata": {
        "colab": {
          "base_uri": "https://localhost:8080/",
          "height": 295
        },
        "id": "5230d6c4",
        "outputId": "1f0aa0c7-a8a8-4476-9b8c-c0a551f06e18"
      },
      "outputs": [
        {
          "output_type": "display_data",
          "data": {
            "image/png": "[encoded data removed]",
            "text/plain": [
              "<Figure size 432x288 with 1 Axes>"
            ]
          },
          "metadata": {
            "needs_background": "light"
          }
        }
      ],
      "source": [
        "plot_losses_epochs(history);"
      ]
    },
    {
      "cell_type": "code",
      "execution_count": 51,
      "id": "fec7b872",
      "metadata": {
        "colab": {
          "base_uri": "https://localhost:8080/",
          "height": 381
        },
        "id": "fec7b872",
        "outputId": "ad666647-88c2-4cd5-a41d-489701665582"
      },
      "outputs": [
        {
          "output_type": "error",
          "ename": "RuntimeError",
          "evalue": "ignored",
          "traceback": [
            "\u001b[0;31m---------------------------------------------------------------------------\u001b[0m",
            "\u001b[0;31mRuntimeError\u001b[0m                              Traceback (most recent call last)",
            "\u001b[0;32m<ipython-input-51-63503baa82b3>\u001b[0m in \u001b[0;36m<module>\u001b[0;34m()\u001b[0m\n\u001b[0;32m----> 1\u001b[0;31m \u001b[0mcorrect_pred\u001b[0m\u001b[0;34m,\u001b[0m \u001b[0mtotal_pred\u001b[0m\u001b[0;34m,\u001b[0m \u001b[0my_actual\u001b[0m\u001b[0;34m,\u001b[0m \u001b[0my_pred\u001b[0m\u001b[0;34m,\u001b[0m \u001b[0mconfusion_matrix\u001b[0m \u001b[0;34m=\u001b[0m \u001b[0mtest_model\u001b[0m\u001b[0;34m(\u001b[0m\u001b[0mourmodel\u001b[0m\u001b[0;34m)\u001b[0m\u001b[0;34m\u001b[0m\u001b[0;34m\u001b[0m\u001b[0m\n\u001b[0m\u001b[1;32m      2\u001b[0m \u001b[0;34m\u001b[0m\u001b[0m\n\u001b[1;32m      3\u001b[0m \u001b[0;32mfor\u001b[0m \u001b[0mclassname\u001b[0m\u001b[0;34m,\u001b[0m \u001b[0mcorrect_count\u001b[0m \u001b[0;32min\u001b[0m \u001b[0mcorrect_pred\u001b[0m\u001b[0;34m.\u001b[0m\u001b[0mitems\u001b[0m\u001b[0;34m(\u001b[0m\u001b[0;34m)\u001b[0m\u001b[0;34m:\u001b[0m\u001b[0;34m\u001b[0m\u001b[0;34m\u001b[0m\u001b[0m\n\u001b[1;32m      4\u001b[0m     \u001b[0maccuracy\u001b[0m \u001b[0;34m=\u001b[0m \u001b[0;36m100\u001b[0m \u001b[0;34m*\u001b[0m \u001b[0mfloat\u001b[0m\u001b[0;34m(\u001b[0m\u001b[0mcorrect_count\u001b[0m\u001b[0;34m)\u001b[0m \u001b[0;34m/\u001b[0m \u001b[0mtotal_pred\u001b[0m\u001b[0;34m[\u001b[0m\u001b[0mclassname\u001b[0m\u001b[0;34m]\u001b[0m\u001b[0;34m\u001b[0m\u001b[0;34m\u001b[0m\u001b[0m\n\u001b[1;32m      5\u001b[0m     print(\"Accuracy for class {:5s} is: {:.1f} %\".format(classname,\n",
            "\u001b[0;32m<ipython-input-47-8bc5bb869bf3>\u001b[0m in \u001b[0;36mtest_model\u001b[0;34m(model)\u001b[0m\n\u001b[1;32m     11\u001b[0m         \u001b[0;32mfor\u001b[0m \u001b[0mdata\u001b[0m \u001b[0;32min\u001b[0m \u001b[0mtest_loader\u001b[0m\u001b[0;34m:\u001b[0m\u001b[0;34m\u001b[0m\u001b[0;34m\u001b[0m\u001b[0m\n\u001b[1;32m     12\u001b[0m             \u001b[0mimages\u001b[0m\u001b[0;34m,\u001b[0m \u001b[0mlabels\u001b[0m \u001b[0;34m=\u001b[0m \u001b[0mdata\u001b[0m\u001b[0;34m[\u001b[0m\u001b[0;36m0\u001b[0m\u001b[0;34m]\u001b[0m\u001b[0;34m.\u001b[0m\u001b[0mto\u001b[0m\u001b[0;34m(\u001b[0m\u001b[0mdevice\u001b[0m\u001b[0;34m)\u001b[0m\u001b[0;34m,\u001b[0m \u001b[0mdata\u001b[0m\u001b[0;34m[\u001b[0m\u001b[0;36m1\u001b[0m\u001b[0;34m]\u001b[0m\u001b[0;34m.\u001b[0m\u001b[0mto\u001b[0m\u001b[0;34m(\u001b[0m\u001b[0mdevice\u001b[0m\u001b[0;34m)\u001b[0m\u001b[0;34m\u001b[0m\u001b[0;34m\u001b[0m\u001b[0m\n\u001b[0;32m---> 13\u001b[0;31m             \u001b[0moutputs\u001b[0m \u001b[0;34m=\u001b[0m \u001b[0mmodel\u001b[0m\u001b[0;34m(\u001b[0m\u001b[0mimages\u001b[0m\u001b[0;34m)\u001b[0m\u001b[0;34m\u001b[0m\u001b[0;34m\u001b[0m\u001b[0m\n\u001b[0m\u001b[1;32m     14\u001b[0m             \u001b[0m_\u001b[0m\u001b[0;34m,\u001b[0m \u001b[0mpredicted\u001b[0m \u001b[0;34m=\u001b[0m \u001b[0mtorch\u001b[0m\u001b[0;34m.\u001b[0m\u001b[0mmax\u001b[0m\u001b[0;34m(\u001b[0m\u001b[0moutputs\u001b[0m\u001b[0;34m,\u001b[0m \u001b[0;36m1\u001b[0m\u001b[0;34m)\u001b[0m\u001b[0;34m\u001b[0m\u001b[0;34m\u001b[0m\u001b[0m\n\u001b[1;32m     15\u001b[0m             \u001b[0mc\u001b[0m \u001b[0;34m=\u001b[0m \u001b[0;34m(\u001b[0m\u001b[0mpredicted\u001b[0m \u001b[0;34m==\u001b[0m \u001b[0mlabels\u001b[0m\u001b[0;34m)\u001b[0m\u001b[0;34m.\u001b[0m\u001b[0msqueeze\u001b[0m\u001b[0;34m(\u001b[0m\u001b[0;34m)\u001b[0m\u001b[0;34m\u001b[0m\u001b[0;34m\u001b[0m\u001b[0m\n",
            "\u001b[0;32m/usr/local/lib/python3.7/dist-packages/torch/nn/modules/module.py\u001b[0m in \u001b[0;36m_call_impl\u001b[0;34m(self, *input, **kwargs)\u001b[0m\n\u001b[1;32m   1100\u001b[0m         if not (self._backward_hooks or self._forward_hooks or self._forward_pre_hooks or _global_backward_hooks\n\u001b[1;32m   1101\u001b[0m                 or _global_forward_hooks or _global_forward_pre_hooks):\n\u001b[0;32m-> 1102\u001b[0;31m             \u001b[0;32mreturn\u001b[0m \u001b[0mforward_call\u001b[0m\u001b[0;34m(\u001b[0m\u001b[0;34m*\u001b[0m\u001b[0minput\u001b[0m\u001b[0;34m,\u001b[0m \u001b[0;34m**\u001b[0m\u001b[0mkwargs\u001b[0m\u001b[0;34m)\u001b[0m\u001b[0;34m\u001b[0m\u001b[0;34m\u001b[0m\u001b[0m\n\u001b[0m\u001b[1;32m   1103\u001b[0m         \u001b[0;31m# Do not call functions when jit is used\u001b[0m\u001b[0;34m\u001b[0m\u001b[0;34m\u001b[0m\u001b[0;34m\u001b[0m\u001b[0m\n\u001b[1;32m   1104\u001b[0m         \u001b[0mfull_backward_hooks\u001b[0m\u001b[0;34m,\u001b[0m \u001b[0mnon_full_backward_hooks\u001b[0m \u001b[0;34m=\u001b[0m \u001b[0;34m[\u001b[0m\u001b[0;34m]\u001b[0m\u001b[0;34m,\u001b[0m \u001b[0;34m[\u001b[0m\u001b[0;34m]\u001b[0m\u001b[0;34m\u001b[0m\u001b[0;34m\u001b[0m\u001b[0m\n",
            "\u001b[0;32m<ipython-input-15-72ee0c1e3cd0>\u001b[0m in \u001b[0;36mforward\u001b[0;34m(self, xb)\u001b[0m\n\u001b[1;32m     29\u001b[0m \u001b[0;34m\u001b[0m\u001b[0m\n\u001b[1;32m     30\u001b[0m     \u001b[0;32mdef\u001b[0m \u001b[0mforward\u001b[0m\u001b[0;34m(\u001b[0m\u001b[0mself\u001b[0m\u001b[0;34m,\u001b[0m \u001b[0mxb\u001b[0m\u001b[0;34m)\u001b[0m\u001b[0;34m:\u001b[0m\u001b[0;34m\u001b[0m\u001b[0;34m\u001b[0m\u001b[0m\n\u001b[0;32m---> 31\u001b[0;31m         \u001b[0;32mreturn\u001b[0m \u001b[0mself\u001b[0m\u001b[0;34m.\u001b[0m\u001b[0mnetwork\u001b[0m\u001b[0;34m(\u001b[0m\u001b[0mxb\u001b[0m\u001b[0;34m)\u001b[0m\u001b[0;34m\u001b[0m\u001b[0;34m\u001b[0m\u001b[0m\n\u001b[0m",
            "\u001b[0;32m/usr/local/lib/python3.7/dist-packages/torch/nn/modules/module.py\u001b[0m in \u001b[0;36m_call_impl\u001b[0;34m(self, *input, **kwargs)\u001b[0m\n\u001b[1;32m   1100\u001b[0m         if not (self._backward_hooks or self._forward_hooks or self._forward_pre_hooks or _global_backward_hooks\n\u001b[1;32m   1101\u001b[0m                 or _global_forward_hooks or _global_forward_pre_hooks):\n\u001b[0;32m-> 1102\u001b[0;31m             \u001b[0;32mreturn\u001b[0m \u001b[0mforward_call\u001b[0m\u001b[0;34m(\u001b[0m\u001b[0;34m*\u001b[0m\u001b[0minput\u001b[0m\u001b[0;34m,\u001b[0m \u001b[0;34m**\u001b[0m\u001b[0mkwargs\u001b[0m\u001b[0;34m)\u001b[0m\u001b[0;34m\u001b[0m\u001b[0;34m\u001b[0m\u001b[0m\n\u001b[0m\u001b[1;32m   1103\u001b[0m         \u001b[0;31m# Do not call functions when jit is used\u001b[0m\u001b[0;34m\u001b[0m\u001b[0;34m\u001b[0m\u001b[0;34m\u001b[0m\u001b[0m\n\u001b[1;32m   1104\u001b[0m         \u001b[0mfull_backward_hooks\u001b[0m\u001b[0;34m,\u001b[0m \u001b[0mnon_full_backward_hooks\u001b[0m \u001b[0;34m=\u001b[0m \u001b[0;34m[\u001b[0m\u001b[0;34m]\u001b[0m\u001b[0;34m,\u001b[0m \u001b[0;34m[\u001b[0m\u001b[0;34m]\u001b[0m\u001b[0;34m\u001b[0m\u001b[0;34m\u001b[0m\u001b[0m\n",
            "\u001b[0;32m/usr/local/lib/python3.7/dist-packages/torch/nn/modules/container.py\u001b[0m in \u001b[0;36mforward\u001b[0;34m(self, input)\u001b[0m\n\u001b[1;32m    139\u001b[0m     \u001b[0;32mdef\u001b[0m \u001b[0mforward\u001b[0m\u001b[0;34m(\u001b[0m\u001b[0mself\u001b[0m\u001b[0;34m,\u001b[0m \u001b[0minput\u001b[0m\u001b[0;34m)\u001b[0m\u001b[0;34m:\u001b[0m\u001b[0;34m\u001b[0m\u001b[0;34m\u001b[0m\u001b[0m\n\u001b[1;32m    140\u001b[0m         \u001b[0;32mfor\u001b[0m \u001b[0mmodule\u001b[0m \u001b[0;32min\u001b[0m \u001b[0mself\u001b[0m\u001b[0;34m:\u001b[0m\u001b[0;34m\u001b[0m\u001b[0;34m\u001b[0m\u001b[0m\n\u001b[0;32m--> 141\u001b[0;31m             \u001b[0minput\u001b[0m \u001b[0;34m=\u001b[0m \u001b[0mmodule\u001b[0m\u001b[0;34m(\u001b[0m\u001b[0minput\u001b[0m\u001b[0;34m)\u001b[0m\u001b[0;34m\u001b[0m\u001b[0;34m\u001b[0m\u001b[0m\n\u001b[0m\u001b[1;32m    142\u001b[0m         \u001b[0;32mreturn\u001b[0m \u001b[0minput\u001b[0m\u001b[0;34m\u001b[0m\u001b[0;34m\u001b[0m\u001b[0m\n\u001b[1;32m    143\u001b[0m \u001b[0;34m\u001b[0m\u001b[0m\n",
            "\u001b[0;32m/usr/local/lib/python3.7/dist-packages/torch/nn/modules/module.py\u001b[0m in \u001b[0;36m_call_impl\u001b[0;34m(self, *input, **kwargs)\u001b[0m\n\u001b[1;32m   1100\u001b[0m         if not (self._backward_hooks or self._forward_hooks or self._forward_pre_hooks or _global_backward_hooks\n\u001b[1;32m   1101\u001b[0m                 or _global_forward_hooks or _global_forward_pre_hooks):\n\u001b[0;32m-> 1102\u001b[0;31m             \u001b[0;32mreturn\u001b[0m \u001b[0mforward_call\u001b[0m\u001b[0;34m(\u001b[0m\u001b[0;34m*\u001b[0m\u001b[0minput\u001b[0m\u001b[0;34m,\u001b[0m \u001b[0;34m**\u001b[0m\u001b[0mkwargs\u001b[0m\u001b[0;34m)\u001b[0m\u001b[0;34m\u001b[0m\u001b[0;34m\u001b[0m\u001b[0m\n\u001b[0m\u001b[1;32m   1103\u001b[0m         \u001b[0;31m# Do not call functions when jit is used\u001b[0m\u001b[0;34m\u001b[0m\u001b[0;34m\u001b[0m\u001b[0;34m\u001b[0m\u001b[0m\n\u001b[1;32m   1104\u001b[0m         \u001b[0mfull_backward_hooks\u001b[0m\u001b[0;34m,\u001b[0m \u001b[0mnon_full_backward_hooks\u001b[0m \u001b[0;34m=\u001b[0m \u001b[0;34m[\u001b[0m\u001b[0;34m]\u001b[0m\u001b[0;34m,\u001b[0m \u001b[0;34m[\u001b[0m\u001b[0;34m]\u001b[0m\u001b[0;34m\u001b[0m\u001b[0;34m\u001b[0m\u001b[0m\n",
            "\u001b[0;32m/usr/local/lib/python3.7/dist-packages/torch/nn/modules/linear.py\u001b[0m in \u001b[0;36mforward\u001b[0;34m(self, input)\u001b[0m\n\u001b[1;32m    101\u001b[0m \u001b[0;34m\u001b[0m\u001b[0m\n\u001b[1;32m    102\u001b[0m     \u001b[0;32mdef\u001b[0m \u001b[0mforward\u001b[0m\u001b[0;34m(\u001b[0m\u001b[0mself\u001b[0m\u001b[0;34m,\u001b[0m \u001b[0minput\u001b[0m\u001b[0;34m:\u001b[0m \u001b[0mTensor\u001b[0m\u001b[0;34m)\u001b[0m \u001b[0;34m->\u001b[0m \u001b[0mTensor\u001b[0m\u001b[0;34m:\u001b[0m\u001b[0;34m\u001b[0m\u001b[0;34m\u001b[0m\u001b[0m\n\u001b[0;32m--> 103\u001b[0;31m         \u001b[0;32mreturn\u001b[0m \u001b[0mF\u001b[0m\u001b[0;34m.\u001b[0m\u001b[0mlinear\u001b[0m\u001b[0;34m(\u001b[0m\u001b[0minput\u001b[0m\u001b[0;34m,\u001b[0m \u001b[0mself\u001b[0m\u001b[0;34m.\u001b[0m\u001b[0mweight\u001b[0m\u001b[0;34m,\u001b[0m \u001b[0mself\u001b[0m\u001b[0;34m.\u001b[0m\u001b[0mbias\u001b[0m\u001b[0;34m)\u001b[0m\u001b[0;34m\u001b[0m\u001b[0;34m\u001b[0m\u001b[0m\n\u001b[0m\u001b[1;32m    104\u001b[0m \u001b[0;34m\u001b[0m\u001b[0m\n\u001b[1;32m    105\u001b[0m     \u001b[0;32mdef\u001b[0m \u001b[0mextra_repr\u001b[0m\u001b[0;34m(\u001b[0m\u001b[0mself\u001b[0m\u001b[0;34m)\u001b[0m \u001b[0;34m->\u001b[0m \u001b[0mstr\u001b[0m\u001b[0;34m:\u001b[0m\u001b[0;34m\u001b[0m\u001b[0;34m\u001b[0m\u001b[0m\n",
            "\u001b[0;32m/usr/local/lib/python3.7/dist-packages/torch/nn/functional.py\u001b[0m in \u001b[0;36mlinear\u001b[0;34m(input, weight, bias)\u001b[0m\n\u001b[1;32m   1846\u001b[0m     \u001b[0;32mif\u001b[0m \u001b[0mhas_torch_function_variadic\u001b[0m\u001b[0;34m(\u001b[0m\u001b[0minput\u001b[0m\u001b[0;34m,\u001b[0m \u001b[0mweight\u001b[0m\u001b[0;34m,\u001b[0m \u001b[0mbias\u001b[0m\u001b[0;34m)\u001b[0m\u001b[0;34m:\u001b[0m\u001b[0;34m\u001b[0m\u001b[0;34m\u001b[0m\u001b[0m\n\u001b[1;32m   1847\u001b[0m         \u001b[0;32mreturn\u001b[0m \u001b[0mhandle_torch_function\u001b[0m\u001b[0;34m(\u001b[0m\u001b[0mlinear\u001b[0m\u001b[0;34m,\u001b[0m \u001b[0;34m(\u001b[0m\u001b[0minput\u001b[0m\u001b[0;34m,\u001b[0m \u001b[0mweight\u001b[0m\u001b[0;34m,\u001b[0m \u001b[0mbias\u001b[0m\u001b[0;34m)\u001b[0m\u001b[0;34m,\u001b[0m \u001b[0minput\u001b[0m\u001b[0;34m,\u001b[0m \u001b[0mweight\u001b[0m\u001b[0;34m,\u001b[0m \u001b[0mbias\u001b[0m\u001b[0;34m=\u001b[0m\u001b[0mbias\u001b[0m\u001b[0;34m)\u001b[0m\u001b[0;34m\u001b[0m\u001b[0;34m\u001b[0m\u001b[0m\n\u001b[0;32m-> 1848\u001b[0;31m     \u001b[0;32mreturn\u001b[0m \u001b[0mtorch\u001b[0m\u001b[0;34m.\u001b[0m\u001b[0m_C\u001b[0m\u001b[0;34m.\u001b[0m\u001b[0m_nn\u001b[0m\u001b[0;34m.\u001b[0m\u001b[0mlinear\u001b[0m\u001b[0;34m(\u001b[0m\u001b[0minput\u001b[0m\u001b[0;34m,\u001b[0m \u001b[0mweight\u001b[0m\u001b[0;34m,\u001b[0m \u001b[0mbias\u001b[0m\u001b[0;34m)\u001b[0m\u001b[0;34m\u001b[0m\u001b[0;34m\u001b[0m\u001b[0m\n\u001b[0m\u001b[1;32m   1849\u001b[0m \u001b[0;34m\u001b[0m\u001b[0m\n\u001b[1;32m   1850\u001b[0m \u001b[0;34m\u001b[0m\u001b[0m\n",
            "\u001b[0;31mRuntimeError\u001b[0m: mat1 and mat2 shapes cannot be multiplied (64x200704 and 4096x1024)"
          ]
        }
      ],
      "source": [
        "correct_pred, total_pred, y_actual, y_pred, confusion_matrix = test_model(ourmodel)\n",
        "\n",
        "for classname, correct_count in correct_pred.items():\n",
        "    accuracy = 100 * float(correct_count) / total_pred[classname]\n",
        "    print(\"Accuracy for class {:5s} is: {:.1f} %\".format(classname,\n",
        "                                                   accuracy))"
      ]
    },
    {
      "cell_type": "code",
      "execution_count": 52,
      "id": "55da104a",
      "metadata": {
        "colab": {
          "base_uri": "https://localhost:8080/",
          "height": 166
        },
        "id": "55da104a",
        "outputId": "84c7fdaa-ba0e-458d-8d46-c851e4ce9247"
      },
      "outputs": [
        {
          "output_type": "error",
          "ename": "NameError",
          "evalue": "ignored",
          "traceback": [
            "\u001b[0;31m---------------------------------------------------------------------------\u001b[0m",
            "\u001b[0;31mNameError\u001b[0m                                 Traceback (most recent call last)",
            "\u001b[0;32m<ipython-input-52-59d386912455>\u001b[0m in \u001b[0;36m<module>\u001b[0;34m()\u001b[0m\n\u001b[0;32m----> 1\u001b[0;31m \u001b[0mmatthews_corrcoef\u001b[0m\u001b[0;34m(\u001b[0m\u001b[0my_actual\u001b[0m\u001b[0;34m,\u001b[0m \u001b[0my_pred\u001b[0m\u001b[0;34m)\u001b[0m\u001b[0;34m\u001b[0m\u001b[0;34m\u001b[0m\u001b[0m\n\u001b[0m",
            "\u001b[0;31mNameError\u001b[0m: name 'y_actual' is not defined"
          ]
        }
      ],
      "source": [
        "matthews_corrcoef(y_actual, y_pred)"
      ]
    },
    {
      "cell_type": "code",
      "execution_count": 53,
      "id": "a1a1c7af",
      "metadata": {
        "colab": {
          "base_uri": "https://localhost:8080/",
          "height": 166
        },
        "id": "a1a1c7af",
        "outputId": "a9412402-d10a-4460-e4ba-c46872cbbb92"
      },
      "outputs": [
        {
          "output_type": "error",
          "ename": "NameError",
          "evalue": "ignored",
          "traceback": [
            "\u001b[0;31m---------------------------------------------------------------------------\u001b[0m",
            "\u001b[0;31mNameError\u001b[0m                                 Traceback (most recent call last)",
            "\u001b[0;32m<ipython-input-53-ab5aac64a767>\u001b[0m in \u001b[0;36m<module>\u001b[0;34m()\u001b[0m\n\u001b[0;32m----> 1\u001b[0;31m \u001b[0mclassification_report\u001b[0m\u001b[0;34m(\u001b[0m\u001b[0my_actual\u001b[0m\u001b[0;34m,\u001b[0m \u001b[0my_pred\u001b[0m\u001b[0;34m,\u001b[0m \u001b[0mtarget_names\u001b[0m\u001b[0;34m=\u001b[0m\u001b[0mclasses\u001b[0m\u001b[0;34m)\u001b[0m\u001b[0;34m\u001b[0m\u001b[0;34m\u001b[0m\u001b[0m\n\u001b[0m",
            "\u001b[0;31mNameError\u001b[0m: name 'y_actual' is not defined"
          ]
        }
      ],
      "source": [
        "classification_report(y_actual, y_pred, target_names=classes)"
      ]
    },
    {
      "cell_type": "code",
      "execution_count": 54,
      "id": "a3f94572",
      "metadata": {
        "colab": {
          "base_uri": "https://localhost:8080/",
          "height": 166
        },
        "id": "a3f94572",
        "outputId": "d21df203-9d05-4cad-d81c-6c65501bb09d"
      },
      "outputs": [
        {
          "output_type": "error",
          "ename": "NameError",
          "evalue": "ignored",
          "traceback": [
            "\u001b[0;31m---------------------------------------------------------------------------\u001b[0m",
            "\u001b[0;31mNameError\u001b[0m                                 Traceback (most recent call last)",
            "\u001b[0;32m<ipython-input-54-a5f88abf5f7d>\u001b[0m in \u001b[0;36m<module>\u001b[0;34m()\u001b[0m\n\u001b[0;32m----> 1\u001b[0;31m \u001b[0mcohen_kappa_score\u001b[0m\u001b[0;34m(\u001b[0m\u001b[0my_actual\u001b[0m\u001b[0;34m,\u001b[0m \u001b[0my_pred\u001b[0m\u001b[0;34m)\u001b[0m\u001b[0;34m\u001b[0m\u001b[0;34m\u001b[0m\u001b[0m\n\u001b[0m",
            "\u001b[0;31mNameError\u001b[0m: name 'y_actual' is not defined"
          ]
        }
      ],
      "source": [
        "cohen_kappa_score(y_actual, y_pred)"
      ]
    },
    {
      "cell_type": "code",
      "execution_count": 54,
      "id": "b283b9bf",
      "metadata": {
        "id": "b283b9bf"
      },
      "outputs": [],
      "source": [
        ""
      ]
    },
    {
      "cell_type": "markdown",
      "id": "30b1f094",
      "metadata": {
        "id": "30b1f094"
      },
      "source": [
        "### AlexNet \n"
      ]
    },
    {
      "cell_type": "markdown",
      "id": "71e24950",
      "metadata": {
        "id": "71e24950"
      },
      "source": [
        ""
      ]
    },
    {
      "cell_type": "code",
      "execution_count": 75,
      "id": "b7dbf10f",
      "metadata": {
        "id": "b7dbf10f"
      },
      "outputs": [],
      "source": [
        ""
      ]
    },
    {
      "cell_type": "code",
      "execution_count": 75,
      "id": "c7ac42e9",
      "metadata": {
        "id": "c7ac42e9"
      },
      "outputs": [],
      "source": [
        ""
      ]
    },
    {
      "cell_type": "code",
      "execution_count": 75,
      "id": "c1a8c8c1",
      "metadata": {
        "id": "c1a8c8c1"
      },
      "outputs": [],
      "source": [
        ""
      ]
    },
    {
      "cell_type": "code",
      "execution_count": 76,
      "id": "8ec6454d",
      "metadata": {
        "colab": {
          "base_uri": "https://localhost:8080/",
          "height": 236
        },
        "id": "8ec6454d",
        "outputId": "3445e038-f72c-4f71-d62a-231993aab4cd"
      },
      "outputs": [
        {
          "output_type": "error",
          "ename": "KeyboardInterrupt",
          "evalue": "ignored",
          "traceback": [
            "\u001b[0;31m---------------------------------------------------------------------------\u001b[0m",
            "\u001b[0;31mKeyboardInterrupt\u001b[0m                         Traceback (most recent call last)",
            "\u001b[0;32m<ipython-input-76-b3cbf1afe7c8>\u001b[0m in \u001b[0;36m<module>\u001b[0;34m()\u001b[0m\n\u001b[1;32m      3\u001b[0m \u001b[0;32mwith\u001b[0m \u001b[0mtorch\u001b[0m\u001b[0;34m.\u001b[0m\u001b[0mno_grad\u001b[0m\u001b[0;34m(\u001b[0m\u001b[0;34m)\u001b[0m\u001b[0;34m:\u001b[0m\u001b[0;34m\u001b[0m\u001b[0;34m\u001b[0m\u001b[0m\n\u001b[1;32m      4\u001b[0m     \u001b[0;32mfor\u001b[0m \u001b[0mdata\u001b[0m \u001b[0;32min\u001b[0m \u001b[0mtest_loader\u001b[0m\u001b[0;34m:\u001b[0m\u001b[0;34m\u001b[0m\u001b[0;34m\u001b[0m\u001b[0m\n\u001b[0;32m----> 5\u001b[0;31m         \u001b[0mimages\u001b[0m\u001b[0;34m,\u001b[0m \u001b[0mlabels\u001b[0m \u001b[0;34m=\u001b[0m \u001b[0mdata\u001b[0m\u001b[0;34m[\u001b[0m\u001b[0;36m0\u001b[0m\u001b[0;34m]\u001b[0m\u001b[0;34m.\u001b[0m\u001b[0mto\u001b[0m\u001b[0;34m(\u001b[0m\u001b[0mdevice\u001b[0m\u001b[0;34m)\u001b[0m\u001b[0;34m,\u001b[0m \u001b[0mdata\u001b[0m\u001b[0;34m[\u001b[0m\u001b[0;36m1\u001b[0m\u001b[0;34m]\u001b[0m\u001b[0;34m.\u001b[0m\u001b[0mto\u001b[0m\u001b[0;34m(\u001b[0m\u001b[0mdevice\u001b[0m\u001b[0;34m)\u001b[0m\u001b[0;34m\u001b[0m\u001b[0;34m\u001b[0m\u001b[0m\n\u001b[0m\u001b[1;32m      6\u001b[0m         \u001b[0moutputs\u001b[0m \u001b[0;34m=\u001b[0m \u001b[0malexnet\u001b[0m\u001b[0;34m(\u001b[0m\u001b[0mimages\u001b[0m\u001b[0;34m)\u001b[0m\u001b[0;34m\u001b[0m\u001b[0;34m\u001b[0m\u001b[0m\n\u001b[1;32m      7\u001b[0m         \u001b[0m_\u001b[0m\u001b[0;34m,\u001b[0m \u001b[0mpredicted\u001b[0m \u001b[0;34m=\u001b[0m \u001b[0mtorch\u001b[0m\u001b[0;34m.\u001b[0m\u001b[0mmax\u001b[0m\u001b[0;34m(\u001b[0m\u001b[0moutputs\u001b[0m\u001b[0;34m.\u001b[0m\u001b[0mdata\u001b[0m\u001b[0;34m,\u001b[0m \u001b[0;36m1\u001b[0m\u001b[0;34m)\u001b[0m\u001b[0;34m\u001b[0m\u001b[0;34m\u001b[0m\u001b[0m\n",
            "\u001b[0;31mKeyboardInterrupt\u001b[0m: "
          ]
        }
      ],
      "source": [
        "correct = 0\n",
        "total = 0\n",
        "with torch.no_grad():\n",
        "    for data in test_loader:\n",
        "        images, labels = data[0].to(device), data[1].to(device)\n",
        "        outputs = alexnet(images)\n",
        "        _, predicted = torch.max(outputs.data, 1)\n",
        "        total += labels.size(0)\n",
        "        correct += (predicted == labels).sum().item()\n",
        "\n",
        "print('Accuracy of the network on the 10000 test images: %d %%' % (\n",
        "    100 * correct / total))"
      ]
    },
    {
      "cell_type": "code",
      "execution_count": null,
      "id": "971778e6",
      "metadata": {
        "id": "971778e6"
      },
      "outputs": [],
      "source": [
        "correct_pred, total_pred, y_actual, y_pred, confusion_matrix = test_model(alexnet)\n",
        "\n",
        "for i in range(10):\n",
        "    print('Accuracy of %5s : %2d %%' % (\n",
        "        classes[i], 100 * correct_pred[i] / total_pred[i]))"
      ]
    },
    {
      "cell_type": "code",
      "execution_count": null,
      "id": "d59dba53",
      "metadata": {
        "id": "d59dba53"
      },
      "outputs": [],
      "source": [
        "avg = 0\n",
        "for i in range(10):\n",
        "  temp = (100 * correct_pred[i] / total_pred[i])\n",
        "  avg = avg + temp\n",
        "avg = avg/10\n",
        "print('Average accuracy = ', avg)"
      ]
    },
    {
      "cell_type": "code",
      "execution_count": null,
      "id": "b6e6c9d9",
      "metadata": {
        "id": "b6e6c9d9"
      },
      "outputs": [],
      "source": [
        "matthews_corrcoef(y_actual, y_pred)"
      ]
    },
    {
      "cell_type": "code",
      "execution_count": null,
      "id": "25d9c10d",
      "metadata": {
        "id": "25d9c10d"
      },
      "outputs": [],
      "source": [
        "classification_report(y_actual, y_pred, target_names=classes)"
      ]
    },
    {
      "cell_type": "code",
      "execution_count": null,
      "id": "1746ee54",
      "metadata": {
        "id": "1746ee54"
      },
      "outputs": [],
      "source": [
        "cohen_kappa_score(y_actual, y_pred)"
      ]
    },
    {
      "cell_type": "code",
      "execution_count": null,
      "id": "b8091b78",
      "metadata": {
        "id": "b8091b78"
      },
      "outputs": [],
      "source": [
        ""
      ]
    },
    {
      "cell_type": "markdown",
      "id": "2536b1f9",
      "metadata": {
        "id": "2536b1f9"
      },
      "source": [
        "### Resnet\n"
      ]
    },
    {
      "cell_type": "code",
      "execution_count": 68,
      "id": "b5466b78",
      "metadata": {
        "id": "b5466b78"
      },
      "outputs": [],
      "source": [
        ""
      ]
    },
    {
      "cell_type": "code",
      "execution_count": 68,
      "id": "1d80ed22",
      "metadata": {
        "id": "1d80ed22"
      },
      "outputs": [],
      "source": [
        ""
      ]
    },
    {
      "cell_type": "code",
      "execution_count": 68,
      "id": "a6bc2909",
      "metadata": {
        "id": "a6bc2909"
      },
      "outputs": [],
      "source": [
        ""
      ]
    },
    {
      "cell_type": "code",
      "execution_count": 69,
      "id": "b4a1dba8",
      "metadata": {
        "colab": {
          "base_uri": "https://localhost:8080/",
          "height": 381
        },
        "id": "b4a1dba8",
        "outputId": "5941d6bc-a9dc-4b66-cabe-ee9a6b5ee8cd"
      },
      "outputs": [
        {
          "output_type": "error",
          "ename": "RuntimeError",
          "evalue": "ignored",
          "traceback": [
            "\u001b[0;31m---------------------------------------------------------------------------\u001b[0m",
            "\u001b[0;31mRuntimeError\u001b[0m                              Traceback (most recent call last)",
            "\u001b[0;32m<ipython-input-69-7e8c508835b0>\u001b[0m in \u001b[0;36m<module>\u001b[0;34m()\u001b[0m\n\u001b[1;32m      5\u001b[0m         \u001b[0mimages\u001b[0m \u001b[0;34m=\u001b[0m \u001b[0mimages\u001b[0m\u001b[0;34m.\u001b[0m\u001b[0mto\u001b[0m\u001b[0;34m(\u001b[0m\u001b[0mdevice\u001b[0m\u001b[0;34m)\u001b[0m\u001b[0;34m\u001b[0m\u001b[0;34m\u001b[0m\u001b[0m\n\u001b[1;32m      6\u001b[0m         \u001b[0mlabels\u001b[0m \u001b[0;34m=\u001b[0m \u001b[0mlabels\u001b[0m\u001b[0;34m.\u001b[0m\u001b[0mto\u001b[0m\u001b[0;34m(\u001b[0m\u001b[0mdevice\u001b[0m\u001b[0;34m)\u001b[0m\u001b[0;34m\u001b[0m\u001b[0;34m\u001b[0m\u001b[0m\n\u001b[0;32m----> 7\u001b[0;31m         \u001b[0moutputs\u001b[0m \u001b[0;34m=\u001b[0m \u001b[0mresnet\u001b[0m\u001b[0;34m(\u001b[0m\u001b[0mimages\u001b[0m\u001b[0;34m)\u001b[0m\u001b[0;34m\u001b[0m\u001b[0;34m\u001b[0m\u001b[0m\n\u001b[0m\u001b[1;32m      8\u001b[0m         \u001b[0m_\u001b[0m\u001b[0;34m,\u001b[0m \u001b[0mpredicted\u001b[0m \u001b[0;34m=\u001b[0m \u001b[0mtorch\u001b[0m\u001b[0;34m.\u001b[0m\u001b[0mmax\u001b[0m\u001b[0;34m(\u001b[0m\u001b[0moutputs\u001b[0m\u001b[0;34m.\u001b[0m\u001b[0mdata\u001b[0m\u001b[0;34m,\u001b[0m \u001b[0;36m1\u001b[0m\u001b[0;34m)\u001b[0m\u001b[0;34m\u001b[0m\u001b[0;34m\u001b[0m\u001b[0m\n\u001b[1;32m      9\u001b[0m         \u001b[0mtotal\u001b[0m \u001b[0;34m+=\u001b[0m \u001b[0mlabels\u001b[0m\u001b[0;34m.\u001b[0m\u001b[0msize\u001b[0m\u001b[0;34m(\u001b[0m\u001b[0;36m0\u001b[0m\u001b[0;34m)\u001b[0m\u001b[0;34m\u001b[0m\u001b[0;34m\u001b[0m\u001b[0m\n",
            "\u001b[0;32m/usr/local/lib/python3.7/dist-packages/torch/nn/modules/module.py\u001b[0m in \u001b[0;36m_call_impl\u001b[0;34m(self, *input, **kwargs)\u001b[0m\n\u001b[1;32m   1100\u001b[0m         if not (self._backward_hooks or self._forward_hooks or self._forward_pre_hooks or _global_backward_hooks\n\u001b[1;32m   1101\u001b[0m                 or _global_forward_hooks or _global_forward_pre_hooks):\n\u001b[0;32m-> 1102\u001b[0;31m             \u001b[0;32mreturn\u001b[0m \u001b[0mforward_call\u001b[0m\u001b[0;34m(\u001b[0m\u001b[0;34m*\u001b[0m\u001b[0minput\u001b[0m\u001b[0;34m,\u001b[0m \u001b[0;34m**\u001b[0m\u001b[0mkwargs\u001b[0m\u001b[0;34m)\u001b[0m\u001b[0;34m\u001b[0m\u001b[0;34m\u001b[0m\u001b[0m\n\u001b[0m\u001b[1;32m   1103\u001b[0m         \u001b[0;31m# Do not call functions when jit is used\u001b[0m\u001b[0;34m\u001b[0m\u001b[0;34m\u001b[0m\u001b[0;34m\u001b[0m\u001b[0m\n\u001b[1;32m   1104\u001b[0m         \u001b[0mfull_backward_hooks\u001b[0m\u001b[0;34m,\u001b[0m \u001b[0mnon_full_backward_hooks\u001b[0m \u001b[0;34m=\u001b[0m \u001b[0;34m[\u001b[0m\u001b[0;34m]\u001b[0m\u001b[0;34m,\u001b[0m \u001b[0;34m[\u001b[0m\u001b[0;34m]\u001b[0m\u001b[0;34m\u001b[0m\u001b[0;34m\u001b[0m\u001b[0m\n",
            "\u001b[0;32m<ipython-input-29-52bb4f256453>\u001b[0m in \u001b[0;36mforward\u001b[0;34m(self, x)\u001b[0m\n\u001b[1;32m     71\u001b[0m         \u001b[0mout\u001b[0m \u001b[0;34m=\u001b[0m \u001b[0mself\u001b[0m\u001b[0;34m.\u001b[0m\u001b[0mavg_pool\u001b[0m\u001b[0;34m(\u001b[0m\u001b[0mout\u001b[0m\u001b[0;34m)\u001b[0m\u001b[0;34m\u001b[0m\u001b[0;34m\u001b[0m\u001b[0m\n\u001b[1;32m     72\u001b[0m         \u001b[0mout\u001b[0m \u001b[0;34m=\u001b[0m \u001b[0mout\u001b[0m\u001b[0;34m.\u001b[0m\u001b[0mview\u001b[0m\u001b[0;34m(\u001b[0m\u001b[0mout\u001b[0m\u001b[0;34m.\u001b[0m\u001b[0msize\u001b[0m\u001b[0;34m(\u001b[0m\u001b[0;36m0\u001b[0m\u001b[0;34m)\u001b[0m\u001b[0;34m,\u001b[0m \u001b[0;34m-\u001b[0m\u001b[0;36m1\u001b[0m\u001b[0;34m)\u001b[0m\u001b[0;34m\u001b[0m\u001b[0;34m\u001b[0m\u001b[0m\n\u001b[0;32m---> 73\u001b[0;31m         \u001b[0mout\u001b[0m \u001b[0;34m=\u001b[0m \u001b[0mself\u001b[0m\u001b[0;34m.\u001b[0m\u001b[0mfc\u001b[0m\u001b[0;34m(\u001b[0m\u001b[0mout\u001b[0m\u001b[0;34m)\u001b[0m\u001b[0;34m\u001b[0m\u001b[0;34m\u001b[0m\u001b[0m\n\u001b[0m\u001b[1;32m     74\u001b[0m         \u001b[0;32mreturn\u001b[0m \u001b[0mout\u001b[0m\u001b[0;34m\u001b[0m\u001b[0;34m\u001b[0m\u001b[0m\n\u001b[1;32m     75\u001b[0m \u001b[0;34m\u001b[0m\u001b[0m\n",
            "\u001b[0;32m/usr/local/lib/python3.7/dist-packages/torch/nn/modules/module.py\u001b[0m in \u001b[0;36m_call_impl\u001b[0;34m(self, *input, **kwargs)\u001b[0m\n\u001b[1;32m   1100\u001b[0m         if not (self._backward_hooks or self._forward_hooks or self._forward_pre_hooks or _global_backward_hooks\n\u001b[1;32m   1101\u001b[0m                 or _global_forward_hooks or _global_forward_pre_hooks):\n\u001b[0;32m-> 1102\u001b[0;31m             \u001b[0;32mreturn\u001b[0m \u001b[0mforward_call\u001b[0m\u001b[0;34m(\u001b[0m\u001b[0;34m*\u001b[0m\u001b[0minput\u001b[0m\u001b[0;34m,\u001b[0m \u001b[0;34m**\u001b[0m\u001b[0mkwargs\u001b[0m\u001b[0;34m)\u001b[0m\u001b[0;34m\u001b[0m\u001b[0;34m\u001b[0m\u001b[0m\n\u001b[0m\u001b[1;32m   1103\u001b[0m         \u001b[0;31m# Do not call functions when jit is used\u001b[0m\u001b[0;34m\u001b[0m\u001b[0;34m\u001b[0m\u001b[0;34m\u001b[0m\u001b[0m\n\u001b[1;32m   1104\u001b[0m         \u001b[0mfull_backward_hooks\u001b[0m\u001b[0;34m,\u001b[0m \u001b[0mnon_full_backward_hooks\u001b[0m \u001b[0;34m=\u001b[0m \u001b[0;34m[\u001b[0m\u001b[0;34m]\u001b[0m\u001b[0;34m,\u001b[0m \u001b[0;34m[\u001b[0m\u001b[0;34m]\u001b[0m\u001b[0;34m\u001b[0m\u001b[0;34m\u001b[0m\u001b[0m\n",
            "\u001b[0;32m/usr/local/lib/python3.7/dist-packages/torch/nn/modules/linear.py\u001b[0m in \u001b[0;36mforward\u001b[0;34m(self, input)\u001b[0m\n\u001b[1;32m    101\u001b[0m \u001b[0;34m\u001b[0m\u001b[0m\n\u001b[1;32m    102\u001b[0m     \u001b[0;32mdef\u001b[0m \u001b[0mforward\u001b[0m\u001b[0;34m(\u001b[0m\u001b[0mself\u001b[0m\u001b[0;34m,\u001b[0m \u001b[0minput\u001b[0m\u001b[0;34m:\u001b[0m \u001b[0mTensor\u001b[0m\u001b[0;34m)\u001b[0m \u001b[0;34m->\u001b[0m \u001b[0mTensor\u001b[0m\u001b[0;34m:\u001b[0m\u001b[0;34m\u001b[0m\u001b[0;34m\u001b[0m\u001b[0m\n\u001b[0;32m--> 103\u001b[0;31m         \u001b[0;32mreturn\u001b[0m \u001b[0mF\u001b[0m\u001b[0;34m.\u001b[0m\u001b[0mlinear\u001b[0m\u001b[0;34m(\u001b[0m\u001b[0minput\u001b[0m\u001b[0;34m,\u001b[0m \u001b[0mself\u001b[0m\u001b[0;34m.\u001b[0m\u001b[0mweight\u001b[0m\u001b[0;34m,\u001b[0m \u001b[0mself\u001b[0m\u001b[0;34m.\u001b[0m\u001b[0mbias\u001b[0m\u001b[0;34m)\u001b[0m\u001b[0;34m\u001b[0m\u001b[0;34m\u001b[0m\u001b[0m\n\u001b[0m\u001b[1;32m    104\u001b[0m \u001b[0;34m\u001b[0m\u001b[0m\n\u001b[1;32m    105\u001b[0m     \u001b[0;32mdef\u001b[0m \u001b[0mextra_repr\u001b[0m\u001b[0;34m(\u001b[0m\u001b[0mself\u001b[0m\u001b[0;34m)\u001b[0m \u001b[0;34m->\u001b[0m \u001b[0mstr\u001b[0m\u001b[0;34m:\u001b[0m\u001b[0;34m\u001b[0m\u001b[0;34m\u001b[0m\u001b[0m\n",
            "\u001b[0;32m/usr/local/lib/python3.7/dist-packages/torch/nn/functional.py\u001b[0m in \u001b[0;36mlinear\u001b[0;34m(input, weight, bias)\u001b[0m\n\u001b[1;32m   1846\u001b[0m     \u001b[0;32mif\u001b[0m \u001b[0mhas_torch_function_variadic\u001b[0m\u001b[0;34m(\u001b[0m\u001b[0minput\u001b[0m\u001b[0;34m,\u001b[0m \u001b[0mweight\u001b[0m\u001b[0;34m,\u001b[0m \u001b[0mbias\u001b[0m\u001b[0;34m)\u001b[0m\u001b[0;34m:\u001b[0m\u001b[0;34m\u001b[0m\u001b[0;34m\u001b[0m\u001b[0m\n\u001b[1;32m   1847\u001b[0m         \u001b[0;32mreturn\u001b[0m \u001b[0mhandle_torch_function\u001b[0m\u001b[0;34m(\u001b[0m\u001b[0mlinear\u001b[0m\u001b[0;34m,\u001b[0m \u001b[0;34m(\u001b[0m\u001b[0minput\u001b[0m\u001b[0;34m,\u001b[0m \u001b[0mweight\u001b[0m\u001b[0;34m,\u001b[0m \u001b[0mbias\u001b[0m\u001b[0;34m)\u001b[0m\u001b[0;34m,\u001b[0m \u001b[0minput\u001b[0m\u001b[0;34m,\u001b[0m \u001b[0mweight\u001b[0m\u001b[0;34m,\u001b[0m \u001b[0mbias\u001b[0m\u001b[0;34m=\u001b[0m\u001b[0mbias\u001b[0m\u001b[0;34m)\u001b[0m\u001b[0;34m\u001b[0m\u001b[0;34m\u001b[0m\u001b[0m\n\u001b[0;32m-> 1848\u001b[0;31m     \u001b[0;32mreturn\u001b[0m \u001b[0mtorch\u001b[0m\u001b[0;34m.\u001b[0m\u001b[0m_C\u001b[0m\u001b[0;34m.\u001b[0m\u001b[0m_nn\u001b[0m\u001b[0;34m.\u001b[0m\u001b[0mlinear\u001b[0m\u001b[0;34m(\u001b[0m\u001b[0minput\u001b[0m\u001b[0;34m,\u001b[0m \u001b[0mweight\u001b[0m\u001b[0;34m,\u001b[0m \u001b[0mbias\u001b[0m\u001b[0;34m)\u001b[0m\u001b[0;34m\u001b[0m\u001b[0;34m\u001b[0m\u001b[0m\n\u001b[0m\u001b[1;32m   1849\u001b[0m \u001b[0;34m\u001b[0m\u001b[0m\n\u001b[1;32m   1850\u001b[0m \u001b[0;34m\u001b[0m\u001b[0m\n",
            "\u001b[0;31mRuntimeError\u001b[0m: mat1 and mat2 shapes cannot be multiplied (64x3136 and 64x10)"
          ]
        }
      ],
      "source": [
        "with torch.no_grad():\n",
        "    correct = 0\n",
        "    total = 0\n",
        "    for images, labels in test_loader:\n",
        "        images = images.to(device)\n",
        "        labels = labels.to(device)\n",
        "        outputs = resnet(images)\n",
        "        _, predicted = torch.max(outputs.data, 1)\n",
        "        total += labels.size(0)\n",
        "        correct += (predicted == labels).sum().item()\n",
        "\n",
        "    print('Accuracy of the model on the test images: {} %'.format(100 * correct / total))\n",
        "\n",
        "# Save the model checkpoint\n",
        "torch.save(resnet.state_dict(), 'resnet.ckpt')"
      ]
    },
    {
      "cell_type": "code",
      "execution_count": 75,
      "id": "41ae6792",
      "metadata": {
        "colab": {
          "base_uri": "https://localhost:8080/",
          "height": 381
        },
        "id": "41ae6792",
        "outputId": "da7d25c4-24ea-46dc-ff84-e304c72d1e51"
      },
      "outputs": [
        {
          "output_type": "error",
          "ename": "RuntimeError",
          "evalue": "ignored",
          "traceback": [
            "\u001b[0;31m---------------------------------------------------------------------------\u001b[0m",
            "\u001b[0;31mRuntimeError\u001b[0m                              Traceback (most recent call last)",
            "\u001b[0;32m<ipython-input-75-d6b5a5076c72>\u001b[0m in \u001b[0;36m<module>\u001b[0;34m()\u001b[0m\n\u001b[0;32m----> 1\u001b[0;31m \u001b[0mcorrect_pred\u001b[0m\u001b[0;34m,\u001b[0m \u001b[0mtotal_pred\u001b[0m\u001b[0;34m,\u001b[0m \u001b[0my_actual\u001b[0m\u001b[0;34m,\u001b[0m \u001b[0my_pred\u001b[0m\u001b[0;34m,\u001b[0m \u001b[0mconfusion_matrix\u001b[0m \u001b[0;34m=\u001b[0m \u001b[0mtest_model\u001b[0m\u001b[0;34m(\u001b[0m\u001b[0mresnet\u001b[0m\u001b[0;34m)\u001b[0m\u001b[0;34m\u001b[0m\u001b[0;34m\u001b[0m\u001b[0m\n\u001b[0m\u001b[1;32m      2\u001b[0m \u001b[0;34m\u001b[0m\u001b[0m\n\u001b[1;32m      3\u001b[0m \u001b[0;34m\u001b[0m\u001b[0m\n\u001b[1;32m      4\u001b[0m \u001b[0;32mfor\u001b[0m \u001b[0mi\u001b[0m \u001b[0;32min\u001b[0m \u001b[0mrange\u001b[0m\u001b[0;34m(\u001b[0m\u001b[0;36m10\u001b[0m\u001b[0;34m)\u001b[0m\u001b[0;34m:\u001b[0m\u001b[0;34m\u001b[0m\u001b[0;34m\u001b[0m\u001b[0m\n\u001b[1;32m      5\u001b[0m     print('Accuracy of %5s : %2d %%' % (\n",
            "\u001b[0;32m<ipython-input-61-bead48049229>\u001b[0m in \u001b[0;36mtest_model\u001b[0;34m(model)\u001b[0m\n\u001b[1;32m     13\u001b[0m         \u001b[0;32mfor\u001b[0m \u001b[0mdata\u001b[0m \u001b[0;32min\u001b[0m \u001b[0mtest_loader\u001b[0m\u001b[0;34m:\u001b[0m\u001b[0;34m\u001b[0m\u001b[0;34m\u001b[0m\u001b[0m\n\u001b[1;32m     14\u001b[0m             \u001b[0mimages\u001b[0m\u001b[0;34m,\u001b[0m \u001b[0mlabels\u001b[0m \u001b[0;34m=\u001b[0m \u001b[0mdata\u001b[0m\u001b[0;34m[\u001b[0m\u001b[0;36m0\u001b[0m\u001b[0;34m]\u001b[0m\u001b[0;34m.\u001b[0m\u001b[0mto\u001b[0m\u001b[0;34m(\u001b[0m\u001b[0mdevice\u001b[0m\u001b[0;34m)\u001b[0m\u001b[0;34m,\u001b[0m \u001b[0mdata\u001b[0m\u001b[0;34m[\u001b[0m\u001b[0;36m1\u001b[0m\u001b[0;34m]\u001b[0m\u001b[0;34m.\u001b[0m\u001b[0mto\u001b[0m\u001b[0;34m(\u001b[0m\u001b[0mdevice\u001b[0m\u001b[0;34m)\u001b[0m\u001b[0;34m\u001b[0m\u001b[0;34m\u001b[0m\u001b[0m\n\u001b[0;32m---> 15\u001b[0;31m             \u001b[0moutputs\u001b[0m \u001b[0;34m=\u001b[0m \u001b[0mmodel\u001b[0m\u001b[0;34m(\u001b[0m\u001b[0mimages\u001b[0m\u001b[0;34m)\u001b[0m\u001b[0;34m\u001b[0m\u001b[0;34m\u001b[0m\u001b[0m\n\u001b[0m\u001b[1;32m     16\u001b[0m             \u001b[0m_\u001b[0m\u001b[0;34m,\u001b[0m \u001b[0mpredicted\u001b[0m \u001b[0;34m=\u001b[0m \u001b[0mtorch\u001b[0m\u001b[0;34m.\u001b[0m\u001b[0mmax\u001b[0m\u001b[0;34m(\u001b[0m\u001b[0moutputs\u001b[0m\u001b[0;34m,\u001b[0m \u001b[0;36m1\u001b[0m\u001b[0;34m)\u001b[0m\u001b[0;34m\u001b[0m\u001b[0;34m\u001b[0m\u001b[0m\n\u001b[1;32m     17\u001b[0m             \u001b[0mc\u001b[0m \u001b[0;34m=\u001b[0m \u001b[0;34m(\u001b[0m\u001b[0mpredicted\u001b[0m \u001b[0;34m==\u001b[0m \u001b[0mlabels\u001b[0m\u001b[0;34m)\u001b[0m\u001b[0;34m.\u001b[0m\u001b[0msqueeze\u001b[0m\u001b[0;34m(\u001b[0m\u001b[0;34m)\u001b[0m\u001b[0;34m\u001b[0m\u001b[0;34m\u001b[0m\u001b[0m\n",
            "\u001b[0;32m/usr/local/lib/python3.7/dist-packages/torch/nn/modules/module.py\u001b[0m in \u001b[0;36m_call_impl\u001b[0;34m(self, *input, **kwargs)\u001b[0m\n\u001b[1;32m   1100\u001b[0m         if not (self._backward_hooks or self._forward_hooks or self._forward_pre_hooks or _global_backward_hooks\n\u001b[1;32m   1101\u001b[0m                 or _global_forward_hooks or _global_forward_pre_hooks):\n\u001b[0;32m-> 1102\u001b[0;31m             \u001b[0;32mreturn\u001b[0m \u001b[0mforward_call\u001b[0m\u001b[0;34m(\u001b[0m\u001b[0;34m*\u001b[0m\u001b[0minput\u001b[0m\u001b[0;34m,\u001b[0m \u001b[0;34m**\u001b[0m\u001b[0mkwargs\u001b[0m\u001b[0;34m)\u001b[0m\u001b[0;34m\u001b[0m\u001b[0;34m\u001b[0m\u001b[0m\n\u001b[0m\u001b[1;32m   1103\u001b[0m         \u001b[0;31m# Do not call functions when jit is used\u001b[0m\u001b[0;34m\u001b[0m\u001b[0;34m\u001b[0m\u001b[0;34m\u001b[0m\u001b[0m\n\u001b[1;32m   1104\u001b[0m         \u001b[0mfull_backward_hooks\u001b[0m\u001b[0;34m,\u001b[0m \u001b[0mnon_full_backward_hooks\u001b[0m \u001b[0;34m=\u001b[0m \u001b[0;34m[\u001b[0m\u001b[0;34m]\u001b[0m\u001b[0;34m,\u001b[0m \u001b[0;34m[\u001b[0m\u001b[0;34m]\u001b[0m\u001b[0;34m\u001b[0m\u001b[0;34m\u001b[0m\u001b[0m\n",
            "\u001b[0;32m<ipython-input-29-52bb4f256453>\u001b[0m in \u001b[0;36mforward\u001b[0;34m(self, x)\u001b[0m\n\u001b[1;32m     71\u001b[0m         \u001b[0mout\u001b[0m \u001b[0;34m=\u001b[0m \u001b[0mself\u001b[0m\u001b[0;34m.\u001b[0m\u001b[0mavg_pool\u001b[0m\u001b[0;34m(\u001b[0m\u001b[0mout\u001b[0m\u001b[0;34m)\u001b[0m\u001b[0;34m\u001b[0m\u001b[0;34m\u001b[0m\u001b[0m\n\u001b[1;32m     72\u001b[0m         \u001b[0mout\u001b[0m \u001b[0;34m=\u001b[0m \u001b[0mout\u001b[0m\u001b[0;34m.\u001b[0m\u001b[0mview\u001b[0m\u001b[0;34m(\u001b[0m\u001b[0mout\u001b[0m\u001b[0;34m.\u001b[0m\u001b[0msize\u001b[0m\u001b[0;34m(\u001b[0m\u001b[0;36m0\u001b[0m\u001b[0;34m)\u001b[0m\u001b[0;34m,\u001b[0m \u001b[0;34m-\u001b[0m\u001b[0;36m1\u001b[0m\u001b[0;34m)\u001b[0m\u001b[0;34m\u001b[0m\u001b[0;34m\u001b[0m\u001b[0m\n\u001b[0;32m---> 73\u001b[0;31m         \u001b[0mout\u001b[0m \u001b[0;34m=\u001b[0m \u001b[0mself\u001b[0m\u001b[0;34m.\u001b[0m\u001b[0mfc\u001b[0m\u001b[0;34m(\u001b[0m\u001b[0mout\u001b[0m\u001b[0;34m)\u001b[0m\u001b[0;34m\u001b[0m\u001b[0;34m\u001b[0m\u001b[0m\n\u001b[0m\u001b[1;32m     74\u001b[0m         \u001b[0;32mreturn\u001b[0m \u001b[0mout\u001b[0m\u001b[0;34m\u001b[0m\u001b[0;34m\u001b[0m\u001b[0m\n\u001b[1;32m     75\u001b[0m \u001b[0;34m\u001b[0m\u001b[0m\n",
            "\u001b[0;32m/usr/local/lib/python3.7/dist-packages/torch/nn/modules/module.py\u001b[0m in \u001b[0;36m_call_impl\u001b[0;34m(self, *input, **kwargs)\u001b[0m\n\u001b[1;32m   1100\u001b[0m         if not (self._backward_hooks or self._forward_hooks or self._forward_pre_hooks or _global_backward_hooks\n\u001b[1;32m   1101\u001b[0m                 or _global_forward_hooks or _global_forward_pre_hooks):\n\u001b[0;32m-> 1102\u001b[0;31m             \u001b[0;32mreturn\u001b[0m \u001b[0mforward_call\u001b[0m\u001b[0;34m(\u001b[0m\u001b[0;34m*\u001b[0m\u001b[0minput\u001b[0m\u001b[0;34m,\u001b[0m \u001b[0;34m**\u001b[0m\u001b[0mkwargs\u001b[0m\u001b[0;34m)\u001b[0m\u001b[0;34m\u001b[0m\u001b[0;34m\u001b[0m\u001b[0m\n\u001b[0m\u001b[1;32m   1103\u001b[0m         \u001b[0;31m# Do not call functions when jit is used\u001b[0m\u001b[0;34m\u001b[0m\u001b[0;34m\u001b[0m\u001b[0;34m\u001b[0m\u001b[0m\n\u001b[1;32m   1104\u001b[0m         \u001b[0mfull_backward_hooks\u001b[0m\u001b[0;34m,\u001b[0m \u001b[0mnon_full_backward_hooks\u001b[0m \u001b[0;34m=\u001b[0m \u001b[0;34m[\u001b[0m\u001b[0;34m]\u001b[0m\u001b[0;34m,\u001b[0m \u001b[0;34m[\u001b[0m\u001b[0;34m]\u001b[0m\u001b[0;34m\u001b[0m\u001b[0;34m\u001b[0m\u001b[0m\n",
            "\u001b[0;32m/usr/local/lib/python3.7/dist-packages/torch/nn/modules/linear.py\u001b[0m in \u001b[0;36mforward\u001b[0;34m(self, input)\u001b[0m\n\u001b[1;32m    101\u001b[0m \u001b[0;34m\u001b[0m\u001b[0m\n\u001b[1;32m    102\u001b[0m     \u001b[0;32mdef\u001b[0m \u001b[0mforward\u001b[0m\u001b[0;34m(\u001b[0m\u001b[0mself\u001b[0m\u001b[0;34m,\u001b[0m \u001b[0minput\u001b[0m\u001b[0;34m:\u001b[0m \u001b[0mTensor\u001b[0m\u001b[0;34m)\u001b[0m \u001b[0;34m->\u001b[0m \u001b[0mTensor\u001b[0m\u001b[0;34m:\u001b[0m\u001b[0;34m\u001b[0m\u001b[0;34m\u001b[0m\u001b[0m\n\u001b[0;32m--> 103\u001b[0;31m         \u001b[0;32mreturn\u001b[0m \u001b[0mF\u001b[0m\u001b[0;34m.\u001b[0m\u001b[0mlinear\u001b[0m\u001b[0;34m(\u001b[0m\u001b[0minput\u001b[0m\u001b[0;34m,\u001b[0m \u001b[0mself\u001b[0m\u001b[0;34m.\u001b[0m\u001b[0mweight\u001b[0m\u001b[0;34m,\u001b[0m \u001b[0mself\u001b[0m\u001b[0;34m.\u001b[0m\u001b[0mbias\u001b[0m\u001b[0;34m)\u001b[0m\u001b[0;34m\u001b[0m\u001b[0;34m\u001b[0m\u001b[0m\n\u001b[0m\u001b[1;32m    104\u001b[0m \u001b[0;34m\u001b[0m\u001b[0m\n\u001b[1;32m    105\u001b[0m     \u001b[0;32mdef\u001b[0m \u001b[0mextra_repr\u001b[0m\u001b[0;34m(\u001b[0m\u001b[0mself\u001b[0m\u001b[0;34m)\u001b[0m \u001b[0;34m->\u001b[0m \u001b[0mstr\u001b[0m\u001b[0;34m:\u001b[0m\u001b[0;34m\u001b[0m\u001b[0;34m\u001b[0m\u001b[0m\n",
            "\u001b[0;32m/usr/local/lib/python3.7/dist-packages/torch/nn/functional.py\u001b[0m in \u001b[0;36mlinear\u001b[0;34m(input, weight, bias)\u001b[0m\n\u001b[1;32m   1846\u001b[0m     \u001b[0;32mif\u001b[0m \u001b[0mhas_torch_function_variadic\u001b[0m\u001b[0;34m(\u001b[0m\u001b[0minput\u001b[0m\u001b[0;34m,\u001b[0m \u001b[0mweight\u001b[0m\u001b[0;34m,\u001b[0m \u001b[0mbias\u001b[0m\u001b[0;34m)\u001b[0m\u001b[0;34m:\u001b[0m\u001b[0;34m\u001b[0m\u001b[0;34m\u001b[0m\u001b[0m\n\u001b[1;32m   1847\u001b[0m         \u001b[0;32mreturn\u001b[0m \u001b[0mhandle_torch_function\u001b[0m\u001b[0;34m(\u001b[0m\u001b[0mlinear\u001b[0m\u001b[0;34m,\u001b[0m \u001b[0;34m(\u001b[0m\u001b[0minput\u001b[0m\u001b[0;34m,\u001b[0m \u001b[0mweight\u001b[0m\u001b[0;34m,\u001b[0m \u001b[0mbias\u001b[0m\u001b[0;34m)\u001b[0m\u001b[0;34m,\u001b[0m \u001b[0minput\u001b[0m\u001b[0;34m,\u001b[0m \u001b[0mweight\u001b[0m\u001b[0;34m,\u001b[0m \u001b[0mbias\u001b[0m\u001b[0;34m=\u001b[0m\u001b[0mbias\u001b[0m\u001b[0;34m)\u001b[0m\u001b[0;34m\u001b[0m\u001b[0;34m\u001b[0m\u001b[0m\n\u001b[0;32m-> 1848\u001b[0;31m     \u001b[0;32mreturn\u001b[0m \u001b[0mtorch\u001b[0m\u001b[0;34m.\u001b[0m\u001b[0m_C\u001b[0m\u001b[0;34m.\u001b[0m\u001b[0m_nn\u001b[0m\u001b[0;34m.\u001b[0m\u001b[0mlinear\u001b[0m\u001b[0;34m(\u001b[0m\u001b[0minput\u001b[0m\u001b[0;34m,\u001b[0m \u001b[0mweight\u001b[0m\u001b[0;34m,\u001b[0m \u001b[0mbias\u001b[0m\u001b[0;34m)\u001b[0m\u001b[0;34m\u001b[0m\u001b[0;34m\u001b[0m\u001b[0m\n\u001b[0m\u001b[1;32m   1849\u001b[0m \u001b[0;34m\u001b[0m\u001b[0m\n\u001b[1;32m   1850\u001b[0m \u001b[0;34m\u001b[0m\u001b[0m\n",
            "\u001b[0;31mRuntimeError\u001b[0m: mat1 and mat2 shapes cannot be multiplied (64x3136 and 64x10)"
          ]
        }
      ],
      "source": [
        "correct_pred, total_pred, y_actual, y_pred, confusion_matrix = test_model(resnet)\n",
        "\n",
        "\n",
        "for i in range(10):\n",
        "    print('Accuracy of %5s : %2d %%' % (\n",
        "        classes[i], 100 * correct_pred[i] / total_pred[i]))"
      ]
    },
    {
      "cell_type": "code",
      "execution_count": 71,
      "id": "29926375",
      "metadata": {
        "colab": {
          "base_uri": "https://localhost:8080/"
        },
        "id": "29926375",
        "outputId": "eaadc226-7c43-4afb-c2d6-61a64073661d"
      },
      "outputs": [
        {
          "output_type": "stream",
          "name": "stdout",
          "text": [
            "Average accuracy =  89.74281842864677\n"
          ]
        }
      ],
      "source": [
        "avg = 0\n",
        "for i in range(10):\n",
        "  temp = (100 * correct_pred[i] / total_pred[i])\n",
        "  avg = avg + temp\n",
        "avg = avg/10\n",
        "print('Average accuracy = ', avg)"
      ]
    },
    {
      "cell_type": "code",
      "execution_count": 72,
      "id": "916b93d9",
      "metadata": {
        "colab": {
          "base_uri": "https://localhost:8080/"
        },
        "id": "916b93d9",
        "outputId": "3dd24964-9ec4-4ba8-b75f-01edac5f2342"
      },
      "outputs": [
        {
          "output_type": "execute_result",
          "data": {
            "text/plain": [
              "0.8758796701620699"
            ]
          },
          "metadata": {},
          "execution_count": 72
        }
      ],
      "source": [
        "matthews_corrcoef(y_actual, y_pred)"
      ]
    },
    {
      "cell_type": "code",
      "execution_count": 73,
      "id": "8d7a60d0",
      "metadata": {
        "colab": {
          "base_uri": "https://localhost:8080/",
          "height": 87
        },
        "id": "8d7a60d0",
        "outputId": "16165a6f-7061-4c78-f320-4eaa11fe5099"
      },
      "outputs": [
        {
          "output_type": "execute_result",
          "data": {
            "application/vnd.google.colaboratory.intrinsic+json": {
              "type": "string"
            },
            "text/plain": [
              "'              precision    recall  f1-score   support\\n\\n    airplane       0.88      0.92      0.90      1000\\n  automobile       0.94      0.94      0.94      1000\\n        bird       0.89      0.88      0.88      1000\\n         cat       0.67      0.91      0.77      1000\\n        deer       0.88      0.89      0.89      1000\\n         dog       0.93      0.71      0.81      1000\\n        frog       0.97      0.89      0.93      1000\\n       horse       0.94      0.89      0.91      1000\\n        ship       0.95      0.92      0.93      1000\\n       truck       0.94      0.92      0.93      1000\\n\\n    accuracy                           0.89     10000\\n   macro avg       0.90      0.89      0.89     10000\\nweighted avg       0.90      0.89      0.89     10000\\n'"
            ]
          },
          "metadata": {},
          "execution_count": 73
        }
      ],
      "source": [
        "classification_report(y_actual, y_pred, target_names=classes)"
      ]
    },
    {
      "cell_type": "code",
      "execution_count": 74,
      "id": "4b321e58",
      "metadata": {
        "colab": {
          "base_uri": "https://localhost:8080/"
        },
        "id": "4b321e58",
        "outputId": "6491a3c4-47a9-44c4-f37d-386b8cb189c4"
      },
      "outputs": [
        {
          "output_type": "execute_result",
          "data": {
            "text/plain": [
              "0.8748888888888889"
            ]
          },
          "metadata": {},
          "execution_count": 74
        }
      ],
      "source": [
        "cohen_kappa_score(y_actual, y_pred)"
      ]
    },
    {
      "cell_type": "code",
      "execution_count": null,
      "id": "3063d428",
      "metadata": {
        "id": "3063d428"
      },
      "outputs": [],
      "source": [
        ""
      ]
    },
    {
      "cell_type": "code",
      "execution_count": null,
      "id": "151c2b7f",
      "metadata": {
        "id": "151c2b7f"
      },
      "outputs": [],
      "source": [
        ""
      ]
    },
    {
      "cell_type": "code",
      "execution_count": null,
      "id": "d8e5c459",
      "metadata": {
        "id": "d8e5c459"
      },
      "outputs": [],
      "source": [
        ""
      ]
    },
    {
      "cell_type": "code",
      "execution_count": null,
      "id": "62915918",
      "metadata": {
        "id": "62915918"
      },
      "outputs": [],
      "source": [
        ""
      ]
    }
  ],
  "metadata": {
    "accelerator": "GPU",
    "colab": {
      "machine_shape": "hm",
      "name": "GPU Accelerated.ipynb",
      "provenance": []
    },
    "kernelspec": {
      "display_name": "Python 3 (ipykernel)",
      "language": "python",
      "name": "python3"
    },
    "language_info": {
      "codemirror_mode": {
        "name": "ipython",
        "version": 3
      },
      "file_extension": ".py",
      "mimetype": "text/x-python",
      "name": "python",
      "nbconvert_exporter": "python",
      "pygments_lexer": "ipython3",
      "version": "3.9.7"
    }
  },
  "nbformat": 4,
  "nbformat_minor": 5
}