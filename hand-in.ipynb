{
  "cells": [
    {
      "cell_type": "markdown",
      "id": "d471f352",
      "metadata": {
        "id": "d471f352"
      },
      "source": [
        "# Importing tools\n",
        "\n",
        "* Download datasets for this model here:\n",
        "\n",
        "* https://drive.google.com/drive/folders/19TuTEOKfSOWr4IVf9PrTnN2TQiogoyYV?usp=sharing "
      ]
    },
    {
      "cell_type": "code",
      "execution_count": null,
      "id": "a71d61a8",
      "metadata": {
        "id": "a71d61a8"
      },
      "outputs": [],
      "source": [
        "import torch\n",
        "import torchvision\n",
        "import numpy as np\n",
        "import matplotlib.pyplot as plt\n",
        "import torch.nn as nn\n",
        "import torch.nn.functional as F\n",
        "\n",
        "from torchvision.transforms import ToTensor\n",
        "from torchvision.utils import make_grid\n",
        "from torch.utils.data.dataloader import DataLoader\n",
        "from torch.utils.data import random_split\n",
        "import torchvision.transforms as transforms\n",
        "%matplotlib inline\n",
        "\n",
        "from sklearn.metrics import classification_report\n",
        "from sklearn.metrics import matthews_corrcoef\n",
        "from sklearn.metrics import cohen_kappa_score\n",
        "\n",
        "\n",
        "import warnings\n",
        "warnings.filterwarnings(\"ignore\")"
      ]
    },
    {
      "cell_type": "markdown",
      "source": [
        "# Importing and transforming data"
      ],
      "metadata": {
        "id": "2ykX3TVuVhrU"
      },
      "id": "2ykX3TVuVhrU"
    },
    {
      "cell_type": "markdown",
      "id": "ec377827",
      "metadata": {
        "id": "ec377827"
      },
      "source": [
        " ### Here we deifne how to tansform the the data to fit our models\n",
        " \n",
        " * With the torchvision transformer function\n",
        " * We will randomly flip images horisontally for Data augmentaion with we hope to imporve our accuracy\n",
        " * We then transform the dataset into a Tensor.\n",
        " * Therafter normalize the data."
      ]
    },
    {
      "cell_type": "code",
      "execution_count": null,
      "id": "1f2c9816",
      "metadata": {
        "id": "1f2c9816"
      },
      "outputs": [],
      "source": [
        "transform = transforms.Compose([\n",
        "    transforms.RandomHorizontalFlip(),\n",
        "    transforms.ToTensor(),\n",
        "    transforms.Normalize((0.5, 0.5, 0.5), (0.5, 0.5, 0.5)),\n",
        "])"
      ]
    },
    {
      "cell_type": "markdown",
      "id": "2c0244f2",
      "metadata": {
        "id": "2c0244f2"
      },
      "source": [
        "#### We also have a transform function for our validation set"
      ]
    },
    {
      "cell_type": "code",
      "execution_count": null,
      "id": "2a2a2e63",
      "metadata": {
        "id": "2a2a2e63"
      },
      "outputs": [],
      "source": [
        "valid_transform = transforms.Compose([\n",
        "            transforms.ToTensor(),\n",
        "            transforms.Normalize((0.5, 0.5, 0.5), (0.5, 0.5, 0.5)),\n",
        "    ])"
      ]
    },
    {
      "cell_type": "markdown",
      "id": "c3045c77",
      "metadata": {
        "id": "c3045c77"
      },
      "source": [
        "### We define the training and test sets.\n",
        "\n",
        "* Here we tell torchvision where the data is, then we load in the data with the DataLoader function\n",
        "* we also split the data into a training set and a test set by using the train perameters, True or false"
      ]
    },
    {
      "cell_type": "code",
      "execution_count": null,
      "id": "2fb6a4db",
      "metadata": {
        "colab": {
          "base_uri": "https://localhost:8080/",
          "height": 136,
          "referenced_widgets": [
            "19a1491ed95a4d4d9e0238154dbc25fb",
            "4dd4b115f9444a7e9635e6a854b57834",
            "275778c165dc4e6eae3a976c308fa3b9",
            "cb5da44510c445aeb9904dc929e87dcd",
            "b5c8a4d6786e43c897d3d3eafbd2b1a6",
            "9e8cf42d7f4f44e0a4b101296080363e",
            "8eb25d0e326248b6a3a72d39effd11ec",
            "1ebede3a049149bdbb69e83b2acd356f",
            "9e3b581eb0434b8d9165c796b5385fca",
            "74f79d085efd4ffe905fcb13360dbb15",
            "b27b7877306a478f99ab383281ccebdd"
          ]
        },
        "id": "2fb6a4db",
        "outputId": "149717fa-5bd6-4ead-dde0-687ab44a7262"
      },
      "outputs": [
        {
          "output_type": "stream",
          "name": "stdout",
          "text": [
            "Downloading https://www.cs.toronto.edu/~kriz/cifar-10-python.tar.gz to datasets/cifar-10-python.tar.gz\n"
          ]
        },
        {
          "output_type": "display_data",
          "data": {
            "application/vnd.jupyter.widget-view+json": {
              "model_id": "19a1491ed95a4d4d9e0238154dbc25fb",
              "version_minor": 0,
              "version_major": 2
            },
            "text/plain": [
              "  0%|          | 0/170498071 [00:00<?, ?it/s]"
            ]
          },
          "metadata": {}
        },
        {
          "output_type": "stream",
          "name": "stdout",
          "text": [
            "Extracting datasets/cifar-10-python.tar.gz to datasets/\n",
            "Files already downloaded and verified\n",
            "Files already downloaded and verified\n",
            "Files already downloaded and verified\n"
          ]
        }
      ],
      "source": [
        "dataset = torchvision.datasets.CIFAR10(root='datasets/', download=True, transform=ToTensor())\n",
        "\n",
        "train_set = torchvision.datasets.CIFAR10('./datasets', train=True,\n",
        "                                         download=True, transform=transform)\n",
        "test_set = torchvision.datasets.CIFAR10('./datasets', train=False,\n",
        "                                        download=True, transform=transform)\n",
        "\n",
        "validation_set = torchvision.datasets.CIFAR10('./datasets', train=False,\n",
        "                                        download=True, transform=valid_transform)\n",
        "\n",
        "train_loader = torch.utils.data.DataLoader(train_set, batch_size=64,\n",
        "                                           shuffle=True, num_workers=4)\n",
        "test_loader = torch.utils.data.DataLoader(test_set, batch_size=64,\n",
        "                                          shuffle=False, num_workers=4)\n",
        "\n",
        "validation_loader = torch.utils.data.DataLoader(validation_set, batch_size=64,\n",
        "                                          shuffle=False, num_workers=4)\n",
        "\n",
        "\n"
      ]
    },
    {
      "cell_type": "markdown",
      "source": [
        "# Visualizing/analysing data"
      ],
      "metadata": {
        "id": "JLbRhXjIVrQw"
      },
      "id": "JLbRhXjIVrQw"
    },
    {
      "cell_type": "markdown",
      "id": "59840dae",
      "metadata": {
        "id": "59840dae"
      },
      "source": [
        "### Here we import the Pyplot to assess if the images are loaded correctly or not.\n",
        "\n",
        "* Importing matplotlip and numpy.\n",
        "* We define a function to show images from the train_loader dataset\n",
        "* We create a grid with torchvision and imbed the images into the grid."
      ]
    },
    {
      "cell_type": "code",
      "execution_count": null,
      "id": "011db266",
      "metadata": {
        "colab": {
          "base_uri": "https://localhost:8080/"
        },
        "id": "011db266",
        "outputId": "f855ccbe-8ef3-4304-d3c7-e07066eca81c"
      },
      "outputs": [
        {
          "output_type": "execute_result",
          "data": {
            "text/plain": [
              "(10000, 10000, 50000)"
            ]
          },
          "metadata": {},
          "execution_count": 5
        }
      ],
      "source": [
        "len(validation_set), len(test_set), len(train_set)"
      ]
    },
    {
      "cell_type": "code",
      "execution_count": null,
      "id": "0ec65547",
      "metadata": {
        "colab": {
          "base_uri": "https://localhost:8080/",
          "height": 244
        },
        "id": "0ec65547",
        "outputId": "f314b32a-6f3b-4e9b-e7dc-5b1eb04d2ca5"
      },
      "outputs": [
        {
          "output_type": "display_data",
          "data": {
            "image/png": "[encoded data removed]",
            "text/plain": [
              "<Figure size 432x288 with 1 Axes>"
            ]
          },
          "metadata": {
            "needs_background": "light"
          }
        }
      ],
      "source": [
        "import matplotlib.pyplot as plt\n",
        "import numpy as np\n",
        "\n",
        "def imshow(img):\n",
        "    img = img / 2 + 0.5\n",
        "    plt.imshow(np.transpose(img.numpy(), (1, 2, 0)))\n",
        "    plt.show()\n",
        "    \n",
        "image_iter = iter(train_loader)\n",
        "images, _ = image_iter.next()\n",
        "imshow(torchvision.utils.make_grid(images[:28], nrow=7))"
      ]
    },
    {
      "cell_type": "markdown",
      "id": "1c1e8786",
      "metadata": {
        "id": "1c1e8786"
      },
      "source": [
        "### Check how many images the training and testing datasets contain"
      ]
    },
    {
      "cell_type": "code",
      "execution_count": null,
      "id": "870d48f0",
      "metadata": {
        "colab": {
          "base_uri": "https://localhost:8080/"
        },
        "id": "870d48f0",
        "outputId": "82cc71af-8227-4765-874f-00767f1e36b9"
      },
      "outputs": [
        {
          "output_type": "stream",
          "name": "stdout",
          "text": [
            "Training dataset size 50000\n",
            "Testing datasets size 10000\n",
            "Dataset CIFAR10\n",
            "    Number of datapoints: 50000\n",
            "    Root location: datasets/\n",
            "    Split: Train\n",
            "    StandardTransform\n",
            "Transform: ToTensor()\n"
          ]
        }
      ],
      "source": [
        "dataset_size = len(train_set)\n",
        "test_dataset_size = len(test_set)\n",
        "\n",
        "print(\"Training dataset size\", dataset_size)\n",
        "print(\"Testing datasets size\", test_dataset_size)\n",
        "\n",
        "print(dataset)\n"
      ]
    },
    {
      "cell_type": "markdown",
      "id": "aa7fddfe",
      "metadata": {
        "id": "aa7fddfe"
      },
      "source": [
        "### Get the classes of the entire dataset"
      ]
    },
    {
      "cell_type": "code",
      "execution_count": null,
      "id": "ef6d5b3b",
      "metadata": {
        "colab": {
          "base_uri": "https://localhost:8080/"
        },
        "id": "ef6d5b3b",
        "outputId": "f18e5993-2d35-44cb-9896-9805fa832726"
      },
      "outputs": [
        {
          "output_type": "execute_result",
          "data": {
            "text/plain": [
              "['airplane',\n",
              " 'automobile',\n",
              " 'bird',\n",
              " 'cat',\n",
              " 'deer',\n",
              " 'dog',\n",
              " 'frog',\n",
              " 'horse',\n",
              " 'ship',\n",
              " 'truck']"
            ]
          },
          "metadata": {},
          "execution_count": 8
        }
      ],
      "source": [
        "classes = dataset.classes\n",
        "classes"
      ]
    },
    {
      "cell_type": "markdown",
      "id": "7a775edb",
      "metadata": {
        "id": "7a775edb"
      },
      "source": [
        "### Get the Shapes of the images"
      ]
    },
    {
      "cell_type": "code",
      "execution_count": null,
      "id": "add9a096",
      "metadata": {
        "colab": {
          "base_uri": "https://localhost:8080/"
        },
        "id": "add9a096",
        "outputId": "c2c8c7d9-0796-4bb7-aef6-7c462b5e4f9a"
      },
      "outputs": [
        {
          "output_type": "execute_result",
          "data": {
            "text/plain": [
              "torch.Size([3, 32, 32])"
            ]
          },
          "metadata": {},
          "execution_count": 9
        }
      ],
      "source": [
        "img, label = dataset[0]\n",
        "img_shape = img.shape\n",
        "img_shape"
      ]
    },
    {
      "cell_type": "markdown",
      "id": "1b52ce3c",
      "metadata": {
        "id": "1b52ce3c"
      },
      "source": [
        "### Print a sample image"
      ]
    },
    {
      "cell_type": "code",
      "execution_count": null,
      "id": "bef42412",
      "metadata": {
        "colab": {
          "base_uri": "https://localhost:8080/",
          "height": 301
        },
        "id": "bef42412",
        "outputId": "d0ea8040-45b4-48dc-bb7c-7c0584c6170a"
      },
      "outputs": [
        {
          "output_type": "stream",
          "name": "stdout",
          "text": [
            "Label (numeric): 6\n",
            "Label (textual): frog\n"
          ]
        },
        {
          "output_type": "display_data",
          "data": {
            "image/png": "[encoded data removed]",
            "text/plain": [
              "<Figure size 432x288 with 1 Axes>"
            ]
          },
          "metadata": {
            "needs_background": "light"
          }
        }
      ],
      "source": [
        "img, label = dataset[0]\n",
        "plt.imshow(img.permute((1, 2, 0)))\n",
        "print('Label (numeric):', label)\n",
        "print('Label (textual):', classes[label])"
      ]
    },
    {
      "cell_type": "markdown",
      "id": "907d3329",
      "metadata": {
        "id": "907d3329"
      },
      "source": [
        "### Here we determine the number of images belonging to each class?\n",
        "\n",
        "* We define the length of the dataset\n",
        "* We then check hoe many classes there are\n",
        "* We create a dictionary to store the values\n",
        "* we then do 2 for loops, first to get the classes and the second to count the amount of images retaining to the classes "
      ]
    },
    {
      "cell_type": "code",
      "execution_count": null,
      "id": "9110867f",
      "metadata": {
        "colab": {
          "base_uri": "https://localhost:8080/"
        },
        "id": "9110867f",
        "outputId": "5225ad74-1b82-4eec-acb0-d30628279c00"
      },
      "outputs": [
        {
          "output_type": "execute_result",
          "data": {
            "text/plain": [
              "{'airplane': 5000,\n",
              " 'automobile': 5000,\n",
              " 'bird': 5000,\n",
              " 'cat': 5000,\n",
              " 'deer': 5000,\n",
              " 'dog': 5000,\n",
              " 'frog': 5000,\n",
              " 'horse': 5000,\n",
              " 'ship': 5000,\n",
              " 'truck': 5000}"
            ]
          },
          "metadata": {},
          "execution_count": 11
        }
      ],
      "source": [
        "dataset_size = len(dataset)\n",
        "classes = dataset.classes\n",
        "num_classes = len(dataset.classes)\n",
        "\n",
        "img_dict = {}\n",
        "for i in range(num_classes):\n",
        "    img_dict[classes[i]] = 0\n",
        "    \n",
        "for i in range(dataset_size):\n",
        "    img, label = dataset[i]\n",
        "    img_dict[classes[label]] += 1\n",
        "\n",
        "img_dict"
      ]
    },
    {
      "cell_type": "code",
      "execution_count": null,
      "id": "9c289fb4",
      "metadata": {
        "colab": {
          "base_uri": "https://localhost:8080/",
          "height": 221
        },
        "id": "9c289fb4",
        "outputId": "81a46963-bdb8-4bcd-d828-2a6818d2f9f0"
      },
      "outputs": [
        {
          "output_type": "stream",
          "name": "stderr",
          "text": [
            "Clipping input data to the valid range for imshow with RGB data ([0..1] for floats or [0..255] for integers).\n"
          ]
        },
        {
          "output_type": "display_data",
          "data": {
            "image/png": "[encoded data removed]",
            "text/plain": [
              "<Figure size 864x432 with 1 Axes>"
            ]
          },
          "metadata": {}
        }
      ],
      "source": [
        "from torchvision.utils import make_grid\n",
        "\n",
        "def show_batch(dl):\n",
        "    for images, labels in dl:\n",
        "        fig, ax = plt.subplots(figsize=(12, 6))\n",
        "        ax.set_xticks([]); ax.set_yticks([])\n",
        "        ax.imshow(make_grid(images, nrow=16).permute(1, 2, 0))\n",
        "        break\n",
        "\n",
        "show_batch(train_loader)"
      ]
    },
    {
      "cell_type": "markdown",
      "source": [
        "# Creating our CNN model"
      ],
      "metadata": {
        "id": "me-ZaTmpV3mI"
      },
      "id": "me-ZaTmpV3mI"
    },
    {
      "cell_type": "markdown",
      "id": "a362fdd1",
      "metadata": {
        "id": "a362fdd1"
      },
      "source": [
        "### Here we are creating the functionality for calculating the models accuracy\n",
        "\n",
        "* Todo = Find out how this function works"
      ]
    },
    {
      "cell_type": "code",
      "execution_count": null,
      "id": "2aa20eb9",
      "metadata": {
        "id": "2aa20eb9"
      },
      "outputs": [],
      "source": [
        "def accuracy(outputs, labels):\n",
        "    _, preds = torch.max(outputs, dim=1)\n",
        "    return torch.tensor(torch.sum(preds == labels).item() / len(preds))"
      ]
    },
    {
      "cell_type": "markdown",
      "id": "40c57bd0",
      "metadata": {
        "id": "40c57bd0"
      },
      "source": [
        "### ImageClassificationBase contains 4 functions\n",
        "* One function is for training and validation sets, which implement the loss and accuracy.\n",
        "* The validation_epoch_end combines the losses and accuracy for each epock \n",
        "* The epoch_end prints the val_lass and val_acc at the end of each epoch"
      ]
    },
    {
      "cell_type": "code",
      "execution_count": null,
      "id": "4db2304e",
      "metadata": {
        "id": "4db2304e"
      },
      "outputs": [],
      "source": [
        "class ImageClassificationBase(nn.Module):\n",
        "    def training_step(self, batch):\n",
        "        images, labels = batch \n",
        "        out = self(images)                  # Generate predictions\n",
        "        loss = F.cross_entropy(out, labels) # Calculate loss\n",
        "        return loss\n",
        "    \n",
        "    def validation_step(self, batch):\n",
        "        images, labels = batch \n",
        "        out = self(images)                    # Generate predictions\n",
        "        loss = F.cross_entropy(out, labels)   # Calculate loss\n",
        "        acc = accuracy(out, labels)           # Calculate accuracy\n",
        "        return {'val_loss': loss.detach(), 'val_acc': acc}\n",
        "        \n",
        "    def validation_epoch_end(self, outputs):\n",
        "        batch_losses = [x['val_loss'] for x in outputs]\n",
        "        epoch_loss = torch.stack(batch_losses).mean()   # Combine losses\n",
        "        batch_accs = [x['val_acc'] for x in outputs]\n",
        "        epoch_acc = torch.stack(batch_accs).mean()      # Combine accuracies\n",
        "        return {'val_loss': epoch_loss.item(), 'val_acc': epoch_acc.item()}\n",
        "    \n",
        "    def epoch_end(self, epoch, result):\n",
        "        print(\"Epoch [{}], train_loss: {:.4f}, val_loss: {:.4f}, val_acc: {:.4f}\".format(epoch, result['train_loss'], result['val_loss'], result['val_acc']))"
      ]
    },
    {
      "cell_type": "markdown",
      "id": "0519a318",
      "metadata": {
        "id": "0519a318"
      },
      "source": [
        "##### nn.Sequential chains the layres and activation functions into a single network architecture"
      ]
    },
    {
      "cell_type": "code",
      "execution_count": null,
      "id": "d5b50e70",
      "metadata": {
        "id": "d5b50e70"
      },
      "outputs": [],
      "source": [
        "class Cifar10CnnModel(ImageClassificationBase):\n",
        "    def __init__(self):\n",
        "        super().__init__()\n",
        "        self.network = nn.Sequential(\n",
        "            nn.Conv2d(3, 32, kernel_size=3, padding=1),\n",
        "            nn.ReLU(),\n",
        "            nn.Conv2d(32, 64, kernel_size=3, stride=1, padding=1),\n",
        "            nn.ReLU(),\n",
        "            nn.MaxPool2d(2, 2), # output: 64 x 16 x 16\n",
        "\n",
        "            nn.Conv2d(64, 128, kernel_size=3, stride=1, padding=1),\n",
        "            nn.ReLU(),\n",
        "            nn.Conv2d(128, 128, kernel_size=3, stride=1, padding=1),\n",
        "            nn.ReLU(),\n",
        "            nn.MaxPool2d(2, 2), # output: 128 x 8 x 8\n",
        "\n",
        "            nn.Conv2d(128, 256, kernel_size=3, stride=1, padding=1),\n",
        "            nn.ReLU(),\n",
        "            nn.Conv2d(256, 256, kernel_size=3, stride=1, padding=1),\n",
        "            nn.ReLU(),\n",
        "            nn.MaxPool2d(2, 2), # output: 256 x 4 x 4\n",
        "\n",
        "            nn.Flatten(), \n",
        "            nn.Linear(256*4*4, 1024),\n",
        "            nn.ReLU(),\n",
        "            nn.Linear(1024, 512),\n",
        "            nn.ReLU(),\n",
        "            nn.Linear(512, 10))\n",
        "        \n",
        "    def forward(self, xb):\n",
        "        return self.network(xb)"
      ]
    },
    {
      "cell_type": "code",
      "execution_count": null,
      "id": "b440dc07",
      "metadata": {
        "colab": {
          "base_uri": "https://localhost:8080/"
        },
        "id": "b440dc07",
        "outputId": "b370e7a2-8325-4d3a-b88a-38d9acf349a3"
      },
      "outputs": [
        {
          "output_type": "stream",
          "name": "stdout",
          "text": [
            "<class '__main__.Cifar10CnnModel'>\n"
          ]
        }
      ],
      "source": [
        "print(Cifar10CnnModel)"
      ]
    },
    {
      "cell_type": "markdown",
      "id": "52cb5ec4",
      "metadata": {
        "id": "52cb5ec4"
      },
      "source": [
        "### Here we move our model to GPU if it can run it"
      ]
    },
    {
      "cell_type": "code",
      "execution_count": null,
      "id": "f5676f4e",
      "metadata": {
        "id": "f5676f4e"
      },
      "outputs": [],
      "source": [
        "def get_default_device():\n",
        "    \"\"\"Pick GPU if available, else CPU\"\"\"\n",
        "    if torch.cuda.is_available():\n",
        "        print(\"Model will run on, GPU\")\n",
        "        return torch.device('cuda')\n",
        "    else:\n",
        "        print(\"Model will run on, CPU\")\n",
        "        return torch.device('cpu')\n"
      ]
    },
    {
      "cell_type": "code",
      "execution_count": null,
      "id": "1068cc7a",
      "metadata": {
        "colab": {
          "base_uri": "https://localhost:8080/"
        },
        "id": "1068cc7a",
        "outputId": "3934fca3-f526-4cdf-c259-4d95e3c27e3e"
      },
      "outputs": [
        {
          "output_type": "stream",
          "name": "stdout",
          "text": [
            "Model will run on, GPU\n"
          ]
        },
        {
          "output_type": "execute_result",
          "data": {
            "text/plain": [
              "device(type='cuda')"
            ]
          },
          "metadata": {},
          "execution_count": 18
        }
      ],
      "source": [
        "device = get_default_device()\n",
        "device"
      ]
    },
    {
      "cell_type": "markdown",
      "id": "a4d02dcf",
      "metadata": {
        "id": "a4d02dcf"
      },
      "source": [
        "#### Here we load the data into the GPU device"
      ]
    },
    {
      "cell_type": "code",
      "execution_count": null,
      "id": "d47edbe6",
      "metadata": {
        "id": "d47edbe6"
      },
      "outputs": [],
      "source": [
        "def to_device(data, device):\n",
        "    \"\"\"Move tensor(s) to chosen device\"\"\"\n",
        "    if isinstance(data, (list,tuple)):\n",
        "        return [to_device(x, device) for x in data]\n",
        "    return data.to(device, non_blocking=True)\n",
        "\n",
        "class DeviceDataLoader():\n",
        "    \"\"\"Wrap a dataloader to move data to a device\"\"\"\n",
        "    def __init__(self, dl, device):\n",
        "        self.dl = dl\n",
        "        self.device = device\n",
        "        \n",
        "    def __iter__(self):\n",
        "        \"\"\"Yield a batch of data after moving it to device\"\"\"\n",
        "        for b in self.dl: \n",
        "            yield to_device(b, self.device)\n",
        "\n",
        "    def __len__(self):\n",
        "        \"\"\"Number of batches\"\"\"\n",
        "        return len(self.dl)"
      ]
    },
    {
      "cell_type": "code",
      "execution_count": null,
      "id": "da70a119",
      "metadata": {
        "id": "da70a119"
      },
      "outputs": [],
      "source": [
        "train_loader = DeviceDataLoader(train_loader, device)\n",
        "validation_loader = DeviceDataLoader(validation_loader, device)\n",
        "test_loader = DeviceDataLoader(test_loader, device)"
      ]
    },
    {
      "cell_type": "code",
      "execution_count": null,
      "id": "3ffd443c",
      "metadata": {
        "colab": {
          "base_uri": "https://localhost:8080/"
        },
        "id": "3ffd443c",
        "outputId": "3230fbe0-bb84-4281-e7ea-f3d580e2d7fa"
      },
      "outputs": [
        {
          "output_type": "execute_result",
          "data": {
            "text/plain": [
              "Cifar10CnnModel(\n",
              "  (network): Sequential(\n",
              "    (0): Conv2d(3, 32, kernel_size=(3, 3), stride=(1, 1), padding=(1, 1))\n",
              "    (1): ReLU()\n",
              "    (2): Conv2d(32, 64, kernel_size=(3, 3), stride=(1, 1), padding=(1, 1))\n",
              "    (3): ReLU()\n",
              "    (4): MaxPool2d(kernel_size=2, stride=2, padding=0, dilation=1, ceil_mode=False)\n",
              "    (5): Conv2d(64, 128, kernel_size=(3, 3), stride=(1, 1), padding=(1, 1))\n",
              "    (6): ReLU()\n",
              "    (7): Conv2d(128, 128, kernel_size=(3, 3), stride=(1, 1), padding=(1, 1))\n",
              "    (8): ReLU()\n",
              "    (9): MaxPool2d(kernel_size=2, stride=2, padding=0, dilation=1, ceil_mode=False)\n",
              "    (10): Conv2d(128, 256, kernel_size=(3, 3), stride=(1, 1), padding=(1, 1))\n",
              "    (11): ReLU()\n",
              "    (12): Conv2d(256, 256, kernel_size=(3, 3), stride=(1, 1), padding=(1, 1))\n",
              "    (13): ReLU()\n",
              "    (14): MaxPool2d(kernel_size=2, stride=2, padding=0, dilation=1, ceil_mode=False)\n",
              "    (15): Flatten(start_dim=1, end_dim=-1)\n",
              "    (16): Linear(in_features=4096, out_features=1024, bias=True)\n",
              "    (17): ReLU()\n",
              "    (18): Linear(in_features=1024, out_features=512, bias=True)\n",
              "    (19): ReLU()\n",
              "    (20): Linear(in_features=512, out_features=10, bias=True)\n",
              "  )\n",
              ")"
            ]
          },
          "metadata": {},
          "execution_count": 21
        }
      ],
      "source": [
        "ourmodel = Cifar10CnnModel()\n",
        "ourmodel"
      ]
    },
    {
      "cell_type": "code",
      "execution_count": null,
      "id": "f6e76572",
      "metadata": {
        "id": "f6e76572"
      },
      "outputs": [],
      "source": [
        "ourmodel = to_device(ourmodel, device)"
      ]
    },
    {
      "cell_type": "markdown",
      "id": "da01a7d6",
      "metadata": {
        "id": "da01a7d6"
      },
      "source": [
        "### The fit function records the validation loss and metric from each epoch. It returns a history of the training, useful for debugging & visualization."
      ]
    },
    {
      "cell_type": "code",
      "execution_count": null,
      "id": "fe7ef741",
      "metadata": {
        "id": "fe7ef741"
      },
      "outputs": [],
      "source": [
        "def evaluate(model, val_loader):\n",
        "    outputs = [model.validation_step(batch) for batch in val_loader]\n",
        "    return model.validation_epoch_end(outputs)\n",
        "\n",
        "# def fit(epochs, lr, model, train_loader, val_loader, opt_func=torch.optim.SGD):\n",
        "def fit(epochs, lr, model, train_loader, val_loader, opt_func=torch.optim.Adam):\n",
        "    history = []\n",
        "    optimizer = opt_func(model.parameters(), lr)\n",
        "    for epoch in range(epochs):\n",
        "        # Training Phase \n",
        "        model.train()\n",
        "        train_losses = []\n",
        "        for batch in train_loader:\n",
        "            loss = model.training_step(batch)\n",
        "            train_losses.append(loss)\n",
        "            loss.backward()\n",
        "            optimizer.step()\n",
        "            optimizer.zero_grad()\n",
        "        # Validation phase\n",
        "        result = evaluate(model, val_loader)\n",
        "        result['train_loss'] = torch.stack(train_losses).mean().item()\n",
        "        model.epoch_end(epoch, result)\n",
        "        history.append(result)\n",
        "    return history"
      ]
    },
    {
      "cell_type": "code",
      "execution_count": null,
      "id": "e29bc580",
      "metadata": {
        "colab": {
          "base_uri": "https://localhost:8080/"
        },
        "id": "e29bc580",
        "outputId": "8759d5d0-ff26-4b15-8502-1773ce745277"
      },
      "outputs": [
        {
          "output_type": "execute_result",
          "data": {
            "text/plain": [
              "[{'val_acc': 0.09952229261398315, 'val_loss': 2.3029050827026367}]"
            ]
          },
          "metadata": {},
          "execution_count": 24
        }
      ],
      "source": [
        "history = [evaluate(ourmodel, validation_loader)]\n",
        "history"
      ]
    },
    {
      "cell_type": "markdown",
      "id": "57bc01d4",
      "metadata": {
        "id": "57bc01d4"
      },
      "source": [
        "### Here we define the input and output size"
      ]
    },
    {
      "cell_type": "code",
      "execution_count": null,
      "id": "e0b32930",
      "metadata": {
        "id": "e0b32930"
      },
      "outputs": [],
      "source": [
        "input_size = 3*32*32\n",
        "output_size = 10"
      ]
    },
    {
      "cell_type": "markdown",
      "id": "3ad5874b",
      "metadata": {
        "id": "3ad5874b"
      },
      "source": [
        "### Number of epochs to cycle through and the learning rate is set here"
      ]
    },
    {
      "cell_type": "code",
      "execution_count": null,
      "id": "05d1e5a1",
      "metadata": {
        "id": "05d1e5a1"
      },
      "outputs": [],
      "source": [
        "num_epochs = 10\n",
        "opt_func = torch.optim.Adam\n",
        "lr = 0.001"
      ]
    },
    {
      "cell_type": "markdown",
      "id": "d5c6cfd1",
      "metadata": {
        "id": "d5c6cfd1"
      },
      "source": [
        "# Training our model"
      ]
    },
    {
      "cell_type": "code",
      "execution_count": null,
      "id": "46131d0c",
      "metadata": {
        "colab": {
          "base_uri": "https://localhost:8080/"
        },
        "id": "46131d0c",
        "outputId": "aeac27c3-09b5-466b-e025-704c4903e485",
        "scrolled": true
      },
      "outputs": [
        {
          "output_type": "stream",
          "name": "stdout",
          "text": [
            "Epoch [0], train_loss: 1.5432, val_loss: 1.0949, val_acc: 0.6102\n",
            "Epoch [1], train_loss: 0.9442, val_loss: 0.9334, val_acc: 0.6768\n",
            "Epoch [2], train_loss: 0.7220, val_loss: 0.7320, val_acc: 0.7462\n",
            "Epoch [3], train_loss: 0.6040, val_loss: 0.6635, val_acc: 0.7738\n",
            "Epoch [4], train_loss: 0.5223, val_loss: 0.6346, val_acc: 0.7846\n",
            "Epoch [5], train_loss: 0.4562, val_loss: 0.5889, val_acc: 0.8045\n",
            "Epoch [6], train_loss: 0.4044, val_loss: 0.6605, val_acc: 0.7896\n",
            "Epoch [7], train_loss: 0.3583, val_loss: 0.5871, val_acc: 0.8106\n",
            "Epoch [8], train_loss: 0.3207, val_loss: 0.6032, val_acc: 0.8137\n",
            "Epoch [9], train_loss: 0.2923, val_loss: 0.7665, val_acc: 0.7854\n"
          ]
        }
      ],
      "source": [
        "history += fit(num_epochs, lr, ourmodel, train_loader, validation_loader, opt_func)"
      ]
    },
    {
      "cell_type": "markdown",
      "source": [
        "# Resnet, Importing and training"
      ],
      "metadata": {
        "id": "4Sg1FpemUbLm"
      },
      "id": "4Sg1FpemUbLm"
    },
    {
      "cell_type": "code",
      "execution_count": null,
      "id": "9ec42bb1",
      "metadata": {
        "colab": {
          "base_uri": "https://localhost:8080/"
        },
        "id": "9ec42bb1",
        "outputId": "a2d5d6fe-3545-432a-b2bb-4234654d4c0b"
      },
      "outputs": [
        {
          "output_type": "stream",
          "name": "stdout",
          "text": [
            "Epoch [1/80], Step [100/782] Loss: 1.6182\n",
            "Epoch [1/80], Step [200/782] Loss: 1.1703\n",
            "Epoch [1/80], Step [300/782] Loss: 1.3413\n",
            "Epoch [1/80], Step [400/782] Loss: 1.2982\n",
            "Epoch [1/80], Step [500/782] Loss: 1.1539\n",
            "Epoch [1/80], Step [600/782] Loss: 1.1820\n",
            "Epoch [1/80], Step [700/782] Loss: 0.9522\n",
            "Epoch [2/80], Step [100/782] Loss: 0.8843\n",
            "Epoch [2/80], Step [200/782] Loss: 1.0111\n",
            "Epoch [2/80], Step [300/782] Loss: 1.0072\n",
            "Epoch [2/80], Step [400/782] Loss: 0.8957\n",
            "Epoch [2/80], Step [500/782] Loss: 0.7452\n",
            "Epoch [2/80], Step [600/782] Loss: 0.8755\n",
            "Epoch [2/80], Step [700/782] Loss: 0.6889\n",
            "Epoch [3/80], Step [100/782] Loss: 0.6527\n",
            "Epoch [3/80], Step [200/782] Loss: 0.6930\n",
            "Epoch [3/80], Step [300/782] Loss: 0.5596\n",
            "Epoch [3/80], Step [400/782] Loss: 0.8275\n",
            "Epoch [3/80], Step [500/782] Loss: 0.7589\n",
            "Epoch [3/80], Step [600/782] Loss: 0.7753\n",
            "Epoch [3/80], Step [700/782] Loss: 0.5648\n",
            "Epoch [4/80], Step [100/782] Loss: 0.5158\n",
            "Epoch [4/80], Step [200/782] Loss: 0.7417\n",
            "Epoch [4/80], Step [300/782] Loss: 0.6327\n",
            "Epoch [4/80], Step [400/782] Loss: 0.5388\n",
            "Epoch [4/80], Step [500/782] Loss: 0.6261\n",
            "Epoch [4/80], Step [600/782] Loss: 0.5981\n",
            "Epoch [4/80], Step [700/782] Loss: 0.5184\n",
            "Epoch [5/80], Step [100/782] Loss: 0.6041\n",
            "Epoch [5/80], Step [200/782] Loss: 0.5182\n",
            "Epoch [5/80], Step [300/782] Loss: 0.5620\n",
            "Epoch [5/80], Step [400/782] Loss: 0.7213\n",
            "Epoch [5/80], Step [500/782] Loss: 0.4699\n",
            "Epoch [5/80], Step [600/782] Loss: 0.4004\n",
            "Epoch [5/80], Step [700/782] Loss: 0.5566\n",
            "Epoch [6/80], Step [100/782] Loss: 0.4905\n",
            "Epoch [6/80], Step [200/782] Loss: 0.4914\n",
            "Epoch [6/80], Step [300/782] Loss: 0.4288\n",
            "Epoch [6/80], Step [400/782] Loss: 0.4207\n",
            "Epoch [6/80], Step [500/782] Loss: 0.3535\n",
            "Epoch [6/80], Step [600/782] Loss: 0.4264\n",
            "Epoch [6/80], Step [700/782] Loss: 0.3789\n",
            "Epoch [7/80], Step [100/782] Loss: 0.5104\n",
            "Epoch [7/80], Step [200/782] Loss: 0.4938\n",
            "Epoch [7/80], Step [300/782] Loss: 0.3478\n",
            "Epoch [7/80], Step [400/782] Loss: 0.5599\n",
            "Epoch [7/80], Step [500/782] Loss: 0.4039\n",
            "Epoch [7/80], Step [600/782] Loss: 0.4337\n",
            "Epoch [7/80], Step [700/782] Loss: 0.5867\n",
            "Epoch [8/80], Step [100/782] Loss: 0.4054\n",
            "Epoch [8/80], Step [200/782] Loss: 0.7258\n",
            "Epoch [8/80], Step [300/782] Loss: 0.5063\n",
            "Epoch [8/80], Step [400/782] Loss: 0.2760\n",
            "Epoch [8/80], Step [500/782] Loss: 0.4965\n",
            "Epoch [8/80], Step [600/782] Loss: 0.3900\n",
            "Epoch [8/80], Step [700/782] Loss: 0.3392\n",
            "Epoch [9/80], Step [100/782] Loss: 0.6272\n",
            "Epoch [9/80], Step [200/782] Loss: 0.4807\n",
            "Epoch [9/80], Step [300/782] Loss: 0.3514\n",
            "Epoch [9/80], Step [400/782] Loss: 0.3522\n",
            "Epoch [9/80], Step [500/782] Loss: 0.5825\n",
            "Epoch [9/80], Step [600/782] Loss: 0.2939\n",
            "Epoch [9/80], Step [700/782] Loss: 0.3508\n",
            "Epoch [10/80], Step [100/782] Loss: 0.2299\n",
            "Epoch [10/80], Step [200/782] Loss: 0.4366\n",
            "Epoch [10/80], Step [300/782] Loss: 0.3207\n",
            "Epoch [10/80], Step [400/782] Loss: 0.3475\n",
            "Epoch [10/80], Step [500/782] Loss: 0.5771\n",
            "Epoch [10/80], Step [600/782] Loss: 0.3479\n",
            "Epoch [10/80], Step [700/782] Loss: 0.4696\n",
            "Epoch [11/80], Step [100/782] Loss: 0.5547\n",
            "Epoch [11/80], Step [200/782] Loss: 0.2895\n",
            "Epoch [11/80], Step [300/782] Loss: 0.3458\n",
            "Epoch [11/80], Step [400/782] Loss: 0.4787\n",
            "Epoch [11/80], Step [500/782] Loss: 0.3518\n",
            "Epoch [11/80], Step [600/782] Loss: 0.5772\n",
            "Epoch [11/80], Step [700/782] Loss: 0.2879\n",
            "Epoch [12/80], Step [100/782] Loss: 0.2382\n",
            "Epoch [12/80], Step [200/782] Loss: 0.3993\n",
            "Epoch [12/80], Step [300/782] Loss: 0.2853\n",
            "Epoch [12/80], Step [400/782] Loss: 0.3139\n",
            "Epoch [12/80], Step [500/782] Loss: 0.2708\n",
            "Epoch [12/80], Step [600/782] Loss: 0.3647\n",
            "Epoch [12/80], Step [700/782] Loss: 0.5175\n",
            "Epoch [13/80], Step [100/782] Loss: 0.2216\n",
            "Epoch [13/80], Step [200/782] Loss: 0.3510\n",
            "Epoch [13/80], Step [300/782] Loss: 0.3044\n",
            "Epoch [13/80], Step [400/782] Loss: 0.3997\n",
            "Epoch [13/80], Step [500/782] Loss: 0.3149\n",
            "Epoch [13/80], Step [600/782] Loss: 0.3669\n",
            "Epoch [13/80], Step [700/782] Loss: 0.2413\n",
            "Epoch [14/80], Step [100/782] Loss: 0.2457\n",
            "Epoch [14/80], Step [200/782] Loss: 0.2674\n",
            "Epoch [14/80], Step [300/782] Loss: 0.3102\n",
            "Epoch [14/80], Step [400/782] Loss: 0.1925\n",
            "Epoch [14/80], Step [500/782] Loss: 0.2659\n",
            "Epoch [14/80], Step [600/782] Loss: 0.2859\n",
            "Epoch [14/80], Step [700/782] Loss: 0.1943\n",
            "Epoch [15/80], Step [100/782] Loss: 0.2634\n",
            "Epoch [15/80], Step [200/782] Loss: 0.2281\n",
            "Epoch [15/80], Step [300/782] Loss: 0.2958\n",
            "Epoch [15/80], Step [400/782] Loss: 0.1797\n",
            "Epoch [15/80], Step [500/782] Loss: 0.2215\n",
            "Epoch [15/80], Step [600/782] Loss: 0.2909\n",
            "Epoch [15/80], Step [700/782] Loss: 0.3886\n",
            "Epoch [16/80], Step [100/782] Loss: 0.2458\n",
            "Epoch [16/80], Step [200/782] Loss: 0.1755\n",
            "Epoch [16/80], Step [300/782] Loss: 0.4928\n",
            "Epoch [16/80], Step [400/782] Loss: 0.4091\n",
            "Epoch [16/80], Step [500/782] Loss: 0.2287\n",
            "Epoch [16/80], Step [600/782] Loss: 0.2446\n",
            "Epoch [16/80], Step [700/782] Loss: 0.3510\n",
            "Epoch [17/80], Step [100/782] Loss: 0.2908\n",
            "Epoch [17/80], Step [200/782] Loss: 0.2944\n",
            "Epoch [17/80], Step [300/782] Loss: 0.4200\n",
            "Epoch [17/80], Step [400/782] Loss: 0.4083\n",
            "Epoch [17/80], Step [500/782] Loss: 0.3029\n",
            "Epoch [17/80], Step [600/782] Loss: 0.2285\n",
            "Epoch [17/80], Step [700/782] Loss: 0.3240\n",
            "Epoch [18/80], Step [100/782] Loss: 0.2866\n",
            "Epoch [18/80], Step [200/782] Loss: 0.1894\n",
            "Epoch [18/80], Step [300/782] Loss: 0.2889\n",
            "Epoch [18/80], Step [400/782] Loss: 0.1973\n",
            "Epoch [18/80], Step [500/782] Loss: 0.1946\n",
            "Epoch [18/80], Step [600/782] Loss: 0.1768\n",
            "Epoch [18/80], Step [700/782] Loss: 0.3468\n",
            "Epoch [19/80], Step [100/782] Loss: 0.1644\n",
            "Epoch [19/80], Step [200/782] Loss: 0.2879\n",
            "Epoch [19/80], Step [300/782] Loss: 0.2964\n",
            "Epoch [19/80], Step [400/782] Loss: 0.1202\n",
            "Epoch [19/80], Step [500/782] Loss: 0.3148\n",
            "Epoch [19/80], Step [600/782] Loss: 0.2711\n",
            "Epoch [19/80], Step [700/782] Loss: 0.1968\n",
            "Epoch [20/80], Step [100/782] Loss: 0.1706\n",
            "Epoch [20/80], Step [200/782] Loss: 0.1223\n",
            "Epoch [20/80], Step [300/782] Loss: 0.0748\n",
            "Epoch [20/80], Step [400/782] Loss: 0.1473\n",
            "Epoch [20/80], Step [500/782] Loss: 0.1767\n",
            "Epoch [20/80], Step [600/782] Loss: 0.1263\n",
            "Epoch [20/80], Step [700/782] Loss: 0.2739\n",
            "Epoch [21/80], Step [100/782] Loss: 0.1857\n",
            "Epoch [21/80], Step [200/782] Loss: 0.1401\n",
            "Epoch [21/80], Step [300/782] Loss: 0.1759\n",
            "Epoch [21/80], Step [400/782] Loss: 0.1633\n",
            "Epoch [21/80], Step [500/782] Loss: 0.0908\n",
            "Epoch [21/80], Step [600/782] Loss: 0.1376\n",
            "Epoch [21/80], Step [700/782] Loss: 0.2253\n",
            "Epoch [22/80], Step [100/782] Loss: 0.1048\n",
            "Epoch [22/80], Step [200/782] Loss: 0.1652\n",
            "Epoch [22/80], Step [300/782] Loss: 0.0907\n",
            "Epoch [22/80], Step [400/782] Loss: 0.1183\n",
            "Epoch [22/80], Step [500/782] Loss: 0.1367\n",
            "Epoch [22/80], Step [600/782] Loss: 0.1363\n",
            "Epoch [22/80], Step [700/782] Loss: 0.1548\n",
            "Epoch [23/80], Step [100/782] Loss: 0.1450\n",
            "Epoch [23/80], Step [200/782] Loss: 0.0483\n",
            "Epoch [23/80], Step [300/782] Loss: 0.1502\n",
            "Epoch [23/80], Step [400/782] Loss: 0.0976\n",
            "Epoch [23/80], Step [500/782] Loss: 0.0776\n",
            "Epoch [23/80], Step [600/782] Loss: 0.1123\n",
            "Epoch [23/80], Step [700/782] Loss: 0.0652\n",
            "Epoch [24/80], Step [100/782] Loss: 0.1029\n",
            "Epoch [24/80], Step [200/782] Loss: 0.0637\n",
            "Epoch [24/80], Step [300/782] Loss: 0.0289\n",
            "Epoch [24/80], Step [400/782] Loss: 0.0731\n",
            "Epoch [24/80], Step [500/782] Loss: 0.1615\n",
            "Epoch [24/80], Step [600/782] Loss: 0.1439\n",
            "Epoch [24/80], Step [700/782] Loss: 0.0884\n",
            "Epoch [25/80], Step [100/782] Loss: 0.0662\n",
            "Epoch [25/80], Step [200/782] Loss: 0.0426\n",
            "Epoch [25/80], Step [300/782] Loss: 0.0869\n",
            "Epoch [25/80], Step [400/782] Loss: 0.0880\n",
            "Epoch [25/80], Step [500/782] Loss: 0.0805\n",
            "Epoch [25/80], Step [600/782] Loss: 0.0602\n",
            "Epoch [25/80], Step [700/782] Loss: 0.1984\n",
            "Epoch [26/80], Step [100/782] Loss: 0.0751\n",
            "Epoch [26/80], Step [200/782] Loss: 0.1115\n",
            "Epoch [26/80], Step [300/782] Loss: 0.0998\n",
            "Epoch [26/80], Step [400/782] Loss: 0.0446\n",
            "Epoch [26/80], Step [500/782] Loss: 0.1034\n",
            "Epoch [26/80], Step [600/782] Loss: 0.0449\n",
            "Epoch [26/80], Step [700/782] Loss: 0.0408\n",
            "Epoch [27/80], Step [100/782] Loss: 0.1854\n",
            "Epoch [27/80], Step [200/782] Loss: 0.0278\n",
            "Epoch [27/80], Step [300/782] Loss: 0.0963\n",
            "Epoch [27/80], Step [400/782] Loss: 0.0625\n",
            "Epoch [27/80], Step [500/782] Loss: 0.1973\n",
            "Epoch [27/80], Step [600/782] Loss: 0.0771\n",
            "Epoch [27/80], Step [700/782] Loss: 0.1305\n",
            "Epoch [28/80], Step [100/782] Loss: 0.1425\n",
            "Epoch [28/80], Step [200/782] Loss: 0.1134\n",
            "Epoch [28/80], Step [300/782] Loss: 0.1052\n",
            "Epoch [28/80], Step [400/782] Loss: 0.0901\n",
            "Epoch [28/80], Step [500/782] Loss: 0.1174\n",
            "Epoch [28/80], Step [600/782] Loss: 0.0822\n",
            "Epoch [28/80], Step [700/782] Loss: 0.0583\n",
            "Epoch [29/80], Step [100/782] Loss: 0.0727\n",
            "Epoch [29/80], Step [200/782] Loss: 0.0785\n",
            "Epoch [29/80], Step [300/782] Loss: 0.0214\n",
            "Epoch [29/80], Step [400/782] Loss: 0.1530\n",
            "Epoch [29/80], Step [500/782] Loss: 0.0765\n",
            "Epoch [29/80], Step [600/782] Loss: 0.2599\n",
            "Epoch [29/80], Step [700/782] Loss: 0.1259\n",
            "Epoch [30/80], Step [100/782] Loss: 0.0615\n",
            "Epoch [30/80], Step [200/782] Loss: 0.0458\n",
            "Epoch [30/80], Step [300/782] Loss: 0.0839\n",
            "Epoch [30/80], Step [400/782] Loss: 0.0667\n",
            "Epoch [30/80], Step [500/782] Loss: 0.0402\n",
            "Epoch [30/80], Step [600/782] Loss: 0.0787\n",
            "Epoch [30/80], Step [700/782] Loss: 0.0999\n",
            "Epoch [31/80], Step [100/782] Loss: 0.0348\n",
            "Epoch [31/80], Step [200/782] Loss: 0.1245\n",
            "Epoch [31/80], Step [300/782] Loss: 0.1121\n",
            "Epoch [31/80], Step [400/782] Loss: 0.0420\n",
            "Epoch [31/80], Step [500/782] Loss: 0.0420\n",
            "Epoch [31/80], Step [600/782] Loss: 0.0340\n",
            "Epoch [31/80], Step [700/782] Loss: 0.0557\n",
            "Epoch [32/80], Step [100/782] Loss: 0.1155\n",
            "Epoch [32/80], Step [200/782] Loss: 0.0185\n",
            "Epoch [32/80], Step [300/782] Loss: 0.0260\n",
            "Epoch [32/80], Step [400/782] Loss: 0.1361\n",
            "Epoch [32/80], Step [500/782] Loss: 0.0512\n",
            "Epoch [32/80], Step [600/782] Loss: 0.0804\n",
            "Epoch [32/80], Step [700/782] Loss: 0.0641\n",
            "Epoch [33/80], Step [100/782] Loss: 0.0696\n",
            "Epoch [33/80], Step [200/782] Loss: 0.0324\n",
            "Epoch [33/80], Step [300/782] Loss: 0.0254\n",
            "Epoch [33/80], Step [400/782] Loss: 0.0318\n",
            "Epoch [33/80], Step [500/782] Loss: 0.0510\n",
            "Epoch [33/80], Step [600/782] Loss: 0.0554\n",
            "Epoch [33/80], Step [700/782] Loss: 0.0467\n",
            "Epoch [34/80], Step [100/782] Loss: 0.0102\n",
            "Epoch [34/80], Step [200/782] Loss: 0.0416\n",
            "Epoch [34/80], Step [300/782] Loss: 0.0325\n",
            "Epoch [34/80], Step [400/782] Loss: 0.0253\n",
            "Epoch [34/80], Step [500/782] Loss: 0.1164\n",
            "Epoch [34/80], Step [600/782] Loss: 0.0431\n",
            "Epoch [34/80], Step [700/782] Loss: 0.0538\n",
            "Epoch [35/80], Step [100/782] Loss: 0.0431\n",
            "Epoch [35/80], Step [200/782] Loss: 0.0601\n",
            "Epoch [35/80], Step [300/782] Loss: 0.0964\n",
            "Epoch [35/80], Step [400/782] Loss: 0.0700\n",
            "Epoch [35/80], Step [500/782] Loss: 0.0349\n",
            "Epoch [35/80], Step [600/782] Loss: 0.1021\n",
            "Epoch [35/80], Step [700/782] Loss: 0.0164\n",
            "Epoch [36/80], Step [100/782] Loss: 0.0165\n",
            "Epoch [36/80], Step [200/782] Loss: 0.0176\n",
            "Epoch [36/80], Step [300/782] Loss: 0.0472\n",
            "Epoch [36/80], Step [400/782] Loss: 0.0169\n",
            "Epoch [36/80], Step [500/782] Loss: 0.0683\n",
            "Epoch [36/80], Step [600/782] Loss: 0.0096\n",
            "Epoch [36/80], Step [700/782] Loss: 0.0102\n",
            "Epoch [37/80], Step [100/782] Loss: 0.0353\n",
            "Epoch [37/80], Step [200/782] Loss: 0.0530\n",
            "Epoch [37/80], Step [300/782] Loss: 0.1157\n",
            "Epoch [37/80], Step [400/782] Loss: 0.0200\n",
            "Epoch [37/80], Step [500/782] Loss: 0.0189\n",
            "Epoch [37/80], Step [600/782] Loss: 0.0763\n",
            "Epoch [37/80], Step [700/782] Loss: 0.0114\n",
            "Epoch [38/80], Step [100/782] Loss: 0.0166\n",
            "Epoch [38/80], Step [200/782] Loss: 0.0482\n",
            "Epoch [38/80], Step [300/782] Loss: 0.0253\n",
            "Epoch [38/80], Step [400/782] Loss: 0.0277\n",
            "Epoch [38/80], Step [500/782] Loss: 0.0103\n",
            "Epoch [38/80], Step [600/782] Loss: 0.0375\n",
            "Epoch [38/80], Step [700/782] Loss: 0.1270\n",
            "Epoch [39/80], Step [100/782] Loss: 0.0964\n",
            "Epoch [39/80], Step [200/782] Loss: 0.0466\n",
            "Epoch [39/80], Step [300/782] Loss: 0.0214\n",
            "Epoch [39/80], Step [400/782] Loss: 0.0439\n",
            "Epoch [39/80], Step [500/782] Loss: 0.0037\n",
            "Epoch [39/80], Step [600/782] Loss: 0.0802\n",
            "Epoch [39/80], Step [700/782] Loss: 0.0420\n",
            "Epoch [40/80], Step [100/782] Loss: 0.0162\n",
            "Epoch [40/80], Step [200/782] Loss: 0.0400\n",
            "Epoch [40/80], Step [300/782] Loss: 0.0318\n",
            "Epoch [40/80], Step [400/782] Loss: 0.1301\n",
            "Epoch [40/80], Step [500/782] Loss: 0.0751\n",
            "Epoch [40/80], Step [600/782] Loss: 0.0272\n",
            "Epoch [40/80], Step [700/782] Loss: 0.0410\n",
            "Epoch [41/80], Step [100/782] Loss: 0.0334\n",
            "Epoch [41/80], Step [200/782] Loss: 0.0179\n",
            "Epoch [41/80], Step [300/782] Loss: 0.0217\n",
            "Epoch [41/80], Step [400/782] Loss: 0.0237\n",
            "Epoch [41/80], Step [500/782] Loss: 0.0114\n",
            "Epoch [41/80], Step [600/782] Loss: 0.0087\n",
            "Epoch [41/80], Step [700/782] Loss: 0.0048\n",
            "Epoch [42/80], Step [100/782] Loss: 0.0380\n",
            "Epoch [42/80], Step [200/782] Loss: 0.0236\n",
            "Epoch [42/80], Step [300/782] Loss: 0.0068\n",
            "Epoch [42/80], Step [400/782] Loss: 0.0163\n",
            "Epoch [42/80], Step [500/782] Loss: 0.0035\n",
            "Epoch [42/80], Step [600/782] Loss: 0.0149\n",
            "Epoch [42/80], Step [700/782] Loss: 0.0114\n",
            "Epoch [43/80], Step [100/782] Loss: 0.0061\n",
            "Epoch [43/80], Step [200/782] Loss: 0.0110\n",
            "Epoch [43/80], Step [300/782] Loss: 0.0335\n",
            "Epoch [43/80], Step [400/782] Loss: 0.0086\n",
            "Epoch [43/80], Step [500/782] Loss: 0.0135\n",
            "Epoch [43/80], Step [600/782] Loss: 0.0120\n",
            "Epoch [43/80], Step [700/782] Loss: 0.0074\n",
            "Epoch [44/80], Step [100/782] Loss: 0.0076\n",
            "Epoch [44/80], Step [200/782] Loss: 0.0074\n",
            "Epoch [44/80], Step [300/782] Loss: 0.0168\n",
            "Epoch [44/80], Step [400/782] Loss: 0.0106\n",
            "Epoch [44/80], Step [500/782] Loss: 0.0079\n",
            "Epoch [44/80], Step [600/782] Loss: 0.0117\n",
            "Epoch [44/80], Step [700/782] Loss: 0.0175\n",
            "Epoch [45/80], Step [100/782] Loss: 0.0121\n",
            "Epoch [45/80], Step [200/782] Loss: 0.0111\n",
            "Epoch [45/80], Step [300/782] Loss: 0.0017\n",
            "Epoch [45/80], Step [400/782] Loss: 0.0104\n",
            "Epoch [45/80], Step [500/782] Loss: 0.0053\n",
            "Epoch [45/80], Step [600/782] Loss: 0.0032\n",
            "Epoch [45/80], Step [700/782] Loss: 0.0046\n",
            "Epoch [46/80], Step [100/782] Loss: 0.0075\n",
            "Epoch [46/80], Step [200/782] Loss: 0.0148\n",
            "Epoch [46/80], Step [300/782] Loss: 0.0049\n",
            "Epoch [46/80], Step [400/782] Loss: 0.0091\n",
            "Epoch [46/80], Step [500/782] Loss: 0.0139\n",
            "Epoch [46/80], Step [600/782] Loss: 0.0151\n",
            "Epoch [46/80], Step [700/782] Loss: 0.0114\n",
            "Epoch [47/80], Step [100/782] Loss: 0.0065\n",
            "Epoch [47/80], Step [200/782] Loss: 0.0335\n",
            "Epoch [47/80], Step [300/782] Loss: 0.0101\n",
            "Epoch [47/80], Step [400/782] Loss: 0.0189\n",
            "Epoch [47/80], Step [500/782] Loss: 0.0056\n",
            "Epoch [47/80], Step [600/782] Loss: 0.0029\n",
            "Epoch [47/80], Step [700/782] Loss: 0.0030\n",
            "Epoch [48/80], Step [100/782] Loss: 0.0091\n",
            "Epoch [48/80], Step [200/782] Loss: 0.0121\n",
            "Epoch [48/80], Step [300/782] Loss: 0.0278\n",
            "Epoch [48/80], Step [400/782] Loss: 0.0103\n",
            "Epoch [48/80], Step [500/782] Loss: 0.0106\n",
            "Epoch [48/80], Step [600/782] Loss: 0.0140\n",
            "Epoch [48/80], Step [700/782] Loss: 0.0042\n",
            "Epoch [49/80], Step [100/782] Loss: 0.0549\n",
            "Epoch [49/80], Step [200/782] Loss: 0.0065\n",
            "Epoch [49/80], Step [300/782] Loss: 0.0085\n",
            "Epoch [49/80], Step [400/782] Loss: 0.0137\n",
            "Epoch [49/80], Step [500/782] Loss: 0.0078\n",
            "Epoch [49/80], Step [600/782] Loss: 0.0211\n",
            "Epoch [49/80], Step [700/782] Loss: 0.0096\n",
            "Epoch [50/80], Step [100/782] Loss: 0.0200\n",
            "Epoch [50/80], Step [200/782] Loss: 0.0161\n",
            "Epoch [50/80], Step [300/782] Loss: 0.0266\n",
            "Epoch [50/80], Step [400/782] Loss: 0.0053\n",
            "Epoch [50/80], Step [500/782] Loss: 0.0149\n",
            "Epoch [50/80], Step [600/782] Loss: 0.0058\n",
            "Epoch [50/80], Step [700/782] Loss: 0.0188\n",
            "Epoch [51/80], Step [100/782] Loss: 0.0030\n",
            "Epoch [51/80], Step [200/782] Loss: 0.0048\n",
            "Epoch [51/80], Step [300/782] Loss: 0.0181\n",
            "Epoch [51/80], Step [400/782] Loss: 0.0028\n",
            "Epoch [51/80], Step [500/782] Loss: 0.0034\n",
            "Epoch [51/80], Step [600/782] Loss: 0.0091\n",
            "Epoch [51/80], Step [700/782] Loss: 0.0040\n",
            "Epoch [52/80], Step [100/782] Loss: 0.0031\n",
            "Epoch [52/80], Step [200/782] Loss: 0.0092\n",
            "Epoch [52/80], Step [300/782] Loss: 0.0093\n",
            "Epoch [52/80], Step [400/782] Loss: 0.0054\n",
            "Epoch [52/80], Step [500/782] Loss: 0.0181\n",
            "Epoch [52/80], Step [600/782] Loss: 0.0162\n",
            "Epoch [52/80], Step [700/782] Loss: 0.0069\n",
            "Epoch [53/80], Step [100/782] Loss: 0.0183\n",
            "Epoch [53/80], Step [200/782] Loss: 0.0040\n",
            "Epoch [53/80], Step [300/782] Loss: 0.0087\n",
            "Epoch [53/80], Step [400/782] Loss: 0.0054\n",
            "Epoch [53/80], Step [500/782] Loss: 0.0061\n",
            "Epoch [53/80], Step [600/782] Loss: 0.0044\n",
            "Epoch [53/80], Step [700/782] Loss: 0.0060\n",
            "Epoch [54/80], Step [100/782] Loss: 0.0012\n",
            "Epoch [54/80], Step [200/782] Loss: 0.0101\n",
            "Epoch [54/80], Step [300/782] Loss: 0.0097\n",
            "Epoch [54/80], Step [400/782] Loss: 0.0013\n",
            "Epoch [54/80], Step [500/782] Loss: 0.0037\n",
            "Epoch [54/80], Step [600/782] Loss: 0.0048\n",
            "Epoch [54/80], Step [700/782] Loss: 0.0021\n",
            "Epoch [55/80], Step [100/782] Loss: 0.0042\n",
            "Epoch [55/80], Step [200/782] Loss: 0.0097\n",
            "Epoch [55/80], Step [300/782] Loss: 0.0103\n",
            "Epoch [55/80], Step [400/782] Loss: 0.0176\n",
            "Epoch [55/80], Step [500/782] Loss: 0.0212\n",
            "Epoch [55/80], Step [600/782] Loss: 0.0040\n",
            "Epoch [55/80], Step [700/782] Loss: 0.0046\n",
            "Epoch [56/80], Step [100/782] Loss: 0.0078\n",
            "Epoch [56/80], Step [200/782] Loss: 0.0149\n",
            "Epoch [56/80], Step [300/782] Loss: 0.0032\n",
            "Epoch [56/80], Step [400/782] Loss: 0.0179\n",
            "Epoch [56/80], Step [500/782] Loss: 0.0098\n",
            "Epoch [56/80], Step [600/782] Loss: 0.0187\n",
            "Epoch [56/80], Step [700/782] Loss: 0.0093\n",
            "Epoch [57/80], Step [100/782] Loss: 0.0196\n",
            "Epoch [57/80], Step [200/782] Loss: 0.0030\n",
            "Epoch [57/80], Step [300/782] Loss: 0.0094\n",
            "Epoch [57/80], Step [400/782] Loss: 0.0032\n",
            "Epoch [57/80], Step [500/782] Loss: 0.0045\n",
            "Epoch [57/80], Step [600/782] Loss: 0.0158\n",
            "Epoch [57/80], Step [700/782] Loss: 0.0120\n",
            "Epoch [58/80], Step [100/782] Loss: 0.0064\n",
            "Epoch [58/80], Step [200/782] Loss: 0.0040\n",
            "Epoch [58/80], Step [300/782] Loss: 0.0072\n",
            "Epoch [58/80], Step [400/782] Loss: 0.0112\n",
            "Epoch [58/80], Step [500/782] Loss: 0.0083\n",
            "Epoch [58/80], Step [600/782] Loss: 0.0066\n",
            "Epoch [58/80], Step [700/782] Loss: 0.0144\n",
            "Epoch [59/80], Step [100/782] Loss: 0.0012\n",
            "Epoch [59/80], Step [200/782] Loss: 0.0030\n",
            "Epoch [59/80], Step [300/782] Loss: 0.0246\n",
            "Epoch [59/80], Step [400/782] Loss: 0.0047\n",
            "Epoch [59/80], Step [500/782] Loss: 0.0036\n",
            "Epoch [59/80], Step [600/782] Loss: 0.0104\n",
            "Epoch [59/80], Step [700/782] Loss: 0.0132\n",
            "Epoch [60/80], Step [100/782] Loss: 0.0156\n",
            "Epoch [60/80], Step [200/782] Loss: 0.0019\n",
            "Epoch [60/80], Step [300/782] Loss: 0.0228\n",
            "Epoch [60/80], Step [400/782] Loss: 0.0111\n",
            "Epoch [60/80], Step [500/782] Loss: 0.0045\n",
            "Epoch [60/80], Step [600/782] Loss: 0.0026\n",
            "Epoch [60/80], Step [700/782] Loss: 0.0038\n",
            "Epoch [61/80], Step [100/782] Loss: 0.0053\n",
            "Epoch [61/80], Step [200/782] Loss: 0.0057\n",
            "Epoch [61/80], Step [300/782] Loss: 0.0056\n",
            "Epoch [61/80], Step [400/782] Loss: 0.0069\n",
            "Epoch [61/80], Step [500/782] Loss: 0.0123\n",
            "Epoch [61/80], Step [600/782] Loss: 0.0046\n",
            "Epoch [61/80], Step [700/782] Loss: 0.0079\n",
            "Epoch [62/80], Step [100/782] Loss: 0.0019\n",
            "Epoch [62/80], Step [200/782] Loss: 0.0048\n",
            "Epoch [62/80], Step [300/782] Loss: 0.0023\n",
            "Epoch [62/80], Step [400/782] Loss: 0.0169\n",
            "Epoch [62/80], Step [500/782] Loss: 0.0120\n",
            "Epoch [62/80], Step [600/782] Loss: 0.0080\n",
            "Epoch [62/80], Step [700/782] Loss: 0.0045\n",
            "Epoch [63/80], Step [100/782] Loss: 0.0025\n",
            "Epoch [63/80], Step [200/782] Loss: 0.0032\n",
            "Epoch [63/80], Step [300/782] Loss: 0.0028\n",
            "Epoch [63/80], Step [400/782] Loss: 0.0047\n",
            "Epoch [63/80], Step [500/782] Loss: 0.0037\n",
            "Epoch [63/80], Step [600/782] Loss: 0.0061\n",
            "Epoch [63/80], Step [700/782] Loss: 0.0062\n",
            "Epoch [64/80], Step [100/782] Loss: 0.0036\n",
            "Epoch [64/80], Step [200/782] Loss: 0.0007\n",
            "Epoch [64/80], Step [300/782] Loss: 0.0034\n",
            "Epoch [64/80], Step [400/782] Loss: 0.0013\n",
            "Epoch [64/80], Step [500/782] Loss: 0.0051\n",
            "Epoch [64/80], Step [600/782] Loss: 0.0020\n",
            "Epoch [64/80], Step [700/782] Loss: 0.0146\n",
            "Epoch [65/80], Step [100/782] Loss: 0.0047\n",
            "Epoch [65/80], Step [200/782] Loss: 0.0298\n",
            "Epoch [65/80], Step [300/782] Loss: 0.0043\n",
            "Epoch [65/80], Step [400/782] Loss: 0.0051\n",
            "Epoch [65/80], Step [500/782] Loss: 0.0015\n",
            "Epoch [65/80], Step [600/782] Loss: 0.0026\n",
            "Epoch [65/80], Step [700/782] Loss: 0.0099\n",
            "Epoch [66/80], Step [100/782] Loss: 0.0076\n",
            "Epoch [66/80], Step [200/782] Loss: 0.0016\n",
            "Epoch [66/80], Step [300/782] Loss: 0.0027\n",
            "Epoch [66/80], Step [400/782] Loss: 0.0024\n",
            "Epoch [66/80], Step [500/782] Loss: 0.0009\n",
            "Epoch [66/80], Step [600/782] Loss: 0.0040\n",
            "Epoch [66/80], Step [700/782] Loss: 0.0032\n",
            "Epoch [67/80], Step [100/782] Loss: 0.0009\n",
            "Epoch [67/80], Step [200/782] Loss: 0.0098\n",
            "Epoch [67/80], Step [300/782] Loss: 0.0018\n",
            "Epoch [67/80], Step [400/782] Loss: 0.0020\n",
            "Epoch [67/80], Step [500/782] Loss: 0.0026\n",
            "Epoch [67/80], Step [600/782] Loss: 0.0015\n",
            "Epoch [67/80], Step [700/782] Loss: 0.0023\n",
            "Epoch [68/80], Step [100/782] Loss: 0.0022\n",
            "Epoch [68/80], Step [200/782] Loss: 0.0004\n",
            "Epoch [68/80], Step [300/782] Loss: 0.0139\n",
            "Epoch [68/80], Step [400/782] Loss: 0.0112\n",
            "Epoch [68/80], Step [500/782] Loss: 0.0055\n",
            "Epoch [68/80], Step [600/782] Loss: 0.0132\n",
            "Epoch [68/80], Step [700/782] Loss: 0.0032\n",
            "Epoch [69/80], Step [100/782] Loss: 0.0129\n",
            "Epoch [69/80], Step [200/782] Loss: 0.0036\n",
            "Epoch [69/80], Step [300/782] Loss: 0.0063\n",
            "Epoch [69/80], Step [400/782] Loss: 0.0021\n",
            "Epoch [69/80], Step [500/782] Loss: 0.0112\n",
            "Epoch [69/80], Step [600/782] Loss: 0.0126\n",
            "Epoch [69/80], Step [700/782] Loss: 0.0036\n",
            "Epoch [70/80], Step [100/782] Loss: 0.0150\n",
            "Epoch [70/80], Step [200/782] Loss: 0.0012\n",
            "Epoch [70/80], Step [300/782] Loss: 0.0128\n",
            "Epoch [70/80], Step [400/782] Loss: 0.0027\n",
            "Epoch [70/80], Step [500/782] Loss: 0.0408\n",
            "Epoch [70/80], Step [600/782] Loss: 0.0011\n",
            "Epoch [70/80], Step [700/782] Loss: 0.0058\n",
            "Epoch [71/80], Step [100/782] Loss: 0.0096\n",
            "Epoch [71/80], Step [200/782] Loss: 0.0020\n",
            "Epoch [71/80], Step [300/782] Loss: 0.0033\n",
            "Epoch [71/80], Step [400/782] Loss: 0.0040\n",
            "Epoch [71/80], Step [500/782] Loss: 0.0021\n",
            "Epoch [71/80], Step [600/782] Loss: 0.0027\n",
            "Epoch [71/80], Step [700/782] Loss: 0.0133\n",
            "Epoch [72/80], Step [100/782] Loss: 0.0026\n",
            "Epoch [72/80], Step [200/782] Loss: 0.0106\n",
            "Epoch [72/80], Step [300/782] Loss: 0.0027\n",
            "Epoch [72/80], Step [400/782] Loss: 0.0005\n",
            "Epoch [72/80], Step [500/782] Loss: 0.0037\n",
            "Epoch [72/80], Step [600/782] Loss: 0.0034\n",
            "Epoch [72/80], Step [700/782] Loss: 0.0062\n",
            "Epoch [73/80], Step [100/782] Loss: 0.0057\n",
            "Epoch [73/80], Step [200/782] Loss: 0.0060\n",
            "Epoch [73/80], Step [300/782] Loss: 0.0063\n",
            "Epoch [73/80], Step [400/782] Loss: 0.0069\n",
            "Epoch [73/80], Step [500/782] Loss: 0.0063\n",
            "Epoch [73/80], Step [600/782] Loss: 0.0134\n",
            "Epoch [73/80], Step [700/782] Loss: 0.0074\n",
            "Epoch [74/80], Step [100/782] Loss: 0.0062\n",
            "Epoch [74/80], Step [200/782] Loss: 0.0021\n",
            "Epoch [74/80], Step [300/782] Loss: 0.0022\n",
            "Epoch [74/80], Step [400/782] Loss: 0.0032\n",
            "Epoch [74/80], Step [500/782] Loss: 0.0059\n",
            "Epoch [74/80], Step [600/782] Loss: 0.0158\n",
            "Epoch [74/80], Step [700/782] Loss: 0.0029\n",
            "Epoch [75/80], Step [100/782] Loss: 0.0107\n",
            "Epoch [75/80], Step [200/782] Loss: 0.0009\n",
            "Epoch [75/80], Step [300/782] Loss: 0.0031\n",
            "Epoch [75/80], Step [400/782] Loss: 0.0008\n",
            "Epoch [75/80], Step [500/782] Loss: 0.0024\n",
            "Epoch [75/80], Step [600/782] Loss: 0.0079\n",
            "Epoch [75/80], Step [700/782] Loss: 0.0022\n",
            "Epoch [76/80], Step [100/782] Loss: 0.0026\n",
            "Epoch [76/80], Step [200/782] Loss: 0.0040\n",
            "Epoch [76/80], Step [300/782] Loss: 0.0004\n",
            "Epoch [76/80], Step [400/782] Loss: 0.0075\n",
            "Epoch [76/80], Step [500/782] Loss: 0.0019\n",
            "Epoch [76/80], Step [600/782] Loss: 0.0049\n",
            "Epoch [76/80], Step [700/782] Loss: 0.0065\n",
            "Epoch [77/80], Step [100/782] Loss: 0.0150\n",
            "Epoch [77/80], Step [200/782] Loss: 0.0022\n",
            "Epoch [77/80], Step [300/782] Loss: 0.0204\n",
            "Epoch [77/80], Step [400/782] Loss: 0.0102\n",
            "Epoch [77/80], Step [500/782] Loss: 0.0120\n",
            "Epoch [77/80], Step [600/782] Loss: 0.0017\n",
            "Epoch [77/80], Step [700/782] Loss: 0.0022\n",
            "Epoch [78/80], Step [100/782] Loss: 0.0012\n",
            "Epoch [78/80], Step [200/782] Loss: 0.0021\n",
            "Epoch [78/80], Step [300/782] Loss: 0.0130\n",
            "Epoch [78/80], Step [400/782] Loss: 0.0018\n",
            "Epoch [78/80], Step [500/782] Loss: 0.0021\n",
            "Epoch [78/80], Step [600/782] Loss: 0.0053\n",
            "Epoch [78/80], Step [700/782] Loss: 0.0027\n",
            "Epoch [79/80], Step [100/782] Loss: 0.0020\n",
            "Epoch [79/80], Step [200/782] Loss: 0.0035\n",
            "Epoch [79/80], Step [300/782] Loss: 0.0061\n",
            "Epoch [79/80], Step [400/782] Loss: 0.0015\n",
            "Epoch [79/80], Step [500/782] Loss: 0.0034\n",
            "Epoch [79/80], Step [600/782] Loss: 0.0038\n",
            "Epoch [79/80], Step [700/782] Loss: 0.0104\n",
            "Epoch [80/80], Step [100/782] Loss: 0.0040\n",
            "Epoch [80/80], Step [200/782] Loss: 0.0042\n",
            "Epoch [80/80], Step [300/782] Loss: 0.0033\n",
            "Epoch [80/80], Step [400/782] Loss: 0.0039\n",
            "Epoch [80/80], Step [500/782] Loss: 0.0031\n",
            "Epoch [80/80], Step [600/782] Loss: 0.0026\n",
            "Epoch [80/80], Step [700/782] Loss: 0.0020\n"
          ]
        }
      ],
      "source": [
        "# Device configuration\n",
        "device = torch.device('cuda' if torch.cuda.is_available() else 'cpu')\n",
        "\n",
        "# Hyper-parameters\n",
        "num_epochs = 80\n",
        "learning_rate = 0.001\n",
        "\n",
        "# 3x3 convolution\n",
        "def conv3x3(in_channels, out_channels, stride=1):\n",
        "    return nn.Conv2d(in_channels, out_channels, kernel_size=3, \n",
        "                     stride=stride, padding=1, bias=False)\n",
        "\n",
        "# Residual block\n",
        "class ResidualBlock(nn.Module):\n",
        "    def __init__(self, in_channels, out_channels, stride=1, downsample=None):\n",
        "        super(ResidualBlock, self).__init__()\n",
        "        self.conv1 = conv3x3(in_channels, out_channels, stride)\n",
        "        self.bn1 = nn.BatchNorm2d(out_channels)\n",
        "        self.relu = nn.ReLU(inplace=True)\n",
        "        self.conv2 = conv3x3(out_channels, out_channels)\n",
        "        self.bn2 = nn.BatchNorm2d(out_channels)\n",
        "        self.downsample = downsample\n",
        "\n",
        "    def forward(self, x):\n",
        "        residual = x\n",
        "        out = self.conv1(x)\n",
        "        out = self.bn1(out)\n",
        "        out = self.relu(out)\n",
        "        out = self.conv2(out)\n",
        "        out = self.bn2(out)\n",
        "        if self.downsample:\n",
        "            residual = self.downsample(x)\n",
        "        out += residual\n",
        "        out = self.relu(out)\n",
        "        return out\n",
        "\n",
        "# ResNet\n",
        "class ResNet(nn.Module):\n",
        "    def __init__(self, block, layers, num_classes=10):\n",
        "        super(ResNet, self).__init__()\n",
        "        self.in_channels = 16\n",
        "        self.conv = conv3x3(3, 16)\n",
        "        self.bn = nn.BatchNorm2d(16)\n",
        "        self.relu = nn.ReLU(inplace=True)\n",
        "        self.layer1 = self.make_layer(block, 16, layers[0])\n",
        "        self.layer2 = self.make_layer(block, 32, layers[1], 2)\n",
        "        self.layer3 = self.make_layer(block, 64, layers[2], 2)\n",
        "        self.avg_pool = nn.AvgPool2d(8)\n",
        "        self.fc = nn.Linear(64, num_classes)\n",
        "\n",
        "    def make_layer(self, block, out_channels, blocks, stride=1):\n",
        "        downsample = None\n",
        "        if (stride != 1) or (self.in_channels != out_channels):\n",
        "            downsample = nn.Sequential(\n",
        "                conv3x3(self.in_channels, out_channels, stride=stride),\n",
        "                nn.BatchNorm2d(out_channels))\n",
        "        layers = []\n",
        "        layers.append(block(self.in_channels, out_channels, stride, downsample))\n",
        "        self.in_channels = out_channels\n",
        "        for i in range(1, blocks):\n",
        "            layers.append(block(out_channels, out_channels))\n",
        "        return nn.Sequential(*layers)\n",
        "\n",
        "    def forward(self, x):\n",
        "        out = self.conv(x)\n",
        "        out = self.bn(out)\n",
        "        out = self.relu(out)\n",
        "        out = self.layer1(out)\n",
        "        out = self.layer2(out)\n",
        "        out = self.layer3(out)\n",
        "        out = self.avg_pool(out)\n",
        "        out = out.view(out.size(0), -1)\n",
        "        out = self.fc(out)\n",
        "        return out\n",
        "\n",
        "resnet = ResNet(ResidualBlock, [2, 2, 2]).to(device)\n",
        "\n",
        "\n",
        "# Loss and optimizer\n",
        "criterion = nn.CrossEntropyLoss()\n",
        "optimizer = torch.optim.Adam(resnet.parameters(), lr=learning_rate)\n",
        "\n",
        "# For updating learning rate\n",
        "def update_lr(optimizer, lr):    \n",
        "    for param_group in optimizer.param_groups:\n",
        "        param_group['lr'] = lr\n",
        "\n",
        "# Train the model\n",
        "total_step = len(train_loader)\n",
        "curr_lr = learning_rate\n",
        "for epoch in range(num_epochs):\n",
        "    for i, (images, labels) in enumerate(train_loader):\n",
        "        images = images.to(device)\n",
        "        labels = labels.to(device)\n",
        "\n",
        "        # Forward pass\n",
        "        outputs = resnet(images)\n",
        "        loss = criterion(outputs, labels)\n",
        "\n",
        "        # Backward and optimize\n",
        "        optimizer.zero_grad()\n",
        "        loss.backward()\n",
        "        optimizer.step()\n",
        "\n",
        "        if (i+1) % 100 == 0:\n",
        "            print (\"Epoch [{}/{}], Step [{}/{}] Loss: {:.4f}\"\n",
        "                   .format(epoch+1, num_epochs, i+1, total_step, loss.item()))\n",
        "\n",
        "    # Decay learning rate\n",
        "    if (epoch+1) % 20 == 0:\n",
        "        curr_lr /= 3\n",
        "        update_lr(optimizer, curr_lr)\n",
        "\n",
        "\n",
        "# Save the model checkpoint\n",
        "torch.save(resnet.state_dict(), 'resnet.ckpt')"
      ]
    },
    {
      "cell_type": "markdown",
      "source": [
        "# AlexNet"
      ],
      "metadata": {
        "id": "dlDz8bVkUgBq"
      },
      "id": "dlDz8bVkUgBq"
    },
    {
      "cell_type": "markdown",
      "source": [
        "## Impoting the Model"
      ],
      "metadata": {
        "id": "fa8P21I5W0mS"
      },
      "id": "fa8P21I5W0mS"
    },
    {
      "cell_type": "code",
      "execution_count": null,
      "id": "2d661392",
      "metadata": {
        "id": "2d661392",
        "colab": {
          "base_uri": "https://localhost:8080/",
          "height": 66,
          "referenced_widgets": [
            "5a7a878f14264d8782a33ea86374059a",
            "623af0e215514cca92076e6557548436",
            "9006b2246ac5488ebe234319fe40595f",
            "0d601ed24cee4c158c1f68e09ddeeea2",
            "526607d893884bbabd074659f12ee877",
            "b552349cb6fb4e2daf3e8e32dff7c672",
            "02a8de2764834fb4a60d516e3759b95d",
            "76c1d8ebfdd0439bb87dbec8e6cb9517",
            "c4de1eef22914721a4be55f50313a4e5",
            "c220c49b29e7489fbe307072f64c9b17",
            "4174723ee72a46969c11383c6cbefd1a"
          ]
        },
        "outputId": "8221c827-37f2-45a1-ddec-03cef35865b0"
      },
      "outputs": [
        {
          "output_type": "stream",
          "name": "stderr",
          "text": [
            "Downloading: \"https://download.pytorch.org/models/alexnet-owt-7be5be79.pth\" to /root/.cache/torch/hub/checkpoints/alexnet-owt-7be5be79.pth\n"
          ]
        },
        {
          "output_type": "display_data",
          "data": {
            "application/vnd.jupyter.widget-view+json": {
              "model_id": "5a7a878f14264d8782a33ea86374059a",
              "version_minor": 0,
              "version_major": 2
            },
            "text/plain": [
              "  0%|          | 0.00/233M [00:00<?, ?B/s]"
            ]
          },
          "metadata": {}
        }
      ],
      "source": [
        "from torchvision import models\n",
        "alexnet = models.alexnet(pretrained=True)"
      ]
    },
    {
      "cell_type": "markdown",
      "source": [
        "### Evaluating the model layers"
      ],
      "metadata": {
        "id": "FwlbieVjW4QU"
      },
      "id": "FwlbieVjW4QU"
    },
    {
      "cell_type": "code",
      "execution_count": null,
      "id": "99aaee86",
      "metadata": {
        "colab": {
          "base_uri": "https://localhost:8080/"
        },
        "id": "99aaee86",
        "outputId": "241005f5-3010-41fc-e726-06845f3b9e2b"
      },
      "outputs": [
        {
          "output_type": "execute_result",
          "data": {
            "text/plain": [
              "AlexNet(\n",
              "  (features): Sequential(\n",
              "    (0): Conv2d(3, 64, kernel_size=(11, 11), stride=(4, 4), padding=(2, 2))\n",
              "    (1): ReLU(inplace=True)\n",
              "    (2): MaxPool2d(kernel_size=3, stride=2, padding=0, dilation=1, ceil_mode=False)\n",
              "    (3): Conv2d(64, 192, kernel_size=(5, 5), stride=(1, 1), padding=(2, 2))\n",
              "    (4): ReLU(inplace=True)\n",
              "    (5): MaxPool2d(kernel_size=3, stride=2, padding=0, dilation=1, ceil_mode=False)\n",
              "    (6): Conv2d(192, 384, kernel_size=(3, 3), stride=(1, 1), padding=(1, 1))\n",
              "    (7): ReLU(inplace=True)\n",
              "    (8): Conv2d(384, 256, kernel_size=(3, 3), stride=(1, 1), padding=(1, 1))\n",
              "    (9): ReLU(inplace=True)\n",
              "    (10): Conv2d(256, 256, kernel_size=(3, 3), stride=(1, 1), padding=(1, 1))\n",
              "    (11): ReLU(inplace=True)\n",
              "    (12): MaxPool2d(kernel_size=3, stride=2, padding=0, dilation=1, ceil_mode=False)\n",
              "  )\n",
              "  (avgpool): AdaptiveAvgPool2d(output_size=(6, 6))\n",
              "  (classifier): Sequential(\n",
              "    (0): Dropout(p=0.5, inplace=False)\n",
              "    (1): Linear(in_features=9216, out_features=4096, bias=True)\n",
              "    (2): ReLU(inplace=True)\n",
              "    (3): Dropout(p=0.5, inplace=False)\n",
              "    (4): Linear(in_features=4096, out_features=4096, bias=True)\n",
              "    (5): ReLU(inplace=True)\n",
              "    (6): Linear(in_features=4096, out_features=1000, bias=True)\n",
              "  )\n",
              ")"
            ]
          },
          "metadata": {},
          "execution_count": 31
        }
      ],
      "source": [
        "alexnet.eval()"
      ]
    },
    {
      "cell_type": "markdown",
      "source": [
        "### Adjusting two of the model's layers to fit to CIFAR-10 dataset"
      ],
      "metadata": {
        "id": "uRQl5z1fW8QW"
      },
      "id": "uRQl5z1fW8QW"
    },
    {
      "cell_type": "code",
      "execution_count": null,
      "id": "316afd7e",
      "metadata": {
        "id": "316afd7e"
      },
      "outputs": [],
      "source": [
        "import torch.nn as nn\n",
        "# We need to change the classifiers to fit to the cifar 10 dataset\n",
        "alexnet.classifier[4] = nn.Linear(4096,1024)\n",
        "alexnet.classifier[6] = nn.Linear(1024,10)"
      ]
    },
    {
      "cell_type": "markdown",
      "source": [
        "#### Second evaluation after adjustments"
      ],
      "metadata": {
        "id": "ImoRml6oXFAn"
      },
      "id": "ImoRml6oXFAn"
    },
    {
      "cell_type": "code",
      "execution_count": null,
      "id": "10381a84",
      "metadata": {
        "colab": {
          "base_uri": "https://localhost:8080/"
        },
        "id": "10381a84",
        "outputId": "e033a860-1f5e-406c-c77e-115681522efb"
      },
      "outputs": [
        {
          "output_type": "execute_result",
          "data": {
            "text/plain": [
              "AlexNet(\n",
              "  (features): Sequential(\n",
              "    (0): Conv2d(3, 64, kernel_size=(11, 11), stride=(4, 4), padding=(2, 2))\n",
              "    (1): ReLU(inplace=True)\n",
              "    (2): MaxPool2d(kernel_size=3, stride=2, padding=0, dilation=1, ceil_mode=False)\n",
              "    (3): Conv2d(64, 192, kernel_size=(5, 5), stride=(1, 1), padding=(2, 2))\n",
              "    (4): ReLU(inplace=True)\n",
              "    (5): MaxPool2d(kernel_size=3, stride=2, padding=0, dilation=1, ceil_mode=False)\n",
              "    (6): Conv2d(192, 384, kernel_size=(3, 3), stride=(1, 1), padding=(1, 1))\n",
              "    (7): ReLU(inplace=True)\n",
              "    (8): Conv2d(384, 256, kernel_size=(3, 3), stride=(1, 1), padding=(1, 1))\n",
              "    (9): ReLU(inplace=True)\n",
              "    (10): Conv2d(256, 256, kernel_size=(3, 3), stride=(1, 1), padding=(1, 1))\n",
              "    (11): ReLU(inplace=True)\n",
              "    (12): MaxPool2d(kernel_size=3, stride=2, padding=0, dilation=1, ceil_mode=False)\n",
              "  )\n",
              "  (avgpool): AdaptiveAvgPool2d(output_size=(6, 6))\n",
              "  (classifier): Sequential(\n",
              "    (0): Dropout(p=0.5, inplace=False)\n",
              "    (1): Linear(in_features=9216, out_features=4096, bias=True)\n",
              "    (2): ReLU(inplace=True)\n",
              "    (3): Dropout(p=0.5, inplace=False)\n",
              "    (4): Linear(in_features=4096, out_features=1024, bias=True)\n",
              "    (5): ReLU(inplace=True)\n",
              "    (6): Linear(in_features=1024, out_features=10, bias=True)\n",
              "  )\n",
              ")"
            ]
          },
          "metadata": {},
          "execution_count": 33
        }
      ],
      "source": [
        "alexnet.eval()"
      ]
    },
    {
      "cell_type": "markdown",
      "source": [
        "#### Reading the total parameters of the Alexnet"
      ],
      "metadata": {
        "id": "BpYk_d27XIkA"
      },
      "id": "BpYk_d27XIkA"
    },
    {
      "cell_type": "code",
      "execution_count": null,
      "id": "ab82ecfd",
      "metadata": {
        "colab": {
          "base_uri": "https://localhost:8080/"
        },
        "id": "ab82ecfd",
        "outputId": "198a043b-6d77-4ff6-8f2c-c22872986d9f"
      },
      "outputs": [
        {
          "output_type": "stream",
          "name": "stdout",
          "text": [
            "44,428,106 total parameters.\n",
            "44,428,106 training parameters.\n"
          ]
        }
      ],
      "source": [
        "total_params = sum(p.numel() for p in alexnet.parameters())\n",
        "print(f'{total_params:,} total parameters.')\n",
        "total_trainable_params = sum(\n",
        "    p.numel() for p in alexnet.parameters() if p.requires_grad)\n",
        "print(f'{total_trainable_params:,} training parameters.')"
      ]
    },
    {
      "cell_type": "markdown",
      "source": [
        "#### Function for getting device, GPU or CPU"
      ],
      "metadata": {
        "id": "dCPoH0taXPyX"
      },
      "id": "dCPoH0taXPyX"
    },
    {
      "cell_type": "code",
      "execution_count": null,
      "id": "2ac1739b",
      "metadata": {
        "id": "2ac1739b"
      },
      "outputs": [],
      "source": [
        "def get_default_device():\n",
        "    \"\"\"Pick GPU if available, else CPU\"\"\"\n",
        "    if torch.cuda.is_available():\n",
        "        gpu_count = cuda.device_count()\n",
        "        print(f'Model will run on GPU, {gpu_count} gpus detected.')\n",
        "        if gpu_count > 1:\n",
        "            multi_gpu = True\n",
        "        else:\n",
        "            multi_gpu = False\n",
        "        return torch.device('cuda')\n",
        "    else:\n",
        "        print(\"Model will run on, CPU\")\n",
        "        return torch.device('cpu')"
      ]
    },
    {
      "cell_type": "markdown",
      "source": [
        "#### Move AlexNet to GPU"
      ],
      "metadata": {
        "id": "N2Wy3mYbXVh3"
      },
      "id": "N2Wy3mYbXVh3"
    },
    {
      "cell_type": "code",
      "execution_count": null,
      "id": "324cc119",
      "metadata": {
        "id": "324cc119"
      },
      "outputs": [],
      "source": [
        "# Move to gpu\n",
        "alexnet = alexnet.to('cuda')"
      ]
    },
    {
      "cell_type": "markdown",
      "source": [
        "#### Adjust the Optimizer functions for AlexNet"
      ],
      "metadata": {
        "id": "2iBi_k8nXbHD"
      },
      "id": "2iBi_k8nXbHD"
    },
    {
      "cell_type": "code",
      "execution_count": null,
      "id": "b7c47925",
      "metadata": {
        "id": "b7c47925"
      },
      "outputs": [],
      "source": [
        "from torch import optim\n",
        "# Loss and optimizer\n",
        "criterion = nn.CrossEntropyLoss()\n",
        "# criterion = nn.NLLLoss()\n",
        "optimizer = optim.SGD(alexnet.parameters(), lr=0.001, momentum=0.9)"
      ]
    },
    {
      "cell_type": "markdown",
      "source": [
        "### Create different transform functions for Alexnet"
      ],
      "metadata": {
        "id": "rzdykrD1U1-y"
      },
      "id": "rzdykrD1U1-y"
    },
    {
      "cell_type": "code",
      "source": [
        "transfer_models_trandorm = transforms.Compose([\n",
        "    transforms.Resize(size=256),\n",
        "    transforms.CenterCrop(size=224),  # Image net standards\n",
        "    transforms.ToTensor(),\n",
        "    transforms.Normalize((0.5, 0.5, 0.5), (0.5, 0.5, 0.5)),\n",
        "])"
      ],
      "metadata": {
        "id": "CTtuPGgVViMC"
      },
      "id": "CTtuPGgVViMC",
      "execution_count": null,
      "outputs": []
    },
    {
      "cell_type": "code",
      "source": [
        "transfer_valid_transform = transforms.Compose([\n",
        "        transforms.Resize(size=256),\n",
        "        transforms.CenterCrop(size=224),\n",
        "        transforms.ToTensor(),\n",
        "        transforms.Normalize((0.5, 0.5, 0.5), (0.5, 0.5, 0.5)),\n",
        "    ])"
      ],
      "metadata": {
        "id": "wjEJVJuCVmxy"
      },
      "id": "wjEJVJuCVmxy",
      "execution_count": null,
      "outputs": []
    },
    {
      "cell_type": "markdown",
      "source": [
        "### We use a different format for Alexnet, since the model is optimized for 224px by 224px images"
      ],
      "metadata": {
        "id": "ealcvBpUUkej"
      },
      "id": "ealcvBpUUkej"
    },
    {
      "cell_type": "code",
      "source": [
        "AlexNet_train_set = torchvision.datasets.CIFAR10('./datasets', train=True,\n",
        "                                         download=True, transform=transfer_models_trandorm)\n",
        "AlexNet_test_set = torchvision.datasets.CIFAR10('./datasets', train=False,\n",
        "                                        download=True, transform=transfer_models_trandorm)\n",
        "\n",
        "AlexNet_validation_set = torchvision.datasets.CIFAR10('./datasets', train=False,\n",
        "                                        download=True, transform=transfer_valid_transform)\n",
        "\n",
        "AlexNet_train_loader = torch.utils.data.DataLoader(AlexNet_train_set, batch_size=64,\n",
        "                                           shuffle=True, num_workers=4)\n",
        "AlexNet_test_loader = torch.utils.data.DataLoader(AlexNet_test_set, batch_size=64,\n",
        "                                          shuffle=False, num_workers=4)\n",
        "\n",
        "AlexNet_validation_loader = torch.utils.data.DataLoader(AlexNet_validation_set, batch_size=64,\n",
        "                                          shuffle=False, num_workers=4)"
      ],
      "metadata": {
        "id": "XIyOY5QRmlSH",
        "outputId": "f5883a6a-8b8f-4891-9072-4357887ccd52",
        "colab": {
          "base_uri": "https://localhost:8080/"
        }
      },
      "id": "XIyOY5QRmlSH",
      "execution_count": null,
      "outputs": [
        {
          "output_type": "stream",
          "name": "stdout",
          "text": [
            "Files already downloaded and verified\n",
            "Files already downloaded and verified\n",
            "Files already downloaded and verified\n"
          ]
        }
      ]
    },
    {
      "cell_type": "markdown",
      "source": [
        "# Training Alexnet"
      ],
      "metadata": {
        "id": "Cj372n2WXicv"
      },
      "id": "Cj372n2WXicv"
    },
    {
      "cell_type": "code",
      "execution_count": null,
      "id": "c31eca8d",
      "metadata": {
        "colab": {
          "base_uri": "https://localhost:8080/"
        },
        "id": "c31eca8d",
        "outputId": "1932b30b-341f-4693-b290-362ee11d2f74"
      },
      "outputs": [
        {
          "output_type": "stream",
          "name": "stdout",
          "text": [
            "Finished Training of AlexNet\n"
          ]
        }
      ],
      "source": [
        "for epoch in range(10):  # loop over the dataset multiple times\n",
        "    running_loss = 0.0\n",
        "    for i, data in enumerate(AlexNet_train_loader, 0):\n",
        "        # get the inputs; data is a list of [inputs, labels]\n",
        "        inputs, labels = data[0].to(device), data[1].to(device)\n",
        "\n",
        "        # zero the parameter gradients\n",
        "        optimizer.zero_grad()\n",
        "\n",
        "        # forward + backward + optimize\n",
        "        output = alexnet(inputs)\n",
        "        loss = criterion(output, labels)\n",
        "        loss.backward()\n",
        "        optimizer.step()\n",
        "\n",
        "        # print statistics\n",
        "        running_loss += loss.item()\n",
        "        if i % 2000 == 1999:    # print every 2000 mini-batches\n",
        "            print('[%d, %5d] loss: %.3f' %\n",
        "                  (epoch + 1, i + 1, running_loss / 2000))\n",
        "            running_loss = 0.0\n",
        "\n",
        "print('Finished Training of AlexNet')"
      ]
    },
    {
      "cell_type": "markdown",
      "source": [
        "#### Define function for plotting confusion matrix"
      ],
      "metadata": {
        "id": "_FAWVTxoXmWG"
      },
      "id": "_FAWVTxoXmWG"
    },
    {
      "cell_type": "code",
      "execution_count": null,
      "id": "946d122d",
      "metadata": {
        "id": "946d122d"
      },
      "outputs": [],
      "source": [
        "def plot_matrix (confusion_matrix):\n",
        "    fig, ax = plt.subplots(1,1,figsize=(8,6))\n",
        "    ax.matshow(confusion_matrix, aspect='auto', vmin=0, vmax=1000, cmap=plt.get_cmap('Blues'))\n",
        "    plt.ylabel('Actual Category')\n",
        "    plt.yticks(range(10), classes)\n",
        "    plt.xlabel('Predicted Category')\n",
        "    plt.xticks(range(10), classes)\n",
        "    plt.show()"
      ]
    },
    {
      "cell_type": "markdown",
      "source": [
        "#### Defininf the function that prints out the confusion matrix"
      ],
      "metadata": {
        "id": "NVyHBqgTXqF2"
      },
      "id": "NVyHBqgTXqF2"
    },
    {
      "cell_type": "code",
      "execution_count": null,
      "id": "56fd0afb",
      "metadata": {
        "id": "56fd0afb"
      },
      "outputs": [],
      "source": [
        "def print_matrix (confusion_matrix):\n",
        "    print('actual/pred'.ljust(16), end='')\n",
        "    for i,c in enumerate(classes):\n",
        "        print(c.ljust(10), end='')\n",
        "    print()\n",
        "    for i,r in enumerate(confusion_matrix):\n",
        "        print(classes[i].ljust(16), end='')\n",
        "        for idx, p in enumerate(r):\n",
        "            print(str(p).ljust(10), end='')\n",
        "        print()\n",
        "        r = r/np.sum(r)\n",
        "        print(''.ljust(16), end='')\n",
        "        for idx, p in enumerate(r):\n",
        "            print(str(p).ljust(10), end='')\n",
        "        print()"
      ]
    },
    {
      "cell_type": "code",
      "execution_count": null,
      "id": "4cfae08e",
      "metadata": {
        "id": "4cfae08e"
      },
      "outputs": [],
      "source": [
        "def prf1(confusion_matrix):\n",
        "    TP = 0\n",
        "    FP = 0\n",
        "    FN = 0\n",
        "\n",
        "    for i,r in enumerate(confusion_matrix):\n",
        "        total = 0\n",
        "        thisTP = 0\n",
        "        thisFN = 0\n",
        "        thisFP = 0 \n",
        "        for i3 in range (0,10):\n",
        "            if (i != i3):\n",
        "                thisFP += confusion_matrix[i3][i]\n",
        "        for i2,r2 in enumerate(r):\n",
        "            total += r2\n",
        "            if (i == i2):\n",
        "                thisTP += r2\n",
        "            else:\n",
        "                thisFN += r2\n",
        "\n",
        "        print(classes[i])\n",
        "        print('True positives %d' % (thisTP))\n",
        "        print('False positives %d' % (thisFP))\n",
        "        print('False negatives %d' % (thisFN))\n",
        "        precision = thisTP / (thisTP + thisFP)\n",
        "        recall = thisTP / (thisTP + thisFN)\n",
        "        print('Precicion {}'.format(precision))\n",
        "        print('Recall {}'.format(recall))\n",
        "        f1 = (2 * (precision*recall)) / (precision + recall)\n",
        "        print('F1 {}'.format(f1))"
      ]
    },
    {
      "cell_type": "code",
      "execution_count": null,
      "id": "3a63009c",
      "metadata": {
        "id": "3a63009c"
      },
      "outputs": [],
      "source": [
        "def plot_losses(history):\n",
        "    losses = [x['val_loss'] for x in history]\n",
        "    plt.plot(losses, '-x')\n",
        "    plt.xlabel('epoch')\n",
        "    plt.ylabel('loss')\n",
        "    plt.title('Loss vs. No. of epochs');\n",
        "    \n",
        "def plot_accuracies(history):\n",
        "    accuracies = [x['val_acc'] for x in history]\n",
        "    plt.plot(accuracies, '-x')\n",
        "    plt.xlabel('epoch')\n",
        "    plt.ylabel('accuracy')\n",
        "    plt.title('Accuracy vs. No. of epochs'); "
      ]
    },
    {
      "cell_type": "code",
      "execution_count": null,
      "id": "fcb3b503",
      "metadata": {
        "id": "fcb3b503"
      },
      "outputs": [],
      "source": [
        "def plot_losses_epochs(history):\n",
        "    train_losses = [x.get('train_loss') for x in history]\n",
        "    val_losses = [x['val_loss'] for x in history]\n",
        "    plt.plot(train_losses, '-bx')\n",
        "    plt.plot(val_losses, '-rx')\n",
        "    plt.xlabel('epoch')\n",
        "    plt.ylabel('loss')\n",
        "    plt.legend(['Training', 'Validation'])\n",
        "    plt.title('Loss vs. No. of epochs')\n",
        "    "
      ]
    },
    {
      "cell_type": "markdown",
      "source": [
        "# Function for testing each model with test_set and Dataset-b"
      ],
      "metadata": {
        "id": "4uGsZu5KX0hP"
      },
      "id": "4uGsZu5KX0hP"
    },
    {
      "cell_type": "code",
      "execution_count": null,
      "id": "9044d596",
      "metadata": {
        "id": "9044d596"
      },
      "outputs": [],
      "source": [
        "def test_model(model, data_to_test):    \n",
        "    # prepare to count predictions for each class\n",
        "    # correct_pred = {classname: 0 for classname in classes}\n",
        "    # total_pred = {classname: 0 for classname in classes}\n",
        "    correct_pred = list(0. for i in range(10))\n",
        "    total_pred = list(0. for i in range(10))\n",
        "    y_actual = []\n",
        "    y_pred = []\n",
        "    confusion_matrix = np.zeros([10,10], int)\n",
        "\n",
        "    # again no gradients needed\n",
        "    with torch.no_grad():\n",
        "        for data in data_to_test:\n",
        "            images, labels = data[0].to(device), data[1].to(device)\n",
        "            outputs = model(images)\n",
        "            _, predicted = torch.max(outputs, 1)\n",
        "            c = (predicted == labels).squeeze()\n",
        "            for i in range(4):\n",
        "                label = labels[i]\n",
        "                correct_pred[label] += c[i].item()\n",
        "                total_pred[label] += 1\n",
        "            for i, l in enumerate(labels):\n",
        "                y_actual.append(l.item())\n",
        "                y_pred.append(predicted[i].item())\n",
        "                confusion_matrix[l.item(), predicted[i].item()] += 1 \n",
        "\n",
        "    return correct_pred, total_pred, y_actual, y_pred, confusion_matrix"
      ]
    },
    {
      "cell_type": "markdown",
      "id": "411470f4",
      "metadata": {
        "id": "411470f4"
      },
      "source": [
        "# Our model findings"
      ]
    },
    {
      "cell_type": "code",
      "execution_count": null,
      "id": "ea687cd7",
      "metadata": {
        "colab": {
          "base_uri": "https://localhost:8080/",
          "height": 295
        },
        "id": "ea687cd7",
        "outputId": "e9812fcf-182c-4e86-d168-c514e5318f71"
      },
      "outputs": [
        {
          "output_type": "display_data",
          "data": {
            "image/png": "[encoded data removed]",
            "text/plain": [
              "<Figure size 432x288 with 1 Axes>"
            ]
          },
          "metadata": {
            "needs_background": "light"
          }
        }
      ],
      "source": [
        "plot_losses(history)"
      ]
    },
    {
      "cell_type": "code",
      "execution_count": null,
      "id": "b7fdce1c",
      "metadata": {
        "colab": {
          "base_uri": "https://localhost:8080/",
          "height": 295
        },
        "id": "b7fdce1c",
        "outputId": "da006e42-03b2-43cd-aed8-1e59719849d3"
      },
      "outputs": [
        {
          "output_type": "display_data",
          "data": {
            "image/png": "[encoded data removed]",
            "text/plain": [
              "<Figure size 432x288 with 1 Axes>"
            ]
          },
          "metadata": {
            "needs_background": "light"
          }
        }
      ],
      "source": [
        "plot_accuracies(history)"
      ]
    },
    {
      "cell_type": "code",
      "execution_count": null,
      "id": "5230d6c4",
      "metadata": {
        "colab": {
          "base_uri": "https://localhost:8080/",
          "height": 295
        },
        "id": "5230d6c4",
        "outputId": "015b5ba8-d7eb-47b2-851e-7867701ade5c"
      },
      "outputs": [
        {
          "output_type": "display_data",
          "data": {
            "image/png": "[encoded data removed]",
            "text/plain": [
              "<Figure size 432x288 with 1 Axes>"
            ]
          },
          "metadata": {
            "needs_background": "light"
          }
        }
      ],
      "source": [
        "plot_losses_epochs(history);"
      ]
    },
    {
      "cell_type": "code",
      "execution_count": null,
      "id": "fec7b872",
      "metadata": {
        "colab": {
          "base_uri": "https://localhost:8080/",
          "height": 236
        },
        "id": "fec7b872",
        "outputId": "fe0f6ff2-66ce-4c9f-f028-2785a7159aa4"
      },
      "outputs": [
        {
          "output_type": "error",
          "ename": "TypeError",
          "evalue": "ignored",
          "traceback": [
            "\u001b[0;31m---------------------------------------------------------------------------\u001b[0m",
            "\u001b[0;31mTypeError\u001b[0m                                 Traceback (most recent call last)",
            "\u001b[0;32m<ipython-input-63-7d0aa77893af>\u001b[0m in \u001b[0;36m<module>\u001b[0;34m()\u001b[0m\n\u001b[1;32m      1\u001b[0m \u001b[0mcorrect_pred\u001b[0m\u001b[0;34m,\u001b[0m \u001b[0mtotal_pred\u001b[0m\u001b[0;34m,\u001b[0m \u001b[0my_actual\u001b[0m\u001b[0;34m,\u001b[0m \u001b[0my_pred\u001b[0m\u001b[0;34m,\u001b[0m \u001b[0mconfusion_matrix\u001b[0m \u001b[0;34m=\u001b[0m \u001b[0mtest_model\u001b[0m\u001b[0;34m(\u001b[0m\u001b[0mourmodel\u001b[0m\u001b[0;34m,\u001b[0m \u001b[0mtest_loader\u001b[0m\u001b[0;34m)\u001b[0m\u001b[0;34m\u001b[0m\u001b[0;34m\u001b[0m\u001b[0m\n\u001b[1;32m      2\u001b[0m \u001b[0;34m\u001b[0m\u001b[0m\n\u001b[0;32m----> 3\u001b[0;31m \u001b[0;32mfor\u001b[0m \u001b[0mclassname\u001b[0m\u001b[0;34m,\u001b[0m \u001b[0mcorrect_count\u001b[0m \u001b[0;32min\u001b[0m \u001b[0mcorrect_pred\u001b[0m\u001b[0;34m:\u001b[0m\u001b[0;34m\u001b[0m\u001b[0;34m\u001b[0m\u001b[0m\n\u001b[0m\u001b[1;32m      4\u001b[0m     \u001b[0maccuracy\u001b[0m \u001b[0;34m=\u001b[0m \u001b[0;36m100\u001b[0m \u001b[0;34m*\u001b[0m \u001b[0mfloat\u001b[0m\u001b[0;34m(\u001b[0m\u001b[0mcorrect_count\u001b[0m\u001b[0;34m)\u001b[0m \u001b[0;34m/\u001b[0m \u001b[0mtotal_pred\u001b[0m\u001b[0;34m[\u001b[0m\u001b[0mclassname\u001b[0m\u001b[0;34m]\u001b[0m\u001b[0;34m\u001b[0m\u001b[0;34m\u001b[0m\u001b[0m\n\u001b[1;32m      5\u001b[0m     print(\"Accuracy for class {:5s} is: {:.1f} %\".format(classname,\n",
            "\u001b[0;31mTypeError\u001b[0m: cannot unpack non-iterable float object"
          ]
        }
      ],
      "source": [
        "correct_pred, total_pred, y_actual, y_pred, confusion_matrix = test_model(ourmodel, test_loader)\n",
        "\n",
        "for classname, correct_count in correct_pred:\n",
        "    accuracy = 100 * float(correct_count) / total_pred[classname]\n",
        "    print(\"Accuracy for class {:5s} is: {:.1f} %\".format(classname,\n",
        "                                                   accuracy))"
      ]
    },
    {
      "cell_type": "code",
      "execution_count": null,
      "id": "55da104a",
      "metadata": {
        "colab": {
          "base_uri": "https://localhost:8080/"
        },
        "id": "55da104a",
        "outputId": "e4c03394-a61d-4f4a-b4fd-3cb9f6c468cc"
      },
      "outputs": [
        {
          "output_type": "execute_result",
          "data": {
            "text/plain": [
              "0.7664225462322718"
            ]
          },
          "metadata": {},
          "execution_count": 64
        }
      ],
      "source": [
        "matthews_corrcoef(y_actual, y_pred)"
      ]
    },
    {
      "cell_type": "code",
      "execution_count": null,
      "id": "a1a1c7af",
      "metadata": {
        "colab": {
          "base_uri": "https://localhost:8080/"
        },
        "id": "a1a1c7af",
        "outputId": "1af454c9-8f8b-4403-88a0-320e59cc3773"
      },
      "outputs": [
        {
          "output_type": "stream",
          "name": "stdout",
          "text": [
            "              precision    recall  f1-score   support\n",
            "\n",
            "    airplane       0.81      0.82      0.81      1000\n",
            "  automobile       0.97      0.80      0.88      1000\n",
            "        bird       0.75      0.70      0.72      1000\n",
            "         cat       0.58      0.72      0.64      1000\n",
            "        deer       0.80      0.74      0.77      1000\n",
            "         dog       0.63      0.79      0.70      1000\n",
            "        frog       0.80      0.85      0.83      1000\n",
            "       horse       0.91      0.75      0.82      1000\n",
            "        ship       0.92      0.82      0.87      1000\n",
            "       truck       0.87      0.90      0.89      1000\n",
            "\n",
            "    accuracy                           0.79     10000\n",
            "   macro avg       0.80      0.79      0.79     10000\n",
            "weighted avg       0.80      0.79      0.79     10000\n",
            "\n"
          ]
        }
      ],
      "source": [
        "print(classification_report(y_actual, y_pred, target_names=classes))"
      ]
    },
    {
      "cell_type": "code",
      "execution_count": null,
      "id": "a3f94572",
      "metadata": {
        "colab": {
          "base_uri": "https://localhost:8080/"
        },
        "id": "a3f94572",
        "outputId": "a2d85676-6222-41ea-9a40-c958648106ac"
      },
      "outputs": [
        {
          "output_type": "execute_result",
          "data": {
            "text/plain": [
              "0.7655555555555555"
            ]
          },
          "metadata": {},
          "execution_count": 68
        }
      ],
      "source": [
        "cohen_kappa_score(y_actual, y_pred)"
      ]
    },
    {
      "cell_type": "code",
      "execution_count": null,
      "id": "b283b9bf",
      "metadata": {
        "id": "b283b9bf"
      },
      "outputs": [],
      "source": [
        ""
      ]
    },
    {
      "cell_type": "markdown",
      "id": "30b1f094",
      "metadata": {
        "id": "30b1f094"
      },
      "source": [
        "# AlexNet Findings\n"
      ]
    },
    {
      "cell_type": "markdown",
      "id": "71e24950",
      "metadata": {
        "id": "71e24950"
      },
      "source": [
        ""
      ]
    },
    {
      "cell_type": "code",
      "execution_count": null,
      "id": "8ec6454d",
      "metadata": {
        "colab": {
          "base_uri": "https://localhost:8080/",
          "height": 381
        },
        "id": "8ec6454d",
        "outputId": "05e884a6-dffd-4e51-b2fe-eb8083e010a8"
      },
      "outputs": [
        {
          "output_type": "error",
          "ename": "RuntimeError",
          "evalue": "ignored",
          "traceback": [
            "\u001b[0;31m---------------------------------------------------------------------------\u001b[0m",
            "\u001b[0;31mRuntimeError\u001b[0m                              Traceback (most recent call last)",
            "\u001b[0;32m<ipython-input-69-b3cbf1afe7c8>\u001b[0m in \u001b[0;36m<module>\u001b[0;34m()\u001b[0m\n\u001b[1;32m      4\u001b[0m     \u001b[0;32mfor\u001b[0m \u001b[0mdata\u001b[0m \u001b[0;32min\u001b[0m \u001b[0mtest_loader\u001b[0m\u001b[0;34m:\u001b[0m\u001b[0;34m\u001b[0m\u001b[0;34m\u001b[0m\u001b[0m\n\u001b[1;32m      5\u001b[0m         \u001b[0mimages\u001b[0m\u001b[0;34m,\u001b[0m \u001b[0mlabels\u001b[0m \u001b[0;34m=\u001b[0m \u001b[0mdata\u001b[0m\u001b[0;34m[\u001b[0m\u001b[0;36m0\u001b[0m\u001b[0;34m]\u001b[0m\u001b[0;34m.\u001b[0m\u001b[0mto\u001b[0m\u001b[0;34m(\u001b[0m\u001b[0mdevice\u001b[0m\u001b[0;34m)\u001b[0m\u001b[0;34m,\u001b[0m \u001b[0mdata\u001b[0m\u001b[0;34m[\u001b[0m\u001b[0;36m1\u001b[0m\u001b[0;34m]\u001b[0m\u001b[0;34m.\u001b[0m\u001b[0mto\u001b[0m\u001b[0;34m(\u001b[0m\u001b[0mdevice\u001b[0m\u001b[0;34m)\u001b[0m\u001b[0;34m\u001b[0m\u001b[0;34m\u001b[0m\u001b[0m\n\u001b[0;32m----> 6\u001b[0;31m         \u001b[0moutputs\u001b[0m \u001b[0;34m=\u001b[0m \u001b[0malexnet\u001b[0m\u001b[0;34m(\u001b[0m\u001b[0mimages\u001b[0m\u001b[0;34m)\u001b[0m\u001b[0;34m\u001b[0m\u001b[0;34m\u001b[0m\u001b[0m\n\u001b[0m\u001b[1;32m      7\u001b[0m         \u001b[0m_\u001b[0m\u001b[0;34m,\u001b[0m \u001b[0mpredicted\u001b[0m \u001b[0;34m=\u001b[0m \u001b[0mtorch\u001b[0m\u001b[0;34m.\u001b[0m\u001b[0mmax\u001b[0m\u001b[0;34m(\u001b[0m\u001b[0moutputs\u001b[0m\u001b[0;34m.\u001b[0m\u001b[0mdata\u001b[0m\u001b[0;34m,\u001b[0m \u001b[0;36m1\u001b[0m\u001b[0;34m)\u001b[0m\u001b[0;34m\u001b[0m\u001b[0;34m\u001b[0m\u001b[0m\n\u001b[1;32m      8\u001b[0m         \u001b[0mtotal\u001b[0m \u001b[0;34m+=\u001b[0m \u001b[0mlabels\u001b[0m\u001b[0;34m.\u001b[0m\u001b[0msize\u001b[0m\u001b[0;34m(\u001b[0m\u001b[0;36m0\u001b[0m\u001b[0;34m)\u001b[0m\u001b[0;34m\u001b[0m\u001b[0;34m\u001b[0m\u001b[0m\n",
            "\u001b[0;32m/usr/local/lib/python3.7/dist-packages/torch/nn/modules/module.py\u001b[0m in \u001b[0;36m_call_impl\u001b[0;34m(self, *input, **kwargs)\u001b[0m\n\u001b[1;32m   1100\u001b[0m         if not (self._backward_hooks or self._forward_hooks or self._forward_pre_hooks or _global_backward_hooks\n\u001b[1;32m   1101\u001b[0m                 or _global_forward_hooks or _global_forward_pre_hooks):\n\u001b[0;32m-> 1102\u001b[0;31m             \u001b[0;32mreturn\u001b[0m \u001b[0mforward_call\u001b[0m\u001b[0;34m(\u001b[0m\u001b[0;34m*\u001b[0m\u001b[0minput\u001b[0m\u001b[0;34m,\u001b[0m \u001b[0;34m**\u001b[0m\u001b[0mkwargs\u001b[0m\u001b[0;34m)\u001b[0m\u001b[0;34m\u001b[0m\u001b[0;34m\u001b[0m\u001b[0m\n\u001b[0m\u001b[1;32m   1103\u001b[0m         \u001b[0;31m# Do not call functions when jit is used\u001b[0m\u001b[0;34m\u001b[0m\u001b[0;34m\u001b[0m\u001b[0;34m\u001b[0m\u001b[0m\n\u001b[1;32m   1104\u001b[0m         \u001b[0mfull_backward_hooks\u001b[0m\u001b[0;34m,\u001b[0m \u001b[0mnon_full_backward_hooks\u001b[0m \u001b[0;34m=\u001b[0m \u001b[0;34m[\u001b[0m\u001b[0;34m]\u001b[0m\u001b[0;34m,\u001b[0m \u001b[0;34m[\u001b[0m\u001b[0;34m]\u001b[0m\u001b[0;34m\u001b[0m\u001b[0;34m\u001b[0m\u001b[0m\n",
            "\u001b[0;32m/usr/local/lib/python3.7/dist-packages/torchvision/models/alexnet.py\u001b[0m in \u001b[0;36mforward\u001b[0;34m(self, x)\u001b[0m\n\u001b[1;32m     44\u001b[0m \u001b[0;34m\u001b[0m\u001b[0m\n\u001b[1;32m     45\u001b[0m     \u001b[0;32mdef\u001b[0m \u001b[0mforward\u001b[0m\u001b[0;34m(\u001b[0m\u001b[0mself\u001b[0m\u001b[0;34m,\u001b[0m \u001b[0mx\u001b[0m\u001b[0;34m:\u001b[0m \u001b[0mtorch\u001b[0m\u001b[0;34m.\u001b[0m\u001b[0mTensor\u001b[0m\u001b[0;34m)\u001b[0m \u001b[0;34m->\u001b[0m \u001b[0mtorch\u001b[0m\u001b[0;34m.\u001b[0m\u001b[0mTensor\u001b[0m\u001b[0;34m:\u001b[0m\u001b[0;34m\u001b[0m\u001b[0;34m\u001b[0m\u001b[0m\n\u001b[0;32m---> 46\u001b[0;31m         \u001b[0mx\u001b[0m \u001b[0;34m=\u001b[0m \u001b[0mself\u001b[0m\u001b[0;34m.\u001b[0m\u001b[0mfeatures\u001b[0m\u001b[0;34m(\u001b[0m\u001b[0mx\u001b[0m\u001b[0;34m)\u001b[0m\u001b[0;34m\u001b[0m\u001b[0;34m\u001b[0m\u001b[0m\n\u001b[0m\u001b[1;32m     47\u001b[0m         \u001b[0mx\u001b[0m \u001b[0;34m=\u001b[0m \u001b[0mself\u001b[0m\u001b[0;34m.\u001b[0m\u001b[0mavgpool\u001b[0m\u001b[0;34m(\u001b[0m\u001b[0mx\u001b[0m\u001b[0;34m)\u001b[0m\u001b[0;34m\u001b[0m\u001b[0;34m\u001b[0m\u001b[0m\n\u001b[1;32m     48\u001b[0m         \u001b[0mx\u001b[0m \u001b[0;34m=\u001b[0m \u001b[0mtorch\u001b[0m\u001b[0;34m.\u001b[0m\u001b[0mflatten\u001b[0m\u001b[0;34m(\u001b[0m\u001b[0mx\u001b[0m\u001b[0;34m,\u001b[0m \u001b[0;36m1\u001b[0m\u001b[0;34m)\u001b[0m\u001b[0;34m\u001b[0m\u001b[0;34m\u001b[0m\u001b[0m\n",
            "\u001b[0;32m/usr/local/lib/python3.7/dist-packages/torch/nn/modules/module.py\u001b[0m in \u001b[0;36m_call_impl\u001b[0;34m(self, *input, **kwargs)\u001b[0m\n\u001b[1;32m   1100\u001b[0m         if not (self._backward_hooks or self._forward_hooks or self._forward_pre_hooks or _global_backward_hooks\n\u001b[1;32m   1101\u001b[0m                 or _global_forward_hooks or _global_forward_pre_hooks):\n\u001b[0;32m-> 1102\u001b[0;31m             \u001b[0;32mreturn\u001b[0m \u001b[0mforward_call\u001b[0m\u001b[0;34m(\u001b[0m\u001b[0;34m*\u001b[0m\u001b[0minput\u001b[0m\u001b[0;34m,\u001b[0m \u001b[0;34m**\u001b[0m\u001b[0mkwargs\u001b[0m\u001b[0;34m)\u001b[0m\u001b[0;34m\u001b[0m\u001b[0;34m\u001b[0m\u001b[0m\n\u001b[0m\u001b[1;32m   1103\u001b[0m         \u001b[0;31m# Do not call functions when jit is used\u001b[0m\u001b[0;34m\u001b[0m\u001b[0;34m\u001b[0m\u001b[0;34m\u001b[0m\u001b[0m\n\u001b[1;32m   1104\u001b[0m         \u001b[0mfull_backward_hooks\u001b[0m\u001b[0;34m,\u001b[0m \u001b[0mnon_full_backward_hooks\u001b[0m \u001b[0;34m=\u001b[0m \u001b[0;34m[\u001b[0m\u001b[0;34m]\u001b[0m\u001b[0;34m,\u001b[0m \u001b[0;34m[\u001b[0m\u001b[0;34m]\u001b[0m\u001b[0;34m\u001b[0m\u001b[0;34m\u001b[0m\u001b[0m\n",
            "\u001b[0;32m/usr/local/lib/python3.7/dist-packages/torch/nn/modules/container.py\u001b[0m in \u001b[0;36mforward\u001b[0;34m(self, input)\u001b[0m\n\u001b[1;32m    139\u001b[0m     \u001b[0;32mdef\u001b[0m \u001b[0mforward\u001b[0m\u001b[0;34m(\u001b[0m\u001b[0mself\u001b[0m\u001b[0;34m,\u001b[0m \u001b[0minput\u001b[0m\u001b[0;34m)\u001b[0m\u001b[0;34m:\u001b[0m\u001b[0;34m\u001b[0m\u001b[0;34m\u001b[0m\u001b[0m\n\u001b[1;32m    140\u001b[0m         \u001b[0;32mfor\u001b[0m \u001b[0mmodule\u001b[0m \u001b[0;32min\u001b[0m \u001b[0mself\u001b[0m\u001b[0;34m:\u001b[0m\u001b[0;34m\u001b[0m\u001b[0;34m\u001b[0m\u001b[0m\n\u001b[0;32m--> 141\u001b[0;31m             \u001b[0minput\u001b[0m \u001b[0;34m=\u001b[0m \u001b[0mmodule\u001b[0m\u001b[0;34m(\u001b[0m\u001b[0minput\u001b[0m\u001b[0;34m)\u001b[0m\u001b[0;34m\u001b[0m\u001b[0;34m\u001b[0m\u001b[0m\n\u001b[0m\u001b[1;32m    142\u001b[0m         \u001b[0;32mreturn\u001b[0m \u001b[0minput\u001b[0m\u001b[0;34m\u001b[0m\u001b[0;34m\u001b[0m\u001b[0m\n\u001b[1;32m    143\u001b[0m \u001b[0;34m\u001b[0m\u001b[0m\n",
            "\u001b[0;32m/usr/local/lib/python3.7/dist-packages/torch/nn/modules/module.py\u001b[0m in \u001b[0;36m_call_impl\u001b[0;34m(self, *input, **kwargs)\u001b[0m\n\u001b[1;32m   1100\u001b[0m         if not (self._backward_hooks or self._forward_hooks or self._forward_pre_hooks or _global_backward_hooks\n\u001b[1;32m   1101\u001b[0m                 or _global_forward_hooks or _global_forward_pre_hooks):\n\u001b[0;32m-> 1102\u001b[0;31m             \u001b[0;32mreturn\u001b[0m \u001b[0mforward_call\u001b[0m\u001b[0;34m(\u001b[0m\u001b[0;34m*\u001b[0m\u001b[0minput\u001b[0m\u001b[0;34m,\u001b[0m \u001b[0;34m**\u001b[0m\u001b[0mkwargs\u001b[0m\u001b[0;34m)\u001b[0m\u001b[0;34m\u001b[0m\u001b[0;34m\u001b[0m\u001b[0m\n\u001b[0m\u001b[1;32m   1103\u001b[0m         \u001b[0;31m# Do not call functions when jit is used\u001b[0m\u001b[0;34m\u001b[0m\u001b[0;34m\u001b[0m\u001b[0;34m\u001b[0m\u001b[0m\n\u001b[1;32m   1104\u001b[0m         \u001b[0mfull_backward_hooks\u001b[0m\u001b[0;34m,\u001b[0m \u001b[0mnon_full_backward_hooks\u001b[0m \u001b[0;34m=\u001b[0m \u001b[0;34m[\u001b[0m\u001b[0;34m]\u001b[0m\u001b[0;34m,\u001b[0m \u001b[0;34m[\u001b[0m\u001b[0;34m]\u001b[0m\u001b[0;34m\u001b[0m\u001b[0;34m\u001b[0m\u001b[0m\n",
            "\u001b[0;32m/usr/local/lib/python3.7/dist-packages/torch/nn/modules/pooling.py\u001b[0m in \u001b[0;36mforward\u001b[0;34m(self, input)\u001b[0m\n\u001b[1;32m    162\u001b[0m         return F.max_pool2d(input, self.kernel_size, self.stride,\n\u001b[1;32m    163\u001b[0m                             \u001b[0mself\u001b[0m\u001b[0;34m.\u001b[0m\u001b[0mpadding\u001b[0m\u001b[0;34m,\u001b[0m \u001b[0mself\u001b[0m\u001b[0;34m.\u001b[0m\u001b[0mdilation\u001b[0m\u001b[0;34m,\u001b[0m \u001b[0mself\u001b[0m\u001b[0;34m.\u001b[0m\u001b[0mceil_mode\u001b[0m\u001b[0;34m,\u001b[0m\u001b[0;34m\u001b[0m\u001b[0;34m\u001b[0m\u001b[0m\n\u001b[0;32m--> 164\u001b[0;31m                             self.return_indices)\n\u001b[0m\u001b[1;32m    165\u001b[0m \u001b[0;34m\u001b[0m\u001b[0m\n\u001b[1;32m    166\u001b[0m \u001b[0;34m\u001b[0m\u001b[0m\n",
            "\u001b[0;32m/usr/local/lib/python3.7/dist-packages/torch/_jit_internal.py\u001b[0m in \u001b[0;36mfn\u001b[0;34m(*args, **kwargs)\u001b[0m\n\u001b[1;32m    420\u001b[0m             \u001b[0;32mreturn\u001b[0m \u001b[0mif_true\u001b[0m\u001b[0;34m(\u001b[0m\u001b[0;34m*\u001b[0m\u001b[0margs\u001b[0m\u001b[0;34m,\u001b[0m \u001b[0;34m**\u001b[0m\u001b[0mkwargs\u001b[0m\u001b[0;34m)\u001b[0m\u001b[0;34m\u001b[0m\u001b[0;34m\u001b[0m\u001b[0m\n\u001b[1;32m    421\u001b[0m         \u001b[0;32melse\u001b[0m\u001b[0;34m:\u001b[0m\u001b[0;34m\u001b[0m\u001b[0;34m\u001b[0m\u001b[0m\n\u001b[0;32m--> 422\u001b[0;31m             \u001b[0;32mreturn\u001b[0m \u001b[0mif_false\u001b[0m\u001b[0;34m(\u001b[0m\u001b[0;34m*\u001b[0m\u001b[0margs\u001b[0m\u001b[0;34m,\u001b[0m \u001b[0;34m**\u001b[0m\u001b[0mkwargs\u001b[0m\u001b[0;34m)\u001b[0m\u001b[0;34m\u001b[0m\u001b[0;34m\u001b[0m\u001b[0m\n\u001b[0m\u001b[1;32m    423\u001b[0m \u001b[0;34m\u001b[0m\u001b[0m\n\u001b[1;32m    424\u001b[0m     \u001b[0;32mif\u001b[0m \u001b[0mif_true\u001b[0m\u001b[0;34m.\u001b[0m\u001b[0m__doc__\u001b[0m \u001b[0;32mis\u001b[0m \u001b[0;32mNone\u001b[0m \u001b[0;32mand\u001b[0m \u001b[0mif_false\u001b[0m\u001b[0;34m.\u001b[0m\u001b[0m__doc__\u001b[0m \u001b[0;32mis\u001b[0m \u001b[0;32mnot\u001b[0m \u001b[0;32mNone\u001b[0m\u001b[0;34m:\u001b[0m\u001b[0;34m\u001b[0m\u001b[0;34m\u001b[0m\u001b[0m\n",
            "\u001b[0;32m/usr/local/lib/python3.7/dist-packages/torch/nn/functional.py\u001b[0m in \u001b[0;36m_max_pool2d\u001b[0;34m(input, kernel_size, stride, padding, dilation, ceil_mode, return_indices)\u001b[0m\n\u001b[1;32m    717\u001b[0m     \u001b[0;32mif\u001b[0m \u001b[0mstride\u001b[0m \u001b[0;32mis\u001b[0m \u001b[0;32mNone\u001b[0m\u001b[0;34m:\u001b[0m\u001b[0;34m\u001b[0m\u001b[0;34m\u001b[0m\u001b[0m\n\u001b[1;32m    718\u001b[0m         \u001b[0mstride\u001b[0m \u001b[0;34m=\u001b[0m \u001b[0mtorch\u001b[0m\u001b[0;34m.\u001b[0m\u001b[0mjit\u001b[0m\u001b[0;34m.\u001b[0m\u001b[0mannotate\u001b[0m\u001b[0;34m(\u001b[0m\u001b[0mList\u001b[0m\u001b[0;34m[\u001b[0m\u001b[0mint\u001b[0m\u001b[0;34m]\u001b[0m\u001b[0;34m,\u001b[0m \u001b[0;34m[\u001b[0m\u001b[0;34m]\u001b[0m\u001b[0;34m)\u001b[0m\u001b[0;34m\u001b[0m\u001b[0;34m\u001b[0m\u001b[0m\n\u001b[0;32m--> 719\u001b[0;31m     \u001b[0;32mreturn\u001b[0m \u001b[0mtorch\u001b[0m\u001b[0;34m.\u001b[0m\u001b[0mmax_pool2d\u001b[0m\u001b[0;34m(\u001b[0m\u001b[0minput\u001b[0m\u001b[0;34m,\u001b[0m \u001b[0mkernel_size\u001b[0m\u001b[0;34m,\u001b[0m \u001b[0mstride\u001b[0m\u001b[0;34m,\u001b[0m \u001b[0mpadding\u001b[0m\u001b[0;34m,\u001b[0m \u001b[0mdilation\u001b[0m\u001b[0;34m,\u001b[0m \u001b[0mceil_mode\u001b[0m\u001b[0;34m)\u001b[0m\u001b[0;34m\u001b[0m\u001b[0;34m\u001b[0m\u001b[0m\n\u001b[0m\u001b[1;32m    720\u001b[0m \u001b[0;34m\u001b[0m\u001b[0m\n\u001b[1;32m    721\u001b[0m \u001b[0;34m\u001b[0m\u001b[0m\n",
            "\u001b[0;31mRuntimeError\u001b[0m: Given input size: (256x1x1). Calculated output size: (256x0x0). Output size is too small"
          ]
        }
      ],
      "source": [
        "correct = 0\n",
        "total = 0\n",
        "with torch.no_grad():\n",
        "    for data in test_loader:\n",
        "        images, labels = data[0].to(device), data[1].to(device)\n",
        "        outputs = alexnet(images)\n",
        "        _, predicted = torch.max(outputs.data, 1)\n",
        "        total += labels.size(0)\n",
        "        correct += (predicted == labels).sum().item()\n",
        "\n",
        "print('Accuracy of the network on the 10000 test images: %d %%' % (\n",
        "    100 * correct / total))"
      ]
    },
    {
      "cell_type": "code",
      "execution_count": null,
      "id": "971778e6",
      "metadata": {
        "id": "971778e6",
        "colab": {
          "base_uri": "https://localhost:8080/"
        },
        "outputId": "956e6d7a-849d-4bf0-e1f2-7ad0a6cbb96d"
      },
      "outputs": [
        {
          "output_type": "stream",
          "name": "stdout",
          "text": [
            "Accuracy of airplane : 92 %\n",
            "Accuracy of automobile : 92 %\n",
            "Accuracy of  bird : 89 %\n",
            "Accuracy of   cat : 76 %\n",
            "Accuracy of  deer : 85 %\n",
            "Accuracy of   dog : 81 %\n",
            "Accuracy of  frog : 94 %\n",
            "Accuracy of horse : 90 %\n",
            "Accuracy of  ship : 96 %\n",
            "Accuracy of truck : 94 %\n"
          ]
        }
      ],
      "source": [
        "correct_pred, total_pred, y_actual, y_pred, confusion_matrix = test_model(alexnet, AlexNet_test_loader)\n",
        "\n",
        "for i in range(10):\n",
        "    print('Accuracy of %5s : %2d %%' % (\n",
        "        classes[i], 100 * correct_pred[i] / total_pred[i]))"
      ]
    },
    {
      "cell_type": "code",
      "execution_count": null,
      "id": "d59dba53",
      "metadata": {
        "id": "d59dba53",
        "colab": {
          "base_uri": "https://localhost:8080/"
        },
        "outputId": "4f24eb70-2ab7-45fa-a0d7-18f35052b37c"
      },
      "outputs": [
        {
          "output_type": "stream",
          "name": "stdout",
          "text": [
            "Average accuracy =  89.49447431563036\n"
          ]
        }
      ],
      "source": [
        "avg = 0\n",
        "for i in range(10):\n",
        "  temp = (100 * correct_pred[i] / total_pred[i])\n",
        "  avg = avg + temp\n",
        "avg = avg/10\n",
        "print('Average accuracy = ', avg)"
      ]
    },
    {
      "cell_type": "code",
      "execution_count": null,
      "id": "b6e6c9d9",
      "metadata": {
        "id": "b6e6c9d9",
        "colab": {
          "base_uri": "https://localhost:8080/"
        },
        "outputId": "4a032f1a-31e3-4bb8-b4ae-16a0983dafa9"
      },
      "outputs": [
        {
          "output_type": "execute_result",
          "data": {
            "text/plain": [
              "0.8866199264989695"
            ]
          },
          "metadata": {},
          "execution_count": 72
        }
      ],
      "source": [
        "matthews_corrcoef(y_actual, y_pred)"
      ]
    },
    {
      "cell_type": "code",
      "execution_count": null,
      "id": "25d9c10d",
      "metadata": {
        "id": "25d9c10d",
        "colab": {
          "base_uri": "https://localhost:8080/"
        },
        "outputId": "8a7689b9-9692-49fc-c602-ca43c3f09d18"
      },
      "outputs": [
        {
          "output_type": "stream",
          "name": "stdout",
          "text": [
            "              precision    recall  f1-score   support\n",
            "\n",
            "    airplane       0.91      0.89      0.90      1000\n",
            "  automobile       0.95      0.94      0.94      1000\n",
            "        bird       0.88      0.90      0.89      1000\n",
            "         cat       0.77      0.81      0.79      1000\n",
            "        deer       0.87      0.91      0.89      1000\n",
            "         dog       0.88      0.83      0.85      1000\n",
            "        frog       0.95      0.92      0.93      1000\n",
            "       horse       0.94      0.90      0.92      1000\n",
            "        ship       0.93      0.94      0.94      1000\n",
            "       truck       0.91      0.95      0.93      1000\n",
            "\n",
            "    accuracy                           0.90     10000\n",
            "   macro avg       0.90      0.90      0.90     10000\n",
            "weighted avg       0.90      0.90      0.90     10000\n",
            "\n"
          ]
        }
      ],
      "source": [
        "print(classification_report(y_actual, y_pred, target_names=classes))"
      ]
    },
    {
      "cell_type": "code",
      "execution_count": null,
      "id": "1746ee54",
      "metadata": {
        "id": "1746ee54",
        "colab": {
          "base_uri": "https://localhost:8080/"
        },
        "outputId": "c26f10d4-5943-4558-95a0-1f9c24273c9a"
      },
      "outputs": [
        {
          "output_type": "execute_result",
          "data": {
            "text/plain": [
              "0.8865555555555555"
            ]
          },
          "metadata": {},
          "execution_count": 74
        }
      ],
      "source": [
        "cohen_kappa_score(y_actual, y_pred)"
      ]
    },
    {
      "cell_type": "markdown",
      "id": "2536b1f9",
      "metadata": {
        "id": "2536b1f9"
      },
      "source": [
        "# Resnet Findings\n"
      ]
    },
    {
      "cell_type": "code",
      "execution_count": null,
      "id": "b4a1dba8",
      "metadata": {
        "colab": {
          "base_uri": "https://localhost:8080/"
        },
        "id": "b4a1dba8",
        "outputId": "80f091ca-d24c-4994-eecf-d10d5da91330"
      },
      "outputs": [
        {
          "output_type": "stream",
          "name": "stdout",
          "text": [
            "Accuracy of the model on the test images: 84.68 %\n"
          ]
        }
      ],
      "source": [
        "with torch.no_grad():\n",
        "    correct = 0\n",
        "    total = 0\n",
        "    for images, labels in test_loader:\n",
        "        images = images.to(device)\n",
        "        labels = labels.to(device)\n",
        "        outputs = resnet(images)\n",
        "        _, predicted = torch.max(outputs.data, 1)\n",
        "        total += labels.size(0)\n",
        "        correct += (predicted == labels).sum().item()\n",
        "\n",
        "    print('Accuracy of the model on the test images: {} %'.format(100 * correct / total))\n",
        "\n",
        "# Save the model checkpoint\n",
        "torch.save(resnet.state_dict(), 'resnet.ckpt')"
      ]
    },
    {
      "cell_type": "code",
      "execution_count": null,
      "id": "41ae6792",
      "metadata": {
        "colab": {
          "base_uri": "https://localhost:8080/"
        },
        "id": "41ae6792",
        "outputId": "dc604118-1d69-4747-c7c9-ace3b110add1"
      },
      "outputs": [
        {
          "output_type": "stream",
          "name": "stdout",
          "text": [
            "Accuracy of airplane : 92 %\n",
            "Accuracy of automobile : 94 %\n",
            "Accuracy of  bird : 78 %\n",
            "Accuracy of   cat : 82 %\n",
            "Accuracy of  deer : 85 %\n",
            "Accuracy of   dog : 81 %\n",
            "Accuracy of  frog : 80 %\n",
            "Accuracy of horse : 90 %\n",
            "Accuracy of  ship : 93 %\n",
            "Accuracy of truck : 89 %\n"
          ]
        }
      ],
      "source": [
        "correct_pred, total_pred, y_actual, y_pred, confusion_matrix = test_model(resnet, test_loader)\n",
        "\n",
        "\n",
        "for i in range(10):\n",
        "    print('Accuracy of %5s : %2d %%' % (\n",
        "        classes[i], 100 * correct_pred[i] / total_pred[i]))"
      ]
    },
    {
      "cell_type": "code",
      "execution_count": null,
      "id": "29926375",
      "metadata": {
        "colab": {
          "base_uri": "https://localhost:8080/"
        },
        "id": "29926375",
        "outputId": "ad987166-d761-4809-f5a1-a4ebe055ffda"
      },
      "outputs": [
        {
          "output_type": "stream",
          "name": "stdout",
          "text": [
            "Average accuracy =  86.81695948718185\n"
          ]
        }
      ],
      "source": [
        "avg = 0\n",
        "for i in range(10):\n",
        "  temp = (100 * correct_pred[i] / total_pred[i])\n",
        "  avg = avg + temp\n",
        "avg = avg/10\n",
        "print('Average accuracy = ', avg)"
      ]
    },
    {
      "cell_type": "code",
      "execution_count": null,
      "id": "916b93d9",
      "metadata": {
        "colab": {
          "base_uri": "https://localhost:8080/"
        },
        "id": "916b93d9",
        "outputId": "1661043c-42b8-4cb9-b71a-62fabcfbc672"
      },
      "outputs": [
        {
          "output_type": "execute_result",
          "data": {
            "text/plain": [
              "0.8314776118240343"
            ]
          },
          "metadata": {},
          "execution_count": 79
        }
      ],
      "source": [
        "matthews_corrcoef(y_actual, y_pred)"
      ]
    },
    {
      "cell_type": "code",
      "execution_count": null,
      "id": "8d7a60d0",
      "metadata": {
        "colab": {
          "base_uri": "https://localhost:8080/"
        },
        "id": "8d7a60d0",
        "outputId": "65a385bb-1b3d-49bc-ce77-ba1ff81878fe"
      },
      "outputs": [
        {
          "output_type": "stream",
          "name": "stdout",
          "text": [
            "              precision    recall  f1-score   support\n",
            "\n",
            "    airplane       0.87      0.88      0.88      1000\n",
            "  automobile       0.93      0.93      0.93      1000\n",
            "        bird       0.81      0.78      0.79      1000\n",
            "         cat       0.74      0.71      0.72      1000\n",
            "        deer       0.79      0.84      0.82      1000\n",
            "         dog       0.76      0.77      0.77      1000\n",
            "        frog       0.88      0.87      0.88      1000\n",
            "       horse       0.87      0.86      0.87      1000\n",
            "        ship       0.92      0.92      0.92      1000\n",
            "       truck       0.91      0.92      0.92      1000\n",
            "\n",
            "    accuracy                           0.85     10000\n",
            "   macro avg       0.85      0.85      0.85     10000\n",
            "weighted avg       0.85      0.85      0.85     10000\n",
            "\n"
          ]
        }
      ],
      "source": [
        "print(classification_report(y_actual, y_pred, target_names=classes))"
      ]
    },
    {
      "cell_type": "code",
      "execution_count": null,
      "id": "4b321e58",
      "metadata": {
        "colab": {
          "base_uri": "https://localhost:8080/"
        },
        "id": "4b321e58",
        "outputId": "2011baa7-07cf-4d97-a179-afbcb8973616"
      },
      "outputs": [
        {
          "output_type": "execute_result",
          "data": {
            "text/plain": [
              "0.8314444444444444"
            ]
          },
          "metadata": {},
          "execution_count": 81
        }
      ],
      "source": [
        "cohen_kappa_score(y_actual, y_pred)"
      ]
    },
    {
      "cell_type": "markdown",
      "source": [
        "# Import Dataset-b\n",
        "\n",
        "* At first we had to import our data and transform them into png's. After which we exported them to seporate folders by their classes.\n",
        "* Each folder name being the name of the class\n",
        "* We can then import them with the Torchvision.dataset api, using ImageFolder, so we have the same structure as the CIFAR-10 dataset"
      ],
      "metadata": {
        "id": "NeQoTQKUTgny"
      },
      "id": "NeQoTQKUTgny"
    },
    {
      "cell_type": "code",
      "source": [
        "from google.colab import drive\n",
        "drive.mount('/content/drive')"
      ],
      "metadata": {
        "colab": {
          "base_uri": "https://localhost:8080/"
        },
        "id": "EQ38ED8SffD3",
        "outputId": "34e4fba8-d995-457b-d584-ecb097649a3a"
      },
      "id": "EQ38ED8SffD3",
      "execution_count": null,
      "outputs": [
        {
          "output_type": "stream",
          "name": "stdout",
          "text": [
            "Mounted at /content/drive\n"
          ]
        }
      ]
    },
    {
      "cell_type": "code",
      "source": [
        "unseen_set = torchvision.datasets.ImageFolder('/content/drive/MyDrive/AAI_Exam/datasets/NEW_PNGS/', transform=valid_transform)\n",
        "\n",
        "Alex_unseen_set = torchvision.datasets.ImageFolder('/content/drive/MyDrive/AAI_Exam/datasets/NEW_PNGS/', transform=transfer_valid_transform)\n",
        "\n",
        "unseen_loader = torch.utils.data.DataLoader(unseen_set, batch_size=64,\n",
        "                                          shuffle=False, num_workers=4)\n",
        "\n",
        "unseen_loader = torch.utils.data.DataLoader(Alex_unseen_set, batch_size=64,\n",
        "                                          shuffle=False, num_workers=4)\n",
        "\n",
        "batch_size=128"
      ],
      "metadata": {
        "id": "l4jZm7yZfe_-"
      },
      "id": "l4jZm7yZfe_-",
      "execution_count": null,
      "outputs": []
    },
    {
      "cell_type": "markdown",
      "source": [
        "# Testing on AlexNet Dataset-b images "
      ],
      "metadata": {
        "id": "i0e8_ciiTZun"
      },
      "id": "i0e8_ciiTZun"
    },
    {
      "cell_type": "code",
      "source": [
        "correct_pred, total_pred, y_actual, y_pred, confusion_matrix = test_model(alexnet, unseen_loader)\n",
        "\n",
        "for i in range(10):\n",
        "    print('Accuracy of %5s : %2d %%' % (\n",
        "        classes[i], 100 * correct_pred[i] / total_pred[i]))"
      ],
      "metadata": {
        "colab": {
          "base_uri": "https://localhost:8080/"
        },
        "id": "DDCvmMW_gH0u",
        "outputId": "bb4a13dc-ddf1-4282-aba2-5e8e70a8dd67"
      },
      "id": "DDCvmMW_gH0u",
      "execution_count": null,
      "outputs": [
        {
          "output_type": "stream",
          "name": "stdout",
          "text": [
            "Accuracy of airplane : 68 %\n",
            "Accuracy of automobile : 83 %\n",
            "Accuracy of  bird : 83 %\n",
            "Accuracy of   cat : 78 %\n",
            "Accuracy of  deer : 92 %\n",
            "Accuracy of   dog : 83 %\n",
            "Accuracy of  frog : 91 %\n",
            "Accuracy of horse : 91 %\n",
            "Accuracy of  ship : 100 %\n",
            "Accuracy of truck : 83 %\n"
          ]
        }
      ]
    },
    {
      "cell_type": "code",
      "source": [
        "avg = 0\n",
        "for i in range(10):\n",
        "  temp = (100 * correct_pred[i] / total_pred[i])\n",
        "  avg = avg + temp\n",
        "avg = avg/10\n",
        "print('Average accuracy = ', avg)"
      ],
      "metadata": {
        "colab": {
          "base_uri": "https://localhost:8080/"
        },
        "id": "slm4_2XsfxtV",
        "outputId": "9d48026b-4851-4ebf-9b4e-fd143bc393b0"
      },
      "id": "slm4_2XsfxtV",
      "execution_count": null,
      "outputs": [
        {
          "output_type": "stream",
          "name": "stdout",
          "text": [
            "Average accuracy =  86.81695948718185\n"
          ]
        }
      ]
    },
    {
      "cell_type": "code",
      "source": [
        "matthews_corrcoef(y_actual, y_pred)"
      ],
      "metadata": {
        "colab": {
          "base_uri": "https://localhost:8080/"
        },
        "id": "Dzns-o81ibAL",
        "outputId": "bddde233-ba3e-4b11-8181-e78c3bc8385b"
      },
      "id": "Dzns-o81ibAL",
      "execution_count": null,
      "outputs": [
        {
          "output_type": "execute_result",
          "data": {
            "text/plain": [
              "0.7795425360395614"
            ]
          },
          "metadata": {},
          "execution_count": 90
        }
      ]
    },
    {
      "cell_type": "code",
      "source": [
        "print(classification_report(y_actual, y_pred, target_names=classes))"
      ],
      "metadata": {
        "colab": {
          "base_uri": "https://localhost:8080/"
        },
        "id": "CULmg33Kia6M",
        "outputId": "e6c3818d-d5fa-4bb3-d8aa-7eb67e2b646e"
      },
      "id": "CULmg33Kia6M",
      "execution_count": null,
      "outputs": [
        {
          "output_type": "stream",
          "name": "stdout",
          "text": [
            "              precision    recall  f1-score   support\n",
            "\n",
            "    airplane       0.83      0.74      0.78       208\n",
            "  automobile       0.91      0.77      0.83       212\n",
            "        bird       0.80      0.76      0.78       202\n",
            "         cat       0.67      0.73      0.70       212\n",
            "        deer       0.76      0.84      0.80       204\n",
            "         dog       0.85      0.76      0.80       218\n",
            "        frog       0.83      0.81      0.82       192\n",
            "       horse       0.89      0.82      0.85       210\n",
            "        ship       0.75      0.88      0.81       161\n",
            "       truck       0.78      0.92      0.84       202\n",
            "\n",
            "    accuracy                           0.80      2021\n",
            "   macro avg       0.81      0.80      0.80      2021\n",
            "weighted avg       0.81      0.80      0.80      2021\n",
            "\n"
          ]
        }
      ]
    },
    {
      "cell_type": "code",
      "source": [
        "cohen_kappa_score(y_actual, y_pred)"
      ],
      "metadata": {
        "colab": {
          "base_uri": "https://localhost:8080/"
        },
        "id": "MQDrUJuKia0x",
        "outputId": "523cb350-69cb-4d2e-bf96-adb75c81be23"
      },
      "id": "MQDrUJuKia0x",
      "execution_count": null,
      "outputs": [
        {
          "output_type": "execute_result",
          "data": {
            "text/plain": [
              "0.7789582025692741"
            ]
          },
          "metadata": {},
          "execution_count": 92
        }
      ]
    },
    {
      "cell_type": "markdown",
      "source": [
        "# Testing on ResNet Dataset-b data"
      ],
      "metadata": {
        "id": "84ed2WmpTMuM"
      },
      "id": "84ed2WmpTMuM"
    },
    {
      "cell_type": "code",
      "source": [
        "batch_size=64\n",
        "correct_pred, total_pred, y_actual, y_pred, confusion_matrix = test_model(resnet, unseen_loader)\n",
        "\n",
        "for i in range(10):\n",
        "    print('Accuracy of %5s : %2d %%' % (\n",
        "        classes[i], 100 * correct_pred[i] / total_pred[i]))"
      ],
      "metadata": {
        "colab": {
          "base_uri": "https://localhost:8080/",
          "height": 381
        },
        "id": "qdxgtAqHfeO1",
        "outputId": "842156cc-a5ce-4a5f-f7a9-b41b07128a5f"
      },
      "id": "qdxgtAqHfeO1",
      "execution_count": null,
      "outputs": [
        {
          "output_type": "error",
          "ename": "RuntimeError",
          "evalue": "ignored",
          "traceback": [
            "\u001b[0;31m---------------------------------------------------------------------------\u001b[0m",
            "\u001b[0;31mRuntimeError\u001b[0m                              Traceback (most recent call last)",
            "\u001b[0;32m<ipython-input-94-2fb820885b82>\u001b[0m in \u001b[0;36m<module>\u001b[0;34m()\u001b[0m\n\u001b[1;32m      1\u001b[0m \u001b[0mbatch_size\u001b[0m\u001b[0;34m=\u001b[0m\u001b[0;36m64\u001b[0m\u001b[0;34m\u001b[0m\u001b[0;34m\u001b[0m\u001b[0m\n\u001b[0;32m----> 2\u001b[0;31m \u001b[0mcorrect_pred\u001b[0m\u001b[0;34m,\u001b[0m \u001b[0mtotal_pred\u001b[0m\u001b[0;34m,\u001b[0m \u001b[0my_actual\u001b[0m\u001b[0;34m,\u001b[0m \u001b[0my_pred\u001b[0m\u001b[0;34m,\u001b[0m \u001b[0mconfusion_matrix\u001b[0m \u001b[0;34m=\u001b[0m \u001b[0mtest_model\u001b[0m\u001b[0;34m(\u001b[0m\u001b[0mresnet\u001b[0m\u001b[0;34m,\u001b[0m \u001b[0munseen_loader\u001b[0m\u001b[0;34m)\u001b[0m\u001b[0;34m\u001b[0m\u001b[0;34m\u001b[0m\u001b[0m\n\u001b[0m\u001b[1;32m      3\u001b[0m \u001b[0;34m\u001b[0m\u001b[0m\n\u001b[1;32m      4\u001b[0m \u001b[0;32mfor\u001b[0m \u001b[0mi\u001b[0m \u001b[0;32min\u001b[0m \u001b[0mrange\u001b[0m\u001b[0;34m(\u001b[0m\u001b[0;36m10\u001b[0m\u001b[0;34m)\u001b[0m\u001b[0;34m:\u001b[0m\u001b[0;34m\u001b[0m\u001b[0;34m\u001b[0m\u001b[0m\n\u001b[1;32m      5\u001b[0m     print('Accuracy of %5s : %2d %%' % (\n",
            "\u001b[0;32m<ipython-input-58-8206517be2e9>\u001b[0m in \u001b[0;36mtest_model\u001b[0;34m(model, data_to_test)\u001b[0m\n\u001b[1;32m     13\u001b[0m         \u001b[0;32mfor\u001b[0m \u001b[0mdata\u001b[0m \u001b[0;32min\u001b[0m \u001b[0mdata_to_test\u001b[0m\u001b[0;34m:\u001b[0m\u001b[0;34m\u001b[0m\u001b[0;34m\u001b[0m\u001b[0m\n\u001b[1;32m     14\u001b[0m             \u001b[0mimages\u001b[0m\u001b[0;34m,\u001b[0m \u001b[0mlabels\u001b[0m \u001b[0;34m=\u001b[0m \u001b[0mdata\u001b[0m\u001b[0;34m[\u001b[0m\u001b[0;36m0\u001b[0m\u001b[0;34m]\u001b[0m\u001b[0;34m.\u001b[0m\u001b[0mto\u001b[0m\u001b[0;34m(\u001b[0m\u001b[0mdevice\u001b[0m\u001b[0;34m)\u001b[0m\u001b[0;34m,\u001b[0m \u001b[0mdata\u001b[0m\u001b[0;34m[\u001b[0m\u001b[0;36m1\u001b[0m\u001b[0;34m]\u001b[0m\u001b[0;34m.\u001b[0m\u001b[0mto\u001b[0m\u001b[0;34m(\u001b[0m\u001b[0mdevice\u001b[0m\u001b[0;34m)\u001b[0m\u001b[0;34m\u001b[0m\u001b[0;34m\u001b[0m\u001b[0m\n\u001b[0;32m---> 15\u001b[0;31m             \u001b[0moutputs\u001b[0m \u001b[0;34m=\u001b[0m \u001b[0mmodel\u001b[0m\u001b[0;34m(\u001b[0m\u001b[0mimages\u001b[0m\u001b[0;34m)\u001b[0m\u001b[0;34m\u001b[0m\u001b[0;34m\u001b[0m\u001b[0m\n\u001b[0m\u001b[1;32m     16\u001b[0m             \u001b[0m_\u001b[0m\u001b[0;34m,\u001b[0m \u001b[0mpredicted\u001b[0m \u001b[0;34m=\u001b[0m \u001b[0mtorch\u001b[0m\u001b[0;34m.\u001b[0m\u001b[0mmax\u001b[0m\u001b[0;34m(\u001b[0m\u001b[0moutputs\u001b[0m\u001b[0;34m,\u001b[0m \u001b[0;36m1\u001b[0m\u001b[0;34m)\u001b[0m\u001b[0;34m\u001b[0m\u001b[0;34m\u001b[0m\u001b[0m\n\u001b[1;32m     17\u001b[0m             \u001b[0mc\u001b[0m \u001b[0;34m=\u001b[0m \u001b[0;34m(\u001b[0m\u001b[0mpredicted\u001b[0m \u001b[0;34m==\u001b[0m \u001b[0mlabels\u001b[0m\u001b[0;34m)\u001b[0m\u001b[0;34m.\u001b[0m\u001b[0msqueeze\u001b[0m\u001b[0;34m(\u001b[0m\u001b[0;34m)\u001b[0m\u001b[0;34m\u001b[0m\u001b[0;34m\u001b[0m\u001b[0m\n",
            "\u001b[0;32m/usr/local/lib/python3.7/dist-packages/torch/nn/modules/module.py\u001b[0m in \u001b[0;36m_call_impl\u001b[0;34m(self, *input, **kwargs)\u001b[0m\n\u001b[1;32m   1100\u001b[0m         if not (self._backward_hooks or self._forward_hooks or self._forward_pre_hooks or _global_backward_hooks\n\u001b[1;32m   1101\u001b[0m                 or _global_forward_hooks or _global_forward_pre_hooks):\n\u001b[0;32m-> 1102\u001b[0;31m             \u001b[0;32mreturn\u001b[0m \u001b[0mforward_call\u001b[0m\u001b[0;34m(\u001b[0m\u001b[0;34m*\u001b[0m\u001b[0minput\u001b[0m\u001b[0;34m,\u001b[0m \u001b[0;34m**\u001b[0m\u001b[0mkwargs\u001b[0m\u001b[0;34m)\u001b[0m\u001b[0;34m\u001b[0m\u001b[0;34m\u001b[0m\u001b[0m\n\u001b[0m\u001b[1;32m   1103\u001b[0m         \u001b[0;31m# Do not call functions when jit is used\u001b[0m\u001b[0;34m\u001b[0m\u001b[0;34m\u001b[0m\u001b[0;34m\u001b[0m\u001b[0m\n\u001b[1;32m   1104\u001b[0m         \u001b[0mfull_backward_hooks\u001b[0m\u001b[0;34m,\u001b[0m \u001b[0mnon_full_backward_hooks\u001b[0m \u001b[0;34m=\u001b[0m \u001b[0;34m[\u001b[0m\u001b[0;34m]\u001b[0m\u001b[0;34m,\u001b[0m \u001b[0;34m[\u001b[0m\u001b[0;34m]\u001b[0m\u001b[0;34m\u001b[0m\u001b[0;34m\u001b[0m\u001b[0m\n",
            "\u001b[0;32m<ipython-input-29-52bb4f256453>\u001b[0m in \u001b[0;36mforward\u001b[0;34m(self, x)\u001b[0m\n\u001b[1;32m     71\u001b[0m         \u001b[0mout\u001b[0m \u001b[0;34m=\u001b[0m \u001b[0mself\u001b[0m\u001b[0;34m.\u001b[0m\u001b[0mavg_pool\u001b[0m\u001b[0;34m(\u001b[0m\u001b[0mout\u001b[0m\u001b[0;34m)\u001b[0m\u001b[0;34m\u001b[0m\u001b[0;34m\u001b[0m\u001b[0m\n\u001b[1;32m     72\u001b[0m         \u001b[0mout\u001b[0m \u001b[0;34m=\u001b[0m \u001b[0mout\u001b[0m\u001b[0;34m.\u001b[0m\u001b[0mview\u001b[0m\u001b[0;34m(\u001b[0m\u001b[0mout\u001b[0m\u001b[0;34m.\u001b[0m\u001b[0msize\u001b[0m\u001b[0;34m(\u001b[0m\u001b[0;36m0\u001b[0m\u001b[0;34m)\u001b[0m\u001b[0;34m,\u001b[0m \u001b[0;34m-\u001b[0m\u001b[0;36m1\u001b[0m\u001b[0;34m)\u001b[0m\u001b[0;34m\u001b[0m\u001b[0;34m\u001b[0m\u001b[0m\n\u001b[0;32m---> 73\u001b[0;31m         \u001b[0mout\u001b[0m \u001b[0;34m=\u001b[0m \u001b[0mself\u001b[0m\u001b[0;34m.\u001b[0m\u001b[0mfc\u001b[0m\u001b[0;34m(\u001b[0m\u001b[0mout\u001b[0m\u001b[0;34m)\u001b[0m\u001b[0;34m\u001b[0m\u001b[0;34m\u001b[0m\u001b[0m\n\u001b[0m\u001b[1;32m     74\u001b[0m         \u001b[0;32mreturn\u001b[0m \u001b[0mout\u001b[0m\u001b[0;34m\u001b[0m\u001b[0;34m\u001b[0m\u001b[0m\n\u001b[1;32m     75\u001b[0m \u001b[0;34m\u001b[0m\u001b[0m\n",
            "\u001b[0;32m/usr/local/lib/python3.7/dist-packages/torch/nn/modules/module.py\u001b[0m in \u001b[0;36m_call_impl\u001b[0;34m(self, *input, **kwargs)\u001b[0m\n\u001b[1;32m   1100\u001b[0m         if not (self._backward_hooks or self._forward_hooks or self._forward_pre_hooks or _global_backward_hooks\n\u001b[1;32m   1101\u001b[0m                 or _global_forward_hooks or _global_forward_pre_hooks):\n\u001b[0;32m-> 1102\u001b[0;31m             \u001b[0;32mreturn\u001b[0m \u001b[0mforward_call\u001b[0m\u001b[0;34m(\u001b[0m\u001b[0;34m*\u001b[0m\u001b[0minput\u001b[0m\u001b[0;34m,\u001b[0m \u001b[0;34m**\u001b[0m\u001b[0mkwargs\u001b[0m\u001b[0;34m)\u001b[0m\u001b[0;34m\u001b[0m\u001b[0;34m\u001b[0m\u001b[0m\n\u001b[0m\u001b[1;32m   1103\u001b[0m         \u001b[0;31m# Do not call functions when jit is used\u001b[0m\u001b[0;34m\u001b[0m\u001b[0;34m\u001b[0m\u001b[0;34m\u001b[0m\u001b[0m\n\u001b[1;32m   1104\u001b[0m         \u001b[0mfull_backward_hooks\u001b[0m\u001b[0;34m,\u001b[0m \u001b[0mnon_full_backward_hooks\u001b[0m \u001b[0;34m=\u001b[0m \u001b[0;34m[\u001b[0m\u001b[0;34m]\u001b[0m\u001b[0;34m,\u001b[0m \u001b[0;34m[\u001b[0m\u001b[0;34m]\u001b[0m\u001b[0;34m\u001b[0m\u001b[0;34m\u001b[0m\u001b[0m\n",
            "\u001b[0;32m/usr/local/lib/python3.7/dist-packages/torch/nn/modules/linear.py\u001b[0m in \u001b[0;36mforward\u001b[0;34m(self, input)\u001b[0m\n\u001b[1;32m    101\u001b[0m \u001b[0;34m\u001b[0m\u001b[0m\n\u001b[1;32m    102\u001b[0m     \u001b[0;32mdef\u001b[0m \u001b[0mforward\u001b[0m\u001b[0;34m(\u001b[0m\u001b[0mself\u001b[0m\u001b[0;34m,\u001b[0m \u001b[0minput\u001b[0m\u001b[0;34m:\u001b[0m \u001b[0mTensor\u001b[0m\u001b[0;34m)\u001b[0m \u001b[0;34m->\u001b[0m \u001b[0mTensor\u001b[0m\u001b[0;34m:\u001b[0m\u001b[0;34m\u001b[0m\u001b[0;34m\u001b[0m\u001b[0m\n\u001b[0;32m--> 103\u001b[0;31m         \u001b[0;32mreturn\u001b[0m \u001b[0mF\u001b[0m\u001b[0;34m.\u001b[0m\u001b[0mlinear\u001b[0m\u001b[0;34m(\u001b[0m\u001b[0minput\u001b[0m\u001b[0;34m,\u001b[0m \u001b[0mself\u001b[0m\u001b[0;34m.\u001b[0m\u001b[0mweight\u001b[0m\u001b[0;34m,\u001b[0m \u001b[0mself\u001b[0m\u001b[0;34m.\u001b[0m\u001b[0mbias\u001b[0m\u001b[0;34m)\u001b[0m\u001b[0;34m\u001b[0m\u001b[0;34m\u001b[0m\u001b[0m\n\u001b[0m\u001b[1;32m    104\u001b[0m \u001b[0;34m\u001b[0m\u001b[0m\n\u001b[1;32m    105\u001b[0m     \u001b[0;32mdef\u001b[0m \u001b[0mextra_repr\u001b[0m\u001b[0;34m(\u001b[0m\u001b[0mself\u001b[0m\u001b[0;34m)\u001b[0m \u001b[0;34m->\u001b[0m \u001b[0mstr\u001b[0m\u001b[0;34m:\u001b[0m\u001b[0;34m\u001b[0m\u001b[0;34m\u001b[0m\u001b[0m\n",
            "\u001b[0;32m/usr/local/lib/python3.7/dist-packages/torch/nn/functional.py\u001b[0m in \u001b[0;36mlinear\u001b[0;34m(input, weight, bias)\u001b[0m\n\u001b[1;32m   1846\u001b[0m     \u001b[0;32mif\u001b[0m \u001b[0mhas_torch_function_variadic\u001b[0m\u001b[0;34m(\u001b[0m\u001b[0minput\u001b[0m\u001b[0;34m,\u001b[0m \u001b[0mweight\u001b[0m\u001b[0;34m,\u001b[0m \u001b[0mbias\u001b[0m\u001b[0;34m)\u001b[0m\u001b[0;34m:\u001b[0m\u001b[0;34m\u001b[0m\u001b[0;34m\u001b[0m\u001b[0m\n\u001b[1;32m   1847\u001b[0m         \u001b[0;32mreturn\u001b[0m \u001b[0mhandle_torch_function\u001b[0m\u001b[0;34m(\u001b[0m\u001b[0mlinear\u001b[0m\u001b[0;34m,\u001b[0m \u001b[0;34m(\u001b[0m\u001b[0minput\u001b[0m\u001b[0;34m,\u001b[0m \u001b[0mweight\u001b[0m\u001b[0;34m,\u001b[0m \u001b[0mbias\u001b[0m\u001b[0;34m)\u001b[0m\u001b[0;34m,\u001b[0m \u001b[0minput\u001b[0m\u001b[0;34m,\u001b[0m \u001b[0mweight\u001b[0m\u001b[0;34m,\u001b[0m \u001b[0mbias\u001b[0m\u001b[0;34m=\u001b[0m\u001b[0mbias\u001b[0m\u001b[0;34m)\u001b[0m\u001b[0;34m\u001b[0m\u001b[0;34m\u001b[0m\u001b[0m\n\u001b[0;32m-> 1848\u001b[0;31m     \u001b[0;32mreturn\u001b[0m \u001b[0mtorch\u001b[0m\u001b[0;34m.\u001b[0m\u001b[0m_C\u001b[0m\u001b[0;34m.\u001b[0m\u001b[0m_nn\u001b[0m\u001b[0;34m.\u001b[0m\u001b[0mlinear\u001b[0m\u001b[0;34m(\u001b[0m\u001b[0minput\u001b[0m\u001b[0;34m,\u001b[0m \u001b[0mweight\u001b[0m\u001b[0;34m,\u001b[0m \u001b[0mbias\u001b[0m\u001b[0;34m)\u001b[0m\u001b[0;34m\u001b[0m\u001b[0;34m\u001b[0m\u001b[0m\n\u001b[0m\u001b[1;32m   1849\u001b[0m \u001b[0;34m\u001b[0m\u001b[0m\n\u001b[1;32m   1850\u001b[0m \u001b[0;34m\u001b[0m\u001b[0m\n",
            "\u001b[0;31mRuntimeError\u001b[0m: mat1 and mat2 shapes cannot be multiplied (64x3136 and 64x10)"
          ]
        }
      ]
    },
    {
      "cell_type": "code",
      "execution_count": null,
      "id": "151c2b7f",
      "metadata": {
        "id": "151c2b7f"
      },
      "outputs": [],
      "source": [
        "avg = 0\n",
        "for i in range(10):\n",
        "  temp = (100 * correct_pred[i] / total_pred[i])\n",
        "  avg = avg + temp\n",
        "avg = avg/10\n",
        "print('Average accuracy = ', avg)"
      ]
    },
    {
      "cell_type": "code",
      "source": [
        ""
      ],
      "metadata": {
        "id": "RrnTMKd_jf9N"
      },
      "id": "RrnTMKd_jf9N",
      "execution_count": null,
      "outputs": []
    },
    {
      "cell_type": "code",
      "source": [
        "matthews_corrcoef(y_actual, y_pred)"
      ],
      "metadata": {
        "id": "QxiV73Y3gas2"
      },
      "id": "QxiV73Y3gas2",
      "execution_count": null,
      "outputs": []
    },
    {
      "cell_type": "code",
      "source": [
        "print(classification_report(y_actual, y_pred, target_names=classes))"
      ],
      "metadata": {
        "id": "_igDxz6AgamW"
      },
      "id": "_igDxz6AgamW",
      "execution_count": null,
      "outputs": []
    },
    {
      "cell_type": "code",
      "source": [
        "cohen_kappa_score(y_actual, y_pred)\n",
        "\n"
      ],
      "metadata": {
        "id": "uyqFmHzggaeZ"
      },
      "id": "uyqFmHzggaeZ",
      "execution_count": null,
      "outputs": []
    }
  ],
  "metadata": {
    "accelerator": "GPU",
    "colab": {
      "machine_shape": "hm",
      "name": "GPU Accelerated.ipynb",
      "provenance": []
    },
    "kernelspec": {
      "display_name": "Python 3 (ipykernel)",
      "language": "python",
      "name": "python3"
    },
    "language_info": {
      "codemirror_mode": {
        "name": "ipython",
        "version": 3
      },
      "file_extension": ".py",
      "mimetype": "text/x-python",
      "name": "python",
      "nbconvert_exporter": "python",
      "pygments_lexer": "ipython3",
      "version": "3.9.7"
    },
    "widgets": {
      "application/vnd.jupyter.widget-state+json": {
        "19a1491ed95a4d4d9e0238154dbc25fb": {
          "model_module": "@jupyter-widgets/controls",
          "model_name": "HBoxModel",
          "model_module_version": "1.5.0",
          "state": {
            "_view_name": "HBoxView",
            "_dom_classes": [],
            "_model_name": "HBoxModel",
            "_view_module": "@jupyter-widgets/controls",
            "_model_module_version": "1.5.0",
            "_view_count": null,
            "_view_module_version": "1.5.0",
            "box_style": "",
            "layout": "IPY_MODEL_4dd4b115f9444a7e9635e6a854b57834",
            "_model_module": "@jupyter-widgets/controls",
            "children": [
              "IPY_MODEL_275778c165dc4e6eae3a976c308fa3b9",
              "IPY_MODEL_cb5da44510c445aeb9904dc929e87dcd",
              "IPY_MODEL_b5c8a4d6786e43c897d3d3eafbd2b1a6"
            ]
          }
        },
        "4dd4b115f9444a7e9635e6a854b57834": {
          "model_module": "@jupyter-widgets/base",
          "model_name": "LayoutModel",
          "model_module_version": "1.2.0",
          "state": {
            "_view_name": "LayoutView",
            "grid_template_rows": null,
            "right": null,
            "justify_content": null,
            "_view_module": "@jupyter-widgets/base",
            "overflow": null,
            "_model_module_version": "1.2.0",
            "_view_count": null,
            "flex_flow": null,
            "width": null,
            "min_width": null,
            "border": null,
            "align_items": null,
            "bottom": null,
            "_model_module": "@jupyter-widgets/base",
            "top": null,
            "grid_column": null,
            "overflow_y": null,
            "overflow_x": null,
            "grid_auto_flow": null,
            "grid_area": null,
            "grid_template_columns": null,
            "flex": null,
            "_model_name": "LayoutModel",
            "justify_items": null,
            "grid_row": null,
            "max_height": null,
            "align_content": null,
            "visibility": null,
            "align_self": null,
            "height": null,
            "min_height": null,
            "padding": null,
            "grid_auto_rows": null,
            "grid_gap": null,
            "max_width": null,
            "order": null,
            "_view_module_version": "1.2.0",
            "grid_template_areas": null,
            "object_position": null,
            "object_fit": null,
            "grid_auto_columns": null,
            "margin": null,
            "display": null,
            "left": null
          }
        },
        "275778c165dc4e6eae3a976c308fa3b9": {
          "model_module": "@jupyter-widgets/controls",
          "model_name": "HTMLModel",
          "model_module_version": "1.5.0",
          "state": {
            "_view_name": "HTMLView",
            "style": "IPY_MODEL_9e8cf42d7f4f44e0a4b101296080363e",
            "_dom_classes": [],
            "description": "",
            "_model_name": "HTMLModel",
            "placeholder": "​",
            "_view_module": "@jupyter-widgets/controls",
            "_model_module_version": "1.5.0",
            "value": "",
            "_view_count": null,
            "_view_module_version": "1.5.0",
            "description_tooltip": null,
            "_model_module": "@jupyter-widgets/controls",
            "layout": "IPY_MODEL_8eb25d0e326248b6a3a72d39effd11ec"
          }
        },
        "cb5da44510c445aeb9904dc929e87dcd": {
          "model_module": "@jupyter-widgets/controls",
          "model_name": "FloatProgressModel",
          "model_module_version": "1.5.0",
          "state": {
            "_view_name": "ProgressView",
            "style": "IPY_MODEL_1ebede3a049149bdbb69e83b2acd356f",
            "_dom_classes": [],
            "description": "",
            "_model_name": "FloatProgressModel",
            "bar_style": "success",
            "max": 170498071,
            "_view_module": "@jupyter-widgets/controls",
            "_model_module_version": "1.5.0",
            "value": 170498071,
            "_view_count": null,
            "_view_module_version": "1.5.0",
            "orientation": "horizontal",
            "min": 0,
            "description_tooltip": null,
            "_model_module": "@jupyter-widgets/controls",
            "layout": "IPY_MODEL_9e3b581eb0434b8d9165c796b5385fca"
          }
        },
        "b5c8a4d6786e43c897d3d3eafbd2b1a6": {
          "model_module": "@jupyter-widgets/controls",
          "model_name": "HTMLModel",
          "model_module_version": "1.5.0",
          "state": {
            "_view_name": "HTMLView",
            "style": "IPY_MODEL_74f79d085efd4ffe905fcb13360dbb15",
            "_dom_classes": [],
            "description": "",
            "_model_name": "HTMLModel",
            "placeholder": "​",
            "_view_module": "@jupyter-widgets/controls",
            "_model_module_version": "1.5.0",
            "value": " 170499072/? [00:12&lt;00:00, 15487114.68it/s]",
            "_view_count": null,
            "_view_module_version": "1.5.0",
            "description_tooltip": null,
            "_model_module": "@jupyter-widgets/controls",
            "layout": "IPY_MODEL_b27b7877306a478f99ab383281ccebdd"
          }
        },
        "9e8cf42d7f4f44e0a4b101296080363e": {
          "model_module": "@jupyter-widgets/controls",
          "model_name": "DescriptionStyleModel",
          "model_module_version": "1.5.0",
          "state": {
            "_view_name": "StyleView",
            "_model_name": "DescriptionStyleModel",
            "description_width": "",
            "_view_module": "@jupyter-widgets/base",
            "_model_module_version": "1.5.0",
            "_view_count": null,
            "_view_module_version": "1.2.0",
            "_model_module": "@jupyter-widgets/controls"
          }
        },
        "8eb25d0e326248b6a3a72d39effd11ec": {
          "model_module": "@jupyter-widgets/base",
          "model_name": "LayoutModel",
          "model_module_version": "1.2.0",
          "state": {
            "_view_name": "LayoutView",
            "grid_template_rows": null,
            "right": null,
            "justify_content": null,
            "_view_module": "@jupyter-widgets/base",
            "overflow": null,
            "_model_module_version": "1.2.0",
            "_view_count": null,
            "flex_flow": null,
            "width": null,
            "min_width": null,
            "border": null,
            "align_items": null,
            "bottom": null,
            "_model_module": "@jupyter-widgets/base",
            "top": null,
            "grid_column": null,
            "overflow_y": null,
            "overflow_x": null,
            "grid_auto_flow": null,
            "grid_area": null,
            "grid_template_columns": null,
            "flex": null,
            "_model_name": "LayoutModel",
            "justify_items": null,
            "grid_row": null,
            "max_height": null,
            "align_content": null,
            "visibility": null,
            "align_self": null,
            "height": null,
            "min_height": null,
            "padding": null,
            "grid_auto_rows": null,
            "grid_gap": null,
            "max_width": null,
            "order": null,
            "_view_module_version": "1.2.0",
            "grid_template_areas": null,
            "object_position": null,
            "object_fit": null,
            "grid_auto_columns": null,
            "margin": null,
            "display": null,
            "left": null
          }
        },
        "1ebede3a049149bdbb69e83b2acd356f": {
          "model_module": "@jupyter-widgets/controls",
          "model_name": "ProgressStyleModel",
          "model_module_version": "1.5.0",
          "state": {
            "_view_name": "StyleView",
            "_model_name": "ProgressStyleModel",
            "description_width": "",
            "_view_module": "@jupyter-widgets/base",
            "_model_module_version": "1.5.0",
            "_view_count": null,
            "_view_module_version": "1.2.0",
            "bar_color": null,
            "_model_module": "@jupyter-widgets/controls"
          }
        },
        "9e3b581eb0434b8d9165c796b5385fca": {
          "model_module": "@jupyter-widgets/base",
          "model_name": "LayoutModel",
          "model_module_version": "1.2.0",
          "state": {
            "_view_name": "LayoutView",
            "grid_template_rows": null,
            "right": null,
            "justify_content": null,
            "_view_module": "@jupyter-widgets/base",
            "overflow": null,
            "_model_module_version": "1.2.0",
            "_view_count": null,
            "flex_flow": null,
            "width": null,
            "min_width": null,
            "border": null,
            "align_items": null,
            "bottom": null,
            "_model_module": "@jupyter-widgets/base",
            "top": null,
            "grid_column": null,
            "overflow_y": null,
            "overflow_x": null,
            "grid_auto_flow": null,
            "grid_area": null,
            "grid_template_columns": null,
            "flex": null,
            "_model_name": "LayoutModel",
            "justify_items": null,
            "grid_row": null,
            "max_height": null,
            "align_content": null,
            "visibility": null,
            "align_self": null,
            "height": null,
            "min_height": null,
            "padding": null,
            "grid_auto_rows": null,
            "grid_gap": null,
            "max_width": null,
            "order": null,
            "_view_module_version": "1.2.0",
            "grid_template_areas": null,
            "object_position": null,
            "object_fit": null,
            "grid_auto_columns": null,
            "margin": null,
            "display": null,
            "left": null
          }
        },
        "74f79d085efd4ffe905fcb13360dbb15": {
          "model_module": "@jupyter-widgets/controls",
          "model_name": "DescriptionStyleModel",
          "model_module_version": "1.5.0",
          "state": {
            "_view_name": "StyleView",
            "_model_name": "DescriptionStyleModel",
            "description_width": "",
            "_view_module": "@jupyter-widgets/base",
            "_model_module_version": "1.5.0",
            "_view_count": null,
            "_view_module_version": "1.2.0",
            "_model_module": "@jupyter-widgets/controls"
          }
        },
        "b27b7877306a478f99ab383281ccebdd": {
          "model_module": "@jupyter-widgets/base",
          "model_name": "LayoutModel",
          "model_module_version": "1.2.0",
          "state": {
            "_view_name": "LayoutView",
            "grid_template_rows": null,
            "right": null,
            "justify_content": null,
            "_view_module": "@jupyter-widgets/base",
            "overflow": null,
            "_model_module_version": "1.2.0",
            "_view_count": null,
            "flex_flow": null,
            "width": null,
            "min_width": null,
            "border": null,
            "align_items": null,
            "bottom": null,
            "_model_module": "@jupyter-widgets/base",
            "top": null,
            "grid_column": null,
            "overflow_y": null,
            "overflow_x": null,
            "grid_auto_flow": null,
            "grid_area": null,
            "grid_template_columns": null,
            "flex": null,
            "_model_name": "LayoutModel",
            "justify_items": null,
            "grid_row": null,
            "max_height": null,
            "align_content": null,
            "visibility": null,
            "align_self": null,
            "height": null,
            "min_height": null,
            "padding": null,
            "grid_auto_rows": null,
            "grid_gap": null,
            "max_width": null,
            "order": null,
            "_view_module_version": "1.2.0",
            "grid_template_areas": null,
            "object_position": null,
            "object_fit": null,
            "grid_auto_columns": null,
            "margin": null,
            "display": null,
            "left": null
          }
        },
        "5a7a878f14264d8782a33ea86374059a": {
          "model_module": "@jupyter-widgets/controls",
          "model_name": "HBoxModel",
          "model_module_version": "1.5.0",
          "state": {
            "_view_name": "HBoxView",
            "_dom_classes": [],
            "_model_name": "HBoxModel",
            "_view_module": "@jupyter-widgets/controls",
            "_model_module_version": "1.5.0",
            "_view_count": null,
            "_view_module_version": "1.5.0",
            "box_style": "",
            "layout": "IPY_MODEL_623af0e215514cca92076e6557548436",
            "_model_module": "@jupyter-widgets/controls",
            "children": [
              "IPY_MODEL_9006b2246ac5488ebe234319fe40595f",
              "IPY_MODEL_0d601ed24cee4c158c1f68e09ddeeea2",
              "IPY_MODEL_526607d893884bbabd074659f12ee877"
            ]
          }
        },
        "623af0e215514cca92076e6557548436": {
          "model_module": "@jupyter-widgets/base",
          "model_name": "LayoutModel",
          "model_module_version": "1.2.0",
          "state": {
            "_view_name": "LayoutView",
            "grid_template_rows": null,
            "right": null,
            "justify_content": null,
            "_view_module": "@jupyter-widgets/base",
            "overflow": null,
            "_model_module_version": "1.2.0",
            "_view_count": null,
            "flex_flow": null,
            "width": null,
            "min_width": null,
            "border": null,
            "align_items": null,
            "bottom": null,
            "_model_module": "@jupyter-widgets/base",
            "top": null,
            "grid_column": null,
            "overflow_y": null,
            "overflow_x": null,
            "grid_auto_flow": null,
            "grid_area": null,
            "grid_template_columns": null,
            "flex": null,
            "_model_name": "LayoutModel",
            "justify_items": null,
            "grid_row": null,
            "max_height": null,
            "align_content": null,
            "visibility": null,
            "align_self": null,
            "height": null,
            "min_height": null,
            "padding": null,
            "grid_auto_rows": null,
            "grid_gap": null,
            "max_width": null,
            "order": null,
            "_view_module_version": "1.2.0",
            "grid_template_areas": null,
            "object_position": null,
            "object_fit": null,
            "grid_auto_columns": null,
            "margin": null,
            "display": null,
            "left": null
          }
        },
        "9006b2246ac5488ebe234319fe40595f": {
          "model_module": "@jupyter-widgets/controls",
          "model_name": "HTMLModel",
          "model_module_version": "1.5.0",
          "state": {
            "_view_name": "HTMLView",
            "style": "IPY_MODEL_b552349cb6fb4e2daf3e8e32dff7c672",
            "_dom_classes": [],
            "description": "",
            "_model_name": "HTMLModel",
            "placeholder": "​",
            "_view_module": "@jupyter-widgets/controls",
            "_model_module_version": "1.5.0",
            "value": "100%",
            "_view_count": null,
            "_view_module_version": "1.5.0",
            "description_tooltip": null,
            "_model_module": "@jupyter-widgets/controls",
            "layout": "IPY_MODEL_02a8de2764834fb4a60d516e3759b95d"
          }
        },
        "0d601ed24cee4c158c1f68e09ddeeea2": {
          "model_module": "@jupyter-widgets/controls",
          "model_name": "FloatProgressModel",
          "model_module_version": "1.5.0",
          "state": {
            "_view_name": "ProgressView",
            "style": "IPY_MODEL_76c1d8ebfdd0439bb87dbec8e6cb9517",
            "_dom_classes": [],
            "description": "",
            "_model_name": "FloatProgressModel",
            "bar_style": "success",
            "max": 244408911,
            "_view_module": "@jupyter-widgets/controls",
            "_model_module_version": "1.5.0",
            "value": 244408911,
            "_view_count": null,
            "_view_module_version": "1.5.0",
            "orientation": "horizontal",
            "min": 0,
            "description_tooltip": null,
            "_model_module": "@jupyter-widgets/controls",
            "layout": "IPY_MODEL_c4de1eef22914721a4be55f50313a4e5"
          }
        },
        "526607d893884bbabd074659f12ee877": {
          "model_module": "@jupyter-widgets/controls",
          "model_name": "HTMLModel",
          "model_module_version": "1.5.0",
          "state": {
            "_view_name": "HTMLView",
            "style": "IPY_MODEL_c220c49b29e7489fbe307072f64c9b17",
            "_dom_classes": [],
            "description": "",
            "_model_name": "HTMLModel",
            "placeholder": "​",
            "_view_module": "@jupyter-widgets/controls",
            "_model_module_version": "1.5.0",
            "value": " 233M/233M [00:01&lt;00:00, 209MB/s]",
            "_view_count": null,
            "_view_module_version": "1.5.0",
            "description_tooltip": null,
            "_model_module": "@jupyter-widgets/controls",
            "layout": "IPY_MODEL_4174723ee72a46969c11383c6cbefd1a"
          }
        },
        "b552349cb6fb4e2daf3e8e32dff7c672": {
          "model_module": "@jupyter-widgets/controls",
          "model_name": "DescriptionStyleModel",
          "model_module_version": "1.5.0",
          "state": {
            "_view_name": "StyleView",
            "_model_name": "DescriptionStyleModel",
            "description_width": "",
            "_view_module": "@jupyter-widgets/base",
            "_model_module_version": "1.5.0",
            "_view_count": null,
            "_view_module_version": "1.2.0",
            "_model_module": "@jupyter-widgets/controls"
          }
        },
        "02a8de2764834fb4a60d516e3759b95d": {
          "model_module": "@jupyter-widgets/base",
          "model_name": "LayoutModel",
          "model_module_version": "1.2.0",
          "state": {
            "_view_name": "LayoutView",
            "grid_template_rows": null,
            "right": null,
            "justify_content": null,
            "_view_module": "@jupyter-widgets/base",
            "overflow": null,
            "_model_module_version": "1.2.0",
            "_view_count": null,
            "flex_flow": null,
            "width": null,
            "min_width": null,
            "border": null,
            "align_items": null,
            "bottom": null,
            "_model_module": "@jupyter-widgets/base",
            "top": null,
            "grid_column": null,
            "overflow_y": null,
            "overflow_x": null,
            "grid_auto_flow": null,
            "grid_area": null,
            "grid_template_columns": null,
            "flex": null,
            "_model_name": "LayoutModel",
            "justify_items": null,
            "grid_row": null,
            "max_height": null,
            "align_content": null,
            "visibility": null,
            "align_self": null,
            "height": null,
            "min_height": null,
            "padding": null,
            "grid_auto_rows": null,
            "grid_gap": null,
            "max_width": null,
            "order": null,
            "_view_module_version": "1.2.0",
            "grid_template_areas": null,
            "object_position": null,
            "object_fit": null,
            "grid_auto_columns": null,
            "margin": null,
            "display": null,
            "left": null
          }
        },
        "76c1d8ebfdd0439bb87dbec8e6cb9517": {
          "model_module": "@jupyter-widgets/controls",
          "model_name": "ProgressStyleModel",
          "model_module_version": "1.5.0",
          "state": {
            "_view_name": "StyleView",
            "_model_name": "ProgressStyleModel",
            "description_width": "",
            "_view_module": "@jupyter-widgets/base",
            "_model_module_version": "1.5.0",
            "_view_count": null,
            "_view_module_version": "1.2.0",
            "bar_color": null,
            "_model_module": "@jupyter-widgets/controls"
          }
        },
        "c4de1eef22914721a4be55f50313a4e5": {
          "model_module": "@jupyter-widgets/base",
          "model_name": "LayoutModel",
          "model_module_version": "1.2.0",
          "state": {
            "_view_name": "LayoutView",
            "grid_template_rows": null,
            "right": null,
            "justify_content": null,
            "_view_module": "@jupyter-widgets/base",
            "overflow": null,
            "_model_module_version": "1.2.0",
            "_view_count": null,
            "flex_flow": null,
            "width": null,
            "min_width": null,
            "border": null,
            "align_items": null,
            "bottom": null,
            "_model_module": "@jupyter-widgets/base",
            "top": null,
            "grid_column": null,
            "overflow_y": null,
            "overflow_x": null,
            "grid_auto_flow": null,
            "grid_area": null,
            "grid_template_columns": null,
            "flex": null,
            "_model_name": "LayoutModel",
            "justify_items": null,
            "grid_row": null,
            "max_height": null,
            "align_content": null,
            "visibility": null,
            "align_self": null,
            "height": null,
            "min_height": null,
            "padding": null,
            "grid_auto_rows": null,
            "grid_gap": null,
            "max_width": null,
            "order": null,
            "_view_module_version": "1.2.0",
            "grid_template_areas": null,
            "object_position": null,
            "object_fit": null,
            "grid_auto_columns": null,
            "margin": null,
            "display": null,
            "left": null
          }
        },
        "c220c49b29e7489fbe307072f64c9b17": {
          "model_module": "@jupyter-widgets/controls",
          "model_name": "DescriptionStyleModel",
          "model_module_version": "1.5.0",
          "state": {
            "_view_name": "StyleView",
            "_model_name": "DescriptionStyleModel",
            "description_width": "",
            "_view_module": "@jupyter-widgets/base",
            "_model_module_version": "1.5.0",
            "_view_count": null,
            "_view_module_version": "1.2.0",
            "_model_module": "@jupyter-widgets/controls"
          }
        },
        "4174723ee72a46969c11383c6cbefd1a": {
          "model_module": "@jupyter-widgets/base",
          "model_name": "LayoutModel",
          "model_module_version": "1.2.0",
          "state": {
            "_view_name": "LayoutView",
            "grid_template_rows": null,
            "right": null,
            "justify_content": null,
            "_view_module": "@jupyter-widgets/base",
            "overflow": null,
            "_model_module_version": "1.2.0",
            "_view_count": null,
            "flex_flow": null,
            "width": null,
            "min_width": null,
            "border": null,
            "align_items": null,
            "bottom": null,
            "_model_module": "@jupyter-widgets/base",
            "top": null,
            "grid_column": null,
            "overflow_y": null,
            "overflow_x": null,
            "grid_auto_flow": null,
            "grid_area": null,
            "grid_template_columns": null,
            "flex": null,
            "_model_name": "LayoutModel",
            "justify_items": null,
            "grid_row": null,
            "max_height": null,
            "align_content": null,
            "visibility": null,
            "align_self": null,
            "height": null,
            "min_height": null,
            "padding": null,
            "grid_auto_rows": null,
            "grid_gap": null,
            "max_width": null,
            "order": null,
            "_view_module_version": "1.2.0",
            "grid_template_areas": null,
            "object_position": null,
            "object_fit": null,
            "grid_auto_columns": null,
            "margin": null,
            "display": null,
            "left": null
          }
        }
      }
    }
  },
  "nbformat": 4,
  "nbformat_minor": 5
}