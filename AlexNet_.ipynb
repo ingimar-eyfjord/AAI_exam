{
 "cells": [
  {
   "cell_type": "markdown",
   "metadata": {
    "colab_type": "text",
    "id": "view-in-github"
   },
   "source": [
    "<a href=\"https://colab.research.google.com/github/ingimar-eyfjord/AAI_exam/blob/main/AlexNet_.ipynb\" target=\"_parent\"><img src=\"https://colab.research.google.com/assets/colab-badge.svg\" alt=\"Open In Colab\"/></a>"
   ]
  },
  {
   "cell_type": "code",
   "execution_count": null,
   "metadata": {
    "id": "Pco_nKqUZVye"
   },
   "outputs": [],
   "source": [
    "import torch\n",
    "import torchvision\n",
    "import numpy as np\n",
    "import matplotlib.pyplot as plt\n",
    "import torch.nn as nn\n",
    "import torch.nn.functional as F\n",
    "from torch import cuda\n",
    "from torchvision.transforms import ToTensor\n",
    "from torchvision.utils import make_grid\n",
    "from torch.utils.data.dataloader import DataLoader\n",
    "from torch.utils.data import random_split\n",
    "import torchvision.transforms as transforms\n",
    "import pandas as pd\n",
    "%matplotlib inline\n",
    "\n",
    "import warnings\n",
    "warnings.filterwarnings(\"ignore\")\n",
    "\n",
    "train_on_gpu = cuda.is_available()"
   ]
  },
  {
   "cell_type": "code",
   "execution_count": null,
   "metadata": {
    "id": "FU2qzK5FZkD4"
   },
   "outputs": [],
   "source": [
    "transform = transforms.Compose([\n",
    "    # transforms.RandomResizedCrop(size=256, scale=(0.8, 1.0)),\n",
    "    # transforms.RandomRotation(degrees=15),\n",
    "    # transforms.ColorJitter(),\n",
    "    # transforms.RandomHorizontalFlip(),\n",
    "    transforms.Resize(size=256),\n",
    "    transforms.CenterCrop(size=224),  # Image net standards\n",
    "    transforms.ToTensor(),\n",
    "#     transforms.Normalize([0.485, 0.456, 0.406],\n",
    "#                              [0.229, 0.224, 0.225])  # Imagenet standards\n",
    "    transforms.Normalize((0.5, 0.5, 0.5), (0.5, 0.5, 0.5)),\n",
    "])"
   ]
  },
  {
   "cell_type": "code",
   "execution_count": null,
   "metadata": {
    "id": "JTQTG7L9ZkMu"
   },
   "outputs": [],
   "source": [
    "valid_transform = transforms.Compose([\n",
    "        transforms.Resize(size=256),\n",
    "        transforms.CenterCrop(size=224),\n",
    "        transforms.ToTensor(),\n",
    "#         transforms.Normalize([0.485, 0.456, 0.406], [0.229, 0.224, 0.225])\n",
    "        transforms.Normalize((0.5, 0.5, 0.5), (0.5, 0.5, 0.5)),\n",
    "    ])"
   ]
  },
  {
   "cell_type": "code",
   "execution_count": null,
   "metadata": {
    "colab": {
     "base_uri": "https://localhost:8080/",
     "height": 136,
     "referenced_widgets": [
      "8cfda632900a4691afb05a12c4669ed3",
      "36fc6e5c3aa64d348e3e5a0857371a19",
      "4f0e98e6dd2544d080d8cb03ce4c1352",
      "f78d93d1324840748640126eb2c1ca8e",
      "8aa42e2706344a7189f4b24fc3285492",
      "c4b0635812b94a0d9ff6edc408d5d1b7",
      "d67d5339875b46e785e13854be814bd4",
      "b47323e213ce40db89739dd0bbb8b003",
      "1a056831aa68414f887d88368a25884c",
      "f93ddb6648f242678635199f0071dcfa",
      "f1b793000fad4656a2c8163e5f3bf4c1"
     ]
    },
    "id": "M8Ebb-4oZkPz",
    "outputId": "f57931da-78a5-4688-c23e-3b66140e47cd"
   },
   "outputs": [
    {
     "name": "stdout",
     "output_type": "stream",
     "text": [
      "Downloading https://www.cs.toronto.edu/~kriz/cifar-10-python.tar.gz to datasets/cifar-10-python.tar.gz\n"
     ]
    },
    {
     "data": {
      "application/vnd.jupyter.widget-view+json": {
       "model_id": "8cfda632900a4691afb05a12c4669ed3",
       "version_major": 2,
       "version_minor": 0
      },
      "text/plain": [
       "  0%|          | 0/170498071 [00:00<?, ?it/s]"
      ]
     },
     "metadata": {},
     "output_type": "display_data"
    },
    {
     "name": "stdout",
     "output_type": "stream",
     "text": [
      "Extracting datasets/cifar-10-python.tar.gz to datasets/\n",
      "Files already downloaded and verified\n",
      "Files already downloaded and verified\n",
      "Files already downloaded and verified\n"
     ]
    }
   ],
   "source": [
    "dataset = torchvision.datasets.CIFAR10(root='datasets/', download=True, transform=ToTensor())\n",
    "\n",
    "train_set = torchvision.datasets.CIFAR10('./datasets', train=True,\n",
    "                                         download=True, transform=transform)\n",
    "test_set = torchvision.datasets.CIFAR10('./datasets', train=False,\n",
    "                                        download=True, transform=transform)\n",
    "\n",
    "validation_set = torchvision.datasets.CIFAR10('./datasets', train=False,\n",
    "                                        download=True, transform=valid_transform)\n",
    "\n",
    "train_loader = torch.utils.data.DataLoader(train_set, batch_size=64,\n",
    "                                           shuffle=True, num_workers=4)\n",
    "test_loader = torch.utils.data.DataLoader(test_set, batch_size=64,\n",
    "                                          shuffle=False, num_workers=4)\n",
    "\n",
    "validation_loader = torch.utils.data.DataLoader(validation_set, batch_size=64,\n",
    "                                          shuffle=False, num_workers=4)"
   ]
  },
  {
   "cell_type": "code",
   "execution_count": null,
   "metadata": {
    "colab": {
     "base_uri": "https://localhost:8080/"
    },
    "id": "UNtprqcyZkSn",
    "outputId": "180b8f81-8447-46c3-c2eb-a0efb8d925bf"
   },
   "outputs": [
    {
     "data": {
      "text/plain": [
       "(torch.Size([64, 3, 224, 224]), torch.Size([64]))"
      ]
     },
     "execution_count": 5,
     "metadata": {},
     "output_type": "execute_result"
    }
   ],
   "source": [
    "# Iterate through the dataloader once\n",
    "trainiter = iter(train_loader)\n",
    "features, labels = next(trainiter)\n",
    "features.shape, labels.shape"
   ]
  },
  {
   "cell_type": "code",
   "execution_count": null,
   "metadata": {
    "colab": {
     "base_uri": "https://localhost:8080/"
    },
    "id": "FIem3FpeZkVW",
    "outputId": "3a16ce1f-a67d-4da5-ec82-d7bec0026e70"
   },
   "outputs": [
    {
     "name": "stdout",
     "output_type": "stream",
     "text": [
      "Training dataset size 50000\n",
      "Testing datasets size 10000\n",
      "Dataset CIFAR10\n",
      "    Number of datapoints: 50000\n",
      "    Root location: datasets/\n",
      "    Split: Train\n",
      "    StandardTransform\n",
      "Transform: ToTensor()\n"
     ]
    }
   ],
   "source": [
    "dataset_size = len(train_set)\n",
    "test_dataset_size = len(test_set)\n",
    "\n",
    "print(\"Training dataset size\", dataset_size)\n",
    "print(\"Testing datasets size\", test_dataset_size)\n",
    "\n",
    "print(dataset)"
   ]
  },
  {
   "cell_type": "code",
   "execution_count": null,
   "metadata": {
    "colab": {
     "base_uri": "https://localhost:8080/"
    },
    "id": "Sv_ghVoOZkYE",
    "outputId": "49aabd70-4647-4645-e686-ef8526c73835"
   },
   "outputs": [
    {
     "data": {
      "text/plain": [
       "['airplane',\n",
       " 'automobile',\n",
       " 'bird',\n",
       " 'cat',\n",
       " 'deer',\n",
       " 'dog',\n",
       " 'frog',\n",
       " 'horse',\n",
       " 'ship',\n",
       " 'truck']"
      ]
     },
     "execution_count": 7,
     "metadata": {},
     "output_type": "execute_result"
    }
   ],
   "source": [
    "classes = dataset.classes\n",
    "classes"
   ]
  },
  {
   "cell_type": "code",
   "execution_count": null,
   "metadata": {
    "colab": {
     "base_uri": "https://localhost:8080/"
    },
    "id": "cJOQjqzMZkaY",
    "outputId": "e3a12578-15bd-45b1-e601-32bc4b4cdf2d"
   },
   "outputs": [
    {
     "name": "stdout",
     "output_type": "stream",
     "text": [
      "<class 'torch.Tensor'>\n"
     ]
    }
   ],
   "source": [
    "print(type(train_set[0][0][0][0]))"
   ]
  },
  {
   "cell_type": "code",
   "execution_count": null,
   "metadata": {
    "colab": {
     "base_uri": "https://localhost:8080/",
     "height": 269
    },
    "id": "9NxpOrAuZkc7",
    "outputId": "af148b59-6591-4241-cc34-e34a0af56e7e"
   },
   "outputs": [
    {
     "data": {
      "image/png": "[encoded data removed]",
      "text/plain": [
       "<Figure size 432x288 with 1 Axes>"
      ]
     },
     "metadata": {
      "needs_background": "light"
     },
     "output_type": "display_data"
    }
   ],
   "source": [
    "import matplotlib.pyplot as plt\n",
    "import numpy as np\n",
    "\n",
    "def imshow(img):\n",
    "    img = img / 2 + 0.5\n",
    "    plt.imshow(np.transpose(img.numpy(), (1, 2, 0)))\n",
    "    plt.show()\n",
    "    \n",
    "image_iter = iter(train_loader)\n",
    "images, _ = image_iter.next()\n",
    "imshow(torchvision.utils.make_grid(images[:1], nrow=1))"
   ]
  },
  {
   "cell_type": "code",
   "execution_count": null,
   "metadata": {
    "colab": {
     "base_uri": "https://localhost:8080/",
     "height": 243
    },
    "id": "LVk3BRAgZkhu",
    "outputId": "d3f704b1-28d9-4254-899e-e7bf09420f6e"
   },
   "outputs": [
    {
     "data": {
      "image/png": "[encoded data removed]",
      "text/plain": [
       "<Figure size 432x288 with 1 Axes>"
      ]
     },
     "metadata": {
      "needs_background": "light"
     },
     "output_type": "display_data"
    }
   ],
   "source": [
    "import matplotlib.pyplot as plt\n",
    "import numpy as np\n",
    "\n",
    "def imshow(img):\n",
    "    img = img / 2 + 0.5\n",
    "    plt.imshow(np.transpose(img.numpy(), (1, 2, 0)))\n",
    "    plt.show()\n",
    "    \n",
    "image_iter = iter(train_loader)\n",
    "images, _ = image_iter.next()\n",
    "imshow(torchvision.utils.make_grid(images[:28], nrow=7))"
   ]
  },
  {
   "cell_type": "code",
   "execution_count": null,
   "metadata": {
    "colab": {
     "base_uri": "https://localhost:8080/",
     "height": 66,
     "referenced_widgets": [
      "d6ea3d6b97a440dd9c1a956a40ecfc15",
      "4eb57b6a001c4b129d984a496630eddd",
      "9b8354beed46438786f690008134b01b",
      "215ab3d0e5734b208906612b6e3e4b76",
      "65ccc05fc3624efdbfb27041c6a5d0cb",
      "613933d75da84b01b57a9a11c3be7927",
      "0af2ecde38fa44df8facfca2e04092d3",
      "ff0888476a8e45df9b49e180858aa42a",
      "3b956c961bc642dd9e2b0956dc37e737",
      "1f155c8d8fd447abb7f9179304a2c8e6",
      "e104df404dfa43e7824e9163417c6c3e"
     ]
    },
    "id": "He6P1FkcZkkH",
    "outputId": "9461f1c7-0b6f-45b8-989e-92462ca087aa"
   },
   "outputs": [
    {
     "name": "stderr",
     "output_type": "stream",
     "text": [
      "Downloading: \"https://download.pytorch.org/models/alexnet-owt-7be5be79.pth\" to /root/.cache/torch/hub/checkpoints/alexnet-owt-7be5be79.pth\n"
     ]
    },
    {
     "data": {
      "application/vnd.jupyter.widget-view+json": {
       "model_id": "d6ea3d6b97a440dd9c1a956a40ecfc15",
       "version_major": 2,
       "version_minor": 0
      },
      "text/plain": [
       "  0%|          | 0.00/233M [00:00<?, ?B/s]"
      ]
     },
     "metadata": {},
     "output_type": "display_data"
    }
   ],
   "source": [
    "from torchvision import models\n",
    "model = models.alexnet(pretrained=True)"
   ]
  },
  {
   "cell_type": "code",
   "execution_count": null,
   "metadata": {
    "id": "uk3GczDKZkmt"
   },
   "outputs": [],
   "source": [
    "# Freeze model weights\n",
    "# for param in model.parameters():\n",
    "#     param.requires_grad = False"
   ]
  },
  {
   "cell_type": "code",
   "execution_count": null,
   "metadata": {
    "colab": {
     "base_uri": "https://localhost:8080/"
    },
    "id": "Brzw7NAFZus1",
    "outputId": "da28d490-026b-4fe6-b9c3-f852d69bfdab"
   },
   "outputs": [
    {
     "data": {
      "text/plain": [
       "AlexNet(\n",
       "  (features): Sequential(\n",
       "    (0): Conv2d(3, 64, kernel_size=(11, 11), stride=(4, 4), padding=(2, 2))\n",
       "    (1): ReLU(inplace=True)\n",
       "    (2): MaxPool2d(kernel_size=3, stride=2, padding=0, dilation=1, ceil_mode=False)\n",
       "    (3): Conv2d(64, 192, kernel_size=(5, 5), stride=(1, 1), padding=(2, 2))\n",
       "    (4): ReLU(inplace=True)\n",
       "    (5): MaxPool2d(kernel_size=3, stride=2, padding=0, dilation=1, ceil_mode=False)\n",
       "    (6): Conv2d(192, 384, kernel_size=(3, 3), stride=(1, 1), padding=(1, 1))\n",
       "    (7): ReLU(inplace=True)\n",
       "    (8): Conv2d(384, 256, kernel_size=(3, 3), stride=(1, 1), padding=(1, 1))\n",
       "    (9): ReLU(inplace=True)\n",
       "    (10): Conv2d(256, 256, kernel_size=(3, 3), stride=(1, 1), padding=(1, 1))\n",
       "    (11): ReLU(inplace=True)\n",
       "    (12): MaxPool2d(kernel_size=3, stride=2, padding=0, dilation=1, ceil_mode=False)\n",
       "  )\n",
       "  (avgpool): AdaptiveAvgPool2d(output_size=(6, 6))\n",
       "  (classifier): Sequential(\n",
       "    (0): Dropout(p=0.5, inplace=False)\n",
       "    (1): Linear(in_features=9216, out_features=4096, bias=True)\n",
       "    (2): ReLU(inplace=True)\n",
       "    (3): Dropout(p=0.5, inplace=False)\n",
       "    (4): Linear(in_features=4096, out_features=4096, bias=True)\n",
       "    (5): ReLU(inplace=True)\n",
       "    (6): Linear(in_features=4096, out_features=1000, bias=True)\n",
       "  )\n",
       ")"
      ]
     },
     "execution_count": 13,
     "metadata": {},
     "output_type": "execute_result"
    }
   ],
   "source": [
    "# print(model.classifier)\n",
    "model.eval()"
   ]
  },
  {
   "cell_type": "code",
   "execution_count": null,
   "metadata": {
    "id": "C-NAppvyZuvU"
   },
   "outputs": [],
   "source": [
    "import torch.nn as nn\n",
    "# We need to change the classifiers to fit to the cifar 10 dataset\n",
    "model.classifier[4] = nn.Linear(4096,1024)\n",
    "model.classifier[6] = nn.Linear(1024,10)\n",
    "\n",
    "#  since the Alexnet has 1000 nodesat the output layer this must be changed to 10 i.e. the number of classes we have\n",
    "# model.classifier[6] = nn.Sequential(\n",
    "#                       nn.Linear(256*4*4, 1024), \n",
    "#                       nn.ReLU(), \n",
    "#                       nn.Dropout(0.4),\n",
    "#                       nn.Linear(1024, 512),                   \n",
    "#                       nn.LogSoftmax(dim=1))\n",
    "\n",
    "# model.classifier[6] = nn.Sequential(\n",
    "#                       nn.Flatten(), \n",
    "#                       nn.Linear(256*4*4, 1024),\n",
    "#                       nn.ReLU(), \n",
    "#                       nn.Dropout(0.4),\n",
    "#                       nn.Linear(1024, 512),\n",
    "#                       nn.ReLU(),\n",
    "#                       nn.Linear(512, 10),\n",
    "#                       nn.LogSoftmax(dim=1))\n",
    "# Add on classifier\n",
    "# model.classifier[6] = nn.Sequential(\n",
    "#             nn.Flatten(), \n",
    "#             nn.Linear(256*4*4, 1024),\n",
    "#             nn.ReLU(),\n",
    "#             nn.Linear(1024, 512),\n",
    "#             nn.ReLU(),\n",
    "#             nn.Linear(512, 10))"
   ]
  },
  {
   "cell_type": "code",
   "execution_count": null,
   "metadata": {
    "colab": {
     "base_uri": "https://localhost:8080/"
    },
    "id": "zpFrtLXKZux6",
    "outputId": "c20be5a4-27aa-426f-8ab0-847d3d0ea8d8"
   },
   "outputs": [
    {
     "data": {
      "text/plain": [
       "AlexNet(\n",
       "  (features): Sequential(\n",
       "    (0): Conv2d(3, 64, kernel_size=(11, 11), stride=(4, 4), padding=(2, 2))\n",
       "    (1): ReLU(inplace=True)\n",
       "    (2): MaxPool2d(kernel_size=3, stride=2, padding=0, dilation=1, ceil_mode=False)\n",
       "    (3): Conv2d(64, 192, kernel_size=(5, 5), stride=(1, 1), padding=(2, 2))\n",
       "    (4): ReLU(inplace=True)\n",
       "    (5): MaxPool2d(kernel_size=3, stride=2, padding=0, dilation=1, ceil_mode=False)\n",
       "    (6): Conv2d(192, 384, kernel_size=(3, 3), stride=(1, 1), padding=(1, 1))\n",
       "    (7): ReLU(inplace=True)\n",
       "    (8): Conv2d(384, 256, kernel_size=(3, 3), stride=(1, 1), padding=(1, 1))\n",
       "    (9): ReLU(inplace=True)\n",
       "    (10): Conv2d(256, 256, kernel_size=(3, 3), stride=(1, 1), padding=(1, 1))\n",
       "    (11): ReLU(inplace=True)\n",
       "    (12): MaxPool2d(kernel_size=3, stride=2, padding=0, dilation=1, ceil_mode=False)\n",
       "  )\n",
       "  (avgpool): AdaptiveAvgPool2d(output_size=(6, 6))\n",
       "  (classifier): Sequential(\n",
       "    (0): Dropout(p=0.5, inplace=False)\n",
       "    (1): Linear(in_features=9216, out_features=4096, bias=True)\n",
       "    (2): ReLU(inplace=True)\n",
       "    (3): Dropout(p=0.5, inplace=False)\n",
       "    (4): Linear(in_features=4096, out_features=1024, bias=True)\n",
       "    (5): ReLU(inplace=True)\n",
       "    (6): Linear(in_features=1024, out_features=10, bias=True)\n",
       "  )\n",
       ")"
      ]
     },
     "execution_count": 15,
     "metadata": {},
     "output_type": "execute_result"
    }
   ],
   "source": [
    "# print(model.classifier)\n",
    "model.eval()"
   ]
  },
  {
   "cell_type": "code",
   "execution_count": null,
   "metadata": {
    "colab": {
     "base_uri": "https://localhost:8080/"
    },
    "id": "uoeTE_g9Zu0R",
    "outputId": "512951a6-42ae-4df7-d15a-5cdbe9cf86e3"
   },
   "outputs": [
    {
     "name": "stdout",
     "output_type": "stream",
     "text": [
      "44,428,106 total parameters.\n",
      "44,428,106 training parameters.\n"
     ]
    }
   ],
   "source": [
    "total_params = sum(p.numel() for p in model.parameters())\n",
    "print(f'{total_params:,} total parameters.')\n",
    "total_trainable_params = sum(\n",
    "    p.numel() for p in model.parameters() if p.requires_grad)\n",
    "print(f'{total_trainable_params:,} training parameters.')"
   ]
  },
  {
   "cell_type": "code",
   "execution_count": null,
   "metadata": {
    "id": "LXrl_u3pZu21"
   },
   "outputs": [],
   "source": [
    "def get_default_device():\n",
    "    \"\"\"Pick GPU if available, else CPU\"\"\"\n",
    "    if torch.cuda.is_available():\n",
    "        gpu_count = cuda.device_count()\n",
    "        print(f'Model will run on GPU, {gpu_count} gpus detected.')\n",
    "        if gpu_count > 1:\n",
    "            multi_gpu = True\n",
    "        else:\n",
    "            multi_gpu = False\n",
    "        return torch.device('cuda')\n",
    "    else:\n",
    "        print(\"Model will run on, CPU\")\n",
    "        return torch.device('cpu')"
   ]
  },
  {
   "cell_type": "code",
   "execution_count": null,
   "metadata": {
    "colab": {
     "base_uri": "https://localhost:8080/"
    },
    "id": "O5tvwSbHZu5J",
    "outputId": "c9430055-8d48-455e-ab83-73c91d2f4bc4"
   },
   "outputs": [
    {
     "name": "stdout",
     "output_type": "stream",
     "text": [
      "Model will run on GPU, 1 gpus detected.\n"
     ]
    },
    {
     "data": {
      "text/plain": [
       "device(type='cuda')"
      ]
     },
     "execution_count": 18,
     "metadata": {},
     "output_type": "execute_result"
    }
   ],
   "source": [
    "device = get_default_device()\n",
    "device"
   ]
  },
  {
   "cell_type": "code",
   "execution_count": null,
   "metadata": {
    "id": "IBZxzUokZu7W"
   },
   "outputs": [],
   "source": [
    "# Move to gpu\n",
    "model = model.to('cuda')\n",
    "# Distribute across 2 gpus\n",
    "# model = nn.DataParallel(model)"
   ]
  },
  {
   "cell_type": "code",
   "execution_count": null,
   "metadata": {
    "id": "EhSvJzCXZu9-"
   },
   "outputs": [],
   "source": [
    "from torch import optim\n",
    "\n",
    "# Loss and optimizer\n",
    "criterion = nn.CrossEntropyLoss()\n",
    "# criterion = nn.NLLLoss()\n",
    "optimizer = optim.SGD(model.parameters(), lr=0.001, momentum=0.9)"
   ]
  },
  {
   "cell_type": "code",
   "execution_count": null,
   "metadata": {
    "colab": {
     "base_uri": "https://localhost:8080/"
    },
    "id": "YFzKgE48t7CL",
    "outputId": "df43929d-6303-45c0-b783-6d3573422f55"
   },
   "outputs": [
    {
     "name": "stdout",
     "output_type": "stream",
     "text": [
      "Finished Training of AlexNet\n"
     ]
    }
   ],
   "source": [
    "for epoch in range(10):  # loop over the dataset multiple times\n",
    "    running_loss = 0.0\n",
    "    for i, data in enumerate(train_loader, 0):\n",
    "        # get the inputs; data is a list of [inputs, labels]\n",
    "        inputs, labels = data[0].to(device), data[1].to(device)\n",
    "\n",
    "        # zero the parameter gradients\n",
    "        optimizer.zero_grad()\n",
    "\n",
    "        # forward + backward + optimize\n",
    "        output = model(inputs)\n",
    "        loss = criterion(output, labels)\n",
    "        loss.backward()\n",
    "        optimizer.step()\n",
    "\n",
    "        # print statistics\n",
    "        running_loss += loss.item()\n",
    "        if i % 2000 == 1999:    # print every 2000 mini-batches\n",
    "            print('[%d, %5d] loss: %.3f' %\n",
    "                  (epoch + 1, i + 1, running_loss / 2000))\n",
    "            running_loss = 0.0\n",
    "\n",
    "print('Finished Training of AlexNet')"
   ]
  },
  {
   "cell_type": "code",
   "execution_count": null,
   "metadata": {
    "id": "2lw8KLCFZvAQ"
   },
   "outputs": [],
   "source": [
    "# for p in optimizer.param_groups[0]['params']:\n",
    "#     if p.requires_grad:\n",
    "#         print(p.shape)"
   ]
  },
  {
   "cell_type": "code",
   "execution_count": null,
   "metadata": {
    "id": "hp7fkGHCZvCn"
   },
   "outputs": [],
   "source": [
    "# # Timing utility\n",
    "# from timeit import default_timer as timer\n",
    "# def train(model,\n",
    "#           criterion,\n",
    "#           optimizer,\n",
    "#           train_loader,\n",
    "#           valid_loader,\n",
    "#           save_file_name,\n",
    "#           max_epochs_stop=3,\n",
    "#           n_epochs=10,\n",
    "#           print_every=1):\n",
    "#     \"\"\"Train a PyTorch Model\n",
    "\n",
    "#     Params\n",
    "#     --------\n",
    "#         model (PyTorch model): cnn to train\n",
    "#         criterion (PyTorch loss): objective to minimize\n",
    "#         optimizer (PyTorch optimizier): optimizer to compute gradients of model parameters\n",
    "#         train_loader (PyTorch dataloader): training dataloader to iterate through\n",
    "#         valid_loader (PyTorch dataloader): validation dataloader used for early stopping\n",
    "#         save_file_name (str ending in '.pt'): file path to save the model state dict\n",
    "#         max_epochs_stop (int): maximum number of epochs with no improvement in validation loss for early stopping\n",
    "#         n_epochs (int): maximum number of training epochs\n",
    "#         print_every (int): frequency of epochs to print training stats\n",
    "\n",
    "#     Returns\n",
    "#     --------\n",
    "#         model (PyTorch model): trained cnn with best weights\n",
    "#         history (DataFrame): history of train and validation loss and accuracy\n",
    "#     \"\"\"\n",
    "\n",
    "#     # Early stopping intialization\n",
    "#     epochs_no_improve = 0\n",
    "#     valid_loss_min = np.Inf\n",
    "\n",
    "#     valid_max_acc = 0\n",
    "#     history = []\n",
    "\n",
    "#     # Number of epochs already trained (if using loaded in model weights)\n",
    "#     try:\n",
    "#         print(f'Model has been trained for: {model.epochs} epochs.\\n')\n",
    "#     except:\n",
    "#         model.epochs = 0\n",
    "#         print(f'Starting Training from Scratch.\\n')\n",
    "\n",
    "#     overall_start = timer()\n",
    "\n",
    "#     # Main loop\n",
    "#     for epoch in range(n_epochs):\n",
    "\n",
    "#         # keep track of training and validation loss each epoch\n",
    "#         train_loss = 0.0\n",
    "#         valid_loss = 0.0\n",
    "\n",
    "#         train_acc = 0\n",
    "#         valid_acc = 0\n",
    "\n",
    "#         # Set to training\n",
    "#         model.train()\n",
    "#         start = timer()\n",
    "\n",
    "#         # Training loop\n",
    "#         for ii, (data, target) in enumerate(train_loader):\n",
    "#             # Tensors to gpu\n",
    "#             if train_on_gpu:\n",
    "#                 data, target = data.cuda(), target.cuda()\n",
    "\n",
    "#             # Clear gradients\n",
    "#             optimizer.zero_grad()\n",
    "#             # Predicted outputs are log probabilities\n",
    "#             output = model(data)\n",
    "\n",
    "#             # Loss and backpropagation of gradients\n",
    "#             loss = criterion(output, target)\n",
    "#             loss.backward()\n",
    "\n",
    "#             # Update the parameters\n",
    "#             optimizer.step()\n",
    "\n",
    "#             # Track train loss by multiplying average loss by number of examples in batch\n",
    "#             train_loss += loss.item() * data.size(0)\n",
    "\n",
    "#             # Calculate accuracy by finding max log probability\n",
    "#             _, pred = torch.max(output, dim=1)\n",
    "#             correct_tensor = pred.eq(target.data.view_as(pred))\n",
    "#             # Need to convert correct tensor from int to float to average\n",
    "#             accuracy = torch.mean(correct_tensor.type(torch.FloatTensor))\n",
    "#             # Multiply average accuracy times the number of examples in batch\n",
    "#             train_acc += accuracy.item() * data.size(0)\n",
    "\n",
    "#             # Track training progress\n",
    "#             print(\n",
    "#                 f'Epoch: {epoch}\\t{100 * (ii + 1) / len(train_loader):.2f}% complete. {timer() - start:.2f} seconds elapsed in epoch.',\n",
    "#                 end='\\r')\n",
    "\n",
    "#         # After training loops ends, start validation\n",
    "#         else:\n",
    "#             model.epochs += 1\n",
    "\n",
    "#             # Don't need to keep track of gradients\n",
    "#             with torch.no_grad():\n",
    "#                 # Set to evaluation mode\n",
    "#                 model.eval()\n",
    "\n",
    "#                 # Validation loop\n",
    "#                 for data, target in valid_loader:\n",
    "#                     # Tensors to gpu\n",
    "#                     if train_on_gpu:\n",
    "#                         data, target = data.cuda(), target.cuda()\n",
    "\n",
    "#                     # Forward pass\n",
    "#                     output = model(data)\n",
    "\n",
    "#                     # Validation loss\n",
    "#                     loss = criterion(output, target)\n",
    "#                     # Multiply average loss times the number of examples in batch\n",
    "#                     valid_loss += loss.item() * data.size(0)\n",
    "\n",
    "#                     # Calculate validation accuracy\n",
    "#                     _, pred = torch.max(output, dim=1)\n",
    "#                     correct_tensor = pred.eq(target.data.view_as(pred))\n",
    "#                     accuracy = torch.mean(\n",
    "#                         correct_tensor.type(torch.FloatTensor))\n",
    "#                     # Multiply average accuracy times the number of examples\n",
    "#                     valid_acc += accuracy.item() * data.size(0)\n",
    "\n",
    "#                 # Calculate average losses\n",
    "#                 train_loss = train_loss / len(train_loader.dataset)\n",
    "#                 valid_loss = valid_loss / len(valid_loader.dataset)\n",
    "\n",
    "#                 # Calculate average accuracy\n",
    "#                 train_acc = train_acc / len(train_loader.dataset)\n",
    "#                 valid_acc = valid_acc / len(valid_loader.dataset)\n",
    "\n",
    "#                 history.append([train_loss, valid_loss, train_acc, valid_acc])\n",
    "\n",
    "#                 # Print training and validation results\n",
    "#                 if (epoch + 1) % print_every == 0:\n",
    "#                     print(\n",
    "#                         f'\\nEpoch: {epoch} \\tTraining Loss: {train_loss:.4f} \\tValidation Loss: {valid_loss:.4f}'\n",
    "#                     )\n",
    "#                     print(\n",
    "#                         f'\\t\\tTraining Accuracy: {100 * train_acc:.2f}%\\t Validation Accuracy: {100 * valid_acc:.2f}%'\n",
    "#                     )\n",
    "\n",
    "#                 # Save the model if validation loss decreases\n",
    "#                 if valid_loss < valid_loss_min:\n",
    "#                     # Save model\n",
    "#                     torch.save(model.state_dict(), save_file_name)\n",
    "#                     # Track improvement\n",
    "#                     epochs_no_improve = 0\n",
    "#                     valid_loss_min = valid_loss\n",
    "#                     valid_best_acc = valid_acc\n",
    "#                     best_epoch = epoch\n",
    "\n",
    "#                 # Otherwise increment count of epochs with no improvement\n",
    "#                 else:\n",
    "#                     epochs_no_improve += 1\n",
    "#                     # Trigger early stopping\n",
    "#                     if epochs_no_improve >= max_epochs_stop:\n",
    "#                         print(\n",
    "#                             f'\\nEarly Stopping! Total epochs: {epoch}. Best epoch: {best_epoch} with loss: {valid_loss_min:.2f} and acc: {100 * valid_acc:.2f}%'\n",
    "#                         )\n",
    "#                         total_time = timer() - overall_start\n",
    "#                         print(\n",
    "#                             f'{total_time:.2f} total seconds elapsed. {total_time / (epoch+1):.2f} seconds per epoch.'\n",
    "#                         )\n",
    "\n",
    "#                         # Load the best state dict\n",
    "#                         model.load_state_dict(torch.load(save_file_name))\n",
    "#                         # Attach the optimizer\n",
    "#                         model.optimizer = optimizer\n",
    "\n",
    "#                         # Format history\n",
    "#                         history = pd.DataFrame(\n",
    "#                             history,\n",
    "#                             columns=[\n",
    "#                                 'train_loss', 'valid_loss', 'train_acc',\n",
    "#                                 'valid_acc'\n",
    "#                             ])\n",
    "#                         return model, history\n",
    "\n",
    "#     # Attach the optimizer\n",
    "#     model.optimizer = optimizer\n",
    "#     # Record overall time and print out stats\n",
    "#     total_time = timer() - overall_start\n",
    "#     print(\n",
    "#         f'\\nBest epoch: {best_epoch} with loss: {valid_loss_min:.2f} and acc: {100 * valid_acc:.2f}%'\n",
    "#     )\n",
    "#     print(\n",
    "#         f'{total_time:.2f} total seconds elapsed. {total_time / (epoch):.2f} seconds per epoch.'\n",
    "#     )\n",
    "#     # Format history\n",
    "#     history = pd.DataFrame(\n",
    "#         history,\n",
    "#         columns=['train_loss', 'valid_loss', 'train_acc', 'valid_acc'])\n",
    "#     return model, history"
   ]
  },
  {
   "cell_type": "code",
   "execution_count": null,
   "metadata": {
    "id": "6U2Uh778ZvFN"
   },
   "outputs": [],
   "source": [
    "# save_file_name = 'alexnet.pt'\n",
    "\n",
    "# model, history = train(\n",
    "#     model,\n",
    "#     criterion,\n",
    "#     optimizer,\n",
    "#     train_loader,\n",
    "#     validation_loader,\n",
    "#     save_file_name=save_file_name,\n",
    "#     max_epochs_stop=5,\n",
    "#     n_epochs=10,\n",
    "#     print_every=1)"
   ]
  },
  {
   "cell_type": "code",
   "execution_count": null,
   "metadata": {
    "id": "fv8oIZy7ZvH5"
   },
   "outputs": [],
   "source": [
    "# plt.figure(figsize=(8, 6))\n",
    "# for c in ['train_loss', 'valid_loss']:\n",
    "#     plt.plot(\n",
    "#         history[c], label=c)\n",
    "# plt.legend()\n",
    "# plt.xlabel('Epoch')\n",
    "# plt.ylabel('Average Negative Log Likelihood')\n",
    "# plt.title('Training and Validation Losses')"
   ]
  },
  {
   "cell_type": "code",
   "execution_count": null,
   "metadata": {
    "id": "1H9qnhR7ZvJw"
   },
   "outputs": [],
   "source": [
    "# plt.figure(figsize=(8, 6))\n",
    "# for c in ['train_acc', 'valid_acc']:\n",
    "#     plt.plot(\n",
    "#         100 * history[c], label=c)\n",
    "# plt.legend()\n",
    "# plt.xlabel('Epoch')\n",
    "# plt.ylabel('Average Accuracy')\n",
    "# plt.title('Training and Validation Accuracy')"
   ]
  },
  {
   "cell_type": "code",
   "execution_count": null,
   "metadata": {
    "colab": {
     "base_uri": "https://localhost:8080/"
    },
    "id": "DV3X3i13wtbu",
    "outputId": "9f232ae8-7169-49db-e5e4-749bf1ae9da8"
   },
   "outputs": [
    {
     "name": "stdout",
     "output_type": "stream",
     "text": [
      "Accuracy of the network on the 10000 test images: 89 %\n"
     ]
    }
   ],
   "source": [
    "#Testing Accuracy\n",
    "correct = 0\n",
    "total = 0\n",
    "with torch.no_grad():\n",
    "    for data in test_loader:\n",
    "        images, labels = data[0].to(device), data[1].to(device)\n",
    "        outputs = model(images)\n",
    "        _, predicted = torch.max(outputs.data, 1)\n",
    "        total += labels.size(0)\n",
    "        correct += (predicted == labels).sum().item()\n",
    "\n",
    "print('Accuracy of the network on the 10000 test images: %d %%' % (\n",
    "    100 * correct / total))"
   ]
  },
  {
   "cell_type": "code",
   "execution_count": null,
   "metadata": {
    "colab": {
     "base_uri": "https://localhost:8080/"
    },
    "id": "nLeI9tZvw4lX",
    "outputId": "c910149c-227b-4033-8c17-4789e19ad50b"
   },
   "outputs": [
    {
     "name": "stdout",
     "output_type": "stream",
     "text": [
      "Accuracy of airplane : 91 %\n",
      "Accuracy of automobile : 94 %\n",
      "Accuracy of  bird : 81 %\n",
      "Accuracy of   cat : 83 %\n",
      "Accuracy of  deer : 90 %\n",
      "Accuracy of   dog : 88 %\n",
      "Accuracy of  frog : 94 %\n",
      "Accuracy of horse : 87 %\n",
      "Accuracy of  ship : 93 %\n",
      "Accuracy of truck : 96 %\n"
     ]
    }
   ],
   "source": [
    "#Testing classification accuracy for individual classes.\n",
    "class_correct = list(0. for i in range(10))\n",
    "class_total = list(0. for i in range(10))\n",
    "with torch.no_grad():\n",
    "    for data in test_loader:\n",
    "        images, labels = data[0].to(device), data[1].to(device)\n",
    "        outputs = model(images)\n",
    "        _, predicted = torch.max(outputs, 1)\n",
    "        c = (predicted == labels).squeeze()\n",
    "        for i in range(4):\n",
    "            label = labels[i]\n",
    "            class_correct[label] += c[i].item()\n",
    "            class_total[label] += 1\n",
    "        for i, l in enumerate(labels):\n",
    "            confusion_matrix[l.item(), predicted[i].item()] += 1 \n",
    "\n",
    "for i in range(10):\n",
    "    print('Accuracy of %5s : %2d %%' % (\n",
    "        classes[i], 100 * class_correct[i] / class_total[i]))"
   ]
  },
  {
   "cell_type": "code",
   "execution_count": null,
   "metadata": {
    "colab": {
     "base_uri": "https://localhost:8080/"
    },
    "id": "T-1YpxdgxA7t",
    "outputId": "2f24cb7e-b63f-4518-a8e5-247d3b060173"
   },
   "outputs": [
    {
     "name": "stdout",
     "output_type": "stream",
     "text": [
      "Average accuracy =  90.00905663368883\n"
     ]
    }
   ],
   "source": [
    "avg = 0\n",
    "for i in range(10):\n",
    "  temp = (100 * class_correct[i] / class_total[i])\n",
    "  avg = avg + temp\n",
    "avg = avg/10\n",
    "print('Average accuracy = ', avg)"
   ]
  },
  {
   "cell_type": "code",
   "execution_count": null,
   "metadata": {
    "id": "TOrTQBC3xC5u"
   },
   "outputs": [],
   "source": [
    "fig, ax = plt.subplots(1,1,figsize=(8,6))\n",
    "ax.matshow(confusion_matrix, aspect='auto', vmin=0, vmax=1000, cmap=plt.get_cmap('Blues'))\n",
    "plt.ylabel('Actual Category')\n",
    "plt.yticks(range(10), classes)\n",
    "plt.xlabel('Predicted Category')\n",
    "plt.xticks(range(10), classes)\n",
    "plt.show()"
   ]
  },
  {
   "cell_type": "code",
   "execution_count": null,
   "metadata": {},
   "outputs": [],
   "source": [
    "print('actual/pred'.ljust(16), end='')\n",
    "for i,c in enumerate(classes):\n",
    "    print(c.ljust(10), end='')\n",
    "print()\n",
    "for i,r in enumerate(confusion_matrix):\n",
    "    print(classes[i].ljust(16), end='')\n",
    "    for idx, p in enumerate(r):\n",
    "        print(str(p).ljust(10), end='')\n",
    "    print()\n",
    "    r = r/np.sum(r)\n",
    "    print(''.ljust(16), end='')\n",
    "    for idx, p in enumerate(r):\n",
    "        print(str(p).ljust(10), end='')\n",
    "    print()"
   ]
  },
  {
   "cell_type": "code",
   "execution_count": null,
   "metadata": {},
   "outputs": [],
   "source": [
    "print('actual/pred'.ljust(16), end='')\n",
    "for i,c in enumerate(classes):\n",
    "    print(c.ljust(10), end='')\n",
    "print()\n",
    "for i,r in enumerate(confusion_matrix):\n",
    "    print(classes[i].ljust(16), end='')\n",
    "    for idx, p in enumerate(r):\n",
    "        print(str(p).ljust(10), end='')\n",
    "    print()\n",
    "    r = r/np.sum(r)\n",
    "    print(''.ljust(16), end='')\n",
    "    for idx, p in enumerate(r):\n",
    "        print(str(p).ljust(10), end='')\n",
    "    print()"
   ]
  },
  {
   "cell_type": "code",
   "execution_count": null,
   "metadata": {},
   "outputs": [],
   "source": [
    "from sklearn.metrics import matthews_corrcoef\n",
    "matthews_corrcoef(y_actual, y_pred)"
   ]
  },
  {
   "cell_type": "code",
   "execution_count": null,
   "metadata": {},
   "outputs": [],
   "source": [
    "from sklearn.metrics import classification_report\n",
    "print(classification_report(y_actual, y_pred, target_names=classes))"
   ]
  },
  {
   "cell_type": "code",
   "execution_count": null,
   "metadata": {},
   "outputs": [],
   "source": [
    "from sklearn.metrics import cohen_kappa_score\n",
    "print(cohen_kappa_score(y_actual, y_pred))"
   ]
  },
  {
   "cell_type": "code",
   "execution_count": null,
   "metadata": {},
   "outputs": [],
   "source": []
  }
 ],
 "metadata": {
  "accelerator": "GPU",
  "colab": {
   "authorship_tag": "ABX9TyMuBHj8hDIcJfLDgL0VHup2",
   "include_colab_link": true,
   "machine_shape": "hm",
   "name": "AlexNet .ipynb",
   "provenance": []
  },
  "kernelspec": {
   "display_name": "Python 3 (ipykernel)",
   "language": "python",
   "name": "python3"
  },
  "language_info": {
   "codemirror_mode": {
    "name": "ipython",
    "version": 3
   },
   "file_extension": ".py",
   "mimetype": "text/x-python",
   "name": "python",
   "nbconvert_exporter": "python",
   "pygments_lexer": "ipython3",
   "version": "3.9.7"
  },
  "widgets": {
   "application/vnd.jupyter.widget-state+json": {
    "0af2ecde38fa44df8facfca2e04092d3": {
     "model_module": "@jupyter-widgets/base",
     "model_module_version": "1.2.0",
     "model_name": "LayoutModel",
     "state": {
      "_model_module": "@jupyter-widgets/base",
      "_model_module_version": "1.2.0",
      "_model_name": "LayoutModel",
      "_view_count": null,
      "_view_module": "@jupyter-widgets/base",
      "_view_module_version": "1.2.0",
      "_view_name": "LayoutView",
      "align_content": null,
      "align_items": null,
      "align_self": null,
      "border": null,
      "bottom": null,
      "display": null,
      "flex": null,
      "flex_flow": null,
      "grid_area": null,
      "grid_auto_columns": null,
      "grid_auto_flow": null,
      "grid_auto_rows": null,
      "grid_column": null,
      "grid_gap": null,
      "grid_row": null,
      "grid_template_areas": null,
      "grid_template_columns": null,
      "grid_template_rows": null,
      "height": null,
      "justify_content": null,
      "justify_items": null,
      "left": null,
      "margin": null,
      "max_height": null,
      "max_width": null,
      "min_height": null,
      "min_width": null,
      "object_fit": null,
      "object_position": null,
      "order": null,
      "overflow": null,
      "overflow_x": null,
      "overflow_y": null,
      "padding": null,
      "right": null,
      "top": null,
      "visibility": null,
      "width": null
     }
    },
    "1a056831aa68414f887d88368a25884c": {
     "model_module": "@jupyter-widgets/base",
     "model_module_version": "1.2.0",
     "model_name": "LayoutModel",
     "state": {
      "_model_module": "@jupyter-widgets/base",
      "_model_module_version": "1.2.0",
      "_model_name": "LayoutModel",
      "_view_count": null,
      "_view_module": "@jupyter-widgets/base",
      "_view_module_version": "1.2.0",
      "_view_name": "LayoutView",
      "align_content": null,
      "align_items": null,
      "align_self": null,
      "border": null,
      "bottom": null,
      "display": null,
      "flex": null,
      "flex_flow": null,
      "grid_area": null,
      "grid_auto_columns": null,
      "grid_auto_flow": null,
      "grid_auto_rows": null,
      "grid_column": null,
      "grid_gap": null,
      "grid_row": null,
      "grid_template_areas": null,
      "grid_template_columns": null,
      "grid_template_rows": null,
      "height": null,
      "justify_content": null,
      "justify_items": null,
      "left": null,
      "margin": null,
      "max_height": null,
      "max_width": null,
      "min_height": null,
      "min_width": null,
      "object_fit": null,
      "object_position": null,
      "order": null,
      "overflow": null,
      "overflow_x": null,
      "overflow_y": null,
      "padding": null,
      "right": null,
      "top": null,
      "visibility": null,
      "width": null
     }
    },
    "1f155c8d8fd447abb7f9179304a2c8e6": {
     "model_module": "@jupyter-widgets/controls",
     "model_module_version": "1.5.0",
     "model_name": "DescriptionStyleModel",
     "state": {
      "_model_module": "@jupyter-widgets/controls",
      "_model_module_version": "1.5.0",
      "_model_name": "DescriptionStyleModel",
      "_view_count": null,
      "_view_module": "@jupyter-widgets/base",
      "_view_module_version": "1.2.0",
      "_view_name": "StyleView",
      "description_width": ""
     }
    },
    "215ab3d0e5734b208906612b6e3e4b76": {
     "model_module": "@jupyter-widgets/controls",
     "model_module_version": "1.5.0",
     "model_name": "FloatProgressModel",
     "state": {
      "_dom_classes": [],
      "_model_module": "@jupyter-widgets/controls",
      "_model_module_version": "1.5.0",
      "_model_name": "FloatProgressModel",
      "_view_count": null,
      "_view_module": "@jupyter-widgets/controls",
      "_view_module_version": "1.5.0",
      "_view_name": "ProgressView",
      "bar_style": "success",
      "description": "",
      "description_tooltip": null,
      "layout": "IPY_MODEL_3b956c961bc642dd9e2b0956dc37e737",
      "max": 244408911,
      "min": 0,
      "orientation": "horizontal",
      "style": "IPY_MODEL_ff0888476a8e45df9b49e180858aa42a",
      "value": 244408911
     }
    },
    "36fc6e5c3aa64d348e3e5a0857371a19": {
     "model_module": "@jupyter-widgets/base",
     "model_module_version": "1.2.0",
     "model_name": "LayoutModel",
     "state": {
      "_model_module": "@jupyter-widgets/base",
      "_model_module_version": "1.2.0",
      "_model_name": "LayoutModel",
      "_view_count": null,
      "_view_module": "@jupyter-widgets/base",
      "_view_module_version": "1.2.0",
      "_view_name": "LayoutView",
      "align_content": null,
      "align_items": null,
      "align_self": null,
      "border": null,
      "bottom": null,
      "display": null,
      "flex": null,
      "flex_flow": null,
      "grid_area": null,
      "grid_auto_columns": null,
      "grid_auto_flow": null,
      "grid_auto_rows": null,
      "grid_column": null,
      "grid_gap": null,
      "grid_row": null,
      "grid_template_areas": null,
      "grid_template_columns": null,
      "grid_template_rows": null,
      "height": null,
      "justify_content": null,
      "justify_items": null,
      "left": null,
      "margin": null,
      "max_height": null,
      "max_width": null,
      "min_height": null,
      "min_width": null,
      "object_fit": null,
      "object_position": null,
      "order": null,
      "overflow": null,
      "overflow_x": null,
      "overflow_y": null,
      "padding": null,
      "right": null,
      "top": null,
      "visibility": null,
      "width": null
     }
    },
    "3b956c961bc642dd9e2b0956dc37e737": {
     "model_module": "@jupyter-widgets/base",
     "model_module_version": "1.2.0",
     "model_name": "LayoutModel",
     "state": {
      "_model_module": "@jupyter-widgets/base",
      "_model_module_version": "1.2.0",
      "_model_name": "LayoutModel",
      "_view_count": null,
      "_view_module": "@jupyter-widgets/base",
      "_view_module_version": "1.2.0",
      "_view_name": "LayoutView",
      "align_content": null,
      "align_items": null,
      "align_self": null,
      "border": null,
      "bottom": null,
      "display": null,
      "flex": null,
      "flex_flow": null,
      "grid_area": null,
      "grid_auto_columns": null,
      "grid_auto_flow": null,
      "grid_auto_rows": null,
      "grid_column": null,
      "grid_gap": null,
      "grid_row": null,
      "grid_template_areas": null,
      "grid_template_columns": null,
      "grid_template_rows": null,
      "height": null,
      "justify_content": null,
      "justify_items": null,
      "left": null,
      "margin": null,
      "max_height": null,
      "max_width": null,
      "min_height": null,
      "min_width": null,
      "object_fit": null,
      "object_position": null,
      "order": null,
      "overflow": null,
      "overflow_x": null,
      "overflow_y": null,
      "padding": null,
      "right": null,
      "top": null,
      "visibility": null,
      "width": null
     }
    },
    "4eb57b6a001c4b129d984a496630eddd": {
     "model_module": "@jupyter-widgets/base",
     "model_module_version": "1.2.0",
     "model_name": "LayoutModel",
     "state": {
      "_model_module": "@jupyter-widgets/base",
      "_model_module_version": "1.2.0",
      "_model_name": "LayoutModel",
      "_view_count": null,
      "_view_module": "@jupyter-widgets/base",
      "_view_module_version": "1.2.0",
      "_view_name": "LayoutView",
      "align_content": null,
      "align_items": null,
      "align_self": null,
      "border": null,
      "bottom": null,
      "display": null,
      "flex": null,
      "flex_flow": null,
      "grid_area": null,
      "grid_auto_columns": null,
      "grid_auto_flow": null,
      "grid_auto_rows": null,
      "grid_column": null,
      "grid_gap": null,
      "grid_row": null,
      "grid_template_areas": null,
      "grid_template_columns": null,
      "grid_template_rows": null,
      "height": null,
      "justify_content": null,
      "justify_items": null,
      "left": null,
      "margin": null,
      "max_height": null,
      "max_width": null,
      "min_height": null,
      "min_width": null,
      "object_fit": null,
      "object_position": null,
      "order": null,
      "overflow": null,
      "overflow_x": null,
      "overflow_y": null,
      "padding": null,
      "right": null,
      "top": null,
      "visibility": null,
      "width": null
     }
    },
    "4f0e98e6dd2544d080d8cb03ce4c1352": {
     "model_module": "@jupyter-widgets/controls",
     "model_module_version": "1.5.0",
     "model_name": "HTMLModel",
     "state": {
      "_dom_classes": [],
      "_model_module": "@jupyter-widgets/controls",
      "_model_module_version": "1.5.0",
      "_model_name": "HTMLModel",
      "_view_count": null,
      "_view_module": "@jupyter-widgets/controls",
      "_view_module_version": "1.5.0",
      "_view_name": "HTMLView",
      "description": "",
      "description_tooltip": null,
      "layout": "IPY_MODEL_d67d5339875b46e785e13854be814bd4",
      "placeholder": "​",
      "style": "IPY_MODEL_c4b0635812b94a0d9ff6edc408d5d1b7",
      "value": ""
     }
    },
    "613933d75da84b01b57a9a11c3be7927": {
     "model_module": "@jupyter-widgets/controls",
     "model_module_version": "1.5.0",
     "model_name": "DescriptionStyleModel",
     "state": {
      "_model_module": "@jupyter-widgets/controls",
      "_model_module_version": "1.5.0",
      "_model_name": "DescriptionStyleModel",
      "_view_count": null,
      "_view_module": "@jupyter-widgets/base",
      "_view_module_version": "1.2.0",
      "_view_name": "StyleView",
      "description_width": ""
     }
    },
    "65ccc05fc3624efdbfb27041c6a5d0cb": {
     "model_module": "@jupyter-widgets/controls",
     "model_module_version": "1.5.0",
     "model_name": "HTMLModel",
     "state": {
      "_dom_classes": [],
      "_model_module": "@jupyter-widgets/controls",
      "_model_module_version": "1.5.0",
      "_model_name": "HTMLModel",
      "_view_count": null,
      "_view_module": "@jupyter-widgets/controls",
      "_view_module_version": "1.5.0",
      "_view_name": "HTMLView",
      "description": "",
      "description_tooltip": null,
      "layout": "IPY_MODEL_e104df404dfa43e7824e9163417c6c3e",
      "placeholder": "​",
      "style": "IPY_MODEL_1f155c8d8fd447abb7f9179304a2c8e6",
      "value": " 233M/233M [00:00&lt;00:00, 283MB/s]"
     }
    },
    "8aa42e2706344a7189f4b24fc3285492": {
     "model_module": "@jupyter-widgets/controls",
     "model_module_version": "1.5.0",
     "model_name": "HTMLModel",
     "state": {
      "_dom_classes": [],
      "_model_module": "@jupyter-widgets/controls",
      "_model_module_version": "1.5.0",
      "_model_name": "HTMLModel",
      "_view_count": null,
      "_view_module": "@jupyter-widgets/controls",
      "_view_module_version": "1.5.0",
      "_view_name": "HTMLView",
      "description": "",
      "description_tooltip": null,
      "layout": "IPY_MODEL_f1b793000fad4656a2c8163e5f3bf4c1",
      "placeholder": "​",
      "style": "IPY_MODEL_f93ddb6648f242678635199f0071dcfa",
      "value": " 170499072/? [00:03&lt;00:00, 50973718.10it/s]"
     }
    },
    "8cfda632900a4691afb05a12c4669ed3": {
     "model_module": "@jupyter-widgets/controls",
     "model_module_version": "1.5.0",
     "model_name": "HBoxModel",
     "state": {
      "_dom_classes": [],
      "_model_module": "@jupyter-widgets/controls",
      "_model_module_version": "1.5.0",
      "_model_name": "HBoxModel",
      "_view_count": null,
      "_view_module": "@jupyter-widgets/controls",
      "_view_module_version": "1.5.0",
      "_view_name": "HBoxView",
      "box_style": "",
      "children": [
       "IPY_MODEL_4f0e98e6dd2544d080d8cb03ce4c1352",
       "IPY_MODEL_f78d93d1324840748640126eb2c1ca8e",
       "IPY_MODEL_8aa42e2706344a7189f4b24fc3285492"
      ],
      "layout": "IPY_MODEL_36fc6e5c3aa64d348e3e5a0857371a19"
     }
    },
    "9b8354beed46438786f690008134b01b": {
     "model_module": "@jupyter-widgets/controls",
     "model_module_version": "1.5.0",
     "model_name": "HTMLModel",
     "state": {
      "_dom_classes": [],
      "_model_module": "@jupyter-widgets/controls",
      "_model_module_version": "1.5.0",
      "_model_name": "HTMLModel",
      "_view_count": null,
      "_view_module": "@jupyter-widgets/controls",
      "_view_module_version": "1.5.0",
      "_view_name": "HTMLView",
      "description": "",
      "description_tooltip": null,
      "layout": "IPY_MODEL_0af2ecde38fa44df8facfca2e04092d3",
      "placeholder": "​",
      "style": "IPY_MODEL_613933d75da84b01b57a9a11c3be7927",
      "value": "100%"
     }
    },
    "b47323e213ce40db89739dd0bbb8b003": {
     "model_module": "@jupyter-widgets/controls",
     "model_module_version": "1.5.0",
     "model_name": "ProgressStyleModel",
     "state": {
      "_model_module": "@jupyter-widgets/controls",
      "_model_module_version": "1.5.0",
      "_model_name": "ProgressStyleModel",
      "_view_count": null,
      "_view_module": "@jupyter-widgets/base",
      "_view_module_version": "1.2.0",
      "_view_name": "StyleView",
      "bar_color": null,
      "description_width": ""
     }
    },
    "c4b0635812b94a0d9ff6edc408d5d1b7": {
     "model_module": "@jupyter-widgets/controls",
     "model_module_version": "1.5.0",
     "model_name": "DescriptionStyleModel",
     "state": {
      "_model_module": "@jupyter-widgets/controls",
      "_model_module_version": "1.5.0",
      "_model_name": "DescriptionStyleModel",
      "_view_count": null,
      "_view_module": "@jupyter-widgets/base",
      "_view_module_version": "1.2.0",
      "_view_name": "StyleView",
      "description_width": ""
     }
    },
    "d67d5339875b46e785e13854be814bd4": {
     "model_module": "@jupyter-widgets/base",
     "model_module_version": "1.2.0",
     "model_name": "LayoutModel",
     "state": {
      "_model_module": "@jupyter-widgets/base",
      "_model_module_version": "1.2.0",
      "_model_name": "LayoutModel",
      "_view_count": null,
      "_view_module": "@jupyter-widgets/base",
      "_view_module_version": "1.2.0",
      "_view_name": "LayoutView",
      "align_content": null,
      "align_items": null,
      "align_self": null,
      "border": null,
      "bottom": null,
      "display": null,
      "flex": null,
      "flex_flow": null,
      "grid_area": null,
      "grid_auto_columns": null,
      "grid_auto_flow": null,
      "grid_auto_rows": null,
      "grid_column": null,
      "grid_gap": null,
      "grid_row": null,
      "grid_template_areas": null,
      "grid_template_columns": null,
      "grid_template_rows": null,
      "height": null,
      "justify_content": null,
      "justify_items": null,
      "left": null,
      "margin": null,
      "max_height": null,
      "max_width": null,
      "min_height": null,
      "min_width": null,
      "object_fit": null,
      "object_position": null,
      "order": null,
      "overflow": null,
      "overflow_x": null,
      "overflow_y": null,
      "padding": null,
      "right": null,
      "top": null,
      "visibility": null,
      "width": null
     }
    },
    "d6ea3d6b97a440dd9c1a956a40ecfc15": {
     "model_module": "@jupyter-widgets/controls",
     "model_module_version": "1.5.0",
     "model_name": "HBoxModel",
     "state": {
      "_dom_classes": [],
      "_model_module": "@jupyter-widgets/controls",
      "_model_module_version": "1.5.0",
      "_model_name": "HBoxModel",
      "_view_count": null,
      "_view_module": "@jupyter-widgets/controls",
      "_view_module_version": "1.5.0",
      "_view_name": "HBoxView",
      "box_style": "",
      "children": [
       "IPY_MODEL_9b8354beed46438786f690008134b01b",
       "IPY_MODEL_215ab3d0e5734b208906612b6e3e4b76",
       "IPY_MODEL_65ccc05fc3624efdbfb27041c6a5d0cb"
      ],
      "layout": "IPY_MODEL_4eb57b6a001c4b129d984a496630eddd"
     }
    },
    "e104df404dfa43e7824e9163417c6c3e": {
     "model_module": "@jupyter-widgets/base",
     "model_module_version": "1.2.0",
     "model_name": "LayoutModel",
     "state": {
      "_model_module": "@jupyter-widgets/base",
      "_model_module_version": "1.2.0",
      "_model_name": "LayoutModel",
      "_view_count": null,
      "_view_module": "@jupyter-widgets/base",
      "_view_module_version": "1.2.0",
      "_view_name": "LayoutView",
      "align_content": null,
      "align_items": null,
      "align_self": null,
      "border": null,
      "bottom": null,
      "display": null,
      "flex": null,
      "flex_flow": null,
      "grid_area": null,
      "grid_auto_columns": null,
      "grid_auto_flow": null,
      "grid_auto_rows": null,
      "grid_column": null,
      "grid_gap": null,
      "grid_row": null,
      "grid_template_areas": null,
      "grid_template_columns": null,
      "grid_template_rows": null,
      "height": null,
      "justify_content": null,
      "justify_items": null,
      "left": null,
      "margin": null,
      "max_height": null,
      "max_width": null,
      "min_height": null,
      "min_width": null,
      "object_fit": null,
      "object_position": null,
      "order": null,
      "overflow": null,
      "overflow_x": null,
      "overflow_y": null,
      "padding": null,
      "right": null,
      "top": null,
      "visibility": null,
      "width": null
     }
    },
    "f1b793000fad4656a2c8163e5f3bf4c1": {
     "model_module": "@jupyter-widgets/base",
     "model_module_version": "1.2.0",
     "model_name": "LayoutModel",
     "state": {
      "_model_module": "@jupyter-widgets/base",
      "_model_module_version": "1.2.0",
      "_model_name": "LayoutModel",
      "_view_count": null,
      "_view_module": "@jupyter-widgets/base",
      "_view_module_version": "1.2.0",
      "_view_name": "LayoutView",
      "align_content": null,
      "align_items": null,
      "align_self": null,
      "border": null,
      "bottom": null,
      "display": null,
      "flex": null,
      "flex_flow": null,
      "grid_area": null,
      "grid_auto_columns": null,
      "grid_auto_flow": null,
      "grid_auto_rows": null,
      "grid_column": null,
      "grid_gap": null,
      "grid_row": null,
      "grid_template_areas": null,
      "grid_template_columns": null,
      "grid_template_rows": null,
      "height": null,
      "justify_content": null,
      "justify_items": null,
      "left": null,
      "margin": null,
      "max_height": null,
      "max_width": null,
      "min_height": null,
      "min_width": null,
      "object_fit": null,
      "object_position": null,
      "order": null,
      "overflow": null,
      "overflow_x": null,
      "overflow_y": null,
      "padding": null,
      "right": null,
      "top": null,
      "visibility": null,
      "width": null
     }
    },
    "f78d93d1324840748640126eb2c1ca8e": {
     "model_module": "@jupyter-widgets/controls",
     "model_module_version": "1.5.0",
     "model_name": "FloatProgressModel",
     "state": {
      "_dom_classes": [],
      "_model_module": "@jupyter-widgets/controls",
      "_model_module_version": "1.5.0",
      "_model_name": "FloatProgressModel",
      "_view_count": null,
      "_view_module": "@jupyter-widgets/controls",
      "_view_module_version": "1.5.0",
      "_view_name": "ProgressView",
      "bar_style": "success",
      "description": "",
      "description_tooltip": null,
      "layout": "IPY_MODEL_1a056831aa68414f887d88368a25884c",
      "max": 170498071,
      "min": 0,
      "orientation": "horizontal",
      "style": "IPY_MODEL_b47323e213ce40db89739dd0bbb8b003",
      "value": 170498071
     }
    },
    "f93ddb6648f242678635199f0071dcfa": {
     "model_module": "@jupyter-widgets/controls",
     "model_module_version": "1.5.0",
     "model_name": "DescriptionStyleModel",
     "state": {
      "_model_module": "@jupyter-widgets/controls",
      "_model_module_version": "1.5.0",
      "_model_name": "DescriptionStyleModel",
      "_view_count": null,
      "_view_module": "@jupyter-widgets/base",
      "_view_module_version": "1.2.0",
      "_view_name": "StyleView",
      "description_width": ""
     }
    },
    "ff0888476a8e45df9b49e180858aa42a": {
     "model_module": "@jupyter-widgets/controls",
     "model_module_version": "1.5.0",
     "model_name": "ProgressStyleModel",
     "state": {
      "_model_module": "@jupyter-widgets/controls",
      "_model_module_version": "1.5.0",
      "_model_name": "ProgressStyleModel",
      "_view_count": null,
      "_view_module": "@jupyter-widgets/base",
      "_view_module_version": "1.2.0",
      "_view_name": "StyleView",
      "bar_color": null,
      "description_width": ""
     }
    }
   }
  }
 },
 "nbformat": 4,
 "nbformat_minor": 1
}
